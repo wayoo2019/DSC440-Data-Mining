{
 "cells": [
  {
   "cell_type": "markdown",
   "metadata": {},
   "source": [
    "# FP-Growth\n",
    "I did not finish FP-Growth code. Here is what I got. I created header table and growth tree"
   ]
  },
  {
   "cell_type": "code",
   "execution_count": 132,
   "metadata": {},
   "outputs": [
    {
     "data": {
      "text/plain": [
       "16281.0"
      ]
     },
     "execution_count": 132,
     "metadata": {},
     "output_type": "execute_result"
    }
   ],
   "source": [
    "import operator\n",
    "with open('/Users/wayoo/All My files/【Data Science】/CSC 440 Data Mining/Project/adult.csv') as file:\n",
    "    adult = file.readlines()\n",
    "transactions = []\n",
    "for i in range(len(ds)):\n",
    "    transactions.append(adult[i].strip().split(','))\n",
    "Dataset = {}\n",
    "for transaction in transactions:\n",
    "    Dataset[frozenset(transaction)] = 1\n",
    "min_sup = len(transactions) * 0.5\n",
    "\n",
    "\n",
    "min_sup \n"
   ]
  },
  {
   "cell_type": "code",
   "execution_count": 133,
   "metadata": {},
   "outputs": [
    {
     "data": {
      "text/plain": [
       "{' 0': 32537,\n",
       " ' United-States': 29153,\n",
       " ' White': 27795,\n",
       " ' <=50K': 24698,\n",
       " ' Private': 22673,\n",
       " ' Male': 21775}"
      ]
     },
     "execution_count": 133,
     "metadata": {},
     "output_type": "execute_result"
    }
   ],
   "source": [
    "\n",
    "        \n",
    "def create_FP_Tree(D, min_sup):\n",
    "    # create headertable.\n",
    "    headertable = {}\n",
    "    for row in D:\n",
    "        for item in row:\n",
    "            headertable[item] = headertable.get(item, 0) + D[row]\n",
    "    # delete non-frequent items\n",
    "    for item, count in list(headertable.items()):\n",
    "        if count < min_sup:\n",
    "            del headertable[item]\n",
    "    #crete frequent itemset and descending sorted \n",
    "    frequent_itemset = sorted(headertable.items(), key=operator.itemgetter(1), reverse=True)\n",
    "    # add node\n",
    "    if len(frequent_itemset) != 0:\n",
    "        for item in headertable:\n",
    "            headertable[item] = [headertable[item], None]\n",
    "        FPTree = Conditional_FP_Tree('Null', 1, None)  \n",
    "        \n",
    "    # define growth tree based on frequent itemsets  \n",
    "    growthtree = {}\n",
    "    growthtree = dict(frequent_itemset)\n",
    "    \n",
    "    \n",
    "        \n",
    "    return growthtree\n",
    "        \n",
    "create_FP_Tree(Dataset, min_sup)"
   ]
  }
 ],
 "metadata": {
  "kernelspec": {
   "display_name": "Python 3",
   "language": "python",
   "name": "python3"
  },
  "language_info": {
   "codemirror_mode": {
    "name": "ipython",
    "version": 3
   },
   "file_extension": ".py",
   "mimetype": "text/x-python",
   "name": "python",
   "nbconvert_exporter": "python",
   "pygments_lexer": "ipython3",
   "version": "3.7.4"
  }
 },
 "nbformat": 4,
 "nbformat_minor": 2
}
