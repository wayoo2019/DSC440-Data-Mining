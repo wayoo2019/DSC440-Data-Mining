{
 "cells": [
  {
   "cell_type": "markdown",
   "metadata": {},
   "source": [
    "# Apriori\n",
    "The original Apriori algorithm takes 1s to find the frequent items.\n",
    "min_support = 50%"
   ]
  },
  {
   "cell_type": "code",
   "execution_count": 1,
   "metadata": {},
   "outputs": [
    {
     "name": "stdout",
     "output_type": "stream",
     "text": [
      "The Apriori algorithm takes 1.1130797863006592 seconds.\n",
      "[[{' White'}, {' Male'}, {' 0'}, {' United-States'}, {' <=50K'}, {' Private'}], [{' White', ' Male'}, {' White', ' 0'}, {' United-States', ' White'}, {' White', ' <=50K'}, {' White', ' Private'}, {' 0', ' Male'}, {' United-States', ' Male'}, {' United-States', ' 0'}, {' <=50K', ' 0'}, {' Private', ' 0'}, {' United-States', ' <=50K'}, {' United-States', ' Private'}, {' <=50K', ' Private'}], [{' White', ' 0', ' Male'}, {' United-States', ' White', ' Male'}, {' United-States', ' White', ' 0'}, {' White', ' <=50K', ' 0'}, {' White', ' Private', ' 0'}, {' United-States', ' White', ' <=50K'}, {' United-States', ' White', ' Private'}, {' United-States', ' 0', ' Male'}, {' United-States', ' <=50K', ' 0'}, {' United-States', ' Private', ' 0'}, {' Private', ' <=50K', ' 0'}], [{' 0', ' Male', ' United-States', ' White'}, {' 0', ' United-States', ' White', ' <=50K'}, {' 0', ' Private', ' United-States', ' White'}], []]\n"
     ]
    }
   ],
   "source": [
    "import time \n",
    "from collections import defaultdict\n",
    "\n",
    "# Define Apriori algorithm according to textbook method\n",
    "def find_frequent_1_itemsets(D, min_sup):\n",
    "    item_count = defaultdict(int)\n",
    "    for transaction in D:\n",
    "        for item in transaction:\n",
    "            item_count[item] += 1\n",
    "    L1 = []\n",
    "    for item, count in item_count.items():\n",
    "        if count >= min_sup:\n",
    "            L1.append({item})\n",
    "    return L1\n",
    "\n",
    "def apriori_gen(Lk_1, k):\n",
    "    Ck = []\n",
    "    for l1 in Lk_1:\n",
    "        for l2 in Lk_1:\n",
    "            c = l1.union(l2)\n",
    "            if len(c) == k:\n",
    "                if c not in Ck and not has_infrequent_subset(c, Lk_1):\n",
    "                    Ck.append(c)\n",
    "    return Ck\n",
    "\n",
    "def has_infrequent_subset(c, Lk_1):\n",
    "    for x in c:\n",
    "        s = c - set([x]) # s is subset s of c\n",
    "        if s not in Lk_1:\n",
    "            return True\n",
    "        return False\n",
    "\n",
    "def apriori (D, min_sup):\n",
    "    k = 2\n",
    "    L = []\n",
    "    L0 = []\n",
    "    L1 = find_frequent_1_itemsets(D, min_sup)\n",
    "    L.append(L0)\n",
    "    L.append(L1)\n",
    "    while len(L[k-1]) != 0:\n",
    "        Lk = []\n",
    "        Ck = apriori_gen(L[k-1], k)\n",
    "        c_count = defaultdict(int)\n",
    "        for c in range(len(Ck)):\n",
    "            for t in D:\n",
    "                if Ck[c].issubset(t):\n",
    "                    c_count[c] += 1\n",
    "        for item, count in c_count.items():\n",
    "            if count >= min_sup:\n",
    "                Lk.append(Ck[item])\n",
    "        L.append(Lk)\n",
    "        k += 1\n",
    "    L.remove(L0)\n",
    "    return L\n",
    "        \n",
    "\n",
    "# define time calculation\n",
    "start_time = time.time()\n",
    "\n",
    "# run data set\n",
    "with open('/Users/wayoo/All My files/【Data Science】/CSC 440 Data Mining/Project/adult.csv') as file:\n",
    "    adult = file.readlines()\n",
    "transactions = []\n",
    "for i in range(len(adult)):\n",
    "    transactions.append(adult[i].strip().split(','))\n",
    "min_sup = len(transactions) * 0.5\n",
    "L = apriori(transactions, min_sup)\n",
    "print(\"The Apriori algorithm takes %s seconds.\" % (time.time() - start_time))\n",
    "print(L)"
   ]
  }
 ],
 "metadata": {
  "kernelspec": {
   "display_name": "Python 3",
   "language": "python",
   "name": "python3"
  },
  "language_info": {
   "codemirror_mode": {
    "name": "ipython",
    "version": 3
   },
   "file_extension": ".py",
   "mimetype": "text/x-python",
   "name": "python",
   "nbconvert_exporter": "python",
   "pygments_lexer": "ipython3",
   "version": "3.7.4"
  }
 },
 "nbformat": 4,
 "nbformat_minor": 2
}
