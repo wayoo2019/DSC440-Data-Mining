{
 "cells": [
  {
   "cell_type": "code",
   "execution_count": 18,
   "metadata": {},
   "outputs": [
    {
     "data": {
      "text/html": [
       "<div>\n",
       "<style scoped>\n",
       "    .dataframe tbody tr th:only-of-type {\n",
       "        vertical-align: middle;\n",
       "    }\n",
       "\n",
       "    .dataframe tbody tr th {\n",
       "        vertical-align: top;\n",
       "    }\n",
       "\n",
       "    .dataframe thead th {\n",
       "        text-align: right;\n",
       "    }\n",
       "</style>\n",
       "<table border=\"1\" class=\"dataframe\">\n",
       "  <thead>\n",
       "    <tr style=\"text-align: right;\">\n",
       "      <th></th>\n",
       "      <th>id</th>\n",
       "      <th>name</th>\n",
       "      <th>date</th>\n",
       "      <th>manner_of_death</th>\n",
       "      <th>armed</th>\n",
       "      <th>age</th>\n",
       "      <th>gender</th>\n",
       "      <th>race</th>\n",
       "      <th>city</th>\n",
       "      <th>state</th>\n",
       "      <th>signs_of_mental_illness</th>\n",
       "      <th>threat_level</th>\n",
       "      <th>flee</th>\n",
       "      <th>body_camera</th>\n",
       "      <th>longitude</th>\n",
       "      <th>latitude</th>\n",
       "      <th>is_geocoding_exact</th>\n",
       "      <th>year</th>\n",
       "      <th>period</th>\n",
       "      <th>count</th>\n",
       "    </tr>\n",
       "  </thead>\n",
       "  <tbody>\n",
       "    <tr>\n",
       "      <td>0</td>\n",
       "      <td>3</td>\n",
       "      <td>Tim Elliot</td>\n",
       "      <td>2015-01-02</td>\n",
       "      <td>shot</td>\n",
       "      <td>gun</td>\n",
       "      <td>53.0</td>\n",
       "      <td>M</td>\n",
       "      <td>A</td>\n",
       "      <td>Shelton</td>\n",
       "      <td>WA</td>\n",
       "      <td>True</td>\n",
       "      <td>attack</td>\n",
       "      <td>Not fleeing</td>\n",
       "      <td>False</td>\n",
       "      <td>-123.122</td>\n",
       "      <td>47.247</td>\n",
       "      <td>True</td>\n",
       "      <td>2015</td>\n",
       "      <td>2015-01</td>\n",
       "      <td>1</td>\n",
       "    </tr>\n",
       "    <tr>\n",
       "      <td>1</td>\n",
       "      <td>4</td>\n",
       "      <td>Lewis Lee Lembke</td>\n",
       "      <td>2015-01-02</td>\n",
       "      <td>shot</td>\n",
       "      <td>gun</td>\n",
       "      <td>47.0</td>\n",
       "      <td>M</td>\n",
       "      <td>W</td>\n",
       "      <td>Aloha</td>\n",
       "      <td>OR</td>\n",
       "      <td>False</td>\n",
       "      <td>attack</td>\n",
       "      <td>Not fleeing</td>\n",
       "      <td>False</td>\n",
       "      <td>-122.892</td>\n",
       "      <td>45.487</td>\n",
       "      <td>True</td>\n",
       "      <td>2015</td>\n",
       "      <td>2015-01</td>\n",
       "      <td>1</td>\n",
       "    </tr>\n",
       "    <tr>\n",
       "      <td>2</td>\n",
       "      <td>5</td>\n",
       "      <td>John Paul Quintero</td>\n",
       "      <td>2015-01-03</td>\n",
       "      <td>shot and Tasered</td>\n",
       "      <td>unarmed</td>\n",
       "      <td>23.0</td>\n",
       "      <td>M</td>\n",
       "      <td>H</td>\n",
       "      <td>Wichita</td>\n",
       "      <td>KS</td>\n",
       "      <td>False</td>\n",
       "      <td>other</td>\n",
       "      <td>Not fleeing</td>\n",
       "      <td>False</td>\n",
       "      <td>-97.281</td>\n",
       "      <td>37.695</td>\n",
       "      <td>True</td>\n",
       "      <td>2015</td>\n",
       "      <td>2015-01</td>\n",
       "      <td>1</td>\n",
       "    </tr>\n",
       "    <tr>\n",
       "      <td>3</td>\n",
       "      <td>8</td>\n",
       "      <td>Matthew Hoffman</td>\n",
       "      <td>2015-01-04</td>\n",
       "      <td>shot</td>\n",
       "      <td>toy weapon</td>\n",
       "      <td>32.0</td>\n",
       "      <td>M</td>\n",
       "      <td>W</td>\n",
       "      <td>San Francisco</td>\n",
       "      <td>CA</td>\n",
       "      <td>True</td>\n",
       "      <td>attack</td>\n",
       "      <td>Not fleeing</td>\n",
       "      <td>False</td>\n",
       "      <td>-122.422</td>\n",
       "      <td>37.763</td>\n",
       "      <td>True</td>\n",
       "      <td>2015</td>\n",
       "      <td>2015-01</td>\n",
       "      <td>1</td>\n",
       "    </tr>\n",
       "    <tr>\n",
       "      <td>4</td>\n",
       "      <td>9</td>\n",
       "      <td>Michael Rodriguez</td>\n",
       "      <td>2015-01-04</td>\n",
       "      <td>shot</td>\n",
       "      <td>nail gun</td>\n",
       "      <td>39.0</td>\n",
       "      <td>M</td>\n",
       "      <td>H</td>\n",
       "      <td>Evans</td>\n",
       "      <td>CO</td>\n",
       "      <td>False</td>\n",
       "      <td>attack</td>\n",
       "      <td>Not fleeing</td>\n",
       "      <td>False</td>\n",
       "      <td>-104.692</td>\n",
       "      <td>40.384</td>\n",
       "      <td>True</td>\n",
       "      <td>2015</td>\n",
       "      <td>2015-01</td>\n",
       "      <td>1</td>\n",
       "    </tr>\n",
       "    <tr>\n",
       "      <td>...</td>\n",
       "      <td>...</td>\n",
       "      <td>...</td>\n",
       "      <td>...</td>\n",
       "      <td>...</td>\n",
       "      <td>...</td>\n",
       "      <td>...</td>\n",
       "      <td>...</td>\n",
       "      <td>...</td>\n",
       "      <td>...</td>\n",
       "      <td>...</td>\n",
       "      <td>...</td>\n",
       "      <td>...</td>\n",
       "      <td>...</td>\n",
       "      <td>...</td>\n",
       "      <td>...</td>\n",
       "      <td>...</td>\n",
       "      <td>...</td>\n",
       "      <td>...</td>\n",
       "      <td>...</td>\n",
       "      <td>...</td>\n",
       "    </tr>\n",
       "    <tr>\n",
       "      <td>5813</td>\n",
       "      <td>6341</td>\n",
       "      <td>Ellis A. Frye</td>\n",
       "      <td>2020-11-26</td>\n",
       "      <td>shot</td>\n",
       "      <td>gun</td>\n",
       "      <td>62.0</td>\n",
       "      <td>M</td>\n",
       "      <td>B</td>\n",
       "      <td>Culpeper</td>\n",
       "      <td>VA</td>\n",
       "      <td>False</td>\n",
       "      <td>other</td>\n",
       "      <td>Not fleeing</td>\n",
       "      <td>False</td>\n",
       "      <td>-78.019</td>\n",
       "      <td>38.520</td>\n",
       "      <td>True</td>\n",
       "      <td>2020</td>\n",
       "      <td>2020-11</td>\n",
       "      <td>1</td>\n",
       "    </tr>\n",
       "    <tr>\n",
       "      <td>5814</td>\n",
       "      <td>6342</td>\n",
       "      <td>Michael Anthony Pena</td>\n",
       "      <td>2020-11-26</td>\n",
       "      <td>shot</td>\n",
       "      <td>undetermined</td>\n",
       "      <td>31.0</td>\n",
       "      <td>M</td>\n",
       "      <td>H</td>\n",
       "      <td>Lubbock</td>\n",
       "      <td>TX</td>\n",
       "      <td>False</td>\n",
       "      <td>undetermined</td>\n",
       "      <td>NaN</td>\n",
       "      <td>False</td>\n",
       "      <td>-102.030</td>\n",
       "      <td>33.543</td>\n",
       "      <td>True</td>\n",
       "      <td>2020</td>\n",
       "      <td>2020-11</td>\n",
       "      <td>1</td>\n",
       "    </tr>\n",
       "    <tr>\n",
       "      <td>5815</td>\n",
       "      <td>6338</td>\n",
       "      <td>NaN</td>\n",
       "      <td>2020-11-27</td>\n",
       "      <td>shot</td>\n",
       "      <td>gun</td>\n",
       "      <td>74.0</td>\n",
       "      <td>M</td>\n",
       "      <td>NaN</td>\n",
       "      <td>Marinette County</td>\n",
       "      <td>WI</td>\n",
       "      <td>False</td>\n",
       "      <td>other</td>\n",
       "      <td>Car</td>\n",
       "      <td>False</td>\n",
       "      <td>-88.065</td>\n",
       "      <td>45.358</td>\n",
       "      <td>True</td>\n",
       "      <td>2020</td>\n",
       "      <td>2020-11</td>\n",
       "      <td>1</td>\n",
       "    </tr>\n",
       "    <tr>\n",
       "      <td>5816</td>\n",
       "      <td>6340</td>\n",
       "      <td>NaN</td>\n",
       "      <td>2020-11-27</td>\n",
       "      <td>shot</td>\n",
       "      <td>gun</td>\n",
       "      <td>NaN</td>\n",
       "      <td>M</td>\n",
       "      <td>NaN</td>\n",
       "      <td>Wilsonville</td>\n",
       "      <td>OR</td>\n",
       "      <td>True</td>\n",
       "      <td>other</td>\n",
       "      <td>NaN</td>\n",
       "      <td>False</td>\n",
       "      <td>-122.834</td>\n",
       "      <td>45.278</td>\n",
       "      <td>True</td>\n",
       "      <td>2020</td>\n",
       "      <td>2020-11</td>\n",
       "      <td>1</td>\n",
       "    </tr>\n",
       "    <tr>\n",
       "      <td>5817</td>\n",
       "      <td>6339</td>\n",
       "      <td>Cory Donell Truxillo</td>\n",
       "      <td>2020-11-29</td>\n",
       "      <td>shot</td>\n",
       "      <td>gun</td>\n",
       "      <td>43.0</td>\n",
       "      <td>M</td>\n",
       "      <td>B</td>\n",
       "      <td>Houma</td>\n",
       "      <td>LA</td>\n",
       "      <td>True</td>\n",
       "      <td>attack</td>\n",
       "      <td>Not fleeing</td>\n",
       "      <td>False</td>\n",
       "      <td>-90.730</td>\n",
       "      <td>29.602</td>\n",
       "      <td>True</td>\n",
       "      <td>2020</td>\n",
       "      <td>2020-11</td>\n",
       "      <td>1</td>\n",
       "    </tr>\n",
       "  </tbody>\n",
       "</table>\n",
       "<p>5818 rows × 20 columns</p>\n",
       "</div>"
      ],
      "text/plain": [
       "        id                  name       date   manner_of_death         armed  \\\n",
       "0        3            Tim Elliot 2015-01-02              shot           gun   \n",
       "1        4      Lewis Lee Lembke 2015-01-02              shot           gun   \n",
       "2        5    John Paul Quintero 2015-01-03  shot and Tasered       unarmed   \n",
       "3        8       Matthew Hoffman 2015-01-04              shot    toy weapon   \n",
       "4        9     Michael Rodriguez 2015-01-04              shot      nail gun   \n",
       "...    ...                   ...        ...               ...           ...   \n",
       "5813  6341         Ellis A. Frye 2020-11-26              shot           gun   \n",
       "5814  6342  Michael Anthony Pena 2020-11-26              shot  undetermined   \n",
       "5815  6338                   NaN 2020-11-27              shot           gun   \n",
       "5816  6340                   NaN 2020-11-27              shot           gun   \n",
       "5817  6339  Cory Donell Truxillo 2020-11-29              shot           gun   \n",
       "\n",
       "       age gender race              city state  signs_of_mental_illness  \\\n",
       "0     53.0      M    A           Shelton    WA                     True   \n",
       "1     47.0      M    W             Aloha    OR                    False   \n",
       "2     23.0      M    H           Wichita    KS                    False   \n",
       "3     32.0      M    W     San Francisco    CA                     True   \n",
       "4     39.0      M    H             Evans    CO                    False   \n",
       "...    ...    ...  ...               ...   ...                      ...   \n",
       "5813  62.0      M    B          Culpeper    VA                    False   \n",
       "5814  31.0      M    H           Lubbock    TX                    False   \n",
       "5815  74.0      M  NaN  Marinette County    WI                    False   \n",
       "5816   NaN      M  NaN       Wilsonville    OR                     True   \n",
       "5817  43.0      M    B             Houma    LA                     True   \n",
       "\n",
       "      threat_level         flee  body_camera  longitude  latitude  \\\n",
       "0           attack  Not fleeing        False   -123.122    47.247   \n",
       "1           attack  Not fleeing        False   -122.892    45.487   \n",
       "2            other  Not fleeing        False    -97.281    37.695   \n",
       "3           attack  Not fleeing        False   -122.422    37.763   \n",
       "4           attack  Not fleeing        False   -104.692    40.384   \n",
       "...            ...          ...          ...        ...       ...   \n",
       "5813         other  Not fleeing        False    -78.019    38.520   \n",
       "5814  undetermined          NaN        False   -102.030    33.543   \n",
       "5815         other          Car        False    -88.065    45.358   \n",
       "5816         other          NaN        False   -122.834    45.278   \n",
       "5817        attack  Not fleeing        False    -90.730    29.602   \n",
       "\n",
       "      is_geocoding_exact  year   period  count  \n",
       "0                   True  2015  2015-01      1  \n",
       "1                   True  2015  2015-01      1  \n",
       "2                   True  2015  2015-01      1  \n",
       "3                   True  2015  2015-01      1  \n",
       "4                   True  2015  2015-01      1  \n",
       "...                  ...   ...      ...    ...  \n",
       "5813                True  2020  2020-11      1  \n",
       "5814                True  2020  2020-11      1  \n",
       "5815                True  2020  2020-11      1  \n",
       "5816                True  2020  2020-11      1  \n",
       "5817                True  2020  2020-11      1  \n",
       "\n",
       "[5818 rows x 20 columns]"
      ]
     },
     "execution_count": 18,
     "metadata": {},
     "output_type": "execute_result"
    }
   ],
   "source": [
    "#import dataset from WP, convert time format for statistic\n",
    "import pandas as pd\n",
    "import numpy as np\n",
    "import matplotlib.pyplot as plt\n",
    "import seaborn as sns\n",
    "%matplotlib inline\n",
    "ps = pd.read_csv(\"fatal-police-shootings-data.csv\")\n",
    "ps['date'] = pd.to_datetime(ps['date'])\n",
    "ps['year'] = ps['date'].dt.year\n",
    "ps['period'] = ps['date'].dt.to_period('M')\n",
    "ps['count'] = 1\n",
    "ps"
   ]
  },
  {
   "cell_type": "code",
   "execution_count": 19,
   "metadata": {},
   "outputs": [
    {
     "data": {
      "text/html": [
       "<div>\n",
       "<style scoped>\n",
       "    .dataframe tbody tr th:only-of-type {\n",
       "        vertical-align: middle;\n",
       "    }\n",
       "\n",
       "    .dataframe tbody tr th {\n",
       "        vertical-align: top;\n",
       "    }\n",
       "\n",
       "    .dataframe thead th {\n",
       "        text-align: right;\n",
       "    }\n",
       "</style>\n",
       "<table border=\"1\" class=\"dataframe\">\n",
       "  <thead>\n",
       "    <tr style=\"text-align: right;\">\n",
       "      <th></th>\n",
       "      <th>id</th>\n",
       "      <th>name</th>\n",
       "      <th>date</th>\n",
       "      <th>manner_of_death</th>\n",
       "      <th>armed</th>\n",
       "      <th>age</th>\n",
       "      <th>gender</th>\n",
       "      <th>race</th>\n",
       "      <th>city</th>\n",
       "      <th>state</th>\n",
       "      <th>signs_of_mental_illness</th>\n",
       "      <th>threat_level</th>\n",
       "      <th>flee</th>\n",
       "      <th>body_camera</th>\n",
       "      <th>longitude</th>\n",
       "      <th>latitude</th>\n",
       "    </tr>\n",
       "  </thead>\n",
       "  <tbody>\n",
       "    <tr>\n",
       "      <td>0</td>\n",
       "      <td>3</td>\n",
       "      <td>Tim Elliot</td>\n",
       "      <td>2015-01-02</td>\n",
       "      <td>shot</td>\n",
       "      <td>gun</td>\n",
       "      <td>53.0</td>\n",
       "      <td>Male</td>\n",
       "      <td>Asian</td>\n",
       "      <td>Shelton</td>\n",
       "      <td>WA</td>\n",
       "      <td>mental_illness_yes</td>\n",
       "      <td>attack</td>\n",
       "      <td>Not fleeing</td>\n",
       "      <td>body_camera_no</td>\n",
       "      <td>-123.122</td>\n",
       "      <td>47.247</td>\n",
       "    </tr>\n",
       "    <tr>\n",
       "      <td>1</td>\n",
       "      <td>4</td>\n",
       "      <td>Lewis Lee Lembke</td>\n",
       "      <td>2015-01-02</td>\n",
       "      <td>shot</td>\n",
       "      <td>gun</td>\n",
       "      <td>47.0</td>\n",
       "      <td>Male</td>\n",
       "      <td>White</td>\n",
       "      <td>Aloha</td>\n",
       "      <td>OR</td>\n",
       "      <td>mental_illness_no</td>\n",
       "      <td>attack</td>\n",
       "      <td>Not fleeing</td>\n",
       "      <td>body_camera_no</td>\n",
       "      <td>-122.892</td>\n",
       "      <td>45.487</td>\n",
       "    </tr>\n",
       "    <tr>\n",
       "      <td>2</td>\n",
       "      <td>5</td>\n",
       "      <td>John Paul Quintero</td>\n",
       "      <td>2015-01-03</td>\n",
       "      <td>shot and Tasered</td>\n",
       "      <td>unarmed</td>\n",
       "      <td>23.0</td>\n",
       "      <td>Male</td>\n",
       "      <td>Hispanic</td>\n",
       "      <td>Wichita</td>\n",
       "      <td>KS</td>\n",
       "      <td>mental_illness_no</td>\n",
       "      <td>other</td>\n",
       "      <td>Not fleeing</td>\n",
       "      <td>body_camera_no</td>\n",
       "      <td>-97.281</td>\n",
       "      <td>37.695</td>\n",
       "    </tr>\n",
       "    <tr>\n",
       "      <td>3</td>\n",
       "      <td>8</td>\n",
       "      <td>Matthew Hoffman</td>\n",
       "      <td>2015-01-04</td>\n",
       "      <td>shot</td>\n",
       "      <td>toy weapon</td>\n",
       "      <td>32.0</td>\n",
       "      <td>Male</td>\n",
       "      <td>White</td>\n",
       "      <td>San Francisco</td>\n",
       "      <td>CA</td>\n",
       "      <td>mental_illness_yes</td>\n",
       "      <td>attack</td>\n",
       "      <td>Not fleeing</td>\n",
       "      <td>body_camera_no</td>\n",
       "      <td>-122.422</td>\n",
       "      <td>37.763</td>\n",
       "    </tr>\n",
       "    <tr>\n",
       "      <td>4</td>\n",
       "      <td>9</td>\n",
       "      <td>Michael Rodriguez</td>\n",
       "      <td>2015-01-04</td>\n",
       "      <td>shot</td>\n",
       "      <td>nail gun</td>\n",
       "      <td>39.0</td>\n",
       "      <td>Male</td>\n",
       "      <td>Hispanic</td>\n",
       "      <td>Evans</td>\n",
       "      <td>CO</td>\n",
       "      <td>mental_illness_no</td>\n",
       "      <td>attack</td>\n",
       "      <td>Not fleeing</td>\n",
       "      <td>body_camera_no</td>\n",
       "      <td>-104.692</td>\n",
       "      <td>40.384</td>\n",
       "    </tr>\n",
       "    <tr>\n",
       "      <td>...</td>\n",
       "      <td>...</td>\n",
       "      <td>...</td>\n",
       "      <td>...</td>\n",
       "      <td>...</td>\n",
       "      <td>...</td>\n",
       "      <td>...</td>\n",
       "      <td>...</td>\n",
       "      <td>...</td>\n",
       "      <td>...</td>\n",
       "      <td>...</td>\n",
       "      <td>...</td>\n",
       "      <td>...</td>\n",
       "      <td>...</td>\n",
       "      <td>...</td>\n",
       "      <td>...</td>\n",
       "      <td>...</td>\n",
       "    </tr>\n",
       "    <tr>\n",
       "      <td>5813</td>\n",
       "      <td>6341</td>\n",
       "      <td>Ellis A. Frye</td>\n",
       "      <td>2020-11-26</td>\n",
       "      <td>shot</td>\n",
       "      <td>gun</td>\n",
       "      <td>62.0</td>\n",
       "      <td>Male</td>\n",
       "      <td>Black</td>\n",
       "      <td>Culpeper</td>\n",
       "      <td>VA</td>\n",
       "      <td>mental_illness_no</td>\n",
       "      <td>other</td>\n",
       "      <td>Not fleeing</td>\n",
       "      <td>body_camera_no</td>\n",
       "      <td>-78.019</td>\n",
       "      <td>38.520</td>\n",
       "    </tr>\n",
       "    <tr>\n",
       "      <td>5814</td>\n",
       "      <td>6342</td>\n",
       "      <td>Michael Anthony Pena</td>\n",
       "      <td>2020-11-26</td>\n",
       "      <td>shot</td>\n",
       "      <td>undetermined</td>\n",
       "      <td>31.0</td>\n",
       "      <td>Male</td>\n",
       "      <td>Hispanic</td>\n",
       "      <td>Lubbock</td>\n",
       "      <td>TX</td>\n",
       "      <td>mental_illness_no</td>\n",
       "      <td>undetermined</td>\n",
       "      <td>NaN</td>\n",
       "      <td>body_camera_no</td>\n",
       "      <td>-102.030</td>\n",
       "      <td>33.543</td>\n",
       "    </tr>\n",
       "    <tr>\n",
       "      <td>5815</td>\n",
       "      <td>6338</td>\n",
       "      <td>NaN</td>\n",
       "      <td>2020-11-27</td>\n",
       "      <td>shot</td>\n",
       "      <td>gun</td>\n",
       "      <td>74.0</td>\n",
       "      <td>Male</td>\n",
       "      <td>NaN</td>\n",
       "      <td>Marinette County</td>\n",
       "      <td>WI</td>\n",
       "      <td>mental_illness_no</td>\n",
       "      <td>other</td>\n",
       "      <td>Car</td>\n",
       "      <td>body_camera_no</td>\n",
       "      <td>-88.065</td>\n",
       "      <td>45.358</td>\n",
       "    </tr>\n",
       "    <tr>\n",
       "      <td>5816</td>\n",
       "      <td>6340</td>\n",
       "      <td>NaN</td>\n",
       "      <td>2020-11-27</td>\n",
       "      <td>shot</td>\n",
       "      <td>gun</td>\n",
       "      <td>NaN</td>\n",
       "      <td>Male</td>\n",
       "      <td>NaN</td>\n",
       "      <td>Wilsonville</td>\n",
       "      <td>OR</td>\n",
       "      <td>mental_illness_yes</td>\n",
       "      <td>other</td>\n",
       "      <td>NaN</td>\n",
       "      <td>body_camera_no</td>\n",
       "      <td>-122.834</td>\n",
       "      <td>45.278</td>\n",
       "    </tr>\n",
       "    <tr>\n",
       "      <td>5817</td>\n",
       "      <td>6339</td>\n",
       "      <td>Cory Donell Truxillo</td>\n",
       "      <td>2020-11-29</td>\n",
       "      <td>shot</td>\n",
       "      <td>gun</td>\n",
       "      <td>43.0</td>\n",
       "      <td>Male</td>\n",
       "      <td>Black</td>\n",
       "      <td>Houma</td>\n",
       "      <td>LA</td>\n",
       "      <td>mental_illness_yes</td>\n",
       "      <td>attack</td>\n",
       "      <td>Not fleeing</td>\n",
       "      <td>body_camera_no</td>\n",
       "      <td>-90.730</td>\n",
       "      <td>29.602</td>\n",
       "    </tr>\n",
       "  </tbody>\n",
       "</table>\n",
       "<p>5818 rows × 16 columns</p>\n",
       "</div>"
      ],
      "text/plain": [
       "        id                  name        date   manner_of_death         armed  \\\n",
       "0        3            Tim Elliot  2015-01-02              shot           gun   \n",
       "1        4      Lewis Lee Lembke  2015-01-02              shot           gun   \n",
       "2        5    John Paul Quintero  2015-01-03  shot and Tasered       unarmed   \n",
       "3        8       Matthew Hoffman  2015-01-04              shot    toy weapon   \n",
       "4        9     Michael Rodriguez  2015-01-04              shot      nail gun   \n",
       "...    ...                   ...         ...               ...           ...   \n",
       "5813  6341         Ellis A. Frye  2020-11-26              shot           gun   \n",
       "5814  6342  Michael Anthony Pena  2020-11-26              shot  undetermined   \n",
       "5815  6338                   NaN  2020-11-27              shot           gun   \n",
       "5816  6340                   NaN  2020-11-27              shot           gun   \n",
       "5817  6339  Cory Donell Truxillo  2020-11-29              shot           gun   \n",
       "\n",
       "       age gender      race              city state signs_of_mental_illness  \\\n",
       "0     53.0   Male     Asian           Shelton    WA      mental_illness_yes   \n",
       "1     47.0   Male     White             Aloha    OR       mental_illness_no   \n",
       "2     23.0   Male  Hispanic           Wichita    KS       mental_illness_no   \n",
       "3     32.0   Male     White     San Francisco    CA      mental_illness_yes   \n",
       "4     39.0   Male  Hispanic             Evans    CO       mental_illness_no   \n",
       "...    ...    ...       ...               ...   ...                     ...   \n",
       "5813  62.0   Male     Black          Culpeper    VA       mental_illness_no   \n",
       "5814  31.0   Male  Hispanic           Lubbock    TX       mental_illness_no   \n",
       "5815  74.0   Male       NaN  Marinette County    WI       mental_illness_no   \n",
       "5816   NaN   Male       NaN       Wilsonville    OR      mental_illness_yes   \n",
       "5817  43.0   Male     Black             Houma    LA      mental_illness_yes   \n",
       "\n",
       "      threat_level         flee     body_camera  longitude  latitude  \n",
       "0           attack  Not fleeing  body_camera_no   -123.122    47.247  \n",
       "1           attack  Not fleeing  body_camera_no   -122.892    45.487  \n",
       "2            other  Not fleeing  body_camera_no    -97.281    37.695  \n",
       "3           attack  Not fleeing  body_camera_no   -122.422    37.763  \n",
       "4           attack  Not fleeing  body_camera_no   -104.692    40.384  \n",
       "...            ...          ...             ...        ...       ...  \n",
       "5813         other  Not fleeing  body_camera_no    -78.019    38.520  \n",
       "5814  undetermined          NaN  body_camera_no   -102.030    33.543  \n",
       "5815         other          Car  body_camera_no    -88.065    45.358  \n",
       "5816         other          NaN  body_camera_no   -122.834    45.278  \n",
       "5817        attack  Not fleeing  body_camera_no    -90.730    29.602  \n",
       "\n",
       "[5818 rows x 16 columns]"
      ]
     },
     "execution_count": 19,
     "metadata": {},
     "output_type": "execute_result"
    }
   ],
   "source": [
    "fp = pd.read_csv(\"fatal-police-shootings-data.csv\")\n",
    "fp.loc[fp['signs_of_mental_illness'] == False, 'signs_of_mental_illness'] = 'mental_illness_no'\n",
    "fp.loc[fp['signs_of_mental_illness'] == True, 'signs_of_mental_illness'] = 'mental_illness_yes'\n",
    "fp.loc[fp['race'] == 'A', 'race'] = 'Asian'\n",
    "fp.loc[fp['race'] == 'B', 'race'] = 'Black'\n",
    "fp.loc[fp['race'] == 'H', 'race'] = 'Hispanic'\n",
    "fp.loc[fp['race'] == 'N', 'race'] = 'Native'\n",
    "fp.loc[fp['race'] == 'W', 'race'] = 'White'\n",
    "fp.loc[fp['race'] == 'O', 'race'] = 'Other'\n",
    "fp.loc[fp['gender'] == 'M', 'gender'] = 'Male'\n",
    "fp.loc[fp['gender'] == 'F', 'gender'] = 'Female'\n",
    "fp.loc[fp['body_camera'] == False, 'body_camera'] = 'body_camera_no'\n",
    "fp.loc[fp['body_camera'] == True, 'body_camera'] = 'body_camera_yes'\n",
    "fp = fp.drop(columns=['is_geocoding_exact'])\n",
    "fp.to_csv('fp.csv')\n",
    "fp"
   ]
  },
  {
   "cell_type": "code",
   "execution_count": 20,
   "metadata": {},
   "outputs": [
    {
     "data": {
      "image/png": "[encoded data removed]",
      "text/plain": [
       "<Figure size 1152x648 with 1 Axes>"
      ]
     },
     "metadata": {
      "needs_background": "light"
     },
     "output_type": "display_data"
    }
   ],
   "source": [
    "# Display frequent pattern by word cloud\n",
    "# importing the necessery modules \n",
    "from wordcloud import WordCloud \n",
    "import matplotlib.pyplot as plt \n",
    "import csv \n",
    "  \n",
    "# file object is created \n",
    "file_ob = open(r\"fp.csv\") \n",
    "  \n",
    "# reader object is created \n",
    "reader_ob = csv.reader(file_ob) \n",
    "  \n",
    "# contents of reader object is stored . \n",
    "# data is stored in list of list format. \n",
    "reader_contents = list(reader_ob) \n",
    "  \n",
    "# empty string is declare \n",
    "text = \"\" \n",
    "  \n",
    "# iterating through list of rows \n",
    "for row in reader_contents : \n",
    "      \n",
    "    # iterating through words in the row \n",
    "    for word in row : \n",
    "  \n",
    "        # concatenate the words \n",
    "        text = text + \" \" + word \n",
    "  \n",
    "wordcloud = WordCloud(background_color=\"white\", max_words=20, width=800, height=500,relative_scaling=0.5).generate(text) \n",
    "plt.figure(figsize = (16,9)) #increase the picture's resolution\n",
    "plt.imshow(wordcloud, interpolation=\"bilinear\") \n",
    "plt.axis(\"off\") \n",
    "plt.margins(x=0, y=0) \n",
    "plt.show() "
   ]
  },
  {
   "cell_type": "code",
   "execution_count": 22,
   "metadata": {},
   "outputs": [
    {
     "data": {
      "image/png": "[encoded data removed]",
      "text/plain": [
       "<Figure size 1152x648 with 1 Axes>"
      ]
     },
     "metadata": {
      "needs_background": "light"
     },
     "output_type": "display_data"
    }
   ],
   "source": [
    "# importing the necessery modules \n",
    "from wordcloud import WordCloud \n",
    "import matplotlib.pyplot as plt \n",
    "import csv \n",
    "  \n",
    "# file object is created \n",
    "file_ob = open(r\"fp.csv\") \n",
    "  \n",
    "# reader object is created \n",
    "reader_ob = csv.reader(file_ob) \n",
    "  \n",
    "# contents of reader object is stored . \n",
    "# data is stored in list of list format. \n",
    "reader_contents = list(reader_ob) \n",
    "  \n",
    "# empty string is declare \n",
    "text = \"\" \n",
    "  \n",
    "# iterating through list of rows \n",
    "for row in reader_contents : \n",
    "      \n",
    "    # iterating through words in the row \n",
    "    for word in row : \n",
    "  \n",
    "        # concatenate the words \n",
    "        text = text + \" \" + word \n",
    "  \n",
    "wordcloud = WordCloud(background_color=\"white\", max_words=20, width=800, height=500,relative_scaling=0.5, collocations=False).generate(text) \n",
    "plt.figure(figsize = (16,9)) #increase the picture's resolution\n",
    "plt.imshow(wordcloud, interpolation=\"bilinear\") \n",
    "plt.axis(\"off\") \n",
    "plt.margins(x=0, y=0) \n",
    "plt.show() "
   ]
  },
  {
   "cell_type": "code",
   "execution_count": 23,
   "metadata": {},
   "outputs": [
    {
     "name": "stdout",
     "output_type": "stream",
     "text": [
      "[({'gun'}, 3322), ({'gun', 'body_camera_no'}, 2955), ({'gun', 'body_camera_no', 'shot'}, 2920), ({'gun', 'Male'}, 3209), ({'gun', 'Male', 'shot'}, 3166), ({'gun', 'shot'}, 3279), ({'Not fleeing'}, 3609), ({'Not fleeing', 'body_camera_no'}, 3155), ({'shot', 'Not fleeing', 'body_camera_no'}, 2982), ({'Not fleeing', 'body_camera_no', 'Male'}, 3001), ({'shot', 'Not fleeing'}, 3399), ({'shot', 'Not fleeing', 'Male'}, 3228), ({'Not fleeing', 'Male'}, 3431), ({'attack'}, 3762), ({'mental_illness_no', 'attack'}, 2923), ({'body_camera_no', 'attack'}, 3334), ({'body_camera_no', 'attack', 'Male'}, 3198), ({'shot', 'body_camera_no', 'attack', 'Male'}, 3073), ({'shot', 'body_camera_no', 'attack'}, 3208), ({'shot', 'attack'}, 3614), ({'attack', 'Male'}, 3614), ({'shot', 'attack', 'Male'}, 3467), ({'mental_illness_no'}, 4469), ({'mental_illness_no', 'body_camera_no'}, 3959), ({'shot', 'mental_illness_no', 'body_camera_no'}, 3797), ({'shot', 'mental_illness_no', 'body_camera_no', 'Male'}, 3645), ({'mental_illness_no', 'body_camera_no', 'Male'}, 3804), ({'shot', 'mental_illness_no'}, 4274), ({'shot', 'mental_illness_no', 'Male'}, 4109), ({'mental_illness_no', 'Male'}, 4301), ({'body_camera_no'}, 5099), ({'shot', 'body_camera_no'}, 4856), ({'shot', 'body_camera_no', 'Male'}, 4639), ({'body_camera_no', 'Male'}, 4875), ({'shot'}, 5525), ({'shot', 'Male'}, 5278), ({'Male'}, 5563)]\n",
      "The executing time of the FP-Growth algorithm is 1.9134907722473145 seconds.\n"
     ]
    }
   ],
   "source": [
    "# Frequent pattern mining\n",
    "#  \n",
    "import operator\n",
    "import time\n",
    "\n",
    "class Conditional_FP_Tree:\n",
    "    def __init__(self, item, support, parentNode):\n",
    "        self.name = item\n",
    "        self.count = support\n",
    "        self.nodeLink = None\n",
    "        self.parent = parentNode\n",
    "        self.children = {}\n",
    "\n",
    "    def support_count(self, support):\n",
    "        self.count += support\n",
    "'''\n",
    "    def display(self, depth = 1):\n",
    "        print(' '*depth, self.name, ' ', self.count)\n",
    "        for child in self.children.values():\n",
    "            child.display(depth + 1)\n",
    "'''\n",
    "\n",
    "'''\n",
    "def find_frequent_items(D, min_sup:int):\n",
    "    item_count = defaultdict(int)\n",
    "    for row in D:\n",
    "        for item in row:\n",
    "            item_count[item] += 1\n",
    "    items = dict()\n",
    "    for item, count in item_count.items():\n",
    "        if count >= min_sup:\n",
    "            items.update({item: count})\n",
    "    F = sorted(items.items(), key=operator.itemgetter(1), reverse=True)\n",
    "    return F\n",
    "'''\n",
    "\n",
    "def create_FP_Tree(D, min_sup:int):\n",
    "    # To create FP Tree, create headertable first.\n",
    "    headertable = {}\n",
    "    for row in D:\n",
    "        for item in row:\n",
    "            headertable[item] = headertable.get(item, 0) + D[row]\n",
    "    # The headertable include item name and support count.\n",
    "    remove = []\n",
    "    for key in headertable.keys():\n",
    "        if headertable[key] < min_sup:\n",
    "            remove.append(key)\n",
    "    for item in remove:\n",
    "        headertable.pop(item)\n",
    "    # If item is not frequent, then remove from headertable.\n",
    "    ### frequent_itemset = find_frequent_items(D, min_sup)\n",
    "    frequent_itemset = sorted(headertable.items(), key=operator.itemgetter(1), reverse=True)\n",
    "    if len(frequent_itemset) != 0:\n",
    "        for item in headertable:\n",
    "            headertable[item] = [headertable[item], None]\n",
    "            # create node link.\n",
    "            # Now headertable contains itemname, support count, and node link for each item.\n",
    "        FPTree = Conditional_FP_Tree('Null', 1, None)\n",
    "        # root node: item = Null, support = 1, Parent = None\n",
    "        for transaction, support in D.items():\n",
    "            treegrowth = {}\n",
    "            for item in transaction:\n",
    "                if item in set(headertable.keys()):\n",
    "                    treegrowth[item] = headertable[item][0]\n",
    "                    # only need frequency here\n",
    "                    # treegrowth contains all unique frequent items in each transaction in turn\n",
    "            if len(treegrowth) > 0:\n",
    "                sortgrowth = sorted(treegrowth.items(), key=operator.itemgetter(1), reverse=True)\n",
    "                # To build the tree, sort by support count. Highest comes first.\n",
    "                nextitemset = []\n",
    "                for item in sortgrowth:\n",
    "                    nextitemset.append(item[0])\n",
    "                # THIS IS SOMETHING NEW TO ME: orderedItems = [v[0] for v in st]\n",
    "                # MORE EFFICIENT CODING THIS WAY.\n",
    "                updateFPTree(nextitemset, FPTree, headertable, support)\n",
    "                # Update tree for each transaction in turn to construct the whole tree.\n",
    "        return FPTree, headertable\n",
    "    else:\n",
    "        return None, None\n",
    "\n",
    "'''\n",
    "============ Insert Tree =============\n",
    "'''\n",
    "\n",
    "def updateFPTree(itemset, tobeupdateTree, headertable, support):\n",
    "    # Update tree for item in the chosen itemset one by one.\n",
    "    # Finish by recursion\n",
    "    if itemset[0] in tobeupdateTree.children:\n",
    "        # If the item is already one child of the current tree, then update the support count.\n",
    "        tobeupdateTree.children[itemset[0]].support_count(support)\n",
    "    else:\n",
    "        # Call to build a new branch of the conditional tree and update the headertable.\n",
    "        tobeupdateTree.children[itemset[0]] = Conditional_FP_Tree(itemset[0], support, tobeupdateTree)\n",
    "        if headertable[itemset[0]][1] == None:\n",
    "            # If there is no nodeLink, then create one.\n",
    "            headertable[itemset[0]][1] = tobeupdateTree.children[itemset[0]]\n",
    "        else:\n",
    "            # If there is a nodeLink, then update it.\n",
    "            updatenodeLink(headertable[itemset[0]][1], tobeupdateTree.children[itemset[0]])\n",
    "    # Recursion\n",
    "    if len(itemset) > 1:\n",
    "        new_itemset = itemset[1::]\n",
    "        updateFPTree(new_itemset, tobeupdateTree.children[itemset[0]], headertable, support)\n",
    "\n",
    "def updatenodeLink(new_node, target_node):\n",
    "    # Based on Figure 6.7, all linked nodes are as nodes in linked list.\n",
    "    # When there is a nodeLink, then find the end node and add the new link.\n",
    "    while new_node.nodeLink != None:\n",
    "        new_node = new_node.nodeLink\n",
    "    new_node.nodeLink = target_node\n",
    "\n",
    "'''\n",
    "============== Top-down finished. Now starts bottom-up. ==============\n",
    "'''\n",
    "\n",
    "def bottom_up_Tree(leafnode, path):\n",
    "    # Recursion again\n",
    "    if leafnode.parent != None:\n",
    "        # We have not reached the root node yet.\n",
    "        path.append(leafnode.name) # grow up\n",
    "        bottom_up_Tree(leafnode.parent, path)\n",
    "    return path\n",
    "\n",
    "def find_path(node):\n",
    "    # Recursion again...\n",
    "    conditional_pattern_base = {}\n",
    "    while node != None:\n",
    "        path = []\n",
    "        updatepath = bottom_up_Tree(node, path)\n",
    "        if len(updatepath) > 1:\n",
    "            conditional_pattern_base[frozenset(updatepath[1:])] = node.count\n",
    "            # node is the leafnode for this certain path,\n",
    "            # so its support count should be the minimum support count of all nodes in the path\n",
    "            # Use the minimun support count of all nodes in the path as the support count of the path.\n",
    "            # conditional pattern base stored all paths and their support counts.\n",
    "        node = node.nodeLink\n",
    "        # Start from the bottom and move to the parent to find all paths.\n",
    "    return conditional_pattern_base\n",
    "\n",
    "'''\n",
    "============== Mine Frequent Patterns ==============\n",
    "'''\n",
    "\n",
    "def FP_Growth(headertable, prefix_path, min_sup:int, frequent_itemset):\n",
    "    # beta = [alpha[0] for alpha in sorted(headertable.items(), key=operator.itemgetter(1))] why bug?\n",
    "    beta = [alpha[0] for alpha in sorted(headertable.items(), key=lambda p: p[1][0])]\n",
    "    # Start from the bottom frequent_1_itemset: leafnode\n",
    "    # Use each one of the frequent_1_item as the leafnode, updating path with len(path) increase by 1 each time.\n",
    "    for base_node in beta:\n",
    "        newfreqitemset = prefix_path.copy()\n",
    "        newfreqitemset.add(base_node)\n",
    "        frequent_itemset.append((newfreqitemset, headertable[base_node][0]))\n",
    "        conditional_pattern_base = find_path(headertable[base_node][1])\n",
    "        conditional_FPTree, conditional_headertable = create_FP_Tree(conditional_pattern_base, min_sup)\n",
    "        if conditional_headertable != None:\n",
    "            # As long as there is frequent itemset, recurse.\n",
    "            FP_Growth(conditional_headertable, newfreqitemset, min_sup, frequent_itemset)\n",
    "    return frequent_itemset\n",
    "\n",
    "######################################################################################################################\n",
    "\n",
    "if __name__ == \"__main__\":\n",
    "    start_time = time.time()\n",
    "    with open('fp.csv') as file:\n",
    "        ds = file.readlines()\n",
    "    transactions = []\n",
    "    for i in range(len(ds)):\n",
    "        transactions.append(ds[i].strip().split(','))\n",
    "    Dataset = {}\n",
    "    for transaction in transactions:\n",
    "        Dataset[frozenset(transaction)] = 1\n",
    "    Frequent_Itemset = []\n",
    "    Prefix_Path = set([])\n",
    "    min_sup = len(transactions) * 0.5\n",
    "    FPTree, HeaderTable = create_FP_Tree(Dataset, min_sup)\n",
    "    FrequentItemset = FP_Growth(HeaderTable, Prefix_Path, min_sup, Frequent_Itemset)\n",
    "    print(FrequentItemset)\n",
    "    # print(len(FrequentItemset))\n",
    "    print(\"The executing time of the FP-Growth algorithm is %s seconds.\" % (time.time() - start_time))\n"
   ]
  },
  {
   "cell_type": "code",
   "execution_count": 3,
   "metadata": {},
   "outputs": [
    {
     "data": {
      "text/html": [
       "<div>\n",
       "<style scoped>\n",
       "    .dataframe tbody tr th:only-of-type {\n",
       "        vertical-align: middle;\n",
       "    }\n",
       "\n",
       "    .dataframe tbody tr th {\n",
       "        vertical-align: top;\n",
       "    }\n",
       "\n",
       "    .dataframe thead th {\n",
       "        text-align: right;\n",
       "    }\n",
       "</style>\n",
       "<table border=\"1\" class=\"dataframe\">\n",
       "  <thead>\n",
       "    <tr style=\"text-align: right;\">\n",
       "      <th></th>\n",
       "      <th>count</th>\n",
       "    </tr>\n",
       "    <tr>\n",
       "      <th>year</th>\n",
       "      <th></th>\n",
       "    </tr>\n",
       "  </thead>\n",
       "  <tbody>\n",
       "    <tr>\n",
       "      <td>2015</td>\n",
       "      <td>994</td>\n",
       "    </tr>\n",
       "    <tr>\n",
       "      <td>2016</td>\n",
       "      <td>961</td>\n",
       "    </tr>\n",
       "    <tr>\n",
       "      <td>2017</td>\n",
       "      <td>986</td>\n",
       "    </tr>\n",
       "    <tr>\n",
       "      <td>2018</td>\n",
       "      <td>990</td>\n",
       "    </tr>\n",
       "    <tr>\n",
       "      <td>2019</td>\n",
       "      <td>999</td>\n",
       "    </tr>\n",
       "    <tr>\n",
       "      <td>2020</td>\n",
       "      <td>888</td>\n",
       "    </tr>\n",
       "  </tbody>\n",
       "</table>\n",
       "</div>"
      ],
      "text/plain": [
       "      count\n",
       "year       \n",
       "2015    994\n",
       "2016    961\n",
       "2017    986\n",
       "2018    990\n",
       "2019    999\n",
       "2020    888"
      ]
     },
     "execution_count": 3,
     "metadata": {},
     "output_type": "execute_result"
    }
   ],
   "source": [
    "#Bar plot police shooting total count of each year according to WP data (12/01/2020)\n",
    "#In order to match WP chart, it does not exlude \"unknow\" race data\n",
    "table_1 = pd.pivot_table(ps, values=['count'], index=['year'], aggfunc=np.sum)\n",
    "table_1"
   ]
  },
  {
   "cell_type": "code",
   "execution_count": 4,
   "metadata": {},
   "outputs": [
    {
     "data": {
      "text/plain": [
       "Text(0.5, 1.0, 'Total Police Shooting Number per Year')"
      ]
     },
     "execution_count": 4,
     "metadata": {},
     "output_type": "execute_result"
    },
    {
     "data": {
      "image/png": "[encoded data removed]",
      "text/plain": [
       "<Figure size 432x288 with 1 Axes>"
      ]
     },
     "metadata": {
      "needs_background": "light"
     },
     "output_type": "display_data"
    }
   ],
   "source": [
    "table_1.plot.bar()\n",
    "plt.title('Total Police Shooting Number per Year')"
   ]
  },
  {
   "cell_type": "code",
   "execution_count": 17,
   "metadata": {},
   "outputs": [
    {
     "data": {
      "image/png": "[encoded data removed]",
      "text/plain": [
       "<Figure size 1440x960 with 1 Axes>"
      ]
     },
     "metadata": {
      "needs_background": "light"
     },
     "output_type": "display_data"
    }
   ],
   "source": [
    "table_2 = pd.pivot_table(ps, values=['count'], index=['period'], columns= ['year'], aggfunc=np.sum)\n",
    "table_2.plot.line(figsize = (20,40/3))\n",
    "\n",
    "plt.title('Total Police Shooting Number per month')\n",
    "table_2.to_excel('table_2.xlsx')"
   ]
  },
  {
   "cell_type": "code",
   "execution_count": 33,
   "metadata": {},
   "outputs": [
    {
     "data": {
      "text/html": [
       "<div>\n",
       "<style scoped>\n",
       "    .dataframe tbody tr th:only-of-type {\n",
       "        vertical-align: middle;\n",
       "    }\n",
       "\n",
       "    .dataframe tbody tr th {\n",
       "        vertical-align: top;\n",
       "    }\n",
       "\n",
       "    .dataframe thead th {\n",
       "        text-align: right;\n",
       "    }\n",
       "</style>\n",
       "<table border=\"1\" class=\"dataframe\">\n",
       "  <thead>\n",
       "    <tr style=\"text-align: right;\">\n",
       "      <th></th>\n",
       "      <th>id</th>\n",
       "      <th>name</th>\n",
       "      <th>date</th>\n",
       "      <th>manner_of_death</th>\n",
       "      <th>armed</th>\n",
       "      <th>age</th>\n",
       "      <th>gender</th>\n",
       "      <th>race</th>\n",
       "      <th>city</th>\n",
       "      <th>state</th>\n",
       "      <th>signs_of_mental_illness</th>\n",
       "      <th>threat_level</th>\n",
       "      <th>flee</th>\n",
       "      <th>body_camera</th>\n",
       "      <th>longitude</th>\n",
       "      <th>latitude</th>\n",
       "      <th>is_geocoding_exact</th>\n",
       "      <th>year</th>\n",
       "      <th>count</th>\n",
       "      <th>place</th>\n",
       "    </tr>\n",
       "  </thead>\n",
       "  <tbody>\n",
       "    <tr>\n",
       "      <td>0</td>\n",
       "      <td>3</td>\n",
       "      <td>Tim Elliot</td>\n",
       "      <td>2015-01-02</td>\n",
       "      <td>shot</td>\n",
       "      <td>gun</td>\n",
       "      <td>53.0</td>\n",
       "      <td>M</td>\n",
       "      <td>A</td>\n",
       "      <td>Shelton</td>\n",
       "      <td>WA</td>\n",
       "      <td>True</td>\n",
       "      <td>attack</td>\n",
       "      <td>Not fleeing</td>\n",
       "      <td>False</td>\n",
       "      <td>-123.122</td>\n",
       "      <td>47.247</td>\n",
       "      <td>True</td>\n",
       "      <td>2015</td>\n",
       "      <td>1</td>\n",
       "      <td>WA-Shelton</td>\n",
       "    </tr>\n",
       "    <tr>\n",
       "      <td>1</td>\n",
       "      <td>4</td>\n",
       "      <td>Lewis Lee Lembke</td>\n",
       "      <td>2015-01-02</td>\n",
       "      <td>shot</td>\n",
       "      <td>gun</td>\n",
       "      <td>47.0</td>\n",
       "      <td>M</td>\n",
       "      <td>W</td>\n",
       "      <td>Aloha</td>\n",
       "      <td>OR</td>\n",
       "      <td>False</td>\n",
       "      <td>attack</td>\n",
       "      <td>Not fleeing</td>\n",
       "      <td>False</td>\n",
       "      <td>-122.892</td>\n",
       "      <td>45.487</td>\n",
       "      <td>True</td>\n",
       "      <td>2015</td>\n",
       "      <td>1</td>\n",
       "      <td>OR-Aloha</td>\n",
       "    </tr>\n",
       "    <tr>\n",
       "      <td>2</td>\n",
       "      <td>5</td>\n",
       "      <td>John Paul Quintero</td>\n",
       "      <td>2015-01-03</td>\n",
       "      <td>shot and Tasered</td>\n",
       "      <td>unarmed</td>\n",
       "      <td>23.0</td>\n",
       "      <td>M</td>\n",
       "      <td>H</td>\n",
       "      <td>Wichita</td>\n",
       "      <td>KS</td>\n",
       "      <td>False</td>\n",
       "      <td>other</td>\n",
       "      <td>Not fleeing</td>\n",
       "      <td>False</td>\n",
       "      <td>-97.281</td>\n",
       "      <td>37.695</td>\n",
       "      <td>True</td>\n",
       "      <td>2015</td>\n",
       "      <td>1</td>\n",
       "      <td>KS-Wichita</td>\n",
       "    </tr>\n",
       "    <tr>\n",
       "      <td>3</td>\n",
       "      <td>8</td>\n",
       "      <td>Matthew Hoffman</td>\n",
       "      <td>2015-01-04</td>\n",
       "      <td>shot</td>\n",
       "      <td>toy weapon</td>\n",
       "      <td>32.0</td>\n",
       "      <td>M</td>\n",
       "      <td>W</td>\n",
       "      <td>San Francisco</td>\n",
       "      <td>CA</td>\n",
       "      <td>True</td>\n",
       "      <td>attack</td>\n",
       "      <td>Not fleeing</td>\n",
       "      <td>False</td>\n",
       "      <td>-122.422</td>\n",
       "      <td>37.763</td>\n",
       "      <td>True</td>\n",
       "      <td>2015</td>\n",
       "      <td>1</td>\n",
       "      <td>CA-San Francisco</td>\n",
       "    </tr>\n",
       "    <tr>\n",
       "      <td>4</td>\n",
       "      <td>9</td>\n",
       "      <td>Michael Rodriguez</td>\n",
       "      <td>2015-01-04</td>\n",
       "      <td>shot</td>\n",
       "      <td>nail gun</td>\n",
       "      <td>39.0</td>\n",
       "      <td>M</td>\n",
       "      <td>H</td>\n",
       "      <td>Evans</td>\n",
       "      <td>CO</td>\n",
       "      <td>False</td>\n",
       "      <td>attack</td>\n",
       "      <td>Not fleeing</td>\n",
       "      <td>False</td>\n",
       "      <td>-104.692</td>\n",
       "      <td>40.384</td>\n",
       "      <td>True</td>\n",
       "      <td>2015</td>\n",
       "      <td>1</td>\n",
       "      <td>CO-Evans</td>\n",
       "    </tr>\n",
       "    <tr>\n",
       "      <td>...</td>\n",
       "      <td>...</td>\n",
       "      <td>...</td>\n",
       "      <td>...</td>\n",
       "      <td>...</td>\n",
       "      <td>...</td>\n",
       "      <td>...</td>\n",
       "      <td>...</td>\n",
       "      <td>...</td>\n",
       "      <td>...</td>\n",
       "      <td>...</td>\n",
       "      <td>...</td>\n",
       "      <td>...</td>\n",
       "      <td>...</td>\n",
       "      <td>...</td>\n",
       "      <td>...</td>\n",
       "      <td>...</td>\n",
       "      <td>...</td>\n",
       "      <td>...</td>\n",
       "      <td>...</td>\n",
       "      <td>...</td>\n",
       "    </tr>\n",
       "    <tr>\n",
       "      <td>5813</td>\n",
       "      <td>6341</td>\n",
       "      <td>Ellis A. Frye</td>\n",
       "      <td>2020-11-26</td>\n",
       "      <td>shot</td>\n",
       "      <td>gun</td>\n",
       "      <td>62.0</td>\n",
       "      <td>M</td>\n",
       "      <td>B</td>\n",
       "      <td>Culpeper</td>\n",
       "      <td>VA</td>\n",
       "      <td>False</td>\n",
       "      <td>other</td>\n",
       "      <td>Not fleeing</td>\n",
       "      <td>False</td>\n",
       "      <td>-78.019</td>\n",
       "      <td>38.520</td>\n",
       "      <td>True</td>\n",
       "      <td>2020</td>\n",
       "      <td>1</td>\n",
       "      <td>VA-Culpeper</td>\n",
       "    </tr>\n",
       "    <tr>\n",
       "      <td>5814</td>\n",
       "      <td>6342</td>\n",
       "      <td>Michael Anthony Pena</td>\n",
       "      <td>2020-11-26</td>\n",
       "      <td>shot</td>\n",
       "      <td>undetermined</td>\n",
       "      <td>31.0</td>\n",
       "      <td>M</td>\n",
       "      <td>H</td>\n",
       "      <td>Lubbock</td>\n",
       "      <td>TX</td>\n",
       "      <td>False</td>\n",
       "      <td>undetermined</td>\n",
       "      <td>NaN</td>\n",
       "      <td>False</td>\n",
       "      <td>-102.030</td>\n",
       "      <td>33.543</td>\n",
       "      <td>True</td>\n",
       "      <td>2020</td>\n",
       "      <td>1</td>\n",
       "      <td>TX-Lubbock</td>\n",
       "    </tr>\n",
       "    <tr>\n",
       "      <td>5815</td>\n",
       "      <td>6338</td>\n",
       "      <td>NaN</td>\n",
       "      <td>2020-11-27</td>\n",
       "      <td>shot</td>\n",
       "      <td>gun</td>\n",
       "      <td>74.0</td>\n",
       "      <td>M</td>\n",
       "      <td>NaN</td>\n",
       "      <td>Marinette County</td>\n",
       "      <td>WI</td>\n",
       "      <td>False</td>\n",
       "      <td>other</td>\n",
       "      <td>Car</td>\n",
       "      <td>False</td>\n",
       "      <td>-88.065</td>\n",
       "      <td>45.358</td>\n",
       "      <td>True</td>\n",
       "      <td>2020</td>\n",
       "      <td>1</td>\n",
       "      <td>WI-Marinette County</td>\n",
       "    </tr>\n",
       "    <tr>\n",
       "      <td>5816</td>\n",
       "      <td>6340</td>\n",
       "      <td>NaN</td>\n",
       "      <td>2020-11-27</td>\n",
       "      <td>shot</td>\n",
       "      <td>gun</td>\n",
       "      <td>NaN</td>\n",
       "      <td>M</td>\n",
       "      <td>NaN</td>\n",
       "      <td>Wilsonville</td>\n",
       "      <td>OR</td>\n",
       "      <td>True</td>\n",
       "      <td>other</td>\n",
       "      <td>NaN</td>\n",
       "      <td>False</td>\n",
       "      <td>-122.834</td>\n",
       "      <td>45.278</td>\n",
       "      <td>True</td>\n",
       "      <td>2020</td>\n",
       "      <td>1</td>\n",
       "      <td>OR-Wilsonville</td>\n",
       "    </tr>\n",
       "    <tr>\n",
       "      <td>5817</td>\n",
       "      <td>6339</td>\n",
       "      <td>Cory Donell Truxillo</td>\n",
       "      <td>2020-11-29</td>\n",
       "      <td>shot</td>\n",
       "      <td>gun</td>\n",
       "      <td>43.0</td>\n",
       "      <td>M</td>\n",
       "      <td>B</td>\n",
       "      <td>Houma</td>\n",
       "      <td>LA</td>\n",
       "      <td>True</td>\n",
       "      <td>attack</td>\n",
       "      <td>Not fleeing</td>\n",
       "      <td>False</td>\n",
       "      <td>-90.730</td>\n",
       "      <td>29.602</td>\n",
       "      <td>True</td>\n",
       "      <td>2020</td>\n",
       "      <td>1</td>\n",
       "      <td>LA-Houma</td>\n",
       "    </tr>\n",
       "  </tbody>\n",
       "</table>\n",
       "<p>5818 rows × 20 columns</p>\n",
       "</div>"
      ],
      "text/plain": [
       "        id                  name       date   manner_of_death         armed  \\\n",
       "0        3            Tim Elliot 2015-01-02              shot           gun   \n",
       "1        4      Lewis Lee Lembke 2015-01-02              shot           gun   \n",
       "2        5    John Paul Quintero 2015-01-03  shot and Tasered       unarmed   \n",
       "3        8       Matthew Hoffman 2015-01-04              shot    toy weapon   \n",
       "4        9     Michael Rodriguez 2015-01-04              shot      nail gun   \n",
       "...    ...                   ...        ...               ...           ...   \n",
       "5813  6341         Ellis A. Frye 2020-11-26              shot           gun   \n",
       "5814  6342  Michael Anthony Pena 2020-11-26              shot  undetermined   \n",
       "5815  6338                   NaN 2020-11-27              shot           gun   \n",
       "5816  6340                   NaN 2020-11-27              shot           gun   \n",
       "5817  6339  Cory Donell Truxillo 2020-11-29              shot           gun   \n",
       "\n",
       "       age gender race              city state  signs_of_mental_illness  \\\n",
       "0     53.0      M    A           Shelton    WA                     True   \n",
       "1     47.0      M    W             Aloha    OR                    False   \n",
       "2     23.0      M    H           Wichita    KS                    False   \n",
       "3     32.0      M    W     San Francisco    CA                     True   \n",
       "4     39.0      M    H             Evans    CO                    False   \n",
       "...    ...    ...  ...               ...   ...                      ...   \n",
       "5813  62.0      M    B          Culpeper    VA                    False   \n",
       "5814  31.0      M    H           Lubbock    TX                    False   \n",
       "5815  74.0      M  NaN  Marinette County    WI                    False   \n",
       "5816   NaN      M  NaN       Wilsonville    OR                     True   \n",
       "5817  43.0      M    B             Houma    LA                     True   \n",
       "\n",
       "      threat_level         flee  body_camera  longitude  latitude  \\\n",
       "0           attack  Not fleeing        False   -123.122    47.247   \n",
       "1           attack  Not fleeing        False   -122.892    45.487   \n",
       "2            other  Not fleeing        False    -97.281    37.695   \n",
       "3           attack  Not fleeing        False   -122.422    37.763   \n",
       "4           attack  Not fleeing        False   -104.692    40.384   \n",
       "...            ...          ...          ...        ...       ...   \n",
       "5813         other  Not fleeing        False    -78.019    38.520   \n",
       "5814  undetermined          NaN        False   -102.030    33.543   \n",
       "5815         other          Car        False    -88.065    45.358   \n",
       "5816         other          NaN        False   -122.834    45.278   \n",
       "5817        attack  Not fleeing        False    -90.730    29.602   \n",
       "\n",
       "      is_geocoding_exact  year  count                place  \n",
       "0                   True  2015      1           WA-Shelton  \n",
       "1                   True  2015      1             OR-Aloha  \n",
       "2                   True  2015      1           KS-Wichita  \n",
       "3                   True  2015      1     CA-San Francisco  \n",
       "4                   True  2015      1             CO-Evans  \n",
       "...                  ...   ...    ...                  ...  \n",
       "5813                True  2020      1          VA-Culpeper  \n",
       "5814                True  2020      1           TX-Lubbock  \n",
       "5815                True  2020      1  WI-Marinette County  \n",
       "5816                True  2020      1       OR-Wilsonville  \n",
       "5817                True  2020      1             LA-Houma  \n",
       "\n",
       "[5818 rows x 20 columns]"
      ]
     },
     "execution_count": 33,
     "metadata": {},
     "output_type": "execute_result"
    }
   ],
   "source": [
    "ps[\"place\"] = ps[\"state\"] + \"-\" + ps[\"city\"]\n",
    "ps"
   ]
  },
  {
   "cell_type": "code",
   "execution_count": 6,
   "metadata": {},
   "outputs": [],
   "source": [
    "state = pd.pivot_table(ps, values=['count'], index=['state'], columns=['year'], aggfunc=np.sum)\n",
    "state.to_excel('state.xlsx')"
   ]
  },
  {
   "cell_type": "code",
   "execution_count": 31,
   "metadata": {},
   "outputs": [
    {
     "data": {
      "application/vnd.plotly.v1+json": {
       "config": {
        "plotlyServerURL": "https://plot.ly"
       },
       "data": [
        {
         "colorbar": {
          "title": {
           "text": "police shooting per 1m"
          }
         },
         "colorscale": [
          [
           0,
           "rgb(255,245,240)"
          ],
          [
           0.125,
           "rgb(254,224,210)"
          ],
          [
           0.25,
           "rgb(252,187,161)"
          ],
          [
           0.375,
           "rgb(252,146,114)"
          ],
          [
           0.5,
           "rgb(251,106,74)"
          ],
          [
           0.625,
           "rgb(239,59,44)"
          ],
          [
           0.75,
           "rgb(203,24,29)"
          ],
          [
           0.875,
           "rgb(165,15,21)"
          ],
          [
           1,
           "rgb(103,0,13)"
          ]
         ],
         "locationmode": "USA-states",
         "locations": [
          "AK",
          "AL",
          "AR",
          "AZ",
          "CA",
          "CO",
          "CT",
          "DC",
          "DE",
          "FL",
          "GA",
          "HI",
          "IA",
          "ID",
          "IL",
          "IN",
          "KS",
          "KY",
          "LA",
          "MA",
          "MD",
          "ME",
          "MI",
          "MN",
          "MO",
          "MS",
          "MT",
          "NC",
          "ND",
          "NE",
          "NH",
          "NJ",
          "NM",
          "NV",
          "NY",
          "OH",
          "OK",
          "OR",
          "PA",
          "RI",
          "SC",
          "SD",
          "TN",
          "TX",
          "UT",
          "VA",
          "VT",
          "WA",
          "WI",
          "WV",
          "WY"
         ],
         "type": "choropleth",
         "z": [
          9.226024319350056,
          3.595166945172266,
          4.672499503546928,
          6.463236536072903,
          3.6490580840279305,
          6.255279388462338,
          0.9754916094482773,
          3.385793789680294,
          2.715919518947978,
          3.129928862480508,
          3.1817964220120722,
          3.5011296394781777,
          1.8587617248034225,
          4.2194477881115,
          1.4561860845635604,
          2.656476822552987,
          2.977799019410783,
          3.9743681748194084,
          4.197574868905824,
          0.9013262162666483,
          2.318470200495507,
          2.750544263946228,
          1.457597288587576,
          1.9216352347193368,
          4.014844107700078,
          3.9087485890115583,
          5.7439656051339565,
          2.7410525681019404,
          3.1768282149997913,
          2.7170512469828325,
          1.742717618750646,
          1.3159801883816373,
          9.10506332571543,
          5.951084666586833,
          0.8903294307086632,
          2.3194717549119,
          7.471489581113908,
          3.564730956994559,
          1.5108520989630005,
          1.2595221845152769,
          3.0381363230464373,
          3.465788050887011,
          3.8407664134653885,
          3.0481228503098774,
          3.9048810036325152,
          1.974208934479954,
          2.88690316284299,
          3.81297961410876,
          2.8525984578679853,
          5.213343745386877,
          4.294702484485387
         ]
        }
       ],
       "layout": {
        "geo": {
         "scope": "usa"
        },
        "template": {
         "data": {
          "bar": [
           {
            "error_x": {
             "color": "#2a3f5f"
            },
            "error_y": {
             "color": "#2a3f5f"
            },
            "marker": {
             "line": {
              "color": "#E5ECF6",
              "width": 0.5
             }
            },
            "type": "bar"
           }
          ],
          "barpolar": [
           {
            "marker": {
             "line": {
              "color": "#E5ECF6",
              "width": 0.5
             }
            },
            "type": "barpolar"
           }
          ],
          "carpet": [
           {
            "aaxis": {
             "endlinecolor": "#2a3f5f",
             "gridcolor": "white",
             "linecolor": "white",
             "minorgridcolor": "white",
             "startlinecolor": "#2a3f5f"
            },
            "baxis": {
             "endlinecolor": "#2a3f5f",
             "gridcolor": "white",
             "linecolor": "white",
             "minorgridcolor": "white",
             "startlinecolor": "#2a3f5f"
            },
            "type": "carpet"
           }
          ],
          "choropleth": [
           {
            "colorbar": {
             "outlinewidth": 0,
             "ticks": ""
            },
            "type": "choropleth"
           }
          ],
          "contour": [
           {
            "colorbar": {
             "outlinewidth": 0,
             "ticks": ""
            },
            "colorscale": [
             [
              0,
              "#0d0887"
             ],
             [
              0.1111111111111111,
              "#46039f"
             ],
             [
              0.2222222222222222,
              "#7201a8"
             ],
             [
              0.3333333333333333,
              "#9c179e"
             ],
             [
              0.4444444444444444,
              "#bd3786"
             ],
             [
              0.5555555555555556,
              "#d8576b"
             ],
             [
              0.6666666666666666,
              "#ed7953"
             ],
             [
              0.7777777777777778,
              "#fb9f3a"
             ],
             [
              0.8888888888888888,
              "#fdca26"
             ],
             [
              1,
              "#f0f921"
             ]
            ],
            "type": "contour"
           }
          ],
          "contourcarpet": [
           {
            "colorbar": {
             "outlinewidth": 0,
             "ticks": ""
            },
            "type": "contourcarpet"
           }
          ],
          "heatmap": [
           {
            "colorbar": {
             "outlinewidth": 0,
             "ticks": ""
            },
            "colorscale": [
             [
              0,
              "#0d0887"
             ],
             [
              0.1111111111111111,
              "#46039f"
             ],
             [
              0.2222222222222222,
              "#7201a8"
             ],
             [
              0.3333333333333333,
              "#9c179e"
             ],
             [
              0.4444444444444444,
              "#bd3786"
             ],
             [
              0.5555555555555556,
              "#d8576b"
             ],
             [
              0.6666666666666666,
              "#ed7953"
             ],
             [
              0.7777777777777778,
              "#fb9f3a"
             ],
             [
              0.8888888888888888,
              "#fdca26"
             ],
             [
              1,
              "#f0f921"
             ]
            ],
            "type": "heatmap"
           }
          ],
          "heatmapgl": [
           {
            "colorbar": {
             "outlinewidth": 0,
             "ticks": ""
            },
            "colorscale": [
             [
              0,
              "#0d0887"
             ],
             [
              0.1111111111111111,
              "#46039f"
             ],
             [
              0.2222222222222222,
              "#7201a8"
             ],
             [
              0.3333333333333333,
              "#9c179e"
             ],
             [
              0.4444444444444444,
              "#bd3786"
             ],
             [
              0.5555555555555556,
              "#d8576b"
             ],
             [
              0.6666666666666666,
              "#ed7953"
             ],
             [
              0.7777777777777778,
              "#fb9f3a"
             ],
             [
              0.8888888888888888,
              "#fdca26"
             ],
             [
              1,
              "#f0f921"
             ]
            ],
            "type": "heatmapgl"
           }
          ],
          "histogram": [
           {
            "marker": {
             "colorbar": {
              "outlinewidth": 0,
              "ticks": ""
             }
            },
            "type": "histogram"
           }
          ],
          "histogram2d": [
           {
            "colorbar": {
             "outlinewidth": 0,
             "ticks": ""
            },
            "colorscale": [
             [
              0,
              "#0d0887"
             ],
             [
              0.1111111111111111,
              "#46039f"
             ],
             [
              0.2222222222222222,
              "#7201a8"
             ],
             [
              0.3333333333333333,
              "#9c179e"
             ],
             [
              0.4444444444444444,
              "#bd3786"
             ],
             [
              0.5555555555555556,
              "#d8576b"
             ],
             [
              0.6666666666666666,
              "#ed7953"
             ],
             [
              0.7777777777777778,
              "#fb9f3a"
             ],
             [
              0.8888888888888888,
              "#fdca26"
             ],
             [
              1,
              "#f0f921"
             ]
            ],
            "type": "histogram2d"
           }
          ],
          "histogram2dcontour": [
           {
            "colorbar": {
             "outlinewidth": 0,
             "ticks": ""
            },
            "colorscale": [
             [
              0,
              "#0d0887"
             ],
             [
              0.1111111111111111,
              "#46039f"
             ],
             [
              0.2222222222222222,
              "#7201a8"
             ],
             [
              0.3333333333333333,
              "#9c179e"
             ],
             [
              0.4444444444444444,
              "#bd3786"
             ],
             [
              0.5555555555555556,
              "#d8576b"
             ],
             [
              0.6666666666666666,
              "#ed7953"
             ],
             [
              0.7777777777777778,
              "#fb9f3a"
             ],
             [
              0.8888888888888888,
              "#fdca26"
             ],
             [
              1,
              "#f0f921"
             ]
            ],
            "type": "histogram2dcontour"
           }
          ],
          "mesh3d": [
           {
            "colorbar": {
             "outlinewidth": 0,
             "ticks": ""
            },
            "type": "mesh3d"
           }
          ],
          "parcoords": [
           {
            "line": {
             "colorbar": {
              "outlinewidth": 0,
              "ticks": ""
             }
            },
            "type": "parcoords"
           }
          ],
          "pie": [
           {
            "automargin": true,
            "type": "pie"
           }
          ],
          "scatter": [
           {
            "marker": {
             "colorbar": {
              "outlinewidth": 0,
              "ticks": ""
             }
            },
            "type": "scatter"
           }
          ],
          "scatter3d": [
           {
            "line": {
             "colorbar": {
              "outlinewidth": 0,
              "ticks": ""
             }
            },
            "marker": {
             "colorbar": {
              "outlinewidth": 0,
              "ticks": ""
             }
            },
            "type": "scatter3d"
           }
          ],
          "scattercarpet": [
           {
            "marker": {
             "colorbar": {
              "outlinewidth": 0,
              "ticks": ""
             }
            },
            "type": "scattercarpet"
           }
          ],
          "scattergeo": [
           {
            "marker": {
             "colorbar": {
              "outlinewidth": 0,
              "ticks": ""
             }
            },
            "type": "scattergeo"
           }
          ],
          "scattergl": [
           {
            "marker": {
             "colorbar": {
              "outlinewidth": 0,
              "ticks": ""
             }
            },
            "type": "scattergl"
           }
          ],
          "scattermapbox": [
           {
            "marker": {
             "colorbar": {
              "outlinewidth": 0,
              "ticks": ""
             }
            },
            "type": "scattermapbox"
           }
          ],
          "scatterpolar": [
           {
            "marker": {
             "colorbar": {
              "outlinewidth": 0,
              "ticks": ""
             }
            },
            "type": "scatterpolar"
           }
          ],
          "scatterpolargl": [
           {
            "marker": {
             "colorbar": {
              "outlinewidth": 0,
              "ticks": ""
             }
            },
            "type": "scatterpolargl"
           }
          ],
          "scatterternary": [
           {
            "marker": {
             "colorbar": {
              "outlinewidth": 0,
              "ticks": ""
             }
            },
            "type": "scatterternary"
           }
          ],
          "surface": [
           {
            "colorbar": {
             "outlinewidth": 0,
             "ticks": ""
            },
            "colorscale": [
             [
              0,
              "#0d0887"
             ],
             [
              0.1111111111111111,
              "#46039f"
             ],
             [
              0.2222222222222222,
              "#7201a8"
             ],
             [
              0.3333333333333333,
              "#9c179e"
             ],
             [
              0.4444444444444444,
              "#bd3786"
             ],
             [
              0.5555555555555556,
              "#d8576b"
             ],
             [
              0.6666666666666666,
              "#ed7953"
             ],
             [
              0.7777777777777778,
              "#fb9f3a"
             ],
             [
              0.8888888888888888,
              "#fdca26"
             ],
             [
              1,
              "#f0f921"
             ]
            ],
            "type": "surface"
           }
          ],
          "table": [
           {
            "cells": {
             "fill": {
              "color": "#EBF0F8"
             },
             "line": {
              "color": "white"
             }
            },
            "header": {
             "fill": {
              "color": "#C8D4E3"
             },
             "line": {
              "color": "white"
             }
            },
            "type": "table"
           }
          ]
         },
         "layout": {
          "annotationdefaults": {
           "arrowcolor": "#2a3f5f",
           "arrowhead": 0,
           "arrowwidth": 1
          },
          "coloraxis": {
           "colorbar": {
            "outlinewidth": 0,
            "ticks": ""
           }
          },
          "colorscale": {
           "diverging": [
            [
             0,
             "#8e0152"
            ],
            [
             0.1,
             "#c51b7d"
            ],
            [
             0.2,
             "#de77ae"
            ],
            [
             0.3,
             "#f1b6da"
            ],
            [
             0.4,
             "#fde0ef"
            ],
            [
             0.5,
             "#f7f7f7"
            ],
            [
             0.6,
             "#e6f5d0"
            ],
            [
             0.7,
             "#b8e186"
            ],
            [
             0.8,
             "#7fbc41"
            ],
            [
             0.9,
             "#4d9221"
            ],
            [
             1,
             "#276419"
            ]
           ],
           "sequential": [
            [
             0,
             "#0d0887"
            ],
            [
             0.1111111111111111,
             "#46039f"
            ],
            [
             0.2222222222222222,
             "#7201a8"
            ],
            [
             0.3333333333333333,
             "#9c179e"
            ],
            [
             0.4444444444444444,
             "#bd3786"
            ],
            [
             0.5555555555555556,
             "#d8576b"
            ],
            [
             0.6666666666666666,
             "#ed7953"
            ],
            [
             0.7777777777777778,
             "#fb9f3a"
            ],
            [
             0.8888888888888888,
             "#fdca26"
            ],
            [
             1,
             "#f0f921"
            ]
           ],
           "sequentialminus": [
            [
             0,
             "#0d0887"
            ],
            [
             0.1111111111111111,
             "#46039f"
            ],
            [
             0.2222222222222222,
             "#7201a8"
            ],
            [
             0.3333333333333333,
             "#9c179e"
            ],
            [
             0.4444444444444444,
             "#bd3786"
            ],
            [
             0.5555555555555556,
             "#d8576b"
            ],
            [
             0.6666666666666666,
             "#ed7953"
            ],
            [
             0.7777777777777778,
             "#fb9f3a"
            ],
            [
             0.8888888888888888,
             "#fdca26"
            ],
            [
             1,
             "#f0f921"
            ]
           ]
          },
          "colorway": [
           "#636efa",
           "#EF553B",
           "#00cc96",
           "#ab63fa",
           "#FFA15A",
           "#19d3f3",
           "#FF6692",
           "#B6E880",
           "#FF97FF",
           "#FECB52"
          ],
          "font": {
           "color": "#2a3f5f"
          },
          "geo": {
           "bgcolor": "white",
           "lakecolor": "white",
           "landcolor": "#E5ECF6",
           "showlakes": true,
           "showland": true,
           "subunitcolor": "white"
          },
          "hoverlabel": {
           "align": "left"
          },
          "hovermode": "closest",
          "mapbox": {
           "style": "light"
          },
          "paper_bgcolor": "white",
          "plot_bgcolor": "#E5ECF6",
          "polar": {
           "angularaxis": {
            "gridcolor": "white",
            "linecolor": "white",
            "ticks": ""
           },
           "bgcolor": "#E5ECF6",
           "radialaxis": {
            "gridcolor": "white",
            "linecolor": "white",
            "ticks": ""
           }
          },
          "scene": {
           "xaxis": {
            "backgroundcolor": "#E5ECF6",
            "gridcolor": "white",
            "gridwidth": 2,
            "linecolor": "white",
            "showbackground": true,
            "ticks": "",
            "zerolinecolor": "white"
           },
           "yaxis": {
            "backgroundcolor": "#E5ECF6",
            "gridcolor": "white",
            "gridwidth": 2,
            "linecolor": "white",
            "showbackground": true,
            "ticks": "",
            "zerolinecolor": "white"
           },
           "zaxis": {
            "backgroundcolor": "#E5ECF6",
            "gridcolor": "white",
            "gridwidth": 2,
            "linecolor": "white",
            "showbackground": true,
            "ticks": "",
            "zerolinecolor": "white"
           }
          },
          "shapedefaults": {
           "line": {
            "color": "#2a3f5f"
           }
          },
          "ternary": {
           "aaxis": {
            "gridcolor": "white",
            "linecolor": "white",
            "ticks": ""
           },
           "baxis": {
            "gridcolor": "white",
            "linecolor": "white",
            "ticks": ""
           },
           "bgcolor": "#E5ECF6",
           "caxis": {
            "gridcolor": "white",
            "linecolor": "white",
            "ticks": ""
           }
          },
          "title": {
           "x": 0.05
          },
          "xaxis": {
           "automargin": true,
           "gridcolor": "white",
           "linecolor": "white",
           "ticks": "",
           "title": {
            "standoff": 15
           },
           "zerolinecolor": "white",
           "zerolinewidth": 2
          },
          "yaxis": {
           "automargin": true,
           "gridcolor": "white",
           "linecolor": "white",
           "ticks": "",
           "title": {
            "standoff": 15
           },
           "zerolinecolor": "white",
           "zerolinewidth": 2
          }
         }
        },
        "title": {
         "text": "Yearly average fatal police shooting per 1m by State"
        }
       }
      },
      "text/html": [
       "<div>                            <div id=\"1214c24f-3b7b-4d06-b4e4-e90f74f6b6cd\" class=\"plotly-graph-div\" style=\"height:525px; width:100%;\"></div>            <script type=\"text/javascript\">                require([\"plotly\"], function(Plotly) {                    window.PLOTLYENV=window.PLOTLYENV || {};                                    if (document.getElementById(\"1214c24f-3b7b-4d06-b4e4-e90f74f6b6cd\")) {                    Plotly.newPlot(                        \"1214c24f-3b7b-4d06-b4e4-e90f74f6b6cd\",                        [{\"colorbar\": {\"title\": {\"text\": \"police shooting per 1m\"}}, \"colorscale\": [[0.0, \"rgb(255,245,240)\"], [0.125, \"rgb(254,224,210)\"], [0.25, \"rgb(252,187,161)\"], [0.375, \"rgb(252,146,114)\"], [0.5, \"rgb(251,106,74)\"], [0.625, \"rgb(239,59,44)\"], [0.75, \"rgb(203,24,29)\"], [0.875, \"rgb(165,15,21)\"], [1.0, \"rgb(103,0,13)\"]], \"locationmode\": \"USA-states\", \"locations\": [\"AK\", \"AL\", \"AR\", \"AZ\", \"CA\", \"CO\", \"CT\", \"DC\", \"DE\", \"FL\", \"GA\", \"HI\", \"IA\", \"ID\", \"IL\", \"IN\", \"KS\", \"KY\", \"LA\", \"MA\", \"MD\", \"ME\", \"MI\", \"MN\", \"MO\", \"MS\", \"MT\", \"NC\", \"ND\", \"NE\", \"NH\", \"NJ\", \"NM\", \"NV\", \"NY\", \"OH\", \"OK\", \"OR\", \"PA\", \"RI\", \"SC\", \"SD\", \"TN\", \"TX\", \"UT\", \"VA\", \"VT\", \"WA\", \"WI\", \"WV\", \"WY\"], \"type\": \"choropleth\", \"z\": [9.226024319350056, 3.595166945172266, 4.672499503546928, 6.463236536072903, 3.6490580840279305, 6.255279388462338, 0.9754916094482773, 3.385793789680294, 2.715919518947978, 3.129928862480508, 3.1817964220120722, 3.5011296394781777, 1.8587617248034225, 4.2194477881115, 1.4561860845635604, 2.656476822552987, 2.977799019410783, 3.9743681748194084, 4.197574868905824, 0.9013262162666483, 2.318470200495507, 2.750544263946228, 1.457597288587576, 1.9216352347193368, 4.014844107700078, 3.9087485890115583, 5.7439656051339565, 2.7410525681019404, 3.1768282149997913, 2.7170512469828325, 1.742717618750646, 1.3159801883816373, 9.10506332571543, 5.951084666586833, 0.8903294307086632, 2.3194717549119, 7.471489581113908, 3.564730956994559, 1.5108520989630005, 1.2595221845152769, 3.0381363230464373, 3.465788050887011, 3.8407664134653885, 3.0481228503098774, 3.9048810036325152, 1.974208934479954, 2.88690316284299, 3.81297961410876, 2.8525984578679853, 5.213343745386877, 4.294702484485387]}],                        {\"geo\": {\"scope\": \"usa\"}, \"template\": {\"data\": {\"bar\": [{\"error_x\": {\"color\": \"#2a3f5f\"}, \"error_y\": {\"color\": \"#2a3f5f\"}, \"marker\": {\"line\": {\"color\": \"#E5ECF6\", \"width\": 0.5}}, \"type\": \"bar\"}], \"barpolar\": [{\"marker\": {\"line\": {\"color\": \"#E5ECF6\", \"width\": 0.5}}, \"type\": \"barpolar\"}], \"carpet\": [{\"aaxis\": {\"endlinecolor\": \"#2a3f5f\", \"gridcolor\": \"white\", \"linecolor\": \"white\", \"minorgridcolor\": \"white\", \"startlinecolor\": \"#2a3f5f\"}, \"baxis\": {\"endlinecolor\": \"#2a3f5f\", \"gridcolor\": \"white\", \"linecolor\": \"white\", \"minorgridcolor\": \"white\", \"startlinecolor\": \"#2a3f5f\"}, \"type\": \"carpet\"}], \"choropleth\": [{\"colorbar\": {\"outlinewidth\": 0, \"ticks\": \"\"}, \"type\": \"choropleth\"}], \"contour\": [{\"colorbar\": {\"outlinewidth\": 0, \"ticks\": \"\"}, \"colorscale\": [[0.0, \"#0d0887\"], [0.1111111111111111, \"#46039f\"], [0.2222222222222222, \"#7201a8\"], [0.3333333333333333, \"#9c179e\"], [0.4444444444444444, \"#bd3786\"], [0.5555555555555556, \"#d8576b\"], [0.6666666666666666, \"#ed7953\"], [0.7777777777777778, \"#fb9f3a\"], [0.8888888888888888, \"#fdca26\"], [1.0, \"#f0f921\"]], \"type\": \"contour\"}], \"contourcarpet\": [{\"colorbar\": {\"outlinewidth\": 0, \"ticks\": \"\"}, \"type\": \"contourcarpet\"}], \"heatmap\": [{\"colorbar\": {\"outlinewidth\": 0, \"ticks\": \"\"}, \"colorscale\": [[0.0, \"#0d0887\"], [0.1111111111111111, \"#46039f\"], [0.2222222222222222, \"#7201a8\"], [0.3333333333333333, \"#9c179e\"], [0.4444444444444444, \"#bd3786\"], [0.5555555555555556, \"#d8576b\"], [0.6666666666666666, \"#ed7953\"], [0.7777777777777778, \"#fb9f3a\"], [0.8888888888888888, \"#fdca26\"], [1.0, \"#f0f921\"]], \"type\": \"heatmap\"}], \"heatmapgl\": [{\"colorbar\": {\"outlinewidth\": 0, \"ticks\": \"\"}, \"colorscale\": [[0.0, \"#0d0887\"], [0.1111111111111111, \"#46039f\"], [0.2222222222222222, \"#7201a8\"], [0.3333333333333333, \"#9c179e\"], [0.4444444444444444, \"#bd3786\"], [0.5555555555555556, \"#d8576b\"], [0.6666666666666666, \"#ed7953\"], [0.7777777777777778, \"#fb9f3a\"], [0.8888888888888888, \"#fdca26\"], [1.0, \"#f0f921\"]], \"type\": \"heatmapgl\"}], \"histogram\": [{\"marker\": {\"colorbar\": {\"outlinewidth\": 0, \"ticks\": \"\"}}, \"type\": \"histogram\"}], \"histogram2d\": [{\"colorbar\": {\"outlinewidth\": 0, \"ticks\": \"\"}, \"colorscale\": [[0.0, \"#0d0887\"], [0.1111111111111111, \"#46039f\"], [0.2222222222222222, \"#7201a8\"], [0.3333333333333333, \"#9c179e\"], [0.4444444444444444, \"#bd3786\"], [0.5555555555555556, \"#d8576b\"], [0.6666666666666666, \"#ed7953\"], [0.7777777777777778, \"#fb9f3a\"], [0.8888888888888888, \"#fdca26\"], [1.0, \"#f0f921\"]], \"type\": \"histogram2d\"}], \"histogram2dcontour\": [{\"colorbar\": {\"outlinewidth\": 0, \"ticks\": \"\"}, \"colorscale\": [[0.0, \"#0d0887\"], [0.1111111111111111, \"#46039f\"], [0.2222222222222222, \"#7201a8\"], [0.3333333333333333, \"#9c179e\"], [0.4444444444444444, \"#bd3786\"], [0.5555555555555556, \"#d8576b\"], [0.6666666666666666, \"#ed7953\"], [0.7777777777777778, \"#fb9f3a\"], [0.8888888888888888, \"#fdca26\"], [1.0, \"#f0f921\"]], \"type\": \"histogram2dcontour\"}], \"mesh3d\": [{\"colorbar\": {\"outlinewidth\": 0, \"ticks\": \"\"}, \"type\": \"mesh3d\"}], \"parcoords\": [{\"line\": {\"colorbar\": {\"outlinewidth\": 0, \"ticks\": \"\"}}, \"type\": \"parcoords\"}], \"pie\": [{\"automargin\": true, \"type\": \"pie\"}], \"scatter\": [{\"marker\": {\"colorbar\": {\"outlinewidth\": 0, \"ticks\": \"\"}}, \"type\": \"scatter\"}], \"scatter3d\": [{\"line\": {\"colorbar\": {\"outlinewidth\": 0, \"ticks\": \"\"}}, \"marker\": {\"colorbar\": {\"outlinewidth\": 0, \"ticks\": \"\"}}, \"type\": \"scatter3d\"}], \"scattercarpet\": [{\"marker\": {\"colorbar\": {\"outlinewidth\": 0, \"ticks\": \"\"}}, \"type\": \"scattercarpet\"}], \"scattergeo\": [{\"marker\": {\"colorbar\": {\"outlinewidth\": 0, \"ticks\": \"\"}}, \"type\": \"scattergeo\"}], \"scattergl\": [{\"marker\": {\"colorbar\": {\"outlinewidth\": 0, \"ticks\": \"\"}}, \"type\": \"scattergl\"}], \"scattermapbox\": [{\"marker\": {\"colorbar\": {\"outlinewidth\": 0, \"ticks\": \"\"}}, \"type\": \"scattermapbox\"}], \"scatterpolar\": [{\"marker\": {\"colorbar\": {\"outlinewidth\": 0, \"ticks\": \"\"}}, \"type\": \"scatterpolar\"}], \"scatterpolargl\": [{\"marker\": {\"colorbar\": {\"outlinewidth\": 0, \"ticks\": \"\"}}, \"type\": \"scatterpolargl\"}], \"scatterternary\": [{\"marker\": {\"colorbar\": {\"outlinewidth\": 0, \"ticks\": \"\"}}, \"type\": \"scatterternary\"}], \"surface\": [{\"colorbar\": {\"outlinewidth\": 0, \"ticks\": \"\"}, \"colorscale\": [[0.0, \"#0d0887\"], [0.1111111111111111, \"#46039f\"], [0.2222222222222222, \"#7201a8\"], [0.3333333333333333, \"#9c179e\"], [0.4444444444444444, \"#bd3786\"], [0.5555555555555556, \"#d8576b\"], [0.6666666666666666, \"#ed7953\"], [0.7777777777777778, \"#fb9f3a\"], [0.8888888888888888, \"#fdca26\"], [1.0, \"#f0f921\"]], \"type\": \"surface\"}], \"table\": [{\"cells\": {\"fill\": {\"color\": \"#EBF0F8\"}, \"line\": {\"color\": \"white\"}}, \"header\": {\"fill\": {\"color\": \"#C8D4E3\"}, \"line\": {\"color\": \"white\"}}, \"type\": \"table\"}]}, \"layout\": {\"annotationdefaults\": {\"arrowcolor\": \"#2a3f5f\", \"arrowhead\": 0, \"arrowwidth\": 1}, \"coloraxis\": {\"colorbar\": {\"outlinewidth\": 0, \"ticks\": \"\"}}, \"colorscale\": {\"diverging\": [[0, \"#8e0152\"], [0.1, \"#c51b7d\"], [0.2, \"#de77ae\"], [0.3, \"#f1b6da\"], [0.4, \"#fde0ef\"], [0.5, \"#f7f7f7\"], [0.6, \"#e6f5d0\"], [0.7, \"#b8e186\"], [0.8, \"#7fbc41\"], [0.9, \"#4d9221\"], [1, \"#276419\"]], \"sequential\": [[0.0, \"#0d0887\"], [0.1111111111111111, \"#46039f\"], [0.2222222222222222, \"#7201a8\"], [0.3333333333333333, \"#9c179e\"], [0.4444444444444444, \"#bd3786\"], [0.5555555555555556, \"#d8576b\"], [0.6666666666666666, \"#ed7953\"], [0.7777777777777778, \"#fb9f3a\"], [0.8888888888888888, \"#fdca26\"], [1.0, \"#f0f921\"]], \"sequentialminus\": [[0.0, \"#0d0887\"], [0.1111111111111111, \"#46039f\"], [0.2222222222222222, \"#7201a8\"], [0.3333333333333333, \"#9c179e\"], [0.4444444444444444, \"#bd3786\"], [0.5555555555555556, \"#d8576b\"], [0.6666666666666666, \"#ed7953\"], [0.7777777777777778, \"#fb9f3a\"], [0.8888888888888888, \"#fdca26\"], [1.0, \"#f0f921\"]]}, \"colorway\": [\"#636efa\", \"#EF553B\", \"#00cc96\", \"#ab63fa\", \"#FFA15A\", \"#19d3f3\", \"#FF6692\", \"#B6E880\", \"#FF97FF\", \"#FECB52\"], \"font\": {\"color\": \"#2a3f5f\"}, \"geo\": {\"bgcolor\": \"white\", \"lakecolor\": \"white\", \"landcolor\": \"#E5ECF6\", \"showlakes\": true, \"showland\": true, \"subunitcolor\": \"white\"}, \"hoverlabel\": {\"align\": \"left\"}, \"hovermode\": \"closest\", \"mapbox\": {\"style\": \"light\"}, \"paper_bgcolor\": \"white\", \"plot_bgcolor\": \"#E5ECF6\", \"polar\": {\"angularaxis\": {\"gridcolor\": \"white\", \"linecolor\": \"white\", \"ticks\": \"\"}, \"bgcolor\": \"#E5ECF6\", \"radialaxis\": {\"gridcolor\": \"white\", \"linecolor\": \"white\", \"ticks\": \"\"}}, \"scene\": {\"xaxis\": {\"backgroundcolor\": \"#E5ECF6\", \"gridcolor\": \"white\", \"gridwidth\": 2, \"linecolor\": \"white\", \"showbackground\": true, \"ticks\": \"\", \"zerolinecolor\": \"white\"}, \"yaxis\": {\"backgroundcolor\": \"#E5ECF6\", \"gridcolor\": \"white\", \"gridwidth\": 2, \"linecolor\": \"white\", \"showbackground\": true, \"ticks\": \"\", \"zerolinecolor\": \"white\"}, \"zaxis\": {\"backgroundcolor\": \"#E5ECF6\", \"gridcolor\": \"white\", \"gridwidth\": 2, \"linecolor\": \"white\", \"showbackground\": true, \"ticks\": \"\", \"zerolinecolor\": \"white\"}}, \"shapedefaults\": {\"line\": {\"color\": \"#2a3f5f\"}}, \"ternary\": {\"aaxis\": {\"gridcolor\": \"white\", \"linecolor\": \"white\", \"ticks\": \"\"}, \"baxis\": {\"gridcolor\": \"white\", \"linecolor\": \"white\", \"ticks\": \"\"}, \"bgcolor\": \"#E5ECF6\", \"caxis\": {\"gridcolor\": \"white\", \"linecolor\": \"white\", \"ticks\": \"\"}}, \"title\": {\"x\": 0.05}, \"xaxis\": {\"automargin\": true, \"gridcolor\": \"white\", \"linecolor\": \"white\", \"ticks\": \"\", \"title\": {\"standoff\": 15}, \"zerolinecolor\": \"white\", \"zerolinewidth\": 2}, \"yaxis\": {\"automargin\": true, \"gridcolor\": \"white\", \"linecolor\": \"white\", \"ticks\": \"\", \"title\": {\"standoff\": 15}, \"zerolinecolor\": \"white\", \"zerolinewidth\": 2}}}, \"title\": {\"text\": \"Yearly average fatal police shooting per 1m by State\"}},                        {\"responsive\": true}                    ).then(function(){\n",
       "                            \n",
       "var gd = document.getElementById('1214c24f-3b7b-4d06-b4e4-e90f74f6b6cd');\n",
       "var x = new MutationObserver(function (mutations, observer) {{\n",
       "        var display = window.getComputedStyle(gd).display;\n",
       "        if (!display || display === 'none') {{\n",
       "            console.log([gd, 'removed!']);\n",
       "            Plotly.purge(gd);\n",
       "            observer.disconnect();\n",
       "        }}\n",
       "}});\n",
       "\n",
       "// Listen for the removal of the full notebook cells\n",
       "var notebookContainer = gd.closest('#notebook-container');\n",
       "if (notebookContainer) {{\n",
       "    x.observe(notebookContainer, {childList: true});\n",
       "}}\n",
       "\n",
       "// Listen for the clearing of the current output cell\n",
       "var outputEl = gd.closest('.output');\n",
       "if (outputEl) {{\n",
       "    x.observe(outputEl, {childList: true});\n",
       "}}\n",
       "\n",
       "                        })                };                });            </script>        </div>"
      ]
     },
     "metadata": {},
     "output_type": "display_data"
    }
   ],
   "source": [
    "#Display polices shooting rate on map\n",
    "import plotly.graph_objects as go\n",
    "\n",
    "import pandas as pd\n",
    "df = pd.read_excel('state1.xlsx')\n",
    "\n",
    "fig = go.Figure(data=go.Choropleth(\n",
    "    locations=df['state'], # Spatial coordinates\n",
    "    z = df['police shooting per 1m'].astype(float), # Data to be color-coded\n",
    "    locationmode = 'USA-states', # set of locations match entries in `locations`\n",
    "    colorscale = 'Reds',\n",
    "    colorbar_title = \"police shooting per 1m\",\n",
    "))\n",
    "\n",
    "fig.update_layout(\n",
    "    title_text = 'Yearly average fatal police shooting per 1m by State',\n",
    "    geo_scope='usa', # limite map scope to USA\n",
    ")\n",
    "\n",
    "fig.show()"
   ]
  },
  {
   "cell_type": "code",
   "execution_count": 35,
   "metadata": {},
   "outputs": [
    {
     "data": {
      "application/vnd.plotly.v1+json": {
       "config": {
        "plotlyServerURL": "https://plot.ly"
       },
       "data": [
        {
         "colorbar": {
          "title": {
           "text": "Average police shooting by year"
          }
         },
         "colorscale": [
          [
           0,
           "rgb(255,245,240)"
          ],
          [
           0.125,
           "rgb(254,224,210)"
          ],
          [
           0.25,
           "rgb(252,187,161)"
          ],
          [
           0.375,
           "rgb(252,146,114)"
          ],
          [
           0.5,
           "rgb(251,106,74)"
          ],
          [
           0.625,
           "rgb(239,59,44)"
          ],
          [
           0.75,
           "rgb(203,24,29)"
          ],
          [
           0.875,
           "rgb(165,15,21)"
          ],
          [
           1,
           "rgb(103,0,13)"
          ]
         ],
         "locationmode": "USA-states",
         "locations": [
          "AK",
          "AL",
          "AR",
          "AZ",
          "CA",
          "CO",
          "CT",
          "DC",
          "DE",
          "FL",
          "GA",
          "HI",
          "IA",
          "ID",
          "IL",
          "IN",
          "KS",
          "KY",
          "LA",
          "MA",
          "MD",
          "ME",
          "MI",
          "MN",
          "MO",
          "MS",
          "MT",
          "NC",
          "ND",
          "NE",
          "NH",
          "NJ",
          "NM",
          "NV",
          "NY",
          "OH",
          "OK",
          "OR",
          "PA",
          "RI",
          "SC",
          "SD",
          "TN",
          "TX",
          "UT",
          "VA",
          "VT",
          "WA",
          "WI",
          "WV",
          "WY"
         ],
         "type": "choropleth",
         "z": [
          6.833333333333333,
          17.5,
          14,
          45,
          143.83333333333334,
          34.833333333333336,
          3.5,
          2.3333333333333335,
          2.6,
          65.16666666666667,
          33,
          5,
          5.833333333333333,
          7.166666666666667,
          18.666666666666668,
          17.666666666666668,
          8.666666666666666,
          17.666666666666668,
          19.666666666666668,
          6.166666666666667,
          14,
          3.6666666666666665,
          14.5,
          10.666666666666666,
          24.5,
          11.666666666666666,
          6,
          28,
          2.4,
          5.2,
          2.3333333333333335,
          11.833333333333334,
          19,
          17.666666666666668,
          17.666666666666668,
          27,
          29.333333333333332,
          14.666666666666666,
          19.333333333333332,
          1.3333333333333333,
          15.166666666666666,
          3,
          25.666666666666668,
          85.66666666666667,
          12,
          16.666666666666668,
          1.8,
          28,
          16.5,
          9.5,
          2.5
         ]
        }
       ],
       "layout": {
        "geo": {
         "scope": "usa"
        },
        "template": {
         "data": {
          "bar": [
           {
            "error_x": {
             "color": "#2a3f5f"
            },
            "error_y": {
             "color": "#2a3f5f"
            },
            "marker": {
             "line": {
              "color": "#E5ECF6",
              "width": 0.5
             }
            },
            "type": "bar"
           }
          ],
          "barpolar": [
           {
            "marker": {
             "line": {
              "color": "#E5ECF6",
              "width": 0.5
             }
            },
            "type": "barpolar"
           }
          ],
          "carpet": [
           {
            "aaxis": {
             "endlinecolor": "#2a3f5f",
             "gridcolor": "white",
             "linecolor": "white",
             "minorgridcolor": "white",
             "startlinecolor": "#2a3f5f"
            },
            "baxis": {
             "endlinecolor": "#2a3f5f",
             "gridcolor": "white",
             "linecolor": "white",
             "minorgridcolor": "white",
             "startlinecolor": "#2a3f5f"
            },
            "type": "carpet"
           }
          ],
          "choropleth": [
           {
            "colorbar": {
             "outlinewidth": 0,
             "ticks": ""
            },
            "type": "choropleth"
           }
          ],
          "contour": [
           {
            "colorbar": {
             "outlinewidth": 0,
             "ticks": ""
            },
            "colorscale": [
             [
              0,
              "#0d0887"
             ],
             [
              0.1111111111111111,
              "#46039f"
             ],
             [
              0.2222222222222222,
              "#7201a8"
             ],
             [
              0.3333333333333333,
              "#9c179e"
             ],
             [
              0.4444444444444444,
              "#bd3786"
             ],
             [
              0.5555555555555556,
              "#d8576b"
             ],
             [
              0.6666666666666666,
              "#ed7953"
             ],
             [
              0.7777777777777778,
              "#fb9f3a"
             ],
             [
              0.8888888888888888,
              "#fdca26"
             ],
             [
              1,
              "#f0f921"
             ]
            ],
            "type": "contour"
           }
          ],
          "contourcarpet": [
           {
            "colorbar": {
             "outlinewidth": 0,
             "ticks": ""
            },
            "type": "contourcarpet"
           }
          ],
          "heatmap": [
           {
            "colorbar": {
             "outlinewidth": 0,
             "ticks": ""
            },
            "colorscale": [
             [
              0,
              "#0d0887"
             ],
             [
              0.1111111111111111,
              "#46039f"
             ],
             [
              0.2222222222222222,
              "#7201a8"
             ],
             [
              0.3333333333333333,
              "#9c179e"
             ],
             [
              0.4444444444444444,
              "#bd3786"
             ],
             [
              0.5555555555555556,
              "#d8576b"
             ],
             [
              0.6666666666666666,
              "#ed7953"
             ],
             [
              0.7777777777777778,
              "#fb9f3a"
             ],
             [
              0.8888888888888888,
              "#fdca26"
             ],
             [
              1,
              "#f0f921"
             ]
            ],
            "type": "heatmap"
           }
          ],
          "heatmapgl": [
           {
            "colorbar": {
             "outlinewidth": 0,
             "ticks": ""
            },
            "colorscale": [
             [
              0,
              "#0d0887"
             ],
             [
              0.1111111111111111,
              "#46039f"
             ],
             [
              0.2222222222222222,
              "#7201a8"
             ],
             [
              0.3333333333333333,
              "#9c179e"
             ],
             [
              0.4444444444444444,
              "#bd3786"
             ],
             [
              0.5555555555555556,
              "#d8576b"
             ],
             [
              0.6666666666666666,
              "#ed7953"
             ],
             [
              0.7777777777777778,
              "#fb9f3a"
             ],
             [
              0.8888888888888888,
              "#fdca26"
             ],
             [
              1,
              "#f0f921"
             ]
            ],
            "type": "heatmapgl"
           }
          ],
          "histogram": [
           {
            "marker": {
             "colorbar": {
              "outlinewidth": 0,
              "ticks": ""
             }
            },
            "type": "histogram"
           }
          ],
          "histogram2d": [
           {
            "colorbar": {
             "outlinewidth": 0,
             "ticks": ""
            },
            "colorscale": [
             [
              0,
              "#0d0887"
             ],
             [
              0.1111111111111111,
              "#46039f"
             ],
             [
              0.2222222222222222,
              "#7201a8"
             ],
             [
              0.3333333333333333,
              "#9c179e"
             ],
             [
              0.4444444444444444,
              "#bd3786"
             ],
             [
              0.5555555555555556,
              "#d8576b"
             ],
             [
              0.6666666666666666,
              "#ed7953"
             ],
             [
              0.7777777777777778,
              "#fb9f3a"
             ],
             [
              0.8888888888888888,
              "#fdca26"
             ],
             [
              1,
              "#f0f921"
             ]
            ],
            "type": "histogram2d"
           }
          ],
          "histogram2dcontour": [
           {
            "colorbar": {
             "outlinewidth": 0,
             "ticks": ""
            },
            "colorscale": [
             [
              0,
              "#0d0887"
             ],
             [
              0.1111111111111111,
              "#46039f"
             ],
             [
              0.2222222222222222,
              "#7201a8"
             ],
             [
              0.3333333333333333,
              "#9c179e"
             ],
             [
              0.4444444444444444,
              "#bd3786"
             ],
             [
              0.5555555555555556,
              "#d8576b"
             ],
             [
              0.6666666666666666,
              "#ed7953"
             ],
             [
              0.7777777777777778,
              "#fb9f3a"
             ],
             [
              0.8888888888888888,
              "#fdca26"
             ],
             [
              1,
              "#f0f921"
             ]
            ],
            "type": "histogram2dcontour"
           }
          ],
          "mesh3d": [
           {
            "colorbar": {
             "outlinewidth": 0,
             "ticks": ""
            },
            "type": "mesh3d"
           }
          ],
          "parcoords": [
           {
            "line": {
             "colorbar": {
              "outlinewidth": 0,
              "ticks": ""
             }
            },
            "type": "parcoords"
           }
          ],
          "pie": [
           {
            "automargin": true,
            "type": "pie"
           }
          ],
          "scatter": [
           {
            "marker": {
             "colorbar": {
              "outlinewidth": 0,
              "ticks": ""
             }
            },
            "type": "scatter"
           }
          ],
          "scatter3d": [
           {
            "line": {
             "colorbar": {
              "outlinewidth": 0,
              "ticks": ""
             }
            },
            "marker": {
             "colorbar": {
              "outlinewidth": 0,
              "ticks": ""
             }
            },
            "type": "scatter3d"
           }
          ],
          "scattercarpet": [
           {
            "marker": {
             "colorbar": {
              "outlinewidth": 0,
              "ticks": ""
             }
            },
            "type": "scattercarpet"
           }
          ],
          "scattergeo": [
           {
            "marker": {
             "colorbar": {
              "outlinewidth": 0,
              "ticks": ""
             }
            },
            "type": "scattergeo"
           }
          ],
          "scattergl": [
           {
            "marker": {
             "colorbar": {
              "outlinewidth": 0,
              "ticks": ""
             }
            },
            "type": "scattergl"
           }
          ],
          "scattermapbox": [
           {
            "marker": {
             "colorbar": {
              "outlinewidth": 0,
              "ticks": ""
             }
            },
            "type": "scattermapbox"
           }
          ],
          "scatterpolar": [
           {
            "marker": {
             "colorbar": {
              "outlinewidth": 0,
              "ticks": ""
             }
            },
            "type": "scatterpolar"
           }
          ],
          "scatterpolargl": [
           {
            "marker": {
             "colorbar": {
              "outlinewidth": 0,
              "ticks": ""
             }
            },
            "type": "scatterpolargl"
           }
          ],
          "scatterternary": [
           {
            "marker": {
             "colorbar": {
              "outlinewidth": 0,
              "ticks": ""
             }
            },
            "type": "scatterternary"
           }
          ],
          "surface": [
           {
            "colorbar": {
             "outlinewidth": 0,
             "ticks": ""
            },
            "colorscale": [
             [
              0,
              "#0d0887"
             ],
             [
              0.1111111111111111,
              "#46039f"
             ],
             [
              0.2222222222222222,
              "#7201a8"
             ],
             [
              0.3333333333333333,
              "#9c179e"
             ],
             [
              0.4444444444444444,
              "#bd3786"
             ],
             [
              0.5555555555555556,
              "#d8576b"
             ],
             [
              0.6666666666666666,
              "#ed7953"
             ],
             [
              0.7777777777777778,
              "#fb9f3a"
             ],
             [
              0.8888888888888888,
              "#fdca26"
             ],
             [
              1,
              "#f0f921"
             ]
            ],
            "type": "surface"
           }
          ],
          "table": [
           {
            "cells": {
             "fill": {
              "color": "#EBF0F8"
             },
             "line": {
              "color": "white"
             }
            },
            "header": {
             "fill": {
              "color": "#C8D4E3"
             },
             "line": {
              "color": "white"
             }
            },
            "type": "table"
           }
          ]
         },
         "layout": {
          "annotationdefaults": {
           "arrowcolor": "#2a3f5f",
           "arrowhead": 0,
           "arrowwidth": 1
          },
          "coloraxis": {
           "colorbar": {
            "outlinewidth": 0,
            "ticks": ""
           }
          },
          "colorscale": {
           "diverging": [
            [
             0,
             "#8e0152"
            ],
            [
             0.1,
             "#c51b7d"
            ],
            [
             0.2,
             "#de77ae"
            ],
            [
             0.3,
             "#f1b6da"
            ],
            [
             0.4,
             "#fde0ef"
            ],
            [
             0.5,
             "#f7f7f7"
            ],
            [
             0.6,
             "#e6f5d0"
            ],
            [
             0.7,
             "#b8e186"
            ],
            [
             0.8,
             "#7fbc41"
            ],
            [
             0.9,
             "#4d9221"
            ],
            [
             1,
             "#276419"
            ]
           ],
           "sequential": [
            [
             0,
             "#0d0887"
            ],
            [
             0.1111111111111111,
             "#46039f"
            ],
            [
             0.2222222222222222,
             "#7201a8"
            ],
            [
             0.3333333333333333,
             "#9c179e"
            ],
            [
             0.4444444444444444,
             "#bd3786"
            ],
            [
             0.5555555555555556,
             "#d8576b"
            ],
            [
             0.6666666666666666,
             "#ed7953"
            ],
            [
             0.7777777777777778,
             "#fb9f3a"
            ],
            [
             0.8888888888888888,
             "#fdca26"
            ],
            [
             1,
             "#f0f921"
            ]
           ],
           "sequentialminus": [
            [
             0,
             "#0d0887"
            ],
            [
             0.1111111111111111,
             "#46039f"
            ],
            [
             0.2222222222222222,
             "#7201a8"
            ],
            [
             0.3333333333333333,
             "#9c179e"
            ],
            [
             0.4444444444444444,
             "#bd3786"
            ],
            [
             0.5555555555555556,
             "#d8576b"
            ],
            [
             0.6666666666666666,
             "#ed7953"
            ],
            [
             0.7777777777777778,
             "#fb9f3a"
            ],
            [
             0.8888888888888888,
             "#fdca26"
            ],
            [
             1,
             "#f0f921"
            ]
           ]
          },
          "colorway": [
           "#636efa",
           "#EF553B",
           "#00cc96",
           "#ab63fa",
           "#FFA15A",
           "#19d3f3",
           "#FF6692",
           "#B6E880",
           "#FF97FF",
           "#FECB52"
          ],
          "font": {
           "color": "#2a3f5f"
          },
          "geo": {
           "bgcolor": "white",
           "lakecolor": "white",
           "landcolor": "#E5ECF6",
           "showlakes": true,
           "showland": true,
           "subunitcolor": "white"
          },
          "hoverlabel": {
           "align": "left"
          },
          "hovermode": "closest",
          "mapbox": {
           "style": "light"
          },
          "paper_bgcolor": "white",
          "plot_bgcolor": "#E5ECF6",
          "polar": {
           "angularaxis": {
            "gridcolor": "white",
            "linecolor": "white",
            "ticks": ""
           },
           "bgcolor": "#E5ECF6",
           "radialaxis": {
            "gridcolor": "white",
            "linecolor": "white",
            "ticks": ""
           }
          },
          "scene": {
           "xaxis": {
            "backgroundcolor": "#E5ECF6",
            "gridcolor": "white",
            "gridwidth": 2,
            "linecolor": "white",
            "showbackground": true,
            "ticks": "",
            "zerolinecolor": "white"
           },
           "yaxis": {
            "backgroundcolor": "#E5ECF6",
            "gridcolor": "white",
            "gridwidth": 2,
            "linecolor": "white",
            "showbackground": true,
            "ticks": "",
            "zerolinecolor": "white"
           },
           "zaxis": {
            "backgroundcolor": "#E5ECF6",
            "gridcolor": "white",
            "gridwidth": 2,
            "linecolor": "white",
            "showbackground": true,
            "ticks": "",
            "zerolinecolor": "white"
           }
          },
          "shapedefaults": {
           "line": {
            "color": "#2a3f5f"
           }
          },
          "ternary": {
           "aaxis": {
            "gridcolor": "white",
            "linecolor": "white",
            "ticks": ""
           },
           "baxis": {
            "gridcolor": "white",
            "linecolor": "white",
            "ticks": ""
           },
           "bgcolor": "#E5ECF6",
           "caxis": {
            "gridcolor": "white",
            "linecolor": "white",
            "ticks": ""
           }
          },
          "title": {
           "x": 0.05
          },
          "xaxis": {
           "automargin": true,
           "gridcolor": "white",
           "linecolor": "white",
           "ticks": "",
           "title": {
            "standoff": 15
           },
           "zerolinecolor": "white",
           "zerolinewidth": 2
          },
          "yaxis": {
           "automargin": true,
           "gridcolor": "white",
           "linecolor": "white",
           "ticks": "",
           "title": {
            "standoff": 15
           },
           "zerolinecolor": "white",
           "zerolinewidth": 2
          }
         }
        },
        "title": {
         "text": "Yearly average fatal police shooting by state"
        }
       }
      },
      "text/html": [
       "<div>                            <div id=\"e5dd798d-082b-457f-af23-b1aa8aea4ea1\" class=\"plotly-graph-div\" style=\"height:525px; width:100%;\"></div>            <script type=\"text/javascript\">                require([\"plotly\"], function(Plotly) {                    window.PLOTLYENV=window.PLOTLYENV || {};                                    if (document.getElementById(\"e5dd798d-082b-457f-af23-b1aa8aea4ea1\")) {                    Plotly.newPlot(                        \"e5dd798d-082b-457f-af23-b1aa8aea4ea1\",                        [{\"colorbar\": {\"title\": {\"text\": \"Average police shooting by year\"}}, \"colorscale\": [[0.0, \"rgb(255,245,240)\"], [0.125, \"rgb(254,224,210)\"], [0.25, \"rgb(252,187,161)\"], [0.375, \"rgb(252,146,114)\"], [0.5, \"rgb(251,106,74)\"], [0.625, \"rgb(239,59,44)\"], [0.75, \"rgb(203,24,29)\"], [0.875, \"rgb(165,15,21)\"], [1.0, \"rgb(103,0,13)\"]], \"locationmode\": \"USA-states\", \"locations\": [\"AK\", \"AL\", \"AR\", \"AZ\", \"CA\", \"CO\", \"CT\", \"DC\", \"DE\", \"FL\", \"GA\", \"HI\", \"IA\", \"ID\", \"IL\", \"IN\", \"KS\", \"KY\", \"LA\", \"MA\", \"MD\", \"ME\", \"MI\", \"MN\", \"MO\", \"MS\", \"MT\", \"NC\", \"ND\", \"NE\", \"NH\", \"NJ\", \"NM\", \"NV\", \"NY\", \"OH\", \"OK\", \"OR\", \"PA\", \"RI\", \"SC\", \"SD\", \"TN\", \"TX\", \"UT\", \"VA\", \"VT\", \"WA\", \"WI\", \"WV\", \"WY\"], \"type\": \"choropleth\", \"z\": [6.833333333333333, 17.5, 14.0, 45.0, 143.83333333333334, 34.833333333333336, 3.5, 2.3333333333333335, 2.6, 65.16666666666667, 33.0, 5.0, 5.833333333333333, 7.166666666666667, 18.666666666666668, 17.666666666666668, 8.666666666666666, 17.666666666666668, 19.666666666666668, 6.166666666666667, 14.0, 3.6666666666666665, 14.5, 10.666666666666666, 24.5, 11.666666666666666, 6.0, 28.0, 2.4, 5.2, 2.3333333333333335, 11.833333333333334, 19.0, 17.666666666666668, 17.666666666666668, 27.0, 29.333333333333332, 14.666666666666666, 19.333333333333332, 1.3333333333333333, 15.166666666666666, 3.0, 25.666666666666668, 85.66666666666667, 12.0, 16.666666666666668, 1.8, 28.0, 16.5, 9.5, 2.5]}],                        {\"geo\": {\"scope\": \"usa\"}, \"template\": {\"data\": {\"bar\": [{\"error_x\": {\"color\": \"#2a3f5f\"}, \"error_y\": {\"color\": \"#2a3f5f\"}, \"marker\": {\"line\": {\"color\": \"#E5ECF6\", \"width\": 0.5}}, \"type\": \"bar\"}], \"barpolar\": [{\"marker\": {\"line\": {\"color\": \"#E5ECF6\", \"width\": 0.5}}, \"type\": \"barpolar\"}], \"carpet\": [{\"aaxis\": {\"endlinecolor\": \"#2a3f5f\", \"gridcolor\": \"white\", \"linecolor\": \"white\", \"minorgridcolor\": \"white\", \"startlinecolor\": \"#2a3f5f\"}, \"baxis\": {\"endlinecolor\": \"#2a3f5f\", \"gridcolor\": \"white\", \"linecolor\": \"white\", \"minorgridcolor\": \"white\", \"startlinecolor\": \"#2a3f5f\"}, \"type\": \"carpet\"}], \"choropleth\": [{\"colorbar\": {\"outlinewidth\": 0, \"ticks\": \"\"}, \"type\": \"choropleth\"}], \"contour\": [{\"colorbar\": {\"outlinewidth\": 0, \"ticks\": \"\"}, \"colorscale\": [[0.0, \"#0d0887\"], [0.1111111111111111, \"#46039f\"], [0.2222222222222222, \"#7201a8\"], [0.3333333333333333, \"#9c179e\"], [0.4444444444444444, \"#bd3786\"], [0.5555555555555556, \"#d8576b\"], [0.6666666666666666, \"#ed7953\"], [0.7777777777777778, \"#fb9f3a\"], [0.8888888888888888, \"#fdca26\"], [1.0, \"#f0f921\"]], \"type\": \"contour\"}], \"contourcarpet\": [{\"colorbar\": {\"outlinewidth\": 0, \"ticks\": \"\"}, \"type\": \"contourcarpet\"}], \"heatmap\": [{\"colorbar\": {\"outlinewidth\": 0, \"ticks\": \"\"}, \"colorscale\": [[0.0, \"#0d0887\"], [0.1111111111111111, \"#46039f\"], [0.2222222222222222, \"#7201a8\"], [0.3333333333333333, \"#9c179e\"], [0.4444444444444444, \"#bd3786\"], [0.5555555555555556, \"#d8576b\"], [0.6666666666666666, \"#ed7953\"], [0.7777777777777778, \"#fb9f3a\"], [0.8888888888888888, \"#fdca26\"], [1.0, \"#f0f921\"]], \"type\": \"heatmap\"}], \"heatmapgl\": [{\"colorbar\": {\"outlinewidth\": 0, \"ticks\": \"\"}, \"colorscale\": [[0.0, \"#0d0887\"], [0.1111111111111111, \"#46039f\"], [0.2222222222222222, \"#7201a8\"], [0.3333333333333333, \"#9c179e\"], [0.4444444444444444, \"#bd3786\"], [0.5555555555555556, \"#d8576b\"], [0.6666666666666666, \"#ed7953\"], [0.7777777777777778, \"#fb9f3a\"], [0.8888888888888888, \"#fdca26\"], [1.0, \"#f0f921\"]], \"type\": \"heatmapgl\"}], \"histogram\": [{\"marker\": {\"colorbar\": {\"outlinewidth\": 0, \"ticks\": \"\"}}, \"type\": \"histogram\"}], \"histogram2d\": [{\"colorbar\": {\"outlinewidth\": 0, \"ticks\": \"\"}, \"colorscale\": [[0.0, \"#0d0887\"], [0.1111111111111111, \"#46039f\"], [0.2222222222222222, \"#7201a8\"], [0.3333333333333333, \"#9c179e\"], [0.4444444444444444, \"#bd3786\"], [0.5555555555555556, \"#d8576b\"], [0.6666666666666666, \"#ed7953\"], [0.7777777777777778, \"#fb9f3a\"], [0.8888888888888888, \"#fdca26\"], [1.0, \"#f0f921\"]], \"type\": \"histogram2d\"}], \"histogram2dcontour\": [{\"colorbar\": {\"outlinewidth\": 0, \"ticks\": \"\"}, \"colorscale\": [[0.0, \"#0d0887\"], [0.1111111111111111, \"#46039f\"], [0.2222222222222222, \"#7201a8\"], [0.3333333333333333, \"#9c179e\"], [0.4444444444444444, \"#bd3786\"], [0.5555555555555556, \"#d8576b\"], [0.6666666666666666, \"#ed7953\"], [0.7777777777777778, \"#fb9f3a\"], [0.8888888888888888, \"#fdca26\"], [1.0, \"#f0f921\"]], \"type\": \"histogram2dcontour\"}], \"mesh3d\": [{\"colorbar\": {\"outlinewidth\": 0, \"ticks\": \"\"}, \"type\": \"mesh3d\"}], \"parcoords\": [{\"line\": {\"colorbar\": {\"outlinewidth\": 0, \"ticks\": \"\"}}, \"type\": \"parcoords\"}], \"pie\": [{\"automargin\": true, \"type\": \"pie\"}], \"scatter\": [{\"marker\": {\"colorbar\": {\"outlinewidth\": 0, \"ticks\": \"\"}}, \"type\": \"scatter\"}], \"scatter3d\": [{\"line\": {\"colorbar\": {\"outlinewidth\": 0, \"ticks\": \"\"}}, \"marker\": {\"colorbar\": {\"outlinewidth\": 0, \"ticks\": \"\"}}, \"type\": \"scatter3d\"}], \"scattercarpet\": [{\"marker\": {\"colorbar\": {\"outlinewidth\": 0, \"ticks\": \"\"}}, \"type\": \"scattercarpet\"}], \"scattergeo\": [{\"marker\": {\"colorbar\": {\"outlinewidth\": 0, \"ticks\": \"\"}}, \"type\": \"scattergeo\"}], \"scattergl\": [{\"marker\": {\"colorbar\": {\"outlinewidth\": 0, \"ticks\": \"\"}}, \"type\": \"scattergl\"}], \"scattermapbox\": [{\"marker\": {\"colorbar\": {\"outlinewidth\": 0, \"ticks\": \"\"}}, \"type\": \"scattermapbox\"}], \"scatterpolar\": [{\"marker\": {\"colorbar\": {\"outlinewidth\": 0, \"ticks\": \"\"}}, \"type\": \"scatterpolar\"}], \"scatterpolargl\": [{\"marker\": {\"colorbar\": {\"outlinewidth\": 0, \"ticks\": \"\"}}, \"type\": \"scatterpolargl\"}], \"scatterternary\": [{\"marker\": {\"colorbar\": {\"outlinewidth\": 0, \"ticks\": \"\"}}, \"type\": \"scatterternary\"}], \"surface\": [{\"colorbar\": {\"outlinewidth\": 0, \"ticks\": \"\"}, \"colorscale\": [[0.0, \"#0d0887\"], [0.1111111111111111, \"#46039f\"], [0.2222222222222222, \"#7201a8\"], [0.3333333333333333, \"#9c179e\"], [0.4444444444444444, \"#bd3786\"], [0.5555555555555556, \"#d8576b\"], [0.6666666666666666, \"#ed7953\"], [0.7777777777777778, \"#fb9f3a\"], [0.8888888888888888, \"#fdca26\"], [1.0, \"#f0f921\"]], \"type\": \"surface\"}], \"table\": [{\"cells\": {\"fill\": {\"color\": \"#EBF0F8\"}, \"line\": {\"color\": \"white\"}}, \"header\": {\"fill\": {\"color\": \"#C8D4E3\"}, \"line\": {\"color\": \"white\"}}, \"type\": \"table\"}]}, \"layout\": {\"annotationdefaults\": {\"arrowcolor\": \"#2a3f5f\", \"arrowhead\": 0, \"arrowwidth\": 1}, \"coloraxis\": {\"colorbar\": {\"outlinewidth\": 0, \"ticks\": \"\"}}, \"colorscale\": {\"diverging\": [[0, \"#8e0152\"], [0.1, \"#c51b7d\"], [0.2, \"#de77ae\"], [0.3, \"#f1b6da\"], [0.4, \"#fde0ef\"], [0.5, \"#f7f7f7\"], [0.6, \"#e6f5d0\"], [0.7, \"#b8e186\"], [0.8, \"#7fbc41\"], [0.9, \"#4d9221\"], [1, \"#276419\"]], \"sequential\": [[0.0, \"#0d0887\"], [0.1111111111111111, \"#46039f\"], [0.2222222222222222, \"#7201a8\"], [0.3333333333333333, \"#9c179e\"], [0.4444444444444444, \"#bd3786\"], [0.5555555555555556, \"#d8576b\"], [0.6666666666666666, \"#ed7953\"], [0.7777777777777778, \"#fb9f3a\"], [0.8888888888888888, \"#fdca26\"], [1.0, \"#f0f921\"]], \"sequentialminus\": [[0.0, \"#0d0887\"], [0.1111111111111111, \"#46039f\"], [0.2222222222222222, \"#7201a8\"], [0.3333333333333333, \"#9c179e\"], [0.4444444444444444, \"#bd3786\"], [0.5555555555555556, \"#d8576b\"], [0.6666666666666666, \"#ed7953\"], [0.7777777777777778, \"#fb9f3a\"], [0.8888888888888888, \"#fdca26\"], [1.0, \"#f0f921\"]]}, \"colorway\": [\"#636efa\", \"#EF553B\", \"#00cc96\", \"#ab63fa\", \"#FFA15A\", \"#19d3f3\", \"#FF6692\", \"#B6E880\", \"#FF97FF\", \"#FECB52\"], \"font\": {\"color\": \"#2a3f5f\"}, \"geo\": {\"bgcolor\": \"white\", \"lakecolor\": \"white\", \"landcolor\": \"#E5ECF6\", \"showlakes\": true, \"showland\": true, \"subunitcolor\": \"white\"}, \"hoverlabel\": {\"align\": \"left\"}, \"hovermode\": \"closest\", \"mapbox\": {\"style\": \"light\"}, \"paper_bgcolor\": \"white\", \"plot_bgcolor\": \"#E5ECF6\", \"polar\": {\"angularaxis\": {\"gridcolor\": \"white\", \"linecolor\": \"white\", \"ticks\": \"\"}, \"bgcolor\": \"#E5ECF6\", \"radialaxis\": {\"gridcolor\": \"white\", \"linecolor\": \"white\", \"ticks\": \"\"}}, \"scene\": {\"xaxis\": {\"backgroundcolor\": \"#E5ECF6\", \"gridcolor\": \"white\", \"gridwidth\": 2, \"linecolor\": \"white\", \"showbackground\": true, \"ticks\": \"\", \"zerolinecolor\": \"white\"}, \"yaxis\": {\"backgroundcolor\": \"#E5ECF6\", \"gridcolor\": \"white\", \"gridwidth\": 2, \"linecolor\": \"white\", \"showbackground\": true, \"ticks\": \"\", \"zerolinecolor\": \"white\"}, \"zaxis\": {\"backgroundcolor\": \"#E5ECF6\", \"gridcolor\": \"white\", \"gridwidth\": 2, \"linecolor\": \"white\", \"showbackground\": true, \"ticks\": \"\", \"zerolinecolor\": \"white\"}}, \"shapedefaults\": {\"line\": {\"color\": \"#2a3f5f\"}}, \"ternary\": {\"aaxis\": {\"gridcolor\": \"white\", \"linecolor\": \"white\", \"ticks\": \"\"}, \"baxis\": {\"gridcolor\": \"white\", \"linecolor\": \"white\", \"ticks\": \"\"}, \"bgcolor\": \"#E5ECF6\", \"caxis\": {\"gridcolor\": \"white\", \"linecolor\": \"white\", \"ticks\": \"\"}}, \"title\": {\"x\": 0.05}, \"xaxis\": {\"automargin\": true, \"gridcolor\": \"white\", \"linecolor\": \"white\", \"ticks\": \"\", \"title\": {\"standoff\": 15}, \"zerolinecolor\": \"white\", \"zerolinewidth\": 2}, \"yaxis\": {\"automargin\": true, \"gridcolor\": \"white\", \"linecolor\": \"white\", \"ticks\": \"\", \"title\": {\"standoff\": 15}, \"zerolinecolor\": \"white\", \"zerolinewidth\": 2}}}, \"title\": {\"text\": \"Yearly average fatal police shooting by state\"}},                        {\"responsive\": true}                    ).then(function(){\n",
       "                            \n",
       "var gd = document.getElementById('e5dd798d-082b-457f-af23-b1aa8aea4ea1');\n",
       "var x = new MutationObserver(function (mutations, observer) {{\n",
       "        var display = window.getComputedStyle(gd).display;\n",
       "        if (!display || display === 'none') {{\n",
       "            console.log([gd, 'removed!']);\n",
       "            Plotly.purge(gd);\n",
       "            observer.disconnect();\n",
       "        }}\n",
       "}});\n",
       "\n",
       "// Listen for the removal of the full notebook cells\n",
       "var notebookContainer = gd.closest('#notebook-container');\n",
       "if (notebookContainer) {{\n",
       "    x.observe(notebookContainer, {childList: true});\n",
       "}}\n",
       "\n",
       "// Listen for the clearing of the current output cell\n",
       "var outputEl = gd.closest('.output');\n",
       "if (outputEl) {{\n",
       "    x.observe(outputEl, {childList: true});\n",
       "}}\n",
       "\n",
       "                        })                };                });            </script>        </div>"
      ]
     },
     "metadata": {},
     "output_type": "display_data"
    }
   ],
   "source": [
    "#Display polices shooting number on map\n",
    "df = pd.read_excel('state1.xlsx')\n",
    "\n",
    "fig = go.Figure(data=go.Choropleth(\n",
    "    locations=df['state'], # Spatial coordinates\n",
    "    z = df['average police shooting by year'].astype(float), # Data to be color-coded\n",
    "    locationmode = 'USA-states', # set of locations match entries in `locations`\n",
    "    colorscale = 'Reds',\n",
    "    colorbar_title = \"Average police shooting by year\",\n",
    "))\n",
    "\n",
    "fig.update_layout(\n",
    "    title_text = 'Yearly average fatal police shooting by state',\n",
    "    geo_scope='usa', # limite map scope to USA\n",
    ")\n",
    "\n",
    "fig.show()"
   ]
  },
  {
   "cell_type": "code",
   "execution_count": 37,
   "metadata": {},
   "outputs": [
    {
     "data": {
      "application/vnd.plotly.v1+json": {
       "config": {
        "plotlyServerURL": "https://plot.ly"
       },
       "data": [
        {
         "colorbar": {
          "title": {
           "text": "Gun Ownership rate"
          }
         },
         "colorscale": [
          [
           0,
           "rgb(247,251,255)"
          ],
          [
           0.125,
           "rgb(222,235,247)"
          ],
          [
           0.25,
           "rgb(198,219,239)"
          ],
          [
           0.375,
           "rgb(158,202,225)"
          ],
          [
           0.5,
           "rgb(107,174,214)"
          ],
          [
           0.625,
           "rgb(66,146,198)"
          ],
          [
           0.75,
           "rgb(33,113,181)"
          ],
          [
           0.875,
           "rgb(8,81,156)"
          ],
          [
           1,
           "rgb(8,48,107)"
          ]
         ],
         "locationmode": "USA-states",
         "locations": [
          "AK",
          "NM",
          "OK",
          "AZ",
          "CO",
          "NV",
          "MT",
          "WV",
          "AR",
          "LA",
          "ID",
          "WY",
          "UT",
          "KY",
          "MS",
          "MO",
          "DC",
          "HI",
          "AL",
          "TN",
          "OR",
          "CA",
          "WA",
          "KS",
          "GA",
          "SC",
          "FL",
          "SD",
          "TX",
          "WI",
          "ND",
          "ME",
          "NC",
          "IN",
          "MD",
          "NE",
          "OH",
          "VT",
          "MN",
          "VA",
          "IA",
          "DE",
          "NH",
          "IL",
          "PA",
          "MI",
          "NJ",
          "CT",
          "MA",
          "NY",
          "RI"
         ],
         "type": "choropleth",
         "z": [
          0.617,
          0.499,
          0.312,
          0.323,
          0.343,
          0.375,
          0.523,
          0.542,
          0.579,
          0.445,
          0.569,
          0.538,
          0.319,
          0.424,
          0.428,
          0.271,
          null,
          0.451,
          0.489,
          0.394,
          0.266,
          0.201,
          0.277,
          0.322,
          0.316,
          0.444,
          0.325,
          0.35,
          0.357,
          0.347,
          0.479,
          0.226,
          0.287,
          0.338,
          0.207,
          0.198,
          0.196,
          0.288,
          0.367,
          0.293,
          0.338,
          0.052,
          0.144,
          0.262,
          0.271,
          0.288,
          0.113,
          0.166,
          0.226,
          0.103,
          0.058
         ]
        }
       ],
       "layout": {
        "geo": {
         "scope": "usa"
        },
        "template": {
         "data": {
          "bar": [
           {
            "error_x": {
             "color": "#2a3f5f"
            },
            "error_y": {
             "color": "#2a3f5f"
            },
            "marker": {
             "line": {
              "color": "#E5ECF6",
              "width": 0.5
             }
            },
            "type": "bar"
           }
          ],
          "barpolar": [
           {
            "marker": {
             "line": {
              "color": "#E5ECF6",
              "width": 0.5
             }
            },
            "type": "barpolar"
           }
          ],
          "carpet": [
           {
            "aaxis": {
             "endlinecolor": "#2a3f5f",
             "gridcolor": "white",
             "linecolor": "white",
             "minorgridcolor": "white",
             "startlinecolor": "#2a3f5f"
            },
            "baxis": {
             "endlinecolor": "#2a3f5f",
             "gridcolor": "white",
             "linecolor": "white",
             "minorgridcolor": "white",
             "startlinecolor": "#2a3f5f"
            },
            "type": "carpet"
           }
          ],
          "choropleth": [
           {
            "colorbar": {
             "outlinewidth": 0,
             "ticks": ""
            },
            "type": "choropleth"
           }
          ],
          "contour": [
           {
            "colorbar": {
             "outlinewidth": 0,
             "ticks": ""
            },
            "colorscale": [
             [
              0,
              "#0d0887"
             ],
             [
              0.1111111111111111,
              "#46039f"
             ],
             [
              0.2222222222222222,
              "#7201a8"
             ],
             [
              0.3333333333333333,
              "#9c179e"
             ],
             [
              0.4444444444444444,
              "#bd3786"
             ],
             [
              0.5555555555555556,
              "#d8576b"
             ],
             [
              0.6666666666666666,
              "#ed7953"
             ],
             [
              0.7777777777777778,
              "#fb9f3a"
             ],
             [
              0.8888888888888888,
              "#fdca26"
             ],
             [
              1,
              "#f0f921"
             ]
            ],
            "type": "contour"
           }
          ],
          "contourcarpet": [
           {
            "colorbar": {
             "outlinewidth": 0,
             "ticks": ""
            },
            "type": "contourcarpet"
           }
          ],
          "heatmap": [
           {
            "colorbar": {
             "outlinewidth": 0,
             "ticks": ""
            },
            "colorscale": [
             [
              0,
              "#0d0887"
             ],
             [
              0.1111111111111111,
              "#46039f"
             ],
             [
              0.2222222222222222,
              "#7201a8"
             ],
             [
              0.3333333333333333,
              "#9c179e"
             ],
             [
              0.4444444444444444,
              "#bd3786"
             ],
             [
              0.5555555555555556,
              "#d8576b"
             ],
             [
              0.6666666666666666,
              "#ed7953"
             ],
             [
              0.7777777777777778,
              "#fb9f3a"
             ],
             [
              0.8888888888888888,
              "#fdca26"
             ],
             [
              1,
              "#f0f921"
             ]
            ],
            "type": "heatmap"
           }
          ],
          "heatmapgl": [
           {
            "colorbar": {
             "outlinewidth": 0,
             "ticks": ""
            },
            "colorscale": [
             [
              0,
              "#0d0887"
             ],
             [
              0.1111111111111111,
              "#46039f"
             ],
             [
              0.2222222222222222,
              "#7201a8"
             ],
             [
              0.3333333333333333,
              "#9c179e"
             ],
             [
              0.4444444444444444,
              "#bd3786"
             ],
             [
              0.5555555555555556,
              "#d8576b"
             ],
             [
              0.6666666666666666,
              "#ed7953"
             ],
             [
              0.7777777777777778,
              "#fb9f3a"
             ],
             [
              0.8888888888888888,
              "#fdca26"
             ],
             [
              1,
              "#f0f921"
             ]
            ],
            "type": "heatmapgl"
           }
          ],
          "histogram": [
           {
            "marker": {
             "colorbar": {
              "outlinewidth": 0,
              "ticks": ""
             }
            },
            "type": "histogram"
           }
          ],
          "histogram2d": [
           {
            "colorbar": {
             "outlinewidth": 0,
             "ticks": ""
            },
            "colorscale": [
             [
              0,
              "#0d0887"
             ],
             [
              0.1111111111111111,
              "#46039f"
             ],
             [
              0.2222222222222222,
              "#7201a8"
             ],
             [
              0.3333333333333333,
              "#9c179e"
             ],
             [
              0.4444444444444444,
              "#bd3786"
             ],
             [
              0.5555555555555556,
              "#d8576b"
             ],
             [
              0.6666666666666666,
              "#ed7953"
             ],
             [
              0.7777777777777778,
              "#fb9f3a"
             ],
             [
              0.8888888888888888,
              "#fdca26"
             ],
             [
              1,
              "#f0f921"
             ]
            ],
            "type": "histogram2d"
           }
          ],
          "histogram2dcontour": [
           {
            "colorbar": {
             "outlinewidth": 0,
             "ticks": ""
            },
            "colorscale": [
             [
              0,
              "#0d0887"
             ],
             [
              0.1111111111111111,
              "#46039f"
             ],
             [
              0.2222222222222222,
              "#7201a8"
             ],
             [
              0.3333333333333333,
              "#9c179e"
             ],
             [
              0.4444444444444444,
              "#bd3786"
             ],
             [
              0.5555555555555556,
              "#d8576b"
             ],
             [
              0.6666666666666666,
              "#ed7953"
             ],
             [
              0.7777777777777778,
              "#fb9f3a"
             ],
             [
              0.8888888888888888,
              "#fdca26"
             ],
             [
              1,
              "#f0f921"
             ]
            ],
            "type": "histogram2dcontour"
           }
          ],
          "mesh3d": [
           {
            "colorbar": {
             "outlinewidth": 0,
             "ticks": ""
            },
            "type": "mesh3d"
           }
          ],
          "parcoords": [
           {
            "line": {
             "colorbar": {
              "outlinewidth": 0,
              "ticks": ""
             }
            },
            "type": "parcoords"
           }
          ],
          "pie": [
           {
            "automargin": true,
            "type": "pie"
           }
          ],
          "scatter": [
           {
            "marker": {
             "colorbar": {
              "outlinewidth": 0,
              "ticks": ""
             }
            },
            "type": "scatter"
           }
          ],
          "scatter3d": [
           {
            "line": {
             "colorbar": {
              "outlinewidth": 0,
              "ticks": ""
             }
            },
            "marker": {
             "colorbar": {
              "outlinewidth": 0,
              "ticks": ""
             }
            },
            "type": "scatter3d"
           }
          ],
          "scattercarpet": [
           {
            "marker": {
             "colorbar": {
              "outlinewidth": 0,
              "ticks": ""
             }
            },
            "type": "scattercarpet"
           }
          ],
          "scattergeo": [
           {
            "marker": {
             "colorbar": {
              "outlinewidth": 0,
              "ticks": ""
             }
            },
            "type": "scattergeo"
           }
          ],
          "scattergl": [
           {
            "marker": {
             "colorbar": {
              "outlinewidth": 0,
              "ticks": ""
             }
            },
            "type": "scattergl"
           }
          ],
          "scattermapbox": [
           {
            "marker": {
             "colorbar": {
              "outlinewidth": 0,
              "ticks": ""
             }
            },
            "type": "scattermapbox"
           }
          ],
          "scatterpolar": [
           {
            "marker": {
             "colorbar": {
              "outlinewidth": 0,
              "ticks": ""
             }
            },
            "type": "scatterpolar"
           }
          ],
          "scatterpolargl": [
           {
            "marker": {
             "colorbar": {
              "outlinewidth": 0,
              "ticks": ""
             }
            },
            "type": "scatterpolargl"
           }
          ],
          "scatterternary": [
           {
            "marker": {
             "colorbar": {
              "outlinewidth": 0,
              "ticks": ""
             }
            },
            "type": "scatterternary"
           }
          ],
          "surface": [
           {
            "colorbar": {
             "outlinewidth": 0,
             "ticks": ""
            },
            "colorscale": [
             [
              0,
              "#0d0887"
             ],
             [
              0.1111111111111111,
              "#46039f"
             ],
             [
              0.2222222222222222,
              "#7201a8"
             ],
             [
              0.3333333333333333,
              "#9c179e"
             ],
             [
              0.4444444444444444,
              "#bd3786"
             ],
             [
              0.5555555555555556,
              "#d8576b"
             ],
             [
              0.6666666666666666,
              "#ed7953"
             ],
             [
              0.7777777777777778,
              "#fb9f3a"
             ],
             [
              0.8888888888888888,
              "#fdca26"
             ],
             [
              1,
              "#f0f921"
             ]
            ],
            "type": "surface"
           }
          ],
          "table": [
           {
            "cells": {
             "fill": {
              "color": "#EBF0F8"
             },
             "line": {
              "color": "white"
             }
            },
            "header": {
             "fill": {
              "color": "#C8D4E3"
             },
             "line": {
              "color": "white"
             }
            },
            "type": "table"
           }
          ]
         },
         "layout": {
          "annotationdefaults": {
           "arrowcolor": "#2a3f5f",
           "arrowhead": 0,
           "arrowwidth": 1
          },
          "coloraxis": {
           "colorbar": {
            "outlinewidth": 0,
            "ticks": ""
           }
          },
          "colorscale": {
           "diverging": [
            [
             0,
             "#8e0152"
            ],
            [
             0.1,
             "#c51b7d"
            ],
            [
             0.2,
             "#de77ae"
            ],
            [
             0.3,
             "#f1b6da"
            ],
            [
             0.4,
             "#fde0ef"
            ],
            [
             0.5,
             "#f7f7f7"
            ],
            [
             0.6,
             "#e6f5d0"
            ],
            [
             0.7,
             "#b8e186"
            ],
            [
             0.8,
             "#7fbc41"
            ],
            [
             0.9,
             "#4d9221"
            ],
            [
             1,
             "#276419"
            ]
           ],
           "sequential": [
            [
             0,
             "#0d0887"
            ],
            [
             0.1111111111111111,
             "#46039f"
            ],
            [
             0.2222222222222222,
             "#7201a8"
            ],
            [
             0.3333333333333333,
             "#9c179e"
            ],
            [
             0.4444444444444444,
             "#bd3786"
            ],
            [
             0.5555555555555556,
             "#d8576b"
            ],
            [
             0.6666666666666666,
             "#ed7953"
            ],
            [
             0.7777777777777778,
             "#fb9f3a"
            ],
            [
             0.8888888888888888,
             "#fdca26"
            ],
            [
             1,
             "#f0f921"
            ]
           ],
           "sequentialminus": [
            [
             0,
             "#0d0887"
            ],
            [
             0.1111111111111111,
             "#46039f"
            ],
            [
             0.2222222222222222,
             "#7201a8"
            ],
            [
             0.3333333333333333,
             "#9c179e"
            ],
            [
             0.4444444444444444,
             "#bd3786"
            ],
            [
             0.5555555555555556,
             "#d8576b"
            ],
            [
             0.6666666666666666,
             "#ed7953"
            ],
            [
             0.7777777777777778,
             "#fb9f3a"
            ],
            [
             0.8888888888888888,
             "#fdca26"
            ],
            [
             1,
             "#f0f921"
            ]
           ]
          },
          "colorway": [
           "#636efa",
           "#EF553B",
           "#00cc96",
           "#ab63fa",
           "#FFA15A",
           "#19d3f3",
           "#FF6692",
           "#B6E880",
           "#FF97FF",
           "#FECB52"
          ],
          "font": {
           "color": "#2a3f5f"
          },
          "geo": {
           "bgcolor": "white",
           "lakecolor": "white",
           "landcolor": "#E5ECF6",
           "showlakes": true,
           "showland": true,
           "subunitcolor": "white"
          },
          "hoverlabel": {
           "align": "left"
          },
          "hovermode": "closest",
          "mapbox": {
           "style": "light"
          },
          "paper_bgcolor": "white",
          "plot_bgcolor": "#E5ECF6",
          "polar": {
           "angularaxis": {
            "gridcolor": "white",
            "linecolor": "white",
            "ticks": ""
           },
           "bgcolor": "#E5ECF6",
           "radialaxis": {
            "gridcolor": "white",
            "linecolor": "white",
            "ticks": ""
           }
          },
          "scene": {
           "xaxis": {
            "backgroundcolor": "#E5ECF6",
            "gridcolor": "white",
            "gridwidth": 2,
            "linecolor": "white",
            "showbackground": true,
            "ticks": "",
            "zerolinecolor": "white"
           },
           "yaxis": {
            "backgroundcolor": "#E5ECF6",
            "gridcolor": "white",
            "gridwidth": 2,
            "linecolor": "white",
            "showbackground": true,
            "ticks": "",
            "zerolinecolor": "white"
           },
           "zaxis": {
            "backgroundcolor": "#E5ECF6",
            "gridcolor": "white",
            "gridwidth": 2,
            "linecolor": "white",
            "showbackground": true,
            "ticks": "",
            "zerolinecolor": "white"
           }
          },
          "shapedefaults": {
           "line": {
            "color": "#2a3f5f"
           }
          },
          "ternary": {
           "aaxis": {
            "gridcolor": "white",
            "linecolor": "white",
            "ticks": ""
           },
           "baxis": {
            "gridcolor": "white",
            "linecolor": "white",
            "ticks": ""
           },
           "bgcolor": "#E5ECF6",
           "caxis": {
            "gridcolor": "white",
            "linecolor": "white",
            "ticks": ""
           }
          },
          "title": {
           "x": 0.05
          },
          "xaxis": {
           "automargin": true,
           "gridcolor": "white",
           "linecolor": "white",
           "ticks": "",
           "title": {
            "standoff": 15
           },
           "zerolinecolor": "white",
           "zerolinewidth": 2
          },
          "yaxis": {
           "automargin": true,
           "gridcolor": "white",
           "linecolor": "white",
           "ticks": "",
           "title": {
            "standoff": 15
           },
           "zerolinecolor": "white",
           "zerolinewidth": 2
          }
         }
        },
        "title": {
         "text": "Gun Ownership rate"
        }
       }
      },
      "text/html": [
       "<div>                            <div id=\"a9f7a5ec-9f7c-45e8-8a1c-a1aa85cb7b02\" class=\"plotly-graph-div\" style=\"height:525px; width:100%;\"></div>            <script type=\"text/javascript\">                require([\"plotly\"], function(Plotly) {                    window.PLOTLYENV=window.PLOTLYENV || {};                                    if (document.getElementById(\"a9f7a5ec-9f7c-45e8-8a1c-a1aa85cb7b02\")) {                    Plotly.newPlot(                        \"a9f7a5ec-9f7c-45e8-8a1c-a1aa85cb7b02\",                        [{\"colorbar\": {\"title\": {\"text\": \"Gun Ownership rate\"}}, \"colorscale\": [[0.0, \"rgb(247,251,255)\"], [0.125, \"rgb(222,235,247)\"], [0.25, \"rgb(198,219,239)\"], [0.375, \"rgb(158,202,225)\"], [0.5, \"rgb(107,174,214)\"], [0.625, \"rgb(66,146,198)\"], [0.75, \"rgb(33,113,181)\"], [0.875, \"rgb(8,81,156)\"], [1.0, \"rgb(8,48,107)\"]], \"locationmode\": \"USA-states\", \"locations\": [\"AK\", \"NM\", \"OK\", \"AZ\", \"CO\", \"NV\", \"MT\", \"WV\", \"AR\", \"LA\", \"ID\", \"WY\", \"UT\", \"KY\", \"MS\", \"MO\", \"DC\", \"HI\", \"AL\", \"TN\", \"OR\", \"CA\", \"WA\", \"KS\", \"GA\", \"SC\", \"FL\", \"SD\", \"TX\", \"WI\", \"ND\", \"ME\", \"NC\", \"IN\", \"MD\", \"NE\", \"OH\", \"VT\", \"MN\", \"VA\", \"IA\", \"DE\", \"NH\", \"IL\", \"PA\", \"MI\", \"NJ\", \"CT\", \"MA\", \"NY\", \"RI\"], \"type\": \"choropleth\", \"z\": [0.617, 0.499, 0.312, 0.323, 0.343, 0.375, 0.523, 0.542, 0.579, 0.445, 0.569, 0.538, 0.319, 0.424, 0.428, 0.271, null, 0.451, 0.489, 0.394, 0.266, 0.201, 0.277, 0.322, 0.316, 0.444, 0.325, 0.35, 0.357, 0.347, 0.479, 0.226, 0.287, 0.338, 0.207, 0.198, 0.196, 0.288, 0.367, 0.293, 0.338, 0.052, 0.144, 0.262, 0.271, 0.288, 0.113, 0.166, 0.226, 0.103, 0.058]}],                        {\"geo\": {\"scope\": \"usa\"}, \"template\": {\"data\": {\"bar\": [{\"error_x\": {\"color\": \"#2a3f5f\"}, \"error_y\": {\"color\": \"#2a3f5f\"}, \"marker\": {\"line\": {\"color\": \"#E5ECF6\", \"width\": 0.5}}, \"type\": \"bar\"}], \"barpolar\": [{\"marker\": {\"line\": {\"color\": \"#E5ECF6\", \"width\": 0.5}}, \"type\": \"barpolar\"}], \"carpet\": [{\"aaxis\": {\"endlinecolor\": \"#2a3f5f\", \"gridcolor\": \"white\", \"linecolor\": \"white\", \"minorgridcolor\": \"white\", \"startlinecolor\": \"#2a3f5f\"}, \"baxis\": {\"endlinecolor\": \"#2a3f5f\", \"gridcolor\": \"white\", \"linecolor\": \"white\", \"minorgridcolor\": \"white\", \"startlinecolor\": \"#2a3f5f\"}, \"type\": \"carpet\"}], \"choropleth\": [{\"colorbar\": {\"outlinewidth\": 0, \"ticks\": \"\"}, \"type\": \"choropleth\"}], \"contour\": [{\"colorbar\": {\"outlinewidth\": 0, \"ticks\": \"\"}, \"colorscale\": [[0.0, \"#0d0887\"], [0.1111111111111111, \"#46039f\"], [0.2222222222222222, \"#7201a8\"], [0.3333333333333333, \"#9c179e\"], [0.4444444444444444, \"#bd3786\"], [0.5555555555555556, \"#d8576b\"], [0.6666666666666666, \"#ed7953\"], [0.7777777777777778, \"#fb9f3a\"], [0.8888888888888888, \"#fdca26\"], [1.0, \"#f0f921\"]], \"type\": \"contour\"}], \"contourcarpet\": [{\"colorbar\": {\"outlinewidth\": 0, \"ticks\": \"\"}, \"type\": \"contourcarpet\"}], \"heatmap\": [{\"colorbar\": {\"outlinewidth\": 0, \"ticks\": \"\"}, \"colorscale\": [[0.0, \"#0d0887\"], [0.1111111111111111, \"#46039f\"], [0.2222222222222222, \"#7201a8\"], [0.3333333333333333, \"#9c179e\"], [0.4444444444444444, \"#bd3786\"], [0.5555555555555556, \"#d8576b\"], [0.6666666666666666, \"#ed7953\"], [0.7777777777777778, \"#fb9f3a\"], [0.8888888888888888, \"#fdca26\"], [1.0, \"#f0f921\"]], \"type\": \"heatmap\"}], \"heatmapgl\": [{\"colorbar\": {\"outlinewidth\": 0, \"ticks\": \"\"}, \"colorscale\": [[0.0, \"#0d0887\"], [0.1111111111111111, \"#46039f\"], [0.2222222222222222, \"#7201a8\"], [0.3333333333333333, \"#9c179e\"], [0.4444444444444444, \"#bd3786\"], [0.5555555555555556, \"#d8576b\"], [0.6666666666666666, \"#ed7953\"], [0.7777777777777778, \"#fb9f3a\"], [0.8888888888888888, \"#fdca26\"], [1.0, \"#f0f921\"]], \"type\": \"heatmapgl\"}], \"histogram\": [{\"marker\": {\"colorbar\": {\"outlinewidth\": 0, \"ticks\": \"\"}}, \"type\": \"histogram\"}], \"histogram2d\": [{\"colorbar\": {\"outlinewidth\": 0, \"ticks\": \"\"}, \"colorscale\": [[0.0, \"#0d0887\"], [0.1111111111111111, \"#46039f\"], [0.2222222222222222, \"#7201a8\"], [0.3333333333333333, \"#9c179e\"], [0.4444444444444444, \"#bd3786\"], [0.5555555555555556, \"#d8576b\"], [0.6666666666666666, \"#ed7953\"], [0.7777777777777778, \"#fb9f3a\"], [0.8888888888888888, \"#fdca26\"], [1.0, \"#f0f921\"]], \"type\": \"histogram2d\"}], \"histogram2dcontour\": [{\"colorbar\": {\"outlinewidth\": 0, \"ticks\": \"\"}, \"colorscale\": [[0.0, \"#0d0887\"], [0.1111111111111111, \"#46039f\"], [0.2222222222222222, \"#7201a8\"], [0.3333333333333333, \"#9c179e\"], [0.4444444444444444, \"#bd3786\"], [0.5555555555555556, \"#d8576b\"], [0.6666666666666666, \"#ed7953\"], [0.7777777777777778, \"#fb9f3a\"], [0.8888888888888888, \"#fdca26\"], [1.0, \"#f0f921\"]], \"type\": \"histogram2dcontour\"}], \"mesh3d\": [{\"colorbar\": {\"outlinewidth\": 0, \"ticks\": \"\"}, \"type\": \"mesh3d\"}], \"parcoords\": [{\"line\": {\"colorbar\": {\"outlinewidth\": 0, \"ticks\": \"\"}}, \"type\": \"parcoords\"}], \"pie\": [{\"automargin\": true, \"type\": \"pie\"}], \"scatter\": [{\"marker\": {\"colorbar\": {\"outlinewidth\": 0, \"ticks\": \"\"}}, \"type\": \"scatter\"}], \"scatter3d\": [{\"line\": {\"colorbar\": {\"outlinewidth\": 0, \"ticks\": \"\"}}, \"marker\": {\"colorbar\": {\"outlinewidth\": 0, \"ticks\": \"\"}}, \"type\": \"scatter3d\"}], \"scattercarpet\": [{\"marker\": {\"colorbar\": {\"outlinewidth\": 0, \"ticks\": \"\"}}, \"type\": \"scattercarpet\"}], \"scattergeo\": [{\"marker\": {\"colorbar\": {\"outlinewidth\": 0, \"ticks\": \"\"}}, \"type\": \"scattergeo\"}], \"scattergl\": [{\"marker\": {\"colorbar\": {\"outlinewidth\": 0, \"ticks\": \"\"}}, \"type\": \"scattergl\"}], \"scattermapbox\": [{\"marker\": {\"colorbar\": {\"outlinewidth\": 0, \"ticks\": \"\"}}, \"type\": \"scattermapbox\"}], \"scatterpolar\": [{\"marker\": {\"colorbar\": {\"outlinewidth\": 0, \"ticks\": \"\"}}, \"type\": \"scatterpolar\"}], \"scatterpolargl\": [{\"marker\": {\"colorbar\": {\"outlinewidth\": 0, \"ticks\": \"\"}}, \"type\": \"scatterpolargl\"}], \"scatterternary\": [{\"marker\": {\"colorbar\": {\"outlinewidth\": 0, \"ticks\": \"\"}}, \"type\": \"scatterternary\"}], \"surface\": [{\"colorbar\": {\"outlinewidth\": 0, \"ticks\": \"\"}, \"colorscale\": [[0.0, \"#0d0887\"], [0.1111111111111111, \"#46039f\"], [0.2222222222222222, \"#7201a8\"], [0.3333333333333333, \"#9c179e\"], [0.4444444444444444, \"#bd3786\"], [0.5555555555555556, \"#d8576b\"], [0.6666666666666666, \"#ed7953\"], [0.7777777777777778, \"#fb9f3a\"], [0.8888888888888888, \"#fdca26\"], [1.0, \"#f0f921\"]], \"type\": \"surface\"}], \"table\": [{\"cells\": {\"fill\": {\"color\": \"#EBF0F8\"}, \"line\": {\"color\": \"white\"}}, \"header\": {\"fill\": {\"color\": \"#C8D4E3\"}, \"line\": {\"color\": \"white\"}}, \"type\": \"table\"}]}, \"layout\": {\"annotationdefaults\": {\"arrowcolor\": \"#2a3f5f\", \"arrowhead\": 0, \"arrowwidth\": 1}, \"coloraxis\": {\"colorbar\": {\"outlinewidth\": 0, \"ticks\": \"\"}}, \"colorscale\": {\"diverging\": [[0, \"#8e0152\"], [0.1, \"#c51b7d\"], [0.2, \"#de77ae\"], [0.3, \"#f1b6da\"], [0.4, \"#fde0ef\"], [0.5, \"#f7f7f7\"], [0.6, \"#e6f5d0\"], [0.7, \"#b8e186\"], [0.8, \"#7fbc41\"], [0.9, \"#4d9221\"], [1, \"#276419\"]], \"sequential\": [[0.0, \"#0d0887\"], [0.1111111111111111, \"#46039f\"], [0.2222222222222222, \"#7201a8\"], [0.3333333333333333, \"#9c179e\"], [0.4444444444444444, \"#bd3786\"], [0.5555555555555556, \"#d8576b\"], [0.6666666666666666, \"#ed7953\"], [0.7777777777777778, \"#fb9f3a\"], [0.8888888888888888, \"#fdca26\"], [1.0, \"#f0f921\"]], \"sequentialminus\": [[0.0, \"#0d0887\"], [0.1111111111111111, \"#46039f\"], [0.2222222222222222, \"#7201a8\"], [0.3333333333333333, \"#9c179e\"], [0.4444444444444444, \"#bd3786\"], [0.5555555555555556, \"#d8576b\"], [0.6666666666666666, \"#ed7953\"], [0.7777777777777778, \"#fb9f3a\"], [0.8888888888888888, \"#fdca26\"], [1.0, \"#f0f921\"]]}, \"colorway\": [\"#636efa\", \"#EF553B\", \"#00cc96\", \"#ab63fa\", \"#FFA15A\", \"#19d3f3\", \"#FF6692\", \"#B6E880\", \"#FF97FF\", \"#FECB52\"], \"font\": {\"color\": \"#2a3f5f\"}, \"geo\": {\"bgcolor\": \"white\", \"lakecolor\": \"white\", \"landcolor\": \"#E5ECF6\", \"showlakes\": true, \"showland\": true, \"subunitcolor\": \"white\"}, \"hoverlabel\": {\"align\": \"left\"}, \"hovermode\": \"closest\", \"mapbox\": {\"style\": \"light\"}, \"paper_bgcolor\": \"white\", \"plot_bgcolor\": \"#E5ECF6\", \"polar\": {\"angularaxis\": {\"gridcolor\": \"white\", \"linecolor\": \"white\", \"ticks\": \"\"}, \"bgcolor\": \"#E5ECF6\", \"radialaxis\": {\"gridcolor\": \"white\", \"linecolor\": \"white\", \"ticks\": \"\"}}, \"scene\": {\"xaxis\": {\"backgroundcolor\": \"#E5ECF6\", \"gridcolor\": \"white\", \"gridwidth\": 2, \"linecolor\": \"white\", \"showbackground\": true, \"ticks\": \"\", \"zerolinecolor\": \"white\"}, \"yaxis\": {\"backgroundcolor\": \"#E5ECF6\", \"gridcolor\": \"white\", \"gridwidth\": 2, \"linecolor\": \"white\", \"showbackground\": true, \"ticks\": \"\", \"zerolinecolor\": \"white\"}, \"zaxis\": {\"backgroundcolor\": \"#E5ECF6\", \"gridcolor\": \"white\", \"gridwidth\": 2, \"linecolor\": \"white\", \"showbackground\": true, \"ticks\": \"\", \"zerolinecolor\": \"white\"}}, \"shapedefaults\": {\"line\": {\"color\": \"#2a3f5f\"}}, \"ternary\": {\"aaxis\": {\"gridcolor\": \"white\", \"linecolor\": \"white\", \"ticks\": \"\"}, \"baxis\": {\"gridcolor\": \"white\", \"linecolor\": \"white\", \"ticks\": \"\"}, \"bgcolor\": \"#E5ECF6\", \"caxis\": {\"gridcolor\": \"white\", \"linecolor\": \"white\", \"ticks\": \"\"}}, \"title\": {\"x\": 0.05}, \"xaxis\": {\"automargin\": true, \"gridcolor\": \"white\", \"linecolor\": \"white\", \"ticks\": \"\", \"title\": {\"standoff\": 15}, \"zerolinecolor\": \"white\", \"zerolinewidth\": 2}, \"yaxis\": {\"automargin\": true, \"gridcolor\": \"white\", \"linecolor\": \"white\", \"ticks\": \"\", \"title\": {\"standoff\": 15}, \"zerolinecolor\": \"white\", \"zerolinewidth\": 2}}}, \"title\": {\"text\": \"Gun Ownership rate\"}},                        {\"responsive\": true}                    ).then(function(){\n",
       "                            \n",
       "var gd = document.getElementById('a9f7a5ec-9f7c-45e8-8a1c-a1aa85cb7b02');\n",
       "var x = new MutationObserver(function (mutations, observer) {{\n",
       "        var display = window.getComputedStyle(gd).display;\n",
       "        if (!display || display === 'none') {{\n",
       "            console.log([gd, 'removed!']);\n",
       "            Plotly.purge(gd);\n",
       "            observer.disconnect();\n",
       "        }}\n",
       "}});\n",
       "\n",
       "// Listen for the removal of the full notebook cells\n",
       "var notebookContainer = gd.closest('#notebook-container');\n",
       "if (notebookContainer) {{\n",
       "    x.observe(notebookContainer, {childList: true});\n",
       "}}\n",
       "\n",
       "// Listen for the clearing of the current output cell\n",
       "var outputEl = gd.closest('.output');\n",
       "if (outputEl) {{\n",
       "    x.observe(outputEl, {childList: true});\n",
       "}}\n",
       "\n",
       "                        })                };                });            </script>        </div>"
      ]
     },
     "metadata": {},
     "output_type": "display_data"
    }
   ],
   "source": [
    "#Display polices shooting number on map\n",
    "df = pd.read_excel('state_all.xlsx')\n",
    "\n",
    "fig = go.Figure(data=go.Choropleth(\n",
    "    locations=df['Acronym'], # Spatial coordinates\n",
    "    z = df['Gun Ownership rate'].astype(float), # Data to be color-coded\n",
    "    locationmode = 'USA-states', # set of locations match entries in `locations`\n",
    "    colorscale = 'blues',\n",
    "    colorbar_title = \"Gun Ownership rate\",\n",
    "))\n",
    "\n",
    "fig.update_layout(\n",
    "    title_text = 'Gun Ownership rate',\n",
    "    geo_scope='usa', # limite map scope to USA\n",
    ")\n",
    "\n",
    "fig.show()"
   ]
  },
  {
   "cell_type": "code",
   "execution_count": 32,
   "metadata": {},
   "outputs": [
    {
     "data": {
      "application/vnd.plotly.v1+json": {
       "config": {
        "plotlyServerURL": "https://plot.ly"
       },
       "data": [
        {
         "colorbar": {
          "title": {
           "text": "State year"
          }
         },
         "colorscale": [
          [
           0,
           "rgb(247,251,255)"
          ],
          [
           0.125,
           "rgb(222,235,247)"
          ],
          [
           0.25,
           "rgb(198,219,239)"
          ],
          [
           0.375,
           "rgb(158,202,225)"
          ],
          [
           0.5,
           "rgb(107,174,214)"
          ],
          [
           0.625,
           "rgb(66,146,198)"
          ],
          [
           0.75,
           "rgb(33,113,181)"
          ],
          [
           0.875,
           "rgb(8,81,156)"
          ],
          [
           1,
           "rgb(8,48,107)"
          ]
         ],
         "locationmode": "USA-states",
         "locations": [
          "AK",
          "NM",
          "OK",
          "AZ",
          "CO",
          "NV",
          "MT",
          "WV",
          "AR",
          "LA",
          "ID",
          "WY",
          "UT",
          "KY",
          "MS",
          "MO",
          "DC",
          "HI",
          "AL",
          "TN",
          "OR",
          "CA",
          "WA",
          "KS",
          "GA",
          "SC",
          "FL",
          "SD",
          "TX",
          "WI",
          "ND",
          "ME",
          "NC",
          "IN",
          "MD",
          "NE",
          "OH",
          "VT",
          "MN",
          "VA",
          "IA",
          "DE",
          "NH",
          "IL",
          "PA",
          "MI",
          "NJ",
          "CT",
          "MA",
          "NY",
          "RI"
         ],
         "type": "choropleth",
         "z": [
          1959,
          1912,
          1907,
          1912,
          1876,
          1864,
          1889,
          1863,
          1836,
          1812,
          1890,
          1890,
          1896,
          1792,
          1817,
          1821,
          1790,
          1959,
          1819,
          1796,
          1859,
          1850,
          1889,
          1861,
          1788,
          1788,
          1845,
          1889,
          1845,
          1848,
          1889,
          1820,
          1789,
          1816,
          1788,
          1867,
          1803,
          1791,
          1858,
          1788,
          1846,
          1787,
          1788,
          1818,
          1787,
          1837,
          1787,
          1788,
          1788,
          1788,
          1790
         ]
        }
       ],
       "layout": {
        "geo": {
         "scope": "usa"
        },
        "template": {
         "data": {
          "bar": [
           {
            "error_x": {
             "color": "#2a3f5f"
            },
            "error_y": {
             "color": "#2a3f5f"
            },
            "marker": {
             "line": {
              "color": "#E5ECF6",
              "width": 0.5
             }
            },
            "type": "bar"
           }
          ],
          "barpolar": [
           {
            "marker": {
             "line": {
              "color": "#E5ECF6",
              "width": 0.5
             }
            },
            "type": "barpolar"
           }
          ],
          "carpet": [
           {
            "aaxis": {
             "endlinecolor": "#2a3f5f",
             "gridcolor": "white",
             "linecolor": "white",
             "minorgridcolor": "white",
             "startlinecolor": "#2a3f5f"
            },
            "baxis": {
             "endlinecolor": "#2a3f5f",
             "gridcolor": "white",
             "linecolor": "white",
             "minorgridcolor": "white",
             "startlinecolor": "#2a3f5f"
            },
            "type": "carpet"
           }
          ],
          "choropleth": [
           {
            "colorbar": {
             "outlinewidth": 0,
             "ticks": ""
            },
            "type": "choropleth"
           }
          ],
          "contour": [
           {
            "colorbar": {
             "outlinewidth": 0,
             "ticks": ""
            },
            "colorscale": [
             [
              0,
              "#0d0887"
             ],
             [
              0.1111111111111111,
              "#46039f"
             ],
             [
              0.2222222222222222,
              "#7201a8"
             ],
             [
              0.3333333333333333,
              "#9c179e"
             ],
             [
              0.4444444444444444,
              "#bd3786"
             ],
             [
              0.5555555555555556,
              "#d8576b"
             ],
             [
              0.6666666666666666,
              "#ed7953"
             ],
             [
              0.7777777777777778,
              "#fb9f3a"
             ],
             [
              0.8888888888888888,
              "#fdca26"
             ],
             [
              1,
              "#f0f921"
             ]
            ],
            "type": "contour"
           }
          ],
          "contourcarpet": [
           {
            "colorbar": {
             "outlinewidth": 0,
             "ticks": ""
            },
            "type": "contourcarpet"
           }
          ],
          "heatmap": [
           {
            "colorbar": {
             "outlinewidth": 0,
             "ticks": ""
            },
            "colorscale": [
             [
              0,
              "#0d0887"
             ],
             [
              0.1111111111111111,
              "#46039f"
             ],
             [
              0.2222222222222222,
              "#7201a8"
             ],
             [
              0.3333333333333333,
              "#9c179e"
             ],
             [
              0.4444444444444444,
              "#bd3786"
             ],
             [
              0.5555555555555556,
              "#d8576b"
             ],
             [
              0.6666666666666666,
              "#ed7953"
             ],
             [
              0.7777777777777778,
              "#fb9f3a"
             ],
             [
              0.8888888888888888,
              "#fdca26"
             ],
             [
              1,
              "#f0f921"
             ]
            ],
            "type": "heatmap"
           }
          ],
          "heatmapgl": [
           {
            "colorbar": {
             "outlinewidth": 0,
             "ticks": ""
            },
            "colorscale": [
             [
              0,
              "#0d0887"
             ],
             [
              0.1111111111111111,
              "#46039f"
             ],
             [
              0.2222222222222222,
              "#7201a8"
             ],
             [
              0.3333333333333333,
              "#9c179e"
             ],
             [
              0.4444444444444444,
              "#bd3786"
             ],
             [
              0.5555555555555556,
              "#d8576b"
             ],
             [
              0.6666666666666666,
              "#ed7953"
             ],
             [
              0.7777777777777778,
              "#fb9f3a"
             ],
             [
              0.8888888888888888,
              "#fdca26"
             ],
             [
              1,
              "#f0f921"
             ]
            ],
            "type": "heatmapgl"
           }
          ],
          "histogram": [
           {
            "marker": {
             "colorbar": {
              "outlinewidth": 0,
              "ticks": ""
             }
            },
            "type": "histogram"
           }
          ],
          "histogram2d": [
           {
            "colorbar": {
             "outlinewidth": 0,
             "ticks": ""
            },
            "colorscale": [
             [
              0,
              "#0d0887"
             ],
             [
              0.1111111111111111,
              "#46039f"
             ],
             [
              0.2222222222222222,
              "#7201a8"
             ],
             [
              0.3333333333333333,
              "#9c179e"
             ],
             [
              0.4444444444444444,
              "#bd3786"
             ],
             [
              0.5555555555555556,
              "#d8576b"
             ],
             [
              0.6666666666666666,
              "#ed7953"
             ],
             [
              0.7777777777777778,
              "#fb9f3a"
             ],
             [
              0.8888888888888888,
              "#fdca26"
             ],
             [
              1,
              "#f0f921"
             ]
            ],
            "type": "histogram2d"
           }
          ],
          "histogram2dcontour": [
           {
            "colorbar": {
             "outlinewidth": 0,
             "ticks": ""
            },
            "colorscale": [
             [
              0,
              "#0d0887"
             ],
             [
              0.1111111111111111,
              "#46039f"
             ],
             [
              0.2222222222222222,
              "#7201a8"
             ],
             [
              0.3333333333333333,
              "#9c179e"
             ],
             [
              0.4444444444444444,
              "#bd3786"
             ],
             [
              0.5555555555555556,
              "#d8576b"
             ],
             [
              0.6666666666666666,
              "#ed7953"
             ],
             [
              0.7777777777777778,
              "#fb9f3a"
             ],
             [
              0.8888888888888888,
              "#fdca26"
             ],
             [
              1,
              "#f0f921"
             ]
            ],
            "type": "histogram2dcontour"
           }
          ],
          "mesh3d": [
           {
            "colorbar": {
             "outlinewidth": 0,
             "ticks": ""
            },
            "type": "mesh3d"
           }
          ],
          "parcoords": [
           {
            "line": {
             "colorbar": {
              "outlinewidth": 0,
              "ticks": ""
             }
            },
            "type": "parcoords"
           }
          ],
          "pie": [
           {
            "automargin": true,
            "type": "pie"
           }
          ],
          "scatter": [
           {
            "marker": {
             "colorbar": {
              "outlinewidth": 0,
              "ticks": ""
             }
            },
            "type": "scatter"
           }
          ],
          "scatter3d": [
           {
            "line": {
             "colorbar": {
              "outlinewidth": 0,
              "ticks": ""
             }
            },
            "marker": {
             "colorbar": {
              "outlinewidth": 0,
              "ticks": ""
             }
            },
            "type": "scatter3d"
           }
          ],
          "scattercarpet": [
           {
            "marker": {
             "colorbar": {
              "outlinewidth": 0,
              "ticks": ""
             }
            },
            "type": "scattercarpet"
           }
          ],
          "scattergeo": [
           {
            "marker": {
             "colorbar": {
              "outlinewidth": 0,
              "ticks": ""
             }
            },
            "type": "scattergeo"
           }
          ],
          "scattergl": [
           {
            "marker": {
             "colorbar": {
              "outlinewidth": 0,
              "ticks": ""
             }
            },
            "type": "scattergl"
           }
          ],
          "scattermapbox": [
           {
            "marker": {
             "colorbar": {
              "outlinewidth": 0,
              "ticks": ""
             }
            },
            "type": "scattermapbox"
           }
          ],
          "scatterpolar": [
           {
            "marker": {
             "colorbar": {
              "outlinewidth": 0,
              "ticks": ""
             }
            },
            "type": "scatterpolar"
           }
          ],
          "scatterpolargl": [
           {
            "marker": {
             "colorbar": {
              "outlinewidth": 0,
              "ticks": ""
             }
            },
            "type": "scatterpolargl"
           }
          ],
          "scatterternary": [
           {
            "marker": {
             "colorbar": {
              "outlinewidth": 0,
              "ticks": ""
             }
            },
            "type": "scatterternary"
           }
          ],
          "surface": [
           {
            "colorbar": {
             "outlinewidth": 0,
             "ticks": ""
            },
            "colorscale": [
             [
              0,
              "#0d0887"
             ],
             [
              0.1111111111111111,
              "#46039f"
             ],
             [
              0.2222222222222222,
              "#7201a8"
             ],
             [
              0.3333333333333333,
              "#9c179e"
             ],
             [
              0.4444444444444444,
              "#bd3786"
             ],
             [
              0.5555555555555556,
              "#d8576b"
             ],
             [
              0.6666666666666666,
              "#ed7953"
             ],
             [
              0.7777777777777778,
              "#fb9f3a"
             ],
             [
              0.8888888888888888,
              "#fdca26"
             ],
             [
              1,
              "#f0f921"
             ]
            ],
            "type": "surface"
           }
          ],
          "table": [
           {
            "cells": {
             "fill": {
              "color": "#EBF0F8"
             },
             "line": {
              "color": "white"
             }
            },
            "header": {
             "fill": {
              "color": "#C8D4E3"
             },
             "line": {
              "color": "white"
             }
            },
            "type": "table"
           }
          ]
         },
         "layout": {
          "annotationdefaults": {
           "arrowcolor": "#2a3f5f",
           "arrowhead": 0,
           "arrowwidth": 1
          },
          "coloraxis": {
           "colorbar": {
            "outlinewidth": 0,
            "ticks": ""
           }
          },
          "colorscale": {
           "diverging": [
            [
             0,
             "#8e0152"
            ],
            [
             0.1,
             "#c51b7d"
            ],
            [
             0.2,
             "#de77ae"
            ],
            [
             0.3,
             "#f1b6da"
            ],
            [
             0.4,
             "#fde0ef"
            ],
            [
             0.5,
             "#f7f7f7"
            ],
            [
             0.6,
             "#e6f5d0"
            ],
            [
             0.7,
             "#b8e186"
            ],
            [
             0.8,
             "#7fbc41"
            ],
            [
             0.9,
             "#4d9221"
            ],
            [
             1,
             "#276419"
            ]
           ],
           "sequential": [
            [
             0,
             "#0d0887"
            ],
            [
             0.1111111111111111,
             "#46039f"
            ],
            [
             0.2222222222222222,
             "#7201a8"
            ],
            [
             0.3333333333333333,
             "#9c179e"
            ],
            [
             0.4444444444444444,
             "#bd3786"
            ],
            [
             0.5555555555555556,
             "#d8576b"
            ],
            [
             0.6666666666666666,
             "#ed7953"
            ],
            [
             0.7777777777777778,
             "#fb9f3a"
            ],
            [
             0.8888888888888888,
             "#fdca26"
            ],
            [
             1,
             "#f0f921"
            ]
           ],
           "sequentialminus": [
            [
             0,
             "#0d0887"
            ],
            [
             0.1111111111111111,
             "#46039f"
            ],
            [
             0.2222222222222222,
             "#7201a8"
            ],
            [
             0.3333333333333333,
             "#9c179e"
            ],
            [
             0.4444444444444444,
             "#bd3786"
            ],
            [
             0.5555555555555556,
             "#d8576b"
            ],
            [
             0.6666666666666666,
             "#ed7953"
            ],
            [
             0.7777777777777778,
             "#fb9f3a"
            ],
            [
             0.8888888888888888,
             "#fdca26"
            ],
            [
             1,
             "#f0f921"
            ]
           ]
          },
          "colorway": [
           "#636efa",
           "#EF553B",
           "#00cc96",
           "#ab63fa",
           "#FFA15A",
           "#19d3f3",
           "#FF6692",
           "#B6E880",
           "#FF97FF",
           "#FECB52"
          ],
          "font": {
           "color": "#2a3f5f"
          },
          "geo": {
           "bgcolor": "white",
           "lakecolor": "white",
           "landcolor": "#E5ECF6",
           "showlakes": true,
           "showland": true,
           "subunitcolor": "white"
          },
          "hoverlabel": {
           "align": "left"
          },
          "hovermode": "closest",
          "mapbox": {
           "style": "light"
          },
          "paper_bgcolor": "white",
          "plot_bgcolor": "#E5ECF6",
          "polar": {
           "angularaxis": {
            "gridcolor": "white",
            "linecolor": "white",
            "ticks": ""
           },
           "bgcolor": "#E5ECF6",
           "radialaxis": {
            "gridcolor": "white",
            "linecolor": "white",
            "ticks": ""
           }
          },
          "scene": {
           "xaxis": {
            "backgroundcolor": "#E5ECF6",
            "gridcolor": "white",
            "gridwidth": 2,
            "linecolor": "white",
            "showbackground": true,
            "ticks": "",
            "zerolinecolor": "white"
           },
           "yaxis": {
            "backgroundcolor": "#E5ECF6",
            "gridcolor": "white",
            "gridwidth": 2,
            "linecolor": "white",
            "showbackground": true,
            "ticks": "",
            "zerolinecolor": "white"
           },
           "zaxis": {
            "backgroundcolor": "#E5ECF6",
            "gridcolor": "white",
            "gridwidth": 2,
            "linecolor": "white",
            "showbackground": true,
            "ticks": "",
            "zerolinecolor": "white"
           }
          },
          "shapedefaults": {
           "line": {
            "color": "#2a3f5f"
           }
          },
          "ternary": {
           "aaxis": {
            "gridcolor": "white",
            "linecolor": "white",
            "ticks": ""
           },
           "baxis": {
            "gridcolor": "white",
            "linecolor": "white",
            "ticks": ""
           },
           "bgcolor": "#E5ECF6",
           "caxis": {
            "gridcolor": "white",
            "linecolor": "white",
            "ticks": ""
           }
          },
          "title": {
           "x": 0.05
          },
          "xaxis": {
           "automargin": true,
           "gridcolor": "white",
           "linecolor": "white",
           "ticks": "",
           "title": {
            "standoff": 15
           },
           "zerolinecolor": "white",
           "zerolinewidth": 2
          },
          "yaxis": {
           "automargin": true,
           "gridcolor": "white",
           "linecolor": "white",
           "ticks": "",
           "title": {
            "standoff": 15
           },
           "zerolinecolor": "white",
           "zerolinewidth": 2
          }
         }
        },
        "title": {
         "text": "U.S. history of territory expansion"
        }
       }
      },
      "text/html": [
       "<div>                            <div id=\"2623e1c1-01fc-4858-a3cd-14f6ab8ca3ad\" class=\"plotly-graph-div\" style=\"height:525px; width:100%;\"></div>            <script type=\"text/javascript\">                require([\"plotly\"], function(Plotly) {                    window.PLOTLYENV=window.PLOTLYENV || {};                                    if (document.getElementById(\"2623e1c1-01fc-4858-a3cd-14f6ab8ca3ad\")) {                    Plotly.newPlot(                        \"2623e1c1-01fc-4858-a3cd-14f6ab8ca3ad\",                        [{\"colorbar\": {\"title\": {\"text\": \"State year\"}}, \"colorscale\": [[0.0, \"rgb(247,251,255)\"], [0.125, \"rgb(222,235,247)\"], [0.25, \"rgb(198,219,239)\"], [0.375, \"rgb(158,202,225)\"], [0.5, \"rgb(107,174,214)\"], [0.625, \"rgb(66,146,198)\"], [0.75, \"rgb(33,113,181)\"], [0.875, \"rgb(8,81,156)\"], [1.0, \"rgb(8,48,107)\"]], \"locationmode\": \"USA-states\", \"locations\": [\"AK\", \"NM\", \"OK\", \"AZ\", \"CO\", \"NV\", \"MT\", \"WV\", \"AR\", \"LA\", \"ID\", \"WY\", \"UT\", \"KY\", \"MS\", \"MO\", \"DC\", \"HI\", \"AL\", \"TN\", \"OR\", \"CA\", \"WA\", \"KS\", \"GA\", \"SC\", \"FL\", \"SD\", \"TX\", \"WI\", \"ND\", \"ME\", \"NC\", \"IN\", \"MD\", \"NE\", \"OH\", \"VT\", \"MN\", \"VA\", \"IA\", \"DE\", \"NH\", \"IL\", \"PA\", \"MI\", \"NJ\", \"CT\", \"MA\", \"NY\", \"RI\"], \"type\": \"choropleth\", \"z\": [1959.0, 1912.0, 1907.0, 1912.0, 1876.0, 1864.0, 1889.0, 1863.0, 1836.0, 1812.0, 1890.0, 1890.0, 1896.0, 1792.0, 1817.0, 1821.0, 1790.0, 1959.0, 1819.0, 1796.0, 1859.0, 1850.0, 1889.0, 1861.0, 1788.0, 1788.0, 1845.0, 1889.0, 1845.0, 1848.0, 1889.0, 1820.0, 1789.0, 1816.0, 1788.0, 1867.0, 1803.0, 1791.0, 1858.0, 1788.0, 1846.0, 1787.0, 1788.0, 1818.0, 1787.0, 1837.0, 1787.0, 1788.0, 1788.0, 1788.0, 1790.0]}],                        {\"geo\": {\"scope\": \"usa\"}, \"template\": {\"data\": {\"bar\": [{\"error_x\": {\"color\": \"#2a3f5f\"}, \"error_y\": {\"color\": \"#2a3f5f\"}, \"marker\": {\"line\": {\"color\": \"#E5ECF6\", \"width\": 0.5}}, \"type\": \"bar\"}], \"barpolar\": [{\"marker\": {\"line\": {\"color\": \"#E5ECF6\", \"width\": 0.5}}, \"type\": \"barpolar\"}], \"carpet\": [{\"aaxis\": {\"endlinecolor\": \"#2a3f5f\", \"gridcolor\": \"white\", \"linecolor\": \"white\", \"minorgridcolor\": \"white\", \"startlinecolor\": \"#2a3f5f\"}, \"baxis\": {\"endlinecolor\": \"#2a3f5f\", \"gridcolor\": \"white\", \"linecolor\": \"white\", \"minorgridcolor\": \"white\", \"startlinecolor\": \"#2a3f5f\"}, \"type\": \"carpet\"}], \"choropleth\": [{\"colorbar\": {\"outlinewidth\": 0, \"ticks\": \"\"}, \"type\": \"choropleth\"}], \"contour\": [{\"colorbar\": {\"outlinewidth\": 0, \"ticks\": \"\"}, \"colorscale\": [[0.0, \"#0d0887\"], [0.1111111111111111, \"#46039f\"], [0.2222222222222222, \"#7201a8\"], [0.3333333333333333, \"#9c179e\"], [0.4444444444444444, \"#bd3786\"], [0.5555555555555556, \"#d8576b\"], [0.6666666666666666, \"#ed7953\"], [0.7777777777777778, \"#fb9f3a\"], [0.8888888888888888, \"#fdca26\"], [1.0, \"#f0f921\"]], \"type\": \"contour\"}], \"contourcarpet\": [{\"colorbar\": {\"outlinewidth\": 0, \"ticks\": \"\"}, \"type\": \"contourcarpet\"}], \"heatmap\": [{\"colorbar\": {\"outlinewidth\": 0, \"ticks\": \"\"}, \"colorscale\": [[0.0, \"#0d0887\"], [0.1111111111111111, \"#46039f\"], [0.2222222222222222, \"#7201a8\"], [0.3333333333333333, \"#9c179e\"], [0.4444444444444444, \"#bd3786\"], [0.5555555555555556, \"#d8576b\"], [0.6666666666666666, \"#ed7953\"], [0.7777777777777778, \"#fb9f3a\"], [0.8888888888888888, \"#fdca26\"], [1.0, \"#f0f921\"]], \"type\": \"heatmap\"}], \"heatmapgl\": [{\"colorbar\": {\"outlinewidth\": 0, \"ticks\": \"\"}, \"colorscale\": [[0.0, \"#0d0887\"], [0.1111111111111111, \"#46039f\"], [0.2222222222222222, \"#7201a8\"], [0.3333333333333333, \"#9c179e\"], [0.4444444444444444, \"#bd3786\"], [0.5555555555555556, \"#d8576b\"], [0.6666666666666666, \"#ed7953\"], [0.7777777777777778, \"#fb9f3a\"], [0.8888888888888888, \"#fdca26\"], [1.0, \"#f0f921\"]], \"type\": \"heatmapgl\"}], \"histogram\": [{\"marker\": {\"colorbar\": {\"outlinewidth\": 0, \"ticks\": \"\"}}, \"type\": \"histogram\"}], \"histogram2d\": [{\"colorbar\": {\"outlinewidth\": 0, \"ticks\": \"\"}, \"colorscale\": [[0.0, \"#0d0887\"], [0.1111111111111111, \"#46039f\"], [0.2222222222222222, \"#7201a8\"], [0.3333333333333333, \"#9c179e\"], [0.4444444444444444, \"#bd3786\"], [0.5555555555555556, \"#d8576b\"], [0.6666666666666666, \"#ed7953\"], [0.7777777777777778, \"#fb9f3a\"], [0.8888888888888888, \"#fdca26\"], [1.0, \"#f0f921\"]], \"type\": \"histogram2d\"}], \"histogram2dcontour\": [{\"colorbar\": {\"outlinewidth\": 0, \"ticks\": \"\"}, \"colorscale\": [[0.0, \"#0d0887\"], [0.1111111111111111, \"#46039f\"], [0.2222222222222222, \"#7201a8\"], [0.3333333333333333, \"#9c179e\"], [0.4444444444444444, \"#bd3786\"], [0.5555555555555556, \"#d8576b\"], [0.6666666666666666, \"#ed7953\"], [0.7777777777777778, \"#fb9f3a\"], [0.8888888888888888, \"#fdca26\"], [1.0, \"#f0f921\"]], \"type\": \"histogram2dcontour\"}], \"mesh3d\": [{\"colorbar\": {\"outlinewidth\": 0, \"ticks\": \"\"}, \"type\": \"mesh3d\"}], \"parcoords\": [{\"line\": {\"colorbar\": {\"outlinewidth\": 0, \"ticks\": \"\"}}, \"type\": \"parcoords\"}], \"pie\": [{\"automargin\": true, \"type\": \"pie\"}], \"scatter\": [{\"marker\": {\"colorbar\": {\"outlinewidth\": 0, \"ticks\": \"\"}}, \"type\": \"scatter\"}], \"scatter3d\": [{\"line\": {\"colorbar\": {\"outlinewidth\": 0, \"ticks\": \"\"}}, \"marker\": {\"colorbar\": {\"outlinewidth\": 0, \"ticks\": \"\"}}, \"type\": \"scatter3d\"}], \"scattercarpet\": [{\"marker\": {\"colorbar\": {\"outlinewidth\": 0, \"ticks\": \"\"}}, \"type\": \"scattercarpet\"}], \"scattergeo\": [{\"marker\": {\"colorbar\": {\"outlinewidth\": 0, \"ticks\": \"\"}}, \"type\": \"scattergeo\"}], \"scattergl\": [{\"marker\": {\"colorbar\": {\"outlinewidth\": 0, \"ticks\": \"\"}}, \"type\": \"scattergl\"}], \"scattermapbox\": [{\"marker\": {\"colorbar\": {\"outlinewidth\": 0, \"ticks\": \"\"}}, \"type\": \"scattermapbox\"}], \"scatterpolar\": [{\"marker\": {\"colorbar\": {\"outlinewidth\": 0, \"ticks\": \"\"}}, \"type\": \"scatterpolar\"}], \"scatterpolargl\": [{\"marker\": {\"colorbar\": {\"outlinewidth\": 0, \"ticks\": \"\"}}, \"type\": \"scatterpolargl\"}], \"scatterternary\": [{\"marker\": {\"colorbar\": {\"outlinewidth\": 0, \"ticks\": \"\"}}, \"type\": \"scatterternary\"}], \"surface\": [{\"colorbar\": {\"outlinewidth\": 0, \"ticks\": \"\"}, \"colorscale\": [[0.0, \"#0d0887\"], [0.1111111111111111, \"#46039f\"], [0.2222222222222222, \"#7201a8\"], [0.3333333333333333, \"#9c179e\"], [0.4444444444444444, \"#bd3786\"], [0.5555555555555556, \"#d8576b\"], [0.6666666666666666, \"#ed7953\"], [0.7777777777777778, \"#fb9f3a\"], [0.8888888888888888, \"#fdca26\"], [1.0, \"#f0f921\"]], \"type\": \"surface\"}], \"table\": [{\"cells\": {\"fill\": {\"color\": \"#EBF0F8\"}, \"line\": {\"color\": \"white\"}}, \"header\": {\"fill\": {\"color\": \"#C8D4E3\"}, \"line\": {\"color\": \"white\"}}, \"type\": \"table\"}]}, \"layout\": {\"annotationdefaults\": {\"arrowcolor\": \"#2a3f5f\", \"arrowhead\": 0, \"arrowwidth\": 1}, \"coloraxis\": {\"colorbar\": {\"outlinewidth\": 0, \"ticks\": \"\"}}, \"colorscale\": {\"diverging\": [[0, \"#8e0152\"], [0.1, \"#c51b7d\"], [0.2, \"#de77ae\"], [0.3, \"#f1b6da\"], [0.4, \"#fde0ef\"], [0.5, \"#f7f7f7\"], [0.6, \"#e6f5d0\"], [0.7, \"#b8e186\"], [0.8, \"#7fbc41\"], [0.9, \"#4d9221\"], [1, \"#276419\"]], \"sequential\": [[0.0, \"#0d0887\"], [0.1111111111111111, \"#46039f\"], [0.2222222222222222, \"#7201a8\"], [0.3333333333333333, \"#9c179e\"], [0.4444444444444444, \"#bd3786\"], [0.5555555555555556, \"#d8576b\"], [0.6666666666666666, \"#ed7953\"], [0.7777777777777778, \"#fb9f3a\"], [0.8888888888888888, \"#fdca26\"], [1.0, \"#f0f921\"]], \"sequentialminus\": [[0.0, \"#0d0887\"], [0.1111111111111111, \"#46039f\"], [0.2222222222222222, \"#7201a8\"], [0.3333333333333333, \"#9c179e\"], [0.4444444444444444, \"#bd3786\"], [0.5555555555555556, \"#d8576b\"], [0.6666666666666666, \"#ed7953\"], [0.7777777777777778, \"#fb9f3a\"], [0.8888888888888888, \"#fdca26\"], [1.0, \"#f0f921\"]]}, \"colorway\": [\"#636efa\", \"#EF553B\", \"#00cc96\", \"#ab63fa\", \"#FFA15A\", \"#19d3f3\", \"#FF6692\", \"#B6E880\", \"#FF97FF\", \"#FECB52\"], \"font\": {\"color\": \"#2a3f5f\"}, \"geo\": {\"bgcolor\": \"white\", \"lakecolor\": \"white\", \"landcolor\": \"#E5ECF6\", \"showlakes\": true, \"showland\": true, \"subunitcolor\": \"white\"}, \"hoverlabel\": {\"align\": \"left\"}, \"hovermode\": \"closest\", \"mapbox\": {\"style\": \"light\"}, \"paper_bgcolor\": \"white\", \"plot_bgcolor\": \"#E5ECF6\", \"polar\": {\"angularaxis\": {\"gridcolor\": \"white\", \"linecolor\": \"white\", \"ticks\": \"\"}, \"bgcolor\": \"#E5ECF6\", \"radialaxis\": {\"gridcolor\": \"white\", \"linecolor\": \"white\", \"ticks\": \"\"}}, \"scene\": {\"xaxis\": {\"backgroundcolor\": \"#E5ECF6\", \"gridcolor\": \"white\", \"gridwidth\": 2, \"linecolor\": \"white\", \"showbackground\": true, \"ticks\": \"\", \"zerolinecolor\": \"white\"}, \"yaxis\": {\"backgroundcolor\": \"#E5ECF6\", \"gridcolor\": \"white\", \"gridwidth\": 2, \"linecolor\": \"white\", \"showbackground\": true, \"ticks\": \"\", \"zerolinecolor\": \"white\"}, \"zaxis\": {\"backgroundcolor\": \"#E5ECF6\", \"gridcolor\": \"white\", \"gridwidth\": 2, \"linecolor\": \"white\", \"showbackground\": true, \"ticks\": \"\", \"zerolinecolor\": \"white\"}}, \"shapedefaults\": {\"line\": {\"color\": \"#2a3f5f\"}}, \"ternary\": {\"aaxis\": {\"gridcolor\": \"white\", \"linecolor\": \"white\", \"ticks\": \"\"}, \"baxis\": {\"gridcolor\": \"white\", \"linecolor\": \"white\", \"ticks\": \"\"}, \"bgcolor\": \"#E5ECF6\", \"caxis\": {\"gridcolor\": \"white\", \"linecolor\": \"white\", \"ticks\": \"\"}}, \"title\": {\"x\": 0.05}, \"xaxis\": {\"automargin\": true, \"gridcolor\": \"white\", \"linecolor\": \"white\", \"ticks\": \"\", \"title\": {\"standoff\": 15}, \"zerolinecolor\": \"white\", \"zerolinewidth\": 2}, \"yaxis\": {\"automargin\": true, \"gridcolor\": \"white\", \"linecolor\": \"white\", \"ticks\": \"\", \"title\": {\"standoff\": 15}, \"zerolinecolor\": \"white\", \"zerolinewidth\": 2}}}, \"title\": {\"text\": \"U.S. history of territory expansion\"}},                        {\"responsive\": true}                    ).then(function(){\n",
       "                            \n",
       "var gd = document.getElementById('2623e1c1-01fc-4858-a3cd-14f6ab8ca3ad');\n",
       "var x = new MutationObserver(function (mutations, observer) {{\n",
       "        var display = window.getComputedStyle(gd).display;\n",
       "        if (!display || display === 'none') {{\n",
       "            console.log([gd, 'removed!']);\n",
       "            Plotly.purge(gd);\n",
       "            observer.disconnect();\n",
       "        }}\n",
       "}});\n",
       "\n",
       "// Listen for the removal of the full notebook cells\n",
       "var notebookContainer = gd.closest('#notebook-container');\n",
       "if (notebookContainer) {{\n",
       "    x.observe(notebookContainer, {childList: true});\n",
       "}}\n",
       "\n",
       "// Listen for the clearing of the current output cell\n",
       "var outputEl = gd.closest('.output');\n",
       "if (outputEl) {{\n",
       "    x.observe(outputEl, {childList: true});\n",
       "}}\n",
       "\n",
       "                        })                };                });            </script>        </div>"
      ]
     },
     "metadata": {},
     "output_type": "display_data"
    }
   ],
   "source": [
    "#Display U.S. history of territory expansion\n",
    "\n",
    "df = pd.read_excel('state_all.xlsx')\n",
    "\n",
    "fig = go.Figure(data=go.Choropleth(\n",
    "    locations=df['Acronym'], # Spatial coordinates\n",
    "    z = df['State year'].astype(float), # Data to be color-coded\n",
    "    locationmode = 'USA-states', # set of locations match entries in `locations`\n",
    "    colorscale = 'blues',\n",
    "    colorbar_title = \"State year\",\n",
    "))\n",
    "\n",
    "\n",
    "\n",
    "fig.update_layout(\n",
    "    title_text = 'U.S. history of territory expansion',\n",
    "    geo_scope='usa', # limite map scope to USA\n",
    ")\n",
    "\n",
    "\n",
    "\n",
    "fig.show()\n"
   ]
  },
  {
   "cell_type": "code",
   "execution_count": 34,
   "metadata": {},
   "outputs": [
    {
     "data": {
      "application/vnd.plotly.v1+json": {
       "config": {
        "plotlyServerURL": "https://plot.ly"
       },
       "data": [
        {
         "colorbar": {
          "title": {
           "text": "Police Basic Training hours"
          }
         },
         "colorscale": [
          [
           0,
           "rgb(247,251,255)"
          ],
          [
           0.125,
           "rgb(222,235,247)"
          ],
          [
           0.25,
           "rgb(198,219,239)"
          ],
          [
           0.375,
           "rgb(158,202,225)"
          ],
          [
           0.5,
           "rgb(107,174,214)"
          ],
          [
           0.625,
           "rgb(66,146,198)"
          ],
          [
           0.75,
           "rgb(33,113,181)"
          ],
          [
           0.875,
           "rgb(8,81,156)"
          ],
          [
           1,
           "rgb(8,48,107)"
          ]
         ],
         "locationmode": "USA-states",
         "locations": [
          "AK",
          "NM",
          "OK",
          "AZ",
          "CO",
          "NV",
          "MT",
          "WV",
          "AR",
          "LA",
          "ID",
          "WY",
          "UT",
          "KY",
          "MS",
          "MO",
          "DC",
          "HI",
          "AL",
          "TN",
          "OR",
          "CA",
          "WA",
          "KS",
          "GA",
          "SC",
          "FL",
          "SD",
          "TX",
          "WI",
          "ND",
          "ME",
          "NC",
          "IN",
          "MD",
          "NE",
          "OH",
          "VT",
          "MN",
          "VA",
          "IA",
          "DE",
          "NH",
          "IL",
          "PA",
          "MI",
          "NJ",
          "CT",
          "MA",
          "NY",
          "RI"
         ],
         "type": "choropleth",
         "z": [
          520,
          1160,
          576,
          585,
          556,
          680,
          480,
          640,
          520,
          450,
          600,
          598,
          640,
          800,
          480,
          600,
          960,
          0,
          520,
          480,
          400,
          664,
          720,
          560,
          408,
          480,
          770,
          520,
          696,
          720,
          480,
          720,
          640,
          600,
          750,
          626,
          737,
          792,
          1050,
          800,
          560,
          584,
          640,
          560,
          859,
          680,
          880,
          1321,
          812,
          700,
          880
         ]
        }
       ],
       "layout": {
        "geo": {
         "scope": "usa"
        },
        "template": {
         "data": {
          "bar": [
           {
            "error_x": {
             "color": "#2a3f5f"
            },
            "error_y": {
             "color": "#2a3f5f"
            },
            "marker": {
             "line": {
              "color": "#E5ECF6",
              "width": 0.5
             }
            },
            "type": "bar"
           }
          ],
          "barpolar": [
           {
            "marker": {
             "line": {
              "color": "#E5ECF6",
              "width": 0.5
             }
            },
            "type": "barpolar"
           }
          ],
          "carpet": [
           {
            "aaxis": {
             "endlinecolor": "#2a3f5f",
             "gridcolor": "white",
             "linecolor": "white",
             "minorgridcolor": "white",
             "startlinecolor": "#2a3f5f"
            },
            "baxis": {
             "endlinecolor": "#2a3f5f",
             "gridcolor": "white",
             "linecolor": "white",
             "minorgridcolor": "white",
             "startlinecolor": "#2a3f5f"
            },
            "type": "carpet"
           }
          ],
          "choropleth": [
           {
            "colorbar": {
             "outlinewidth": 0,
             "ticks": ""
            },
            "type": "choropleth"
           }
          ],
          "contour": [
           {
            "colorbar": {
             "outlinewidth": 0,
             "ticks": ""
            },
            "colorscale": [
             [
              0,
              "#0d0887"
             ],
             [
              0.1111111111111111,
              "#46039f"
             ],
             [
              0.2222222222222222,
              "#7201a8"
             ],
             [
              0.3333333333333333,
              "#9c179e"
             ],
             [
              0.4444444444444444,
              "#bd3786"
             ],
             [
              0.5555555555555556,
              "#d8576b"
             ],
             [
              0.6666666666666666,
              "#ed7953"
             ],
             [
              0.7777777777777778,
              "#fb9f3a"
             ],
             [
              0.8888888888888888,
              "#fdca26"
             ],
             [
              1,
              "#f0f921"
             ]
            ],
            "type": "contour"
           }
          ],
          "contourcarpet": [
           {
            "colorbar": {
             "outlinewidth": 0,
             "ticks": ""
            },
            "type": "contourcarpet"
           }
          ],
          "heatmap": [
           {
            "colorbar": {
             "outlinewidth": 0,
             "ticks": ""
            },
            "colorscale": [
             [
              0,
              "#0d0887"
             ],
             [
              0.1111111111111111,
              "#46039f"
             ],
             [
              0.2222222222222222,
              "#7201a8"
             ],
             [
              0.3333333333333333,
              "#9c179e"
             ],
             [
              0.4444444444444444,
              "#bd3786"
             ],
             [
              0.5555555555555556,
              "#d8576b"
             ],
             [
              0.6666666666666666,
              "#ed7953"
             ],
             [
              0.7777777777777778,
              "#fb9f3a"
             ],
             [
              0.8888888888888888,
              "#fdca26"
             ],
             [
              1,
              "#f0f921"
             ]
            ],
            "type": "heatmap"
           }
          ],
          "heatmapgl": [
           {
            "colorbar": {
             "outlinewidth": 0,
             "ticks": ""
            },
            "colorscale": [
             [
              0,
              "#0d0887"
             ],
             [
              0.1111111111111111,
              "#46039f"
             ],
             [
              0.2222222222222222,
              "#7201a8"
             ],
             [
              0.3333333333333333,
              "#9c179e"
             ],
             [
              0.4444444444444444,
              "#bd3786"
             ],
             [
              0.5555555555555556,
              "#d8576b"
             ],
             [
              0.6666666666666666,
              "#ed7953"
             ],
             [
              0.7777777777777778,
              "#fb9f3a"
             ],
             [
              0.8888888888888888,
              "#fdca26"
             ],
             [
              1,
              "#f0f921"
             ]
            ],
            "type": "heatmapgl"
           }
          ],
          "histogram": [
           {
            "marker": {
             "colorbar": {
              "outlinewidth": 0,
              "ticks": ""
             }
            },
            "type": "histogram"
           }
          ],
          "histogram2d": [
           {
            "colorbar": {
             "outlinewidth": 0,
             "ticks": ""
            },
            "colorscale": [
             [
              0,
              "#0d0887"
             ],
             [
              0.1111111111111111,
              "#46039f"
             ],
             [
              0.2222222222222222,
              "#7201a8"
             ],
             [
              0.3333333333333333,
              "#9c179e"
             ],
             [
              0.4444444444444444,
              "#bd3786"
             ],
             [
              0.5555555555555556,
              "#d8576b"
             ],
             [
              0.6666666666666666,
              "#ed7953"
             ],
             [
              0.7777777777777778,
              "#fb9f3a"
             ],
             [
              0.8888888888888888,
              "#fdca26"
             ],
             [
              1,
              "#f0f921"
             ]
            ],
            "type": "histogram2d"
           }
          ],
          "histogram2dcontour": [
           {
            "colorbar": {
             "outlinewidth": 0,
             "ticks": ""
            },
            "colorscale": [
             [
              0,
              "#0d0887"
             ],
             [
              0.1111111111111111,
              "#46039f"
             ],
             [
              0.2222222222222222,
              "#7201a8"
             ],
             [
              0.3333333333333333,
              "#9c179e"
             ],
             [
              0.4444444444444444,
              "#bd3786"
             ],
             [
              0.5555555555555556,
              "#d8576b"
             ],
             [
              0.6666666666666666,
              "#ed7953"
             ],
             [
              0.7777777777777778,
              "#fb9f3a"
             ],
             [
              0.8888888888888888,
              "#fdca26"
             ],
             [
              1,
              "#f0f921"
             ]
            ],
            "type": "histogram2dcontour"
           }
          ],
          "mesh3d": [
           {
            "colorbar": {
             "outlinewidth": 0,
             "ticks": ""
            },
            "type": "mesh3d"
           }
          ],
          "parcoords": [
           {
            "line": {
             "colorbar": {
              "outlinewidth": 0,
              "ticks": ""
             }
            },
            "type": "parcoords"
           }
          ],
          "pie": [
           {
            "automargin": true,
            "type": "pie"
           }
          ],
          "scatter": [
           {
            "marker": {
             "colorbar": {
              "outlinewidth": 0,
              "ticks": ""
             }
            },
            "type": "scatter"
           }
          ],
          "scatter3d": [
           {
            "line": {
             "colorbar": {
              "outlinewidth": 0,
              "ticks": ""
             }
            },
            "marker": {
             "colorbar": {
              "outlinewidth": 0,
              "ticks": ""
             }
            },
            "type": "scatter3d"
           }
          ],
          "scattercarpet": [
           {
            "marker": {
             "colorbar": {
              "outlinewidth": 0,
              "ticks": ""
             }
            },
            "type": "scattercarpet"
           }
          ],
          "scattergeo": [
           {
            "marker": {
             "colorbar": {
              "outlinewidth": 0,
              "ticks": ""
             }
            },
            "type": "scattergeo"
           }
          ],
          "scattergl": [
           {
            "marker": {
             "colorbar": {
              "outlinewidth": 0,
              "ticks": ""
             }
            },
            "type": "scattergl"
           }
          ],
          "scattermapbox": [
           {
            "marker": {
             "colorbar": {
              "outlinewidth": 0,
              "ticks": ""
             }
            },
            "type": "scattermapbox"
           }
          ],
          "scatterpolar": [
           {
            "marker": {
             "colorbar": {
              "outlinewidth": 0,
              "ticks": ""
             }
            },
            "type": "scatterpolar"
           }
          ],
          "scatterpolargl": [
           {
            "marker": {
             "colorbar": {
              "outlinewidth": 0,
              "ticks": ""
             }
            },
            "type": "scatterpolargl"
           }
          ],
          "scatterternary": [
           {
            "marker": {
             "colorbar": {
              "outlinewidth": 0,
              "ticks": ""
             }
            },
            "type": "scatterternary"
           }
          ],
          "surface": [
           {
            "colorbar": {
             "outlinewidth": 0,
             "ticks": ""
            },
            "colorscale": [
             [
              0,
              "#0d0887"
             ],
             [
              0.1111111111111111,
              "#46039f"
             ],
             [
              0.2222222222222222,
              "#7201a8"
             ],
             [
              0.3333333333333333,
              "#9c179e"
             ],
             [
              0.4444444444444444,
              "#bd3786"
             ],
             [
              0.5555555555555556,
              "#d8576b"
             ],
             [
              0.6666666666666666,
              "#ed7953"
             ],
             [
              0.7777777777777778,
              "#fb9f3a"
             ],
             [
              0.8888888888888888,
              "#fdca26"
             ],
             [
              1,
              "#f0f921"
             ]
            ],
            "type": "surface"
           }
          ],
          "table": [
           {
            "cells": {
             "fill": {
              "color": "#EBF0F8"
             },
             "line": {
              "color": "white"
             }
            },
            "header": {
             "fill": {
              "color": "#C8D4E3"
             },
             "line": {
              "color": "white"
             }
            },
            "type": "table"
           }
          ]
         },
         "layout": {
          "annotationdefaults": {
           "arrowcolor": "#2a3f5f",
           "arrowhead": 0,
           "arrowwidth": 1
          },
          "coloraxis": {
           "colorbar": {
            "outlinewidth": 0,
            "ticks": ""
           }
          },
          "colorscale": {
           "diverging": [
            [
             0,
             "#8e0152"
            ],
            [
             0.1,
             "#c51b7d"
            ],
            [
             0.2,
             "#de77ae"
            ],
            [
             0.3,
             "#f1b6da"
            ],
            [
             0.4,
             "#fde0ef"
            ],
            [
             0.5,
             "#f7f7f7"
            ],
            [
             0.6,
             "#e6f5d0"
            ],
            [
             0.7,
             "#b8e186"
            ],
            [
             0.8,
             "#7fbc41"
            ],
            [
             0.9,
             "#4d9221"
            ],
            [
             1,
             "#276419"
            ]
           ],
           "sequential": [
            [
             0,
             "#0d0887"
            ],
            [
             0.1111111111111111,
             "#46039f"
            ],
            [
             0.2222222222222222,
             "#7201a8"
            ],
            [
             0.3333333333333333,
             "#9c179e"
            ],
            [
             0.4444444444444444,
             "#bd3786"
            ],
            [
             0.5555555555555556,
             "#d8576b"
            ],
            [
             0.6666666666666666,
             "#ed7953"
            ],
            [
             0.7777777777777778,
             "#fb9f3a"
            ],
            [
             0.8888888888888888,
             "#fdca26"
            ],
            [
             1,
             "#f0f921"
            ]
           ],
           "sequentialminus": [
            [
             0,
             "#0d0887"
            ],
            [
             0.1111111111111111,
             "#46039f"
            ],
            [
             0.2222222222222222,
             "#7201a8"
            ],
            [
             0.3333333333333333,
             "#9c179e"
            ],
            [
             0.4444444444444444,
             "#bd3786"
            ],
            [
             0.5555555555555556,
             "#d8576b"
            ],
            [
             0.6666666666666666,
             "#ed7953"
            ],
            [
             0.7777777777777778,
             "#fb9f3a"
            ],
            [
             0.8888888888888888,
             "#fdca26"
            ],
            [
             1,
             "#f0f921"
            ]
           ]
          },
          "colorway": [
           "#636efa",
           "#EF553B",
           "#00cc96",
           "#ab63fa",
           "#FFA15A",
           "#19d3f3",
           "#FF6692",
           "#B6E880",
           "#FF97FF",
           "#FECB52"
          ],
          "font": {
           "color": "#2a3f5f"
          },
          "geo": {
           "bgcolor": "white",
           "lakecolor": "white",
           "landcolor": "#E5ECF6",
           "showlakes": true,
           "showland": true,
           "subunitcolor": "white"
          },
          "hoverlabel": {
           "align": "left"
          },
          "hovermode": "closest",
          "mapbox": {
           "style": "light"
          },
          "paper_bgcolor": "white",
          "plot_bgcolor": "#E5ECF6",
          "polar": {
           "angularaxis": {
            "gridcolor": "white",
            "linecolor": "white",
            "ticks": ""
           },
           "bgcolor": "#E5ECF6",
           "radialaxis": {
            "gridcolor": "white",
            "linecolor": "white",
            "ticks": ""
           }
          },
          "scene": {
           "xaxis": {
            "backgroundcolor": "#E5ECF6",
            "gridcolor": "white",
            "gridwidth": 2,
            "linecolor": "white",
            "showbackground": true,
            "ticks": "",
            "zerolinecolor": "white"
           },
           "yaxis": {
            "backgroundcolor": "#E5ECF6",
            "gridcolor": "white",
            "gridwidth": 2,
            "linecolor": "white",
            "showbackground": true,
            "ticks": "",
            "zerolinecolor": "white"
           },
           "zaxis": {
            "backgroundcolor": "#E5ECF6",
            "gridcolor": "white",
            "gridwidth": 2,
            "linecolor": "white",
            "showbackground": true,
            "ticks": "",
            "zerolinecolor": "white"
           }
          },
          "shapedefaults": {
           "line": {
            "color": "#2a3f5f"
           }
          },
          "ternary": {
           "aaxis": {
            "gridcolor": "white",
            "linecolor": "white",
            "ticks": ""
           },
           "baxis": {
            "gridcolor": "white",
            "linecolor": "white",
            "ticks": ""
           },
           "bgcolor": "#E5ECF6",
           "caxis": {
            "gridcolor": "white",
            "linecolor": "white",
            "ticks": ""
           }
          },
          "title": {
           "x": 0.05
          },
          "xaxis": {
           "automargin": true,
           "gridcolor": "white",
           "linecolor": "white",
           "ticks": "",
           "title": {
            "standoff": 15
           },
           "zerolinecolor": "white",
           "zerolinewidth": 2
          },
          "yaxis": {
           "automargin": true,
           "gridcolor": "white",
           "linecolor": "white",
           "ticks": "",
           "title": {
            "standoff": 15
           },
           "zerolinecolor": "white",
           "zerolinewidth": 2
          }
         }
        },
        "title": {
         "text": "Police Basic Training hours by state"
        }
       }
      },
      "text/html": [
       "<div>                            <div id=\"3618c0e5-acda-478f-ad87-eb2bfbb214fc\" class=\"plotly-graph-div\" style=\"height:525px; width:100%;\"></div>            <script type=\"text/javascript\">                require([\"plotly\"], function(Plotly) {                    window.PLOTLYENV=window.PLOTLYENV || {};                                    if (document.getElementById(\"3618c0e5-acda-478f-ad87-eb2bfbb214fc\")) {                    Plotly.newPlot(                        \"3618c0e5-acda-478f-ad87-eb2bfbb214fc\",                        [{\"colorbar\": {\"title\": {\"text\": \"Police Basic Training hours\"}}, \"colorscale\": [[0.0, \"rgb(247,251,255)\"], [0.125, \"rgb(222,235,247)\"], [0.25, \"rgb(198,219,239)\"], [0.375, \"rgb(158,202,225)\"], [0.5, \"rgb(107,174,214)\"], [0.625, \"rgb(66,146,198)\"], [0.75, \"rgb(33,113,181)\"], [0.875, \"rgb(8,81,156)\"], [1.0, \"rgb(8,48,107)\"]], \"locationmode\": \"USA-states\", \"locations\": [\"AK\", \"NM\", \"OK\", \"AZ\", \"CO\", \"NV\", \"MT\", \"WV\", \"AR\", \"LA\", \"ID\", \"WY\", \"UT\", \"KY\", \"MS\", \"MO\", \"DC\", \"HI\", \"AL\", \"TN\", \"OR\", \"CA\", \"WA\", \"KS\", \"GA\", \"SC\", \"FL\", \"SD\", \"TX\", \"WI\", \"ND\", \"ME\", \"NC\", \"IN\", \"MD\", \"NE\", \"OH\", \"VT\", \"MN\", \"VA\", \"IA\", \"DE\", \"NH\", \"IL\", \"PA\", \"MI\", \"NJ\", \"CT\", \"MA\", \"NY\", \"RI\"], \"type\": \"choropleth\", \"z\": [520.0, 1160.0, 576.0, 585.0, 556.0, 680.0, 480.0, 640.0, 520.0, 450.0, 600.0, 598.0, 640.0, 800.0, 480.0, 600.0, 960.0, 0.0, 520.0, 480.0, 400.0, 664.0, 720.0, 560.0, 408.0, 480.0, 770.0, 520.0, 696.0, 720.0, 480.0, 720.0, 640.0, 600.0, 750.0, 626.0, 737.0, 792.0, 1050.0, 800.0, 560.0, 584.0, 640.0, 560.0, 859.0, 680.0, 880.0, 1321.0, 812.0, 700.0, 880.0]}],                        {\"geo\": {\"scope\": \"usa\"}, \"template\": {\"data\": {\"bar\": [{\"error_x\": {\"color\": \"#2a3f5f\"}, \"error_y\": {\"color\": \"#2a3f5f\"}, \"marker\": {\"line\": {\"color\": \"#E5ECF6\", \"width\": 0.5}}, \"type\": \"bar\"}], \"barpolar\": [{\"marker\": {\"line\": {\"color\": \"#E5ECF6\", \"width\": 0.5}}, \"type\": \"barpolar\"}], \"carpet\": [{\"aaxis\": {\"endlinecolor\": \"#2a3f5f\", \"gridcolor\": \"white\", \"linecolor\": \"white\", \"minorgridcolor\": \"white\", \"startlinecolor\": \"#2a3f5f\"}, \"baxis\": {\"endlinecolor\": \"#2a3f5f\", \"gridcolor\": \"white\", \"linecolor\": \"white\", \"minorgridcolor\": \"white\", \"startlinecolor\": \"#2a3f5f\"}, \"type\": \"carpet\"}], \"choropleth\": [{\"colorbar\": {\"outlinewidth\": 0, \"ticks\": \"\"}, \"type\": \"choropleth\"}], \"contour\": [{\"colorbar\": {\"outlinewidth\": 0, \"ticks\": \"\"}, \"colorscale\": [[0.0, \"#0d0887\"], [0.1111111111111111, \"#46039f\"], [0.2222222222222222, \"#7201a8\"], [0.3333333333333333, \"#9c179e\"], [0.4444444444444444, \"#bd3786\"], [0.5555555555555556, \"#d8576b\"], [0.6666666666666666, \"#ed7953\"], [0.7777777777777778, \"#fb9f3a\"], [0.8888888888888888, \"#fdca26\"], [1.0, \"#f0f921\"]], \"type\": \"contour\"}], \"contourcarpet\": [{\"colorbar\": {\"outlinewidth\": 0, \"ticks\": \"\"}, \"type\": \"contourcarpet\"}], \"heatmap\": [{\"colorbar\": {\"outlinewidth\": 0, \"ticks\": \"\"}, \"colorscale\": [[0.0, \"#0d0887\"], [0.1111111111111111, \"#46039f\"], [0.2222222222222222, \"#7201a8\"], [0.3333333333333333, \"#9c179e\"], [0.4444444444444444, \"#bd3786\"], [0.5555555555555556, \"#d8576b\"], [0.6666666666666666, \"#ed7953\"], [0.7777777777777778, \"#fb9f3a\"], [0.8888888888888888, \"#fdca26\"], [1.0, \"#f0f921\"]], \"type\": \"heatmap\"}], \"heatmapgl\": [{\"colorbar\": {\"outlinewidth\": 0, \"ticks\": \"\"}, \"colorscale\": [[0.0, \"#0d0887\"], [0.1111111111111111, \"#46039f\"], [0.2222222222222222, \"#7201a8\"], [0.3333333333333333, \"#9c179e\"], [0.4444444444444444, \"#bd3786\"], [0.5555555555555556, \"#d8576b\"], [0.6666666666666666, \"#ed7953\"], [0.7777777777777778, \"#fb9f3a\"], [0.8888888888888888, \"#fdca26\"], [1.0, \"#f0f921\"]], \"type\": \"heatmapgl\"}], \"histogram\": [{\"marker\": {\"colorbar\": {\"outlinewidth\": 0, \"ticks\": \"\"}}, \"type\": \"histogram\"}], \"histogram2d\": [{\"colorbar\": {\"outlinewidth\": 0, \"ticks\": \"\"}, \"colorscale\": [[0.0, \"#0d0887\"], [0.1111111111111111, \"#46039f\"], [0.2222222222222222, \"#7201a8\"], [0.3333333333333333, \"#9c179e\"], [0.4444444444444444, \"#bd3786\"], [0.5555555555555556, \"#d8576b\"], [0.6666666666666666, \"#ed7953\"], [0.7777777777777778, \"#fb9f3a\"], [0.8888888888888888, \"#fdca26\"], [1.0, \"#f0f921\"]], \"type\": \"histogram2d\"}], \"histogram2dcontour\": [{\"colorbar\": {\"outlinewidth\": 0, \"ticks\": \"\"}, \"colorscale\": [[0.0, \"#0d0887\"], [0.1111111111111111, \"#46039f\"], [0.2222222222222222, \"#7201a8\"], [0.3333333333333333, \"#9c179e\"], [0.4444444444444444, \"#bd3786\"], [0.5555555555555556, \"#d8576b\"], [0.6666666666666666, \"#ed7953\"], [0.7777777777777778, \"#fb9f3a\"], [0.8888888888888888, \"#fdca26\"], [1.0, \"#f0f921\"]], \"type\": \"histogram2dcontour\"}], \"mesh3d\": [{\"colorbar\": {\"outlinewidth\": 0, \"ticks\": \"\"}, \"type\": \"mesh3d\"}], \"parcoords\": [{\"line\": {\"colorbar\": {\"outlinewidth\": 0, \"ticks\": \"\"}}, \"type\": \"parcoords\"}], \"pie\": [{\"automargin\": true, \"type\": \"pie\"}], \"scatter\": [{\"marker\": {\"colorbar\": {\"outlinewidth\": 0, \"ticks\": \"\"}}, \"type\": \"scatter\"}], \"scatter3d\": [{\"line\": {\"colorbar\": {\"outlinewidth\": 0, \"ticks\": \"\"}}, \"marker\": {\"colorbar\": {\"outlinewidth\": 0, \"ticks\": \"\"}}, \"type\": \"scatter3d\"}], \"scattercarpet\": [{\"marker\": {\"colorbar\": {\"outlinewidth\": 0, \"ticks\": \"\"}}, \"type\": \"scattercarpet\"}], \"scattergeo\": [{\"marker\": {\"colorbar\": {\"outlinewidth\": 0, \"ticks\": \"\"}}, \"type\": \"scattergeo\"}], \"scattergl\": [{\"marker\": {\"colorbar\": {\"outlinewidth\": 0, \"ticks\": \"\"}}, \"type\": \"scattergl\"}], \"scattermapbox\": [{\"marker\": {\"colorbar\": {\"outlinewidth\": 0, \"ticks\": \"\"}}, \"type\": \"scattermapbox\"}], \"scatterpolar\": [{\"marker\": {\"colorbar\": {\"outlinewidth\": 0, \"ticks\": \"\"}}, \"type\": \"scatterpolar\"}], \"scatterpolargl\": [{\"marker\": {\"colorbar\": {\"outlinewidth\": 0, \"ticks\": \"\"}}, \"type\": \"scatterpolargl\"}], \"scatterternary\": [{\"marker\": {\"colorbar\": {\"outlinewidth\": 0, \"ticks\": \"\"}}, \"type\": \"scatterternary\"}], \"surface\": [{\"colorbar\": {\"outlinewidth\": 0, \"ticks\": \"\"}, \"colorscale\": [[0.0, \"#0d0887\"], [0.1111111111111111, \"#46039f\"], [0.2222222222222222, \"#7201a8\"], [0.3333333333333333, \"#9c179e\"], [0.4444444444444444, \"#bd3786\"], [0.5555555555555556, \"#d8576b\"], [0.6666666666666666, \"#ed7953\"], [0.7777777777777778, \"#fb9f3a\"], [0.8888888888888888, \"#fdca26\"], [1.0, \"#f0f921\"]], \"type\": \"surface\"}], \"table\": [{\"cells\": {\"fill\": {\"color\": \"#EBF0F8\"}, \"line\": {\"color\": \"white\"}}, \"header\": {\"fill\": {\"color\": \"#C8D4E3\"}, \"line\": {\"color\": \"white\"}}, \"type\": \"table\"}]}, \"layout\": {\"annotationdefaults\": {\"arrowcolor\": \"#2a3f5f\", \"arrowhead\": 0, \"arrowwidth\": 1}, \"coloraxis\": {\"colorbar\": {\"outlinewidth\": 0, \"ticks\": \"\"}}, \"colorscale\": {\"diverging\": [[0, \"#8e0152\"], [0.1, \"#c51b7d\"], [0.2, \"#de77ae\"], [0.3, \"#f1b6da\"], [0.4, \"#fde0ef\"], [0.5, \"#f7f7f7\"], [0.6, \"#e6f5d0\"], [0.7, \"#b8e186\"], [0.8, \"#7fbc41\"], [0.9, \"#4d9221\"], [1, \"#276419\"]], \"sequential\": [[0.0, \"#0d0887\"], [0.1111111111111111, \"#46039f\"], [0.2222222222222222, \"#7201a8\"], [0.3333333333333333, \"#9c179e\"], [0.4444444444444444, \"#bd3786\"], [0.5555555555555556, \"#d8576b\"], [0.6666666666666666, \"#ed7953\"], [0.7777777777777778, \"#fb9f3a\"], [0.8888888888888888, \"#fdca26\"], [1.0, \"#f0f921\"]], \"sequentialminus\": [[0.0, \"#0d0887\"], [0.1111111111111111, \"#46039f\"], [0.2222222222222222, \"#7201a8\"], [0.3333333333333333, \"#9c179e\"], [0.4444444444444444, \"#bd3786\"], [0.5555555555555556, \"#d8576b\"], [0.6666666666666666, \"#ed7953\"], [0.7777777777777778, \"#fb9f3a\"], [0.8888888888888888, \"#fdca26\"], [1.0, \"#f0f921\"]]}, \"colorway\": [\"#636efa\", \"#EF553B\", \"#00cc96\", \"#ab63fa\", \"#FFA15A\", \"#19d3f3\", \"#FF6692\", \"#B6E880\", \"#FF97FF\", \"#FECB52\"], \"font\": {\"color\": \"#2a3f5f\"}, \"geo\": {\"bgcolor\": \"white\", \"lakecolor\": \"white\", \"landcolor\": \"#E5ECF6\", \"showlakes\": true, \"showland\": true, \"subunitcolor\": \"white\"}, \"hoverlabel\": {\"align\": \"left\"}, \"hovermode\": \"closest\", \"mapbox\": {\"style\": \"light\"}, \"paper_bgcolor\": \"white\", \"plot_bgcolor\": \"#E5ECF6\", \"polar\": {\"angularaxis\": {\"gridcolor\": \"white\", \"linecolor\": \"white\", \"ticks\": \"\"}, \"bgcolor\": \"#E5ECF6\", \"radialaxis\": {\"gridcolor\": \"white\", \"linecolor\": \"white\", \"ticks\": \"\"}}, \"scene\": {\"xaxis\": {\"backgroundcolor\": \"#E5ECF6\", \"gridcolor\": \"white\", \"gridwidth\": 2, \"linecolor\": \"white\", \"showbackground\": true, \"ticks\": \"\", \"zerolinecolor\": \"white\"}, \"yaxis\": {\"backgroundcolor\": \"#E5ECF6\", \"gridcolor\": \"white\", \"gridwidth\": 2, \"linecolor\": \"white\", \"showbackground\": true, \"ticks\": \"\", \"zerolinecolor\": \"white\"}, \"zaxis\": {\"backgroundcolor\": \"#E5ECF6\", \"gridcolor\": \"white\", \"gridwidth\": 2, \"linecolor\": \"white\", \"showbackground\": true, \"ticks\": \"\", \"zerolinecolor\": \"white\"}}, \"shapedefaults\": {\"line\": {\"color\": \"#2a3f5f\"}}, \"ternary\": {\"aaxis\": {\"gridcolor\": \"white\", \"linecolor\": \"white\", \"ticks\": \"\"}, \"baxis\": {\"gridcolor\": \"white\", \"linecolor\": \"white\", \"ticks\": \"\"}, \"bgcolor\": \"#E5ECF6\", \"caxis\": {\"gridcolor\": \"white\", \"linecolor\": \"white\", \"ticks\": \"\"}}, \"title\": {\"x\": 0.05}, \"xaxis\": {\"automargin\": true, \"gridcolor\": \"white\", \"linecolor\": \"white\", \"ticks\": \"\", \"title\": {\"standoff\": 15}, \"zerolinecolor\": \"white\", \"zerolinewidth\": 2}, \"yaxis\": {\"automargin\": true, \"gridcolor\": \"white\", \"linecolor\": \"white\", \"ticks\": \"\", \"title\": {\"standoff\": 15}, \"zerolinecolor\": \"white\", \"zerolinewidth\": 2}}}, \"title\": {\"text\": \"Police Basic Training hours by state\"}},                        {\"responsive\": true}                    ).then(function(){\n",
       "                            \n",
       "var gd = document.getElementById('3618c0e5-acda-478f-ad87-eb2bfbb214fc');\n",
       "var x = new MutationObserver(function (mutations, observer) {{\n",
       "        var display = window.getComputedStyle(gd).display;\n",
       "        if (!display || display === 'none') {{\n",
       "            console.log([gd, 'removed!']);\n",
       "            Plotly.purge(gd);\n",
       "            observer.disconnect();\n",
       "        }}\n",
       "}});\n",
       "\n",
       "// Listen for the removal of the full notebook cells\n",
       "var notebookContainer = gd.closest('#notebook-container');\n",
       "if (notebookContainer) {{\n",
       "    x.observe(notebookContainer, {childList: true});\n",
       "}}\n",
       "\n",
       "// Listen for the clearing of the current output cell\n",
       "var outputEl = gd.closest('.output');\n",
       "if (outputEl) {{\n",
       "    x.observe(outputEl, {childList: true});\n",
       "}}\n",
       "\n",
       "                        })                };                });            </script>        </div>"
      ]
     },
     "metadata": {},
     "output_type": "display_data"
    }
   ],
   "source": [
    "#Display police basic training \n",
    "\n",
    "df = pd.read_excel('state_all.xlsx')\n",
    "\n",
    "fig = go.Figure(data=go.Choropleth(\n",
    "    locations=df['Acronym'], # Spatial coordinates\n",
    "    z = df['Police Basic Training hours'].astype(float), # Data to be color-coded\n",
    "    locationmode = 'USA-states', # set of locations match entries in `locations`\n",
    "    colorscale = 'blues',\n",
    "    colorbar_title = \"Police Basic Training hours\",\n",
    "))\n",
    "\n",
    "\n",
    "\n",
    "fig.update_layout(\n",
    "    title_text = 'Police Basic Training hours by state',\n",
    "    geo_scope='usa', # limite map scope to USA\n",
    ")\n",
    "\n",
    "\n",
    "\n",
    "fig.show()"
   ]
  },
  {
   "cell_type": "code",
   "execution_count": 53,
   "metadata": {},
   "outputs": [
    {
     "data": {
      "application/vnd.plotly.v1+json": {
       "config": {
        "plotlyServerURL": "https://plot.ly"
       },
       "data": [
        {
         "geo": "geo",
         "hovertemplate": "<b>%{hovertext}</b><br><br>Average shooting per 1,000,000=%{marker.size}<br>Acronym=%{location}<extra></extra>",
         "hovertext": [
          "Alaska",
          "New Mexico",
          "Oklahoma",
          "Arizona",
          "Colorado",
          "Nevada",
          "Montana",
          "West Virginia",
          "Arkansas",
          "Louisiana",
          "Idaho",
          "Wyoming",
          "Utah",
          " Kentucky",
          "Mississippi",
          "Missouri",
          "District of Columbia",
          "Hawaii",
          "Alabama",
          "Tennessee",
          "Oregon",
          "California",
          "Washington",
          "Kansas",
          "Georgia",
          "South Carolina",
          "Florida",
          "South Dakota",
          "Texas",
          "Wisconsin",
          "North Dakota",
          "Maine",
          "North Carolina",
          "Indiana",
          "Maryland",
          "Nebraska",
          "Ohio",
          "Vermont",
          "Minnesota",
          "Virginia",
          "Iowa",
          "Delaware",
          "New Hampshire",
          "Illinois",
          "Pennsylvania",
          "Michigan",
          "New Jersey",
          "Connecticut",
          " Massachusetts",
          "New York",
          "Rhode Island"
         ],
         "legendgroup": "",
         "locationmode": "USA-states",
         "locations": [
          "AK",
          "NM",
          "OK",
          "AZ",
          "CO",
          "NV",
          "MT",
          "WV",
          "AR",
          "LA",
          "ID",
          "WY",
          "UT",
          "KY",
          "MS",
          "MO",
          "DC",
          "HI",
          "AL",
          "TN",
          "OR",
          "CA",
          "WA",
          "KS",
          "GA",
          "SC",
          "FL",
          "SD",
          "TX",
          "WI",
          "ND",
          "ME",
          "NC",
          "IN",
          "MD",
          "NE",
          "OH",
          "VT",
          "MN",
          "VA",
          "IA",
          "DE",
          "NH",
          "IL",
          "PA",
          "MI",
          "NJ",
          "CT",
          "MA",
          "NY",
          "RI"
         ],
         "marker": {
          "color": "#636efa",
          "size": [
           11.071229183220066,
           10.926075990858516,
           8.96578749733669,
           7.755883843287484,
           7.506335266154806,
           7.1413015999041995,
           6.892758726160748,
           6.256012494464252,
           5.606999404256314,
           5.037089842686989,
           5.0633373457338,
           5.153642981382465,
           4.685857204359019,
           4.76924180978329,
           4.69049830681387,
           4.817812929240094,
           4.062952547616352,
           4.201355567373813,
           4.314200334206719,
           4.608919696158466,
           4.277677148393471,
           4.3788697008335165,
           4.575575536930512,
           3.5733588232929394,
           3.8181557064144873,
           3.6457635876557246,
           3.755914634976609,
           4.158945661064413,
           3.657747420371853,
           3.423118149441582,
           3.1768282149997917,
           3.300653116735474,
           3.289263081722329,
           3.1877721870635845,
           2.7821642405946085,
           2.717051246982832,
           2.7833661058942805,
           2.88690316284299,
           2.3059622816632044,
           2.369050721375945,
           2.2305140697641073,
           2.715919518947978,
           2.091261142500775,
           1.7474233014762723,
           1.8130225187556008,
           1.7491167463050912,
           1.5791762260579645,
           1.1705899313379327,
           1.081591459519978,
           1.068395316850396,
           0.755713310709166
          ],
          "sizemode": "area",
          "sizeref": 0.027678072958050165,
          "symbol": "circle"
         },
         "mode": "markers",
         "name": "",
         "showlegend": false,
         "type": "scattergeo"
        }
       ],
       "layout": {
        "geo": {
         "center": {},
         "domain": {
          "x": [
           0,
           1
          ],
          "y": [
           0,
           1
          ]
         },
         "scope": "usa"
        },
        "legend": {
         "itemsizing": "constant",
         "tracegroupgap": 0
        },
        "margin": {
         "t": 60
        },
        "template": {
         "data": {
          "bar": [
           {
            "error_x": {
             "color": "#2a3f5f"
            },
            "error_y": {
             "color": "#2a3f5f"
            },
            "marker": {
             "line": {
              "color": "#E5ECF6",
              "width": 0.5
             }
            },
            "type": "bar"
           }
          ],
          "barpolar": [
           {
            "marker": {
             "line": {
              "color": "#E5ECF6",
              "width": 0.5
             }
            },
            "type": "barpolar"
           }
          ],
          "carpet": [
           {
            "aaxis": {
             "endlinecolor": "#2a3f5f",
             "gridcolor": "white",
             "linecolor": "white",
             "minorgridcolor": "white",
             "startlinecolor": "#2a3f5f"
            },
            "baxis": {
             "endlinecolor": "#2a3f5f",
             "gridcolor": "white",
             "linecolor": "white",
             "minorgridcolor": "white",
             "startlinecolor": "#2a3f5f"
            },
            "type": "carpet"
           }
          ],
          "choropleth": [
           {
            "colorbar": {
             "outlinewidth": 0,
             "ticks": ""
            },
            "type": "choropleth"
           }
          ],
          "contour": [
           {
            "colorbar": {
             "outlinewidth": 0,
             "ticks": ""
            },
            "colorscale": [
             [
              0,
              "#0d0887"
             ],
             [
              0.1111111111111111,
              "#46039f"
             ],
             [
              0.2222222222222222,
              "#7201a8"
             ],
             [
              0.3333333333333333,
              "#9c179e"
             ],
             [
              0.4444444444444444,
              "#bd3786"
             ],
             [
              0.5555555555555556,
              "#d8576b"
             ],
             [
              0.6666666666666666,
              "#ed7953"
             ],
             [
              0.7777777777777778,
              "#fb9f3a"
             ],
             [
              0.8888888888888888,
              "#fdca26"
             ],
             [
              1,
              "#f0f921"
             ]
            ],
            "type": "contour"
           }
          ],
          "contourcarpet": [
           {
            "colorbar": {
             "outlinewidth": 0,
             "ticks": ""
            },
            "type": "contourcarpet"
           }
          ],
          "heatmap": [
           {
            "colorbar": {
             "outlinewidth": 0,
             "ticks": ""
            },
            "colorscale": [
             [
              0,
              "#0d0887"
             ],
             [
              0.1111111111111111,
              "#46039f"
             ],
             [
              0.2222222222222222,
              "#7201a8"
             ],
             [
              0.3333333333333333,
              "#9c179e"
             ],
             [
              0.4444444444444444,
              "#bd3786"
             ],
             [
              0.5555555555555556,
              "#d8576b"
             ],
             [
              0.6666666666666666,
              "#ed7953"
             ],
             [
              0.7777777777777778,
              "#fb9f3a"
             ],
             [
              0.8888888888888888,
              "#fdca26"
             ],
             [
              1,
              "#f0f921"
             ]
            ],
            "type": "heatmap"
           }
          ],
          "heatmapgl": [
           {
            "colorbar": {
             "outlinewidth": 0,
             "ticks": ""
            },
            "colorscale": [
             [
              0,
              "#0d0887"
             ],
             [
              0.1111111111111111,
              "#46039f"
             ],
             [
              0.2222222222222222,
              "#7201a8"
             ],
             [
              0.3333333333333333,
              "#9c179e"
             ],
             [
              0.4444444444444444,
              "#bd3786"
             ],
             [
              0.5555555555555556,
              "#d8576b"
             ],
             [
              0.6666666666666666,
              "#ed7953"
             ],
             [
              0.7777777777777778,
              "#fb9f3a"
             ],
             [
              0.8888888888888888,
              "#fdca26"
             ],
             [
              1,
              "#f0f921"
             ]
            ],
            "type": "heatmapgl"
           }
          ],
          "histogram": [
           {
            "marker": {
             "colorbar": {
              "outlinewidth": 0,
              "ticks": ""
             }
            },
            "type": "histogram"
           }
          ],
          "histogram2d": [
           {
            "colorbar": {
             "outlinewidth": 0,
             "ticks": ""
            },
            "colorscale": [
             [
              0,
              "#0d0887"
             ],
             [
              0.1111111111111111,
              "#46039f"
             ],
             [
              0.2222222222222222,
              "#7201a8"
             ],
             [
              0.3333333333333333,
              "#9c179e"
             ],
             [
              0.4444444444444444,
              "#bd3786"
             ],
             [
              0.5555555555555556,
              "#d8576b"
             ],
             [
              0.6666666666666666,
              "#ed7953"
             ],
             [
              0.7777777777777778,
              "#fb9f3a"
             ],
             [
              0.8888888888888888,
              "#fdca26"
             ],
             [
              1,
              "#f0f921"
             ]
            ],
            "type": "histogram2d"
           }
          ],
          "histogram2dcontour": [
           {
            "colorbar": {
             "outlinewidth": 0,
             "ticks": ""
            },
            "colorscale": [
             [
              0,
              "#0d0887"
             ],
             [
              0.1111111111111111,
              "#46039f"
             ],
             [
              0.2222222222222222,
              "#7201a8"
             ],
             [
              0.3333333333333333,
              "#9c179e"
             ],
             [
              0.4444444444444444,
              "#bd3786"
             ],
             [
              0.5555555555555556,
              "#d8576b"
             ],
             [
              0.6666666666666666,
              "#ed7953"
             ],
             [
              0.7777777777777778,
              "#fb9f3a"
             ],
             [
              0.8888888888888888,
              "#fdca26"
             ],
             [
              1,
              "#f0f921"
             ]
            ],
            "type": "histogram2dcontour"
           }
          ],
          "mesh3d": [
           {
            "colorbar": {
             "outlinewidth": 0,
             "ticks": ""
            },
            "type": "mesh3d"
           }
          ],
          "parcoords": [
           {
            "line": {
             "colorbar": {
              "outlinewidth": 0,
              "ticks": ""
             }
            },
            "type": "parcoords"
           }
          ],
          "pie": [
           {
            "automargin": true,
            "type": "pie"
           }
          ],
          "scatter": [
           {
            "marker": {
             "colorbar": {
              "outlinewidth": 0,
              "ticks": ""
             }
            },
            "type": "scatter"
           }
          ],
          "scatter3d": [
           {
            "line": {
             "colorbar": {
              "outlinewidth": 0,
              "ticks": ""
             }
            },
            "marker": {
             "colorbar": {
              "outlinewidth": 0,
              "ticks": ""
             }
            },
            "type": "scatter3d"
           }
          ],
          "scattercarpet": [
           {
            "marker": {
             "colorbar": {
              "outlinewidth": 0,
              "ticks": ""
             }
            },
            "type": "scattercarpet"
           }
          ],
          "scattergeo": [
           {
            "marker": {
             "colorbar": {
              "outlinewidth": 0,
              "ticks": ""
             }
            },
            "type": "scattergeo"
           }
          ],
          "scattergl": [
           {
            "marker": {
             "colorbar": {
              "outlinewidth": 0,
              "ticks": ""
             }
            },
            "type": "scattergl"
           }
          ],
          "scattermapbox": [
           {
            "marker": {
             "colorbar": {
              "outlinewidth": 0,
              "ticks": ""
             }
            },
            "type": "scattermapbox"
           }
          ],
          "scatterpolar": [
           {
            "marker": {
             "colorbar": {
              "outlinewidth": 0,
              "ticks": ""
             }
            },
            "type": "scatterpolar"
           }
          ],
          "scatterpolargl": [
           {
            "marker": {
             "colorbar": {
              "outlinewidth": 0,
              "ticks": ""
             }
            },
            "type": "scatterpolargl"
           }
          ],
          "scatterternary": [
           {
            "marker": {
             "colorbar": {
              "outlinewidth": 0,
              "ticks": ""
             }
            },
            "type": "scatterternary"
           }
          ],
          "surface": [
           {
            "colorbar": {
             "outlinewidth": 0,
             "ticks": ""
            },
            "colorscale": [
             [
              0,
              "#0d0887"
             ],
             [
              0.1111111111111111,
              "#46039f"
             ],
             [
              0.2222222222222222,
              "#7201a8"
             ],
             [
              0.3333333333333333,
              "#9c179e"
             ],
             [
              0.4444444444444444,
              "#bd3786"
             ],
             [
              0.5555555555555556,
              "#d8576b"
             ],
             [
              0.6666666666666666,
              "#ed7953"
             ],
             [
              0.7777777777777778,
              "#fb9f3a"
             ],
             [
              0.8888888888888888,
              "#fdca26"
             ],
             [
              1,
              "#f0f921"
             ]
            ],
            "type": "surface"
           }
          ],
          "table": [
           {
            "cells": {
             "fill": {
              "color": "#EBF0F8"
             },
             "line": {
              "color": "white"
             }
            },
            "header": {
             "fill": {
              "color": "#C8D4E3"
             },
             "line": {
              "color": "white"
             }
            },
            "type": "table"
           }
          ]
         },
         "layout": {
          "annotationdefaults": {
           "arrowcolor": "#2a3f5f",
           "arrowhead": 0,
           "arrowwidth": 1
          },
          "coloraxis": {
           "colorbar": {
            "outlinewidth": 0,
            "ticks": ""
           }
          },
          "colorscale": {
           "diverging": [
            [
             0,
             "#8e0152"
            ],
            [
             0.1,
             "#c51b7d"
            ],
            [
             0.2,
             "#de77ae"
            ],
            [
             0.3,
             "#f1b6da"
            ],
            [
             0.4,
             "#fde0ef"
            ],
            [
             0.5,
             "#f7f7f7"
            ],
            [
             0.6,
             "#e6f5d0"
            ],
            [
             0.7,
             "#b8e186"
            ],
            [
             0.8,
             "#7fbc41"
            ],
            [
             0.9,
             "#4d9221"
            ],
            [
             1,
             "#276419"
            ]
           ],
           "sequential": [
            [
             0,
             "#0d0887"
            ],
            [
             0.1111111111111111,
             "#46039f"
            ],
            [
             0.2222222222222222,
             "#7201a8"
            ],
            [
             0.3333333333333333,
             "#9c179e"
            ],
            [
             0.4444444444444444,
             "#bd3786"
            ],
            [
             0.5555555555555556,
             "#d8576b"
            ],
            [
             0.6666666666666666,
             "#ed7953"
            ],
            [
             0.7777777777777778,
             "#fb9f3a"
            ],
            [
             0.8888888888888888,
             "#fdca26"
            ],
            [
             1,
             "#f0f921"
            ]
           ],
           "sequentialminus": [
            [
             0,
             "#0d0887"
            ],
            [
             0.1111111111111111,
             "#46039f"
            ],
            [
             0.2222222222222222,
             "#7201a8"
            ],
            [
             0.3333333333333333,
             "#9c179e"
            ],
            [
             0.4444444444444444,
             "#bd3786"
            ],
            [
             0.5555555555555556,
             "#d8576b"
            ],
            [
             0.6666666666666666,
             "#ed7953"
            ],
            [
             0.7777777777777778,
             "#fb9f3a"
            ],
            [
             0.8888888888888888,
             "#fdca26"
            ],
            [
             1,
             "#f0f921"
            ]
           ]
          },
          "colorway": [
           "#636efa",
           "#EF553B",
           "#00cc96",
           "#ab63fa",
           "#FFA15A",
           "#19d3f3",
           "#FF6692",
           "#B6E880",
           "#FF97FF",
           "#FECB52"
          ],
          "font": {
           "color": "#2a3f5f"
          },
          "geo": {
           "bgcolor": "white",
           "lakecolor": "white",
           "landcolor": "#E5ECF6",
           "showlakes": true,
           "showland": true,
           "subunitcolor": "white"
          },
          "hoverlabel": {
           "align": "left"
          },
          "hovermode": "closest",
          "mapbox": {
           "style": "light"
          },
          "paper_bgcolor": "white",
          "plot_bgcolor": "#E5ECF6",
          "polar": {
           "angularaxis": {
            "gridcolor": "white",
            "linecolor": "white",
            "ticks": ""
           },
           "bgcolor": "#E5ECF6",
           "radialaxis": {
            "gridcolor": "white",
            "linecolor": "white",
            "ticks": ""
           }
          },
          "scene": {
           "xaxis": {
            "backgroundcolor": "#E5ECF6",
            "gridcolor": "white",
            "gridwidth": 2,
            "linecolor": "white",
            "showbackground": true,
            "ticks": "",
            "zerolinecolor": "white"
           },
           "yaxis": {
            "backgroundcolor": "#E5ECF6",
            "gridcolor": "white",
            "gridwidth": 2,
            "linecolor": "white",
            "showbackground": true,
            "ticks": "",
            "zerolinecolor": "white"
           },
           "zaxis": {
            "backgroundcolor": "#E5ECF6",
            "gridcolor": "white",
            "gridwidth": 2,
            "linecolor": "white",
            "showbackground": true,
            "ticks": "",
            "zerolinecolor": "white"
           }
          },
          "shapedefaults": {
           "line": {
            "color": "#2a3f5f"
           }
          },
          "ternary": {
           "aaxis": {
            "gridcolor": "white",
            "linecolor": "white",
            "ticks": ""
           },
           "baxis": {
            "gridcolor": "white",
            "linecolor": "white",
            "ticks": ""
           },
           "bgcolor": "#E5ECF6",
           "caxis": {
            "gridcolor": "white",
            "linecolor": "white",
            "ticks": ""
           }
          },
          "title": {
           "x": 0.05
          },
          "xaxis": {
           "automargin": true,
           "gridcolor": "white",
           "linecolor": "white",
           "ticks": "",
           "title": {
            "standoff": 15
           },
           "zerolinecolor": "white",
           "zerolinewidth": 2
          },
          "yaxis": {
           "automargin": true,
           "gridcolor": "white",
           "linecolor": "white",
           "ticks": "",
           "title": {
            "standoff": 15
           },
           "zerolinecolor": "white",
           "zerolinewidth": 2
          }
         }
        },
        "title": {
         "text": "Average shooting per 1,000,000"
        }
       }
      },
      "text/html": [
       "<div>                            <div id=\"9f33958d-1af0-4807-9923-f2c03fb78e46\" class=\"plotly-graph-div\" style=\"height:525px; width:100%;\"></div>            <script type=\"text/javascript\">                require([\"plotly\"], function(Plotly) {                    window.PLOTLYENV=window.PLOTLYENV || {};                                    if (document.getElementById(\"9f33958d-1af0-4807-9923-f2c03fb78e46\")) {                    Plotly.newPlot(                        \"9f33958d-1af0-4807-9923-f2c03fb78e46\",                        [{\"geo\": \"geo\", \"hovertemplate\": \"<b>%{hovertext}</b><br><br>Average shooting per 1,000,000=%{marker.size}<br>Acronym=%{location}<extra></extra>\", \"hovertext\": [\"Alaska\", \"New Mexico\", \"Oklahoma\", \"Arizona\", \"Colorado\", \"Nevada\", \"Montana\", \"West Virginia\", \"Arkansas\", \"Louisiana\", \"Idaho\", \"Wyoming\", \"Utah\", \" Kentucky\", \"Mississippi\", \"Missouri\", \"District of Columbia\", \"Hawaii\", \"Alabama\", \"Tennessee\", \"Oregon\", \"California\", \"Washington\", \"Kansas\", \"Georgia\", \"South Carolina\", \"Florida\", \"South Dakota\", \"Texas\", \"Wisconsin\", \"North Dakota\", \"Maine\", \"North Carolina\", \"Indiana\", \"Maryland\", \"Nebraska\", \"Ohio\", \"Vermont\", \"Minnesota\", \"Virginia\", \"Iowa\", \"Delaware\", \"New Hampshire\", \"Illinois\", \"Pennsylvania\", \"Michigan\", \"New Jersey\", \"Connecticut\", \" Massachusetts\", \"New York\", \"Rhode Island\"], \"legendgroup\": \"\", \"locationmode\": \"USA-states\", \"locations\": [\"AK\", \"NM\", \"OK\", \"AZ\", \"CO\", \"NV\", \"MT\", \"WV\", \"AR\", \"LA\", \"ID\", \"WY\", \"UT\", \"KY\", \"MS\", \"MO\", \"DC\", \"HI\", \"AL\", \"TN\", \"OR\", \"CA\", \"WA\", \"KS\", \"GA\", \"SC\", \"FL\", \"SD\", \"TX\", \"WI\", \"ND\", \"ME\", \"NC\", \"IN\", \"MD\", \"NE\", \"OH\", \"VT\", \"MN\", \"VA\", \"IA\", \"DE\", \"NH\", \"IL\", \"PA\", \"MI\", \"NJ\", \"CT\", \"MA\", \"NY\", \"RI\"], \"marker\": {\"color\": \"#636efa\", \"size\": [11.071229183220066, 10.926075990858516, 8.96578749733669, 7.755883843287484, 7.506335266154806, 7.1413015999041995, 6.892758726160748, 6.256012494464252, 5.606999404256314, 5.037089842686989, 5.0633373457338, 5.153642981382465, 4.685857204359019, 4.76924180978329, 4.69049830681387, 4.817812929240094, 4.062952547616352, 4.201355567373813, 4.314200334206719, 4.608919696158466, 4.277677148393471, 4.3788697008335165, 4.575575536930512, 3.5733588232929394, 3.8181557064144873, 3.6457635876557246, 3.755914634976609, 4.158945661064413, 3.657747420371853, 3.423118149441582, 3.1768282149997917, 3.300653116735474, 3.289263081722329, 3.1877721870635845, 2.7821642405946085, 2.717051246982832, 2.7833661058942805, 2.88690316284299, 2.3059622816632044, 2.369050721375945, 2.2305140697641073, 2.715919518947978, 2.091261142500775, 1.7474233014762723, 1.8130225187556008, 1.7491167463050912, 1.5791762260579645, 1.1705899313379327, 1.081591459519978, 1.068395316850396, 0.755713310709166], \"sizemode\": \"area\", \"sizeref\": 0.027678072958050165, \"symbol\": \"circle\"}, \"mode\": \"markers\", \"name\": \"\", \"showlegend\": false, \"type\": \"scattergeo\"}],                        {\"geo\": {\"center\": {}, \"domain\": {\"x\": [0.0, 1.0], \"y\": [0.0, 1.0]}, \"scope\": \"usa\"}, \"legend\": {\"itemsizing\": \"constant\", \"tracegroupgap\": 0}, \"margin\": {\"t\": 60}, \"template\": {\"data\": {\"bar\": [{\"error_x\": {\"color\": \"#2a3f5f\"}, \"error_y\": {\"color\": \"#2a3f5f\"}, \"marker\": {\"line\": {\"color\": \"#E5ECF6\", \"width\": 0.5}}, \"type\": \"bar\"}], \"barpolar\": [{\"marker\": {\"line\": {\"color\": \"#E5ECF6\", \"width\": 0.5}}, \"type\": \"barpolar\"}], \"carpet\": [{\"aaxis\": {\"endlinecolor\": \"#2a3f5f\", \"gridcolor\": \"white\", \"linecolor\": \"white\", \"minorgridcolor\": \"white\", \"startlinecolor\": \"#2a3f5f\"}, \"baxis\": {\"endlinecolor\": \"#2a3f5f\", \"gridcolor\": \"white\", \"linecolor\": \"white\", \"minorgridcolor\": \"white\", \"startlinecolor\": \"#2a3f5f\"}, \"type\": \"carpet\"}], \"choropleth\": [{\"colorbar\": {\"outlinewidth\": 0, \"ticks\": \"\"}, \"type\": \"choropleth\"}], \"contour\": [{\"colorbar\": {\"outlinewidth\": 0, \"ticks\": \"\"}, \"colorscale\": [[0.0, \"#0d0887\"], [0.1111111111111111, \"#46039f\"], [0.2222222222222222, \"#7201a8\"], [0.3333333333333333, \"#9c179e\"], [0.4444444444444444, \"#bd3786\"], [0.5555555555555556, \"#d8576b\"], [0.6666666666666666, \"#ed7953\"], [0.7777777777777778, \"#fb9f3a\"], [0.8888888888888888, \"#fdca26\"], [1.0, \"#f0f921\"]], \"type\": \"contour\"}], \"contourcarpet\": [{\"colorbar\": {\"outlinewidth\": 0, \"ticks\": \"\"}, \"type\": \"contourcarpet\"}], \"heatmap\": [{\"colorbar\": {\"outlinewidth\": 0, \"ticks\": \"\"}, \"colorscale\": [[0.0, \"#0d0887\"], [0.1111111111111111, \"#46039f\"], [0.2222222222222222, \"#7201a8\"], [0.3333333333333333, \"#9c179e\"], [0.4444444444444444, \"#bd3786\"], [0.5555555555555556, \"#d8576b\"], [0.6666666666666666, \"#ed7953\"], [0.7777777777777778, \"#fb9f3a\"], [0.8888888888888888, \"#fdca26\"], [1.0, \"#f0f921\"]], \"type\": \"heatmap\"}], \"heatmapgl\": [{\"colorbar\": {\"outlinewidth\": 0, \"ticks\": \"\"}, \"colorscale\": [[0.0, \"#0d0887\"], [0.1111111111111111, \"#46039f\"], [0.2222222222222222, \"#7201a8\"], [0.3333333333333333, \"#9c179e\"], [0.4444444444444444, \"#bd3786\"], [0.5555555555555556, \"#d8576b\"], [0.6666666666666666, \"#ed7953\"], [0.7777777777777778, \"#fb9f3a\"], [0.8888888888888888, \"#fdca26\"], [1.0, \"#f0f921\"]], \"type\": \"heatmapgl\"}], \"histogram\": [{\"marker\": {\"colorbar\": {\"outlinewidth\": 0, \"ticks\": \"\"}}, \"type\": \"histogram\"}], \"histogram2d\": [{\"colorbar\": {\"outlinewidth\": 0, \"ticks\": \"\"}, \"colorscale\": [[0.0, \"#0d0887\"], [0.1111111111111111, \"#46039f\"], [0.2222222222222222, \"#7201a8\"], [0.3333333333333333, \"#9c179e\"], [0.4444444444444444, \"#bd3786\"], [0.5555555555555556, \"#d8576b\"], [0.6666666666666666, \"#ed7953\"], [0.7777777777777778, \"#fb9f3a\"], [0.8888888888888888, \"#fdca26\"], [1.0, \"#f0f921\"]], \"type\": \"histogram2d\"}], \"histogram2dcontour\": [{\"colorbar\": {\"outlinewidth\": 0, \"ticks\": \"\"}, \"colorscale\": [[0.0, \"#0d0887\"], [0.1111111111111111, \"#46039f\"], [0.2222222222222222, \"#7201a8\"], [0.3333333333333333, \"#9c179e\"], [0.4444444444444444, \"#bd3786\"], [0.5555555555555556, \"#d8576b\"], [0.6666666666666666, \"#ed7953\"], [0.7777777777777778, \"#fb9f3a\"], [0.8888888888888888, \"#fdca26\"], [1.0, \"#f0f921\"]], \"type\": \"histogram2dcontour\"}], \"mesh3d\": [{\"colorbar\": {\"outlinewidth\": 0, \"ticks\": \"\"}, \"type\": \"mesh3d\"}], \"parcoords\": [{\"line\": {\"colorbar\": {\"outlinewidth\": 0, \"ticks\": \"\"}}, \"type\": \"parcoords\"}], \"pie\": [{\"automargin\": true, \"type\": \"pie\"}], \"scatter\": [{\"marker\": {\"colorbar\": {\"outlinewidth\": 0, \"ticks\": \"\"}}, \"type\": \"scatter\"}], \"scatter3d\": [{\"line\": {\"colorbar\": {\"outlinewidth\": 0, \"ticks\": \"\"}}, \"marker\": {\"colorbar\": {\"outlinewidth\": 0, \"ticks\": \"\"}}, \"type\": \"scatter3d\"}], \"scattercarpet\": [{\"marker\": {\"colorbar\": {\"outlinewidth\": 0, \"ticks\": \"\"}}, \"type\": \"scattercarpet\"}], \"scattergeo\": [{\"marker\": {\"colorbar\": {\"outlinewidth\": 0, \"ticks\": \"\"}}, \"type\": \"scattergeo\"}], \"scattergl\": [{\"marker\": {\"colorbar\": {\"outlinewidth\": 0, \"ticks\": \"\"}}, \"type\": \"scattergl\"}], \"scattermapbox\": [{\"marker\": {\"colorbar\": {\"outlinewidth\": 0, \"ticks\": \"\"}}, \"type\": \"scattermapbox\"}], \"scatterpolar\": [{\"marker\": {\"colorbar\": {\"outlinewidth\": 0, \"ticks\": \"\"}}, \"type\": \"scatterpolar\"}], \"scatterpolargl\": [{\"marker\": {\"colorbar\": {\"outlinewidth\": 0, \"ticks\": \"\"}}, \"type\": \"scatterpolargl\"}], \"scatterternary\": [{\"marker\": {\"colorbar\": {\"outlinewidth\": 0, \"ticks\": \"\"}}, \"type\": \"scatterternary\"}], \"surface\": [{\"colorbar\": {\"outlinewidth\": 0, \"ticks\": \"\"}, \"colorscale\": [[0.0, \"#0d0887\"], [0.1111111111111111, \"#46039f\"], [0.2222222222222222, \"#7201a8\"], [0.3333333333333333, \"#9c179e\"], [0.4444444444444444, \"#bd3786\"], [0.5555555555555556, \"#d8576b\"], [0.6666666666666666, \"#ed7953\"], [0.7777777777777778, \"#fb9f3a\"], [0.8888888888888888, \"#fdca26\"], [1.0, \"#f0f921\"]], \"type\": \"surface\"}], \"table\": [{\"cells\": {\"fill\": {\"color\": \"#EBF0F8\"}, \"line\": {\"color\": \"white\"}}, \"header\": {\"fill\": {\"color\": \"#C8D4E3\"}, \"line\": {\"color\": \"white\"}}, \"type\": \"table\"}]}, \"layout\": {\"annotationdefaults\": {\"arrowcolor\": \"#2a3f5f\", \"arrowhead\": 0, \"arrowwidth\": 1}, \"coloraxis\": {\"colorbar\": {\"outlinewidth\": 0, \"ticks\": \"\"}}, \"colorscale\": {\"diverging\": [[0, \"#8e0152\"], [0.1, \"#c51b7d\"], [0.2, \"#de77ae\"], [0.3, \"#f1b6da\"], [0.4, \"#fde0ef\"], [0.5, \"#f7f7f7\"], [0.6, \"#e6f5d0\"], [0.7, \"#b8e186\"], [0.8, \"#7fbc41\"], [0.9, \"#4d9221\"], [1, \"#276419\"]], \"sequential\": [[0.0, \"#0d0887\"], [0.1111111111111111, \"#46039f\"], [0.2222222222222222, \"#7201a8\"], [0.3333333333333333, \"#9c179e\"], [0.4444444444444444, \"#bd3786\"], [0.5555555555555556, \"#d8576b\"], [0.6666666666666666, \"#ed7953\"], [0.7777777777777778, \"#fb9f3a\"], [0.8888888888888888, \"#fdca26\"], [1.0, \"#f0f921\"]], \"sequentialminus\": [[0.0, \"#0d0887\"], [0.1111111111111111, \"#46039f\"], [0.2222222222222222, \"#7201a8\"], [0.3333333333333333, \"#9c179e\"], [0.4444444444444444, \"#bd3786\"], [0.5555555555555556, \"#d8576b\"], [0.6666666666666666, \"#ed7953\"], [0.7777777777777778, \"#fb9f3a\"], [0.8888888888888888, \"#fdca26\"], [1.0, \"#f0f921\"]]}, \"colorway\": [\"#636efa\", \"#EF553B\", \"#00cc96\", \"#ab63fa\", \"#FFA15A\", \"#19d3f3\", \"#FF6692\", \"#B6E880\", \"#FF97FF\", \"#FECB52\"], \"font\": {\"color\": \"#2a3f5f\"}, \"geo\": {\"bgcolor\": \"white\", \"lakecolor\": \"white\", \"landcolor\": \"#E5ECF6\", \"showlakes\": true, \"showland\": true, \"subunitcolor\": \"white\"}, \"hoverlabel\": {\"align\": \"left\"}, \"hovermode\": \"closest\", \"mapbox\": {\"style\": \"light\"}, \"paper_bgcolor\": \"white\", \"plot_bgcolor\": \"#E5ECF6\", \"polar\": {\"angularaxis\": {\"gridcolor\": \"white\", \"linecolor\": \"white\", \"ticks\": \"\"}, \"bgcolor\": \"#E5ECF6\", \"radialaxis\": {\"gridcolor\": \"white\", \"linecolor\": \"white\", \"ticks\": \"\"}}, \"scene\": {\"xaxis\": {\"backgroundcolor\": \"#E5ECF6\", \"gridcolor\": \"white\", \"gridwidth\": 2, \"linecolor\": \"white\", \"showbackground\": true, \"ticks\": \"\", \"zerolinecolor\": \"white\"}, \"yaxis\": {\"backgroundcolor\": \"#E5ECF6\", \"gridcolor\": \"white\", \"gridwidth\": 2, \"linecolor\": \"white\", \"showbackground\": true, \"ticks\": \"\", \"zerolinecolor\": \"white\"}, \"zaxis\": {\"backgroundcolor\": \"#E5ECF6\", \"gridcolor\": \"white\", \"gridwidth\": 2, \"linecolor\": \"white\", \"showbackground\": true, \"ticks\": \"\", \"zerolinecolor\": \"white\"}}, \"shapedefaults\": {\"line\": {\"color\": \"#2a3f5f\"}}, \"ternary\": {\"aaxis\": {\"gridcolor\": \"white\", \"linecolor\": \"white\", \"ticks\": \"\"}, \"baxis\": {\"gridcolor\": \"white\", \"linecolor\": \"white\", \"ticks\": \"\"}, \"bgcolor\": \"#E5ECF6\", \"caxis\": {\"gridcolor\": \"white\", \"linecolor\": \"white\", \"ticks\": \"\"}}, \"title\": {\"x\": 0.05}, \"xaxis\": {\"automargin\": true, \"gridcolor\": \"white\", \"linecolor\": \"white\", \"ticks\": \"\", \"title\": {\"standoff\": 15}, \"zerolinecolor\": \"white\", \"zerolinewidth\": 2}, \"yaxis\": {\"automargin\": true, \"gridcolor\": \"white\", \"linecolor\": \"white\", \"ticks\": \"\", \"title\": {\"standoff\": 15}, \"zerolinecolor\": \"white\", \"zerolinewidth\": 2}}}, \"title\": {\"text\": \"Average shooting per 1,000,000\"}},                        {\"responsive\": true}                    ).then(function(){\n",
       "                            \n",
       "var gd = document.getElementById('9f33958d-1af0-4807-9923-f2c03fb78e46');\n",
       "var x = new MutationObserver(function (mutations, observer) {{\n",
       "        var display = window.getComputedStyle(gd).display;\n",
       "        if (!display || display === 'none') {{\n",
       "            console.log([gd, 'removed!']);\n",
       "            Plotly.purge(gd);\n",
       "            observer.disconnect();\n",
       "        }}\n",
       "}});\n",
       "\n",
       "// Listen for the removal of the full notebook cells\n",
       "var notebookContainer = gd.closest('#notebook-container');\n",
       "if (notebookContainer) {{\n",
       "    x.observe(notebookContainer, {childList: true});\n",
       "}}\n",
       "\n",
       "// Listen for the clearing of the current output cell\n",
       "var outputEl = gd.closest('.output');\n",
       "if (outputEl) {{\n",
       "    x.observe(outputEl, {childList: true});\n",
       "}}\n",
       "\n",
       "                        })                };                });            </script>        </div>"
      ]
     },
     "metadata": {},
     "output_type": "display_data"
    }
   ],
   "source": [
    "import plotly.express as px\n",
    "df2 =  pd.read_excel('state_all.xlsx')\n",
    "fig2 = px.scatter_geo(df2, locations=\"Acronym\",\n",
    "                     hover_name=\"State\", size=\"Average shooting per 1,000,000\",\n",
    "                     locationmode = 'USA-states')\n",
    "\n",
    "fig2.update_layout(\n",
    "        title = 'Average shooting per 1,000,000',\n",
    "        geo_scope='usa',\n",
    "    )\n",
    "fig2.show()"
   ]
  },
  {
   "cell_type": "code",
   "execution_count": 40,
   "metadata": {
    "scrolled": true
   },
   "outputs": [
    {
     "data": {
      "text/html": [
       "<style  type=\"text/css\" >\n",
       "    #T_2bcb32dc_357d_11eb_a136_8c859016bec2row0_col0 {\n",
       "            background-color:  #b40426;\n",
       "            color:  #f1f1f1;\n",
       "        }    #T_2bcb32dc_357d_11eb_a136_8c859016bec2row0_col1 {\n",
       "            background-color:  #cb3e38;\n",
       "            color:  #f1f1f1;\n",
       "        }    #T_2bcb32dc_357d_11eb_a136_8c859016bec2row0_col2 {\n",
       "            background-color:  #d1493f;\n",
       "            color:  #f1f1f1;\n",
       "        }    #T_2bcb32dc_357d_11eb_a136_8c859016bec2row0_col3 {\n",
       "            background-color:  #b2ccfb;\n",
       "            color:  #000000;\n",
       "        }    #T_2bcb32dc_357d_11eb_a136_8c859016bec2row0_col4 {\n",
       "            background-color:  #82a6fb;\n",
       "            color:  #000000;\n",
       "        }    #T_2bcb32dc_357d_11eb_a136_8c859016bec2row0_col5 {\n",
       "            background-color:  #bfd3f6;\n",
       "            color:  #000000;\n",
       "        }    #T_2bcb32dc_357d_11eb_a136_8c859016bec2row0_col6 {\n",
       "            background-color:  #c3d5f4;\n",
       "            color:  #000000;\n",
       "        }    #T_2bcb32dc_357d_11eb_a136_8c859016bec2row0_col7 {\n",
       "            background-color:  #a5c3fe;\n",
       "            color:  #000000;\n",
       "        }    #T_2bcb32dc_357d_11eb_a136_8c859016bec2row0_col8 {\n",
       "            background-color:  #a7c5fe;\n",
       "            color:  #000000;\n",
       "        }    #T_2bcb32dc_357d_11eb_a136_8c859016bec2row0_col9 {\n",
       "            background-color:  #94b6ff;\n",
       "            color:  #000000;\n",
       "        }    #T_2bcb32dc_357d_11eb_a136_8c859016bec2row0_col10 {\n",
       "            background-color:  #bfd3f6;\n",
       "            color:  #000000;\n",
       "        }    #T_2bcb32dc_357d_11eb_a136_8c859016bec2row0_col11 {\n",
       "            background-color:  #a5c3fe;\n",
       "            color:  #000000;\n",
       "        }    #T_2bcb32dc_357d_11eb_a136_8c859016bec2row0_col12 {\n",
       "            background-color:  #cdd9ec;\n",
       "            color:  #000000;\n",
       "        }    #T_2bcb32dc_357d_11eb_a136_8c859016bec2row0_col13 {\n",
       "            background-color:  #82a6fb;\n",
       "            color:  #000000;\n",
       "        }    #T_2bcb32dc_357d_11eb_a136_8c859016bec2row0_col14 {\n",
       "            background-color:  #8db0fe;\n",
       "            color:  #000000;\n",
       "        }    #T_2bcb32dc_357d_11eb_a136_8c859016bec2row0_col15 {\n",
       "            background-color:  #4e68d8;\n",
       "            color:  #000000;\n",
       "        }    #T_2bcb32dc_357d_11eb_a136_8c859016bec2row1_col0 {\n",
       "            background-color:  #cc403a;\n",
       "            color:  #f1f1f1;\n",
       "        }    #T_2bcb32dc_357d_11eb_a136_8c859016bec2row1_col1 {\n",
       "            background-color:  #b40426;\n",
       "            color:  #f1f1f1;\n",
       "        }    #T_2bcb32dc_357d_11eb_a136_8c859016bec2row1_col2 {\n",
       "            background-color:  #ba162b;\n",
       "            color:  #f1f1f1;\n",
       "        }    #T_2bcb32dc_357d_11eb_a136_8c859016bec2row1_col3 {\n",
       "            background-color:  #7597f6;\n",
       "            color:  #000000;\n",
       "        }    #T_2bcb32dc_357d_11eb_a136_8c859016bec2row1_col4 {\n",
       "            background-color:  #8badfd;\n",
       "            color:  #000000;\n",
       "        }    #T_2bcb32dc_357d_11eb_a136_8c859016bec2row1_col5 {\n",
       "            background-color:  #97b8ff;\n",
       "            color:  #000000;\n",
       "        }    #T_2bcb32dc_357d_11eb_a136_8c859016bec2row1_col6 {\n",
       "            background-color:  #b2ccfb;\n",
       "            color:  #000000;\n",
       "        }    #T_2bcb32dc_357d_11eb_a136_8c859016bec2row1_col7 {\n",
       "            background-color:  #aec9fc;\n",
       "            color:  #000000;\n",
       "        }    #T_2bcb32dc_357d_11eb_a136_8c859016bec2row1_col8 {\n",
       "            background-color:  #8fb1fe;\n",
       "            color:  #000000;\n",
       "        }    #T_2bcb32dc_357d_11eb_a136_8c859016bec2row1_col9 {\n",
       "            background-color:  #a5c3fe;\n",
       "            color:  #000000;\n",
       "        }    #T_2bcb32dc_357d_11eb_a136_8c859016bec2row1_col10 {\n",
       "            background-color:  #d4dbe6;\n",
       "            color:  #000000;\n",
       "        }    #T_2bcb32dc_357d_11eb_a136_8c859016bec2row1_col11 {\n",
       "            background-color:  #b5cdfa;\n",
       "            color:  #000000;\n",
       "        }    #T_2bcb32dc_357d_11eb_a136_8c859016bec2row1_col12 {\n",
       "            background-color:  #c9d7f0;\n",
       "            color:  #000000;\n",
       "        }    #T_2bcb32dc_357d_11eb_a136_8c859016bec2row1_col13 {\n",
       "            background-color:  #8badfd;\n",
       "            color:  #000000;\n",
       "        }    #T_2bcb32dc_357d_11eb_a136_8c859016bec2row1_col14 {\n",
       "            background-color:  #98b9ff;\n",
       "            color:  #000000;\n",
       "        }    #T_2bcb32dc_357d_11eb_a136_8c859016bec2row1_col15 {\n",
       "            background-color:  #5572df;\n",
       "            color:  #000000;\n",
       "        }    #T_2bcb32dc_357d_11eb_a136_8c859016bec2row2_col0 {\n",
       "            background-color:  #d55042;\n",
       "            color:  #000000;\n",
       "        }    #T_2bcb32dc_357d_11eb_a136_8c859016bec2row2_col1 {\n",
       "            background-color:  #ba162b;\n",
       "            color:  #f1f1f1;\n",
       "        }    #T_2bcb32dc_357d_11eb_a136_8c859016bec2row2_col2 {\n",
       "            background-color:  #b40426;\n",
       "            color:  #f1f1f1;\n",
       "        }    #T_2bcb32dc_357d_11eb_a136_8c859016bec2row2_col3 {\n",
       "            background-color:  #5d7ce6;\n",
       "            color:  #000000;\n",
       "        }    #T_2bcb32dc_357d_11eb_a136_8c859016bec2row2_col4 {\n",
       "            background-color:  #6180e9;\n",
       "            color:  #000000;\n",
       "        }    #T_2bcb32dc_357d_11eb_a136_8c859016bec2row2_col5 {\n",
       "            background-color:  #8caffe;\n",
       "            color:  #000000;\n",
       "        }    #T_2bcb32dc_357d_11eb_a136_8c859016bec2row2_col6 {\n",
       "            background-color:  #a6c4fe;\n",
       "            color:  #000000;\n",
       "        }    #T_2bcb32dc_357d_11eb_a136_8c859016bec2row2_col7 {\n",
       "            background-color:  #aac7fd;\n",
       "            color:  #000000;\n",
       "        }    #T_2bcb32dc_357d_11eb_a136_8c859016bec2row2_col8 {\n",
       "            background-color:  #7ea1fa;\n",
       "            color:  #000000;\n",
       "        }    #T_2bcb32dc_357d_11eb_a136_8c859016bec2row2_col9 {\n",
       "            background-color:  #98b9ff;\n",
       "            color:  #000000;\n",
       "        }    #T_2bcb32dc_357d_11eb_a136_8c859016bec2row2_col10 {\n",
       "            background-color:  #cfdaea;\n",
       "            color:  #000000;\n",
       "        }    #T_2bcb32dc_357d_11eb_a136_8c859016bec2row2_col11 {\n",
       "            background-color:  #bfd3f6;\n",
       "            color:  #000000;\n",
       "        }    #T_2bcb32dc_357d_11eb_a136_8c859016bec2row2_col12 {\n",
       "            background-color:  #b9d0f9;\n",
       "            color:  #000000;\n",
       "        }    #T_2bcb32dc_357d_11eb_a136_8c859016bec2row2_col13 {\n",
       "            background-color:  #6180e9;\n",
       "            color:  #000000;\n",
       "        }    #T_2bcb32dc_357d_11eb_a136_8c859016bec2row2_col14 {\n",
       "            background-color:  #a7c5fe;\n",
       "            color:  #000000;\n",
       "        }    #T_2bcb32dc_357d_11eb_a136_8c859016bec2row2_col15 {\n",
       "            background-color:  #5875e1;\n",
       "            color:  #000000;\n",
       "        }    #T_2bcb32dc_357d_11eb_a136_8c859016bec2row3_col0 {\n",
       "            background-color:  #8caffe;\n",
       "            color:  #000000;\n",
       "        }    #T_2bcb32dc_357d_11eb_a136_8c859016bec2row3_col1 {\n",
       "            background-color:  #536edd;\n",
       "            color:  #000000;\n",
       "        }    #T_2bcb32dc_357d_11eb_a136_8c859016bec2row3_col2 {\n",
       "            background-color:  #4c66d6;\n",
       "            color:  #000000;\n",
       "        }    #T_2bcb32dc_357d_11eb_a136_8c859016bec2row3_col3 {\n",
       "            background-color:  #b40426;\n",
       "            color:  #f1f1f1;\n",
       "        }    #T_2bcb32dc_357d_11eb_a136_8c859016bec2row3_col4 {\n",
       "            background-color:  #e4d9d2;\n",
       "            color:  #000000;\n",
       "        }    #T_2bcb32dc_357d_11eb_a136_8c859016bec2row3_col5 {\n",
       "            background-color:  #ee8468;\n",
       "            color:  #000000;\n",
       "        }    #T_2bcb32dc_357d_11eb_a136_8c859016bec2row3_col6 {\n",
       "            background-color:  #f7b599;\n",
       "            color:  #000000;\n",
       "        }    #T_2bcb32dc_357d_11eb_a136_8c859016bec2row3_col7 {\n",
       "            background-color:  #a7c5fe;\n",
       "            color:  #000000;\n",
       "        }    #T_2bcb32dc_357d_11eb_a136_8c859016bec2row3_col8 {\n",
       "            background-color:  #f18d6f;\n",
       "            color:  #000000;\n",
       "        }    #T_2bcb32dc_357d_11eb_a136_8c859016bec2row3_col9 {\n",
       "            background-color:  #aac7fd;\n",
       "            color:  #000000;\n",
       "        }    #T_2bcb32dc_357d_11eb_a136_8c859016bec2row3_col10 {\n",
       "            background-color:  #89acfd;\n",
       "            color:  #000000;\n",
       "        }    #T_2bcb32dc_357d_11eb_a136_8c859016bec2row3_col11 {\n",
       "            background-color:  #6a8bef;\n",
       "            color:  #000000;\n",
       "        }    #T_2bcb32dc_357d_11eb_a136_8c859016bec2row3_col12 {\n",
       "            background-color:  #efcfbf;\n",
       "            color:  #000000;\n",
       "        }    #T_2bcb32dc_357d_11eb_a136_8c859016bec2row3_col13 {\n",
       "            background-color:  #e4d9d2;\n",
       "            color:  #000000;\n",
       "        }    #T_2bcb32dc_357d_11eb_a136_8c859016bec2row3_col14 {\n",
       "            background-color:  #5d7ce6;\n",
       "            color:  #000000;\n",
       "        }    #T_2bcb32dc_357d_11eb_a136_8c859016bec2row3_col15 {\n",
       "            background-color:  #8caffe;\n",
       "            color:  #000000;\n",
       "        }    #T_2bcb32dc_357d_11eb_a136_8c859016bec2row4_col0 {\n",
       "            background-color:  #8caffe;\n",
       "            color:  #000000;\n",
       "        }    #T_2bcb32dc_357d_11eb_a136_8c859016bec2row4_col1 {\n",
       "            background-color:  #9ebeff;\n",
       "            color:  #000000;\n",
       "        }    #T_2bcb32dc_357d_11eb_a136_8c859016bec2row4_col2 {\n",
       "            background-color:  #88abfd;\n",
       "            color:  #000000;\n",
       "        }    #T_2bcb32dc_357d_11eb_a136_8c859016bec2row4_col3 {\n",
       "            background-color:  #f3c7b1;\n",
       "            color:  #000000;\n",
       "        }    #T_2bcb32dc_357d_11eb_a136_8c859016bec2row4_col4 {\n",
       "            background-color:  #b40426;\n",
       "            color:  #f1f1f1;\n",
       "        }    #T_2bcb32dc_357d_11eb_a136_8c859016bec2row4_col5 {\n",
       "            background-color:  #c9d7f0;\n",
       "            color:  #000000;\n",
       "        }    #T_2bcb32dc_357d_11eb_a136_8c859016bec2row4_col6 {\n",
       "            background-color:  #d5dbe5;\n",
       "            color:  #000000;\n",
       "        }    #T_2bcb32dc_357d_11eb_a136_8c859016bec2row4_col7 {\n",
       "            background-color:  #f7a688;\n",
       "            color:  #000000;\n",
       "        }    #T_2bcb32dc_357d_11eb_a136_8c859016bec2row4_col8 {\n",
       "            background-color:  #f1cdba;\n",
       "            color:  #000000;\n",
       "        }    #T_2bcb32dc_357d_11eb_a136_8c859016bec2row4_col9 {\n",
       "            background-color:  #efcebd;\n",
       "            color:  #000000;\n",
       "        }    #T_2bcb32dc_357d_11eb_a136_8c859016bec2row4_col10 {\n",
       "            background-color:  #f7ba9f;\n",
       "            color:  #000000;\n",
       "        }    #T_2bcb32dc_357d_11eb_a136_8c859016bec2row4_col11 {\n",
       "            background-color:  #cbd8ee;\n",
       "            color:  #000000;\n",
       "        }    #T_2bcb32dc_357d_11eb_a136_8c859016bec2row4_col12 {\n",
       "            background-color:  #f6bea4;\n",
       "            color:  #000000;\n",
       "        }    #T_2bcb32dc_357d_11eb_a136_8c859016bec2row4_col13 {\n",
       "            background-color:  #b40426;\n",
       "            color:  #f1f1f1;\n",
       "        }    #T_2bcb32dc_357d_11eb_a136_8c859016bec2row4_col14 {\n",
       "            background-color:  #92b4fe;\n",
       "            color:  #000000;\n",
       "        }    #T_2bcb32dc_357d_11eb_a136_8c859016bec2row4_col15 {\n",
       "            background-color:  #5977e3;\n",
       "            color:  #000000;\n",
       "        }    #T_2bcb32dc_357d_11eb_a136_8c859016bec2row5_col0 {\n",
       "            background-color:  #7396f5;\n",
       "            color:  #000000;\n",
       "        }    #T_2bcb32dc_357d_11eb_a136_8c859016bec2row5_col1 {\n",
       "            background-color:  #4c66d6;\n",
       "            color:  #000000;\n",
       "        }    #T_2bcb32dc_357d_11eb_a136_8c859016bec2row5_col2 {\n",
       "            background-color:  #516ddb;\n",
       "            color:  #000000;\n",
       "        }    #T_2bcb32dc_357d_11eb_a136_8c859016bec2row5_col3 {\n",
       "            background-color:  #f39475;\n",
       "            color:  #000000;\n",
       "        }    #T_2bcb32dc_357d_11eb_a136_8c859016bec2row5_col4 {\n",
       "            background-color:  #779af7;\n",
       "            color:  #000000;\n",
       "        }    #T_2bcb32dc_357d_11eb_a136_8c859016bec2row5_col5 {\n",
       "            background-color:  #b40426;\n",
       "            color:  #f1f1f1;\n",
       "        }    #T_2bcb32dc_357d_11eb_a136_8c859016bec2row5_col6 {\n",
       "            background-color:  #f6bea4;\n",
       "            color:  #000000;\n",
       "        }    #T_2bcb32dc_357d_11eb_a136_8c859016bec2row5_col7 {\n",
       "            background-color:  #8badfd;\n",
       "            color:  #000000;\n",
       "        }    #T_2bcb32dc_357d_11eb_a136_8c859016bec2row5_col8 {\n",
       "            background-color:  #f6a385;\n",
       "            color:  #000000;\n",
       "        }    #T_2bcb32dc_357d_11eb_a136_8c859016bec2row5_col9 {\n",
       "            background-color:  #3b4cc0;\n",
       "            color:  #f1f1f1;\n",
       "        }    #T_2bcb32dc_357d_11eb_a136_8c859016bec2row5_col10 {\n",
       "            background-color:  #3b4cc0;\n",
       "            color:  #f1f1f1;\n",
       "        }    #T_2bcb32dc_357d_11eb_a136_8c859016bec2row5_col11 {\n",
       "            background-color:  #7ea1fa;\n",
       "            color:  #000000;\n",
       "        }    #T_2bcb32dc_357d_11eb_a136_8c859016bec2row5_col12 {\n",
       "            background-color:  #93b5fe;\n",
       "            color:  #000000;\n",
       "        }    #T_2bcb32dc_357d_11eb_a136_8c859016bec2row5_col13 {\n",
       "            background-color:  #779af7;\n",
       "            color:  #000000;\n",
       "        }    #T_2bcb32dc_357d_11eb_a136_8c859016bec2row5_col14 {\n",
       "            background-color:  #3b4cc0;\n",
       "            color:  #f1f1f1;\n",
       "        }    #T_2bcb32dc_357d_11eb_a136_8c859016bec2row5_col15 {\n",
       "            background-color:  #6485ec;\n",
       "            color:  #000000;\n",
       "        }    #T_2bcb32dc_357d_11eb_a136_8c859016bec2row6_col0 {\n",
       "            background-color:  #b3cdfb;\n",
       "            color:  #000000;\n",
       "        }    #T_2bcb32dc_357d_11eb_a136_8c859016bec2row6_col1 {\n",
       "            background-color:  #aac7fd;\n",
       "            color:  #000000;\n",
       "        }    #T_2bcb32dc_357d_11eb_a136_8c859016bec2row6_col2 {\n",
       "            background-color:  #abc8fd;\n",
       "            color:  #000000;\n",
       "        }    #T_2bcb32dc_357d_11eb_a136_8c859016bec2row6_col3 {\n",
       "            background-color:  #f7ad90;\n",
       "            color:  #000000;\n",
       "        }    #T_2bcb32dc_357d_11eb_a136_8c859016bec2row6_col4 {\n",
       "            background-color:  #c3d5f4;\n",
       "            color:  #000000;\n",
       "        }    #T_2bcb32dc_357d_11eb_a136_8c859016bec2row6_col5 {\n",
       "            background-color:  #f6a586;\n",
       "            color:  #000000;\n",
       "        }    #T_2bcb32dc_357d_11eb_a136_8c859016bec2row6_col6 {\n",
       "            background-color:  #b40426;\n",
       "            color:  #f1f1f1;\n",
       "        }    #T_2bcb32dc_357d_11eb_a136_8c859016bec2row6_col7 {\n",
       "            background-color:  #97b8ff;\n",
       "            color:  #000000;\n",
       "        }    #T_2bcb32dc_357d_11eb_a136_8c859016bec2row6_col8 {\n",
       "            background-color:  #f6bfa6;\n",
       "            color:  #000000;\n",
       "        }    #T_2bcb32dc_357d_11eb_a136_8c859016bec2row6_col9 {\n",
       "            background-color:  #a5c3fe;\n",
       "            color:  #000000;\n",
       "        }    #T_2bcb32dc_357d_11eb_a136_8c859016bec2row6_col10 {\n",
       "            background-color:  #7da0f9;\n",
       "            color:  #000000;\n",
       "        }    #T_2bcb32dc_357d_11eb_a136_8c859016bec2row6_col11 {\n",
       "            background-color:  #93b5fe;\n",
       "            color:  #000000;\n",
       "        }    #T_2bcb32dc_357d_11eb_a136_8c859016bec2row6_col12 {\n",
       "            background-color:  #a9c6fd;\n",
       "            color:  #000000;\n",
       "        }    #T_2bcb32dc_357d_11eb_a136_8c859016bec2row6_col13 {\n",
       "            background-color:  #c3d5f4;\n",
       "            color:  #000000;\n",
       "        }    #T_2bcb32dc_357d_11eb_a136_8c859016bec2row6_col14 {\n",
       "            background-color:  #6c8ff1;\n",
       "            color:  #000000;\n",
       "        }    #T_2bcb32dc_357d_11eb_a136_8c859016bec2row6_col15 {\n",
       "            background-color:  #80a3fa;\n",
       "            color:  #000000;\n",
       "        }    #T_2bcb32dc_357d_11eb_a136_8c859016bec2row7_col0 {\n",
       "            background-color:  #485fd1;\n",
       "            color:  #f1f1f1;\n",
       "        }    #T_2bcb32dc_357d_11eb_a136_8c859016bec2row7_col1 {\n",
       "            background-color:  #6180e9;\n",
       "            color:  #000000;\n",
       "        }    #T_2bcb32dc_357d_11eb_a136_8c859016bec2row7_col2 {\n",
       "            background-color:  #6c8ff1;\n",
       "            color:  #000000;\n",
       "        }    #T_2bcb32dc_357d_11eb_a136_8c859016bec2row7_col3 {\n",
       "            background-color:  #799cf8;\n",
       "            color:  #000000;\n",
       "        }    #T_2bcb32dc_357d_11eb_a136_8c859016bec2row7_col4 {\n",
       "            background-color:  #f0cdbb;\n",
       "            color:  #000000;\n",
       "        }    #T_2bcb32dc_357d_11eb_a136_8c859016bec2row7_col5 {\n",
       "            background-color:  #82a6fb;\n",
       "            color:  #000000;\n",
       "        }    #T_2bcb32dc_357d_11eb_a136_8c859016bec2row7_col6 {\n",
       "            background-color:  #4e68d8;\n",
       "            color:  #000000;\n",
       "        }    #T_2bcb32dc_357d_11eb_a136_8c859016bec2row7_col7 {\n",
       "            background-color:  #b40426;\n",
       "            color:  #f1f1f1;\n",
       "        }    #T_2bcb32dc_357d_11eb_a136_8c859016bec2row7_col8 {\n",
       "            background-color:  #3b4cc0;\n",
       "            color:  #f1f1f1;\n",
       "        }    #T_2bcb32dc_357d_11eb_a136_8c859016bec2row7_col9 {\n",
       "            background-color:  #a5c3fe;\n",
       "            color:  #000000;\n",
       "        }    #T_2bcb32dc_357d_11eb_a136_8c859016bec2row7_col10 {\n",
       "            background-color:  #f7b497;\n",
       "            color:  #000000;\n",
       "        }    #T_2bcb32dc_357d_11eb_a136_8c859016bec2row7_col11 {\n",
       "            background-color:  #f08a6c;\n",
       "            color:  #000000;\n",
       "        }    #T_2bcb32dc_357d_11eb_a136_8c859016bec2row7_col12 {\n",
       "            background-color:  #c5d6f2;\n",
       "            color:  #000000;\n",
       "        }    #T_2bcb32dc_357d_11eb_a136_8c859016bec2row7_col13 {\n",
       "            background-color:  #f0cdbb;\n",
       "            color:  #000000;\n",
       "        }    #T_2bcb32dc_357d_11eb_a136_8c859016bec2row7_col14 {\n",
       "            background-color:  #d3dbe7;\n",
       "            color:  #000000;\n",
       "        }    #T_2bcb32dc_357d_11eb_a136_8c859016bec2row7_col15 {\n",
       "            background-color:  #4a63d3;\n",
       "            color:  #f1f1f1;\n",
       "        }    #T_2bcb32dc_357d_11eb_a136_8c859016bec2row8_col0 {\n",
       "            background-color:  #4b64d5;\n",
       "            color:  #f1f1f1;\n",
       "        }    #T_2bcb32dc_357d_11eb_a136_8c859016bec2row8_col1 {\n",
       "            background-color:  #3b4cc0;\n",
       "            color:  #f1f1f1;\n",
       "        }    #T_2bcb32dc_357d_11eb_a136_8c859016bec2row8_col2 {\n",
       "            background-color:  #3b4cc0;\n",
       "            color:  #f1f1f1;\n",
       "        }    #T_2bcb32dc_357d_11eb_a136_8c859016bec2row8_col3 {\n",
       "            background-color:  #f59f80;\n",
       "            color:  #000000;\n",
       "        }    #T_2bcb32dc_357d_11eb_a136_8c859016bec2row8_col4 {\n",
       "            background-color:  #c1d4f4;\n",
       "            color:  #000000;\n",
       "        }    #T_2bcb32dc_357d_11eb_a136_8c859016bec2row8_col5 {\n",
       "            background-color:  #f7a688;\n",
       "            color:  #000000;\n",
       "        }    #T_2bcb32dc_357d_11eb_a136_8c859016bec2row8_col6 {\n",
       "            background-color:  #e5d8d1;\n",
       "            color:  #000000;\n",
       "        }    #T_2bcb32dc_357d_11eb_a136_8c859016bec2row8_col7 {\n",
       "            background-color:  #3b4cc0;\n",
       "            color:  #f1f1f1;\n",
       "        }    #T_2bcb32dc_357d_11eb_a136_8c859016bec2row8_col8 {\n",
       "            background-color:  #b40426;\n",
       "            color:  #f1f1f1;\n",
       "        }    #T_2bcb32dc_357d_11eb_a136_8c859016bec2row8_col9 {\n",
       "            background-color:  #5f7fe8;\n",
       "            color:  #000000;\n",
       "        }    #T_2bcb32dc_357d_11eb_a136_8c859016bec2row8_col10 {\n",
       "            background-color:  #9abbff;\n",
       "            color:  #000000;\n",
       "        }    #T_2bcb32dc_357d_11eb_a136_8c859016bec2row8_col11 {\n",
       "            background-color:  #3b4cc0;\n",
       "            color:  #f1f1f1;\n",
       "        }    #T_2bcb32dc_357d_11eb_a136_8c859016bec2row8_col12 {\n",
       "            background-color:  #f1cdba;\n",
       "            color:  #000000;\n",
       "        }    #T_2bcb32dc_357d_11eb_a136_8c859016bec2row8_col13 {\n",
       "            background-color:  #c1d4f4;\n",
       "            color:  #000000;\n",
       "        }    #T_2bcb32dc_357d_11eb_a136_8c859016bec2row8_col14 {\n",
       "            background-color:  #3b4cc0;\n",
       "            color:  #f1f1f1;\n",
       "        }    #T_2bcb32dc_357d_11eb_a136_8c859016bec2row8_col15 {\n",
       "            background-color:  #adc9fd;\n",
       "            color:  #000000;\n",
       "        }    #T_2bcb32dc_357d_11eb_a136_8c859016bec2row9_col0 {\n",
       "            background-color:  #a7c5fe;\n",
       "            color:  #000000;\n",
       "        }    #T_2bcb32dc_357d_11eb_a136_8c859016bec2row9_col1 {\n",
       "            background-color:  #bfd3f6;\n",
       "            color:  #000000;\n",
       "        }    #T_2bcb32dc_357d_11eb_a136_8c859016bec2row9_col2 {\n",
       "            background-color:  #c1d4f4;\n",
       "            color:  #000000;\n",
       "        }    #T_2bcb32dc_357d_11eb_a136_8c859016bec2row9_col3 {\n",
       "            background-color:  #d6dce4;\n",
       "            color:  #000000;\n",
       "        }    #T_2bcb32dc_357d_11eb_a136_8c859016bec2row9_col4 {\n",
       "            background-color:  #f2cbb7;\n",
       "            color:  #000000;\n",
       "        }    #T_2bcb32dc_357d_11eb_a136_8c859016bec2row9_col5 {\n",
       "            background-color:  #a6c4fe;\n",
       "            color:  #000000;\n",
       "        }    #T_2bcb32dc_357d_11eb_a136_8c859016bec2row9_col6 {\n",
       "            background-color:  #c5d6f2;\n",
       "            color:  #000000;\n",
       "        }    #T_2bcb32dc_357d_11eb_a136_8c859016bec2row9_col7 {\n",
       "            background-color:  #e9d5cb;\n",
       "            color:  #000000;\n",
       "        }    #T_2bcb32dc_357d_11eb_a136_8c859016bec2row9_col8 {\n",
       "            background-color:  #c6d6f1;\n",
       "            color:  #000000;\n",
       "        }    #T_2bcb32dc_357d_11eb_a136_8c859016bec2row9_col9 {\n",
       "            background-color:  #b40426;\n",
       "            color:  #f1f1f1;\n",
       "        }    #T_2bcb32dc_357d_11eb_a136_8c859016bec2row9_col10 {\n",
       "            background-color:  #f4c6af;\n",
       "            color:  #000000;\n",
       "        }    #T_2bcb32dc_357d_11eb_a136_8c859016bec2row9_col11 {\n",
       "            background-color:  #a9c6fd;\n",
       "            color:  #000000;\n",
       "        }    #T_2bcb32dc_357d_11eb_a136_8c859016bec2row9_col12 {\n",
       "            background-color:  #f7b599;\n",
       "            color:  #000000;\n",
       "        }    #T_2bcb32dc_357d_11eb_a136_8c859016bec2row9_col13 {\n",
       "            background-color:  #f2cbb7;\n",
       "            color:  #000000;\n",
       "        }    #T_2bcb32dc_357d_11eb_a136_8c859016bec2row9_col14 {\n",
       "            background-color:  #bed2f6;\n",
       "            color:  #000000;\n",
       "        }    #T_2bcb32dc_357d_11eb_a136_8c859016bec2row9_col15 {\n",
       "            background-color:  #7396f5;\n",
       "            color:  #000000;\n",
       "        }    #T_2bcb32dc_357d_11eb_a136_8c859016bec2row10_col0 {\n",
       "            background-color:  #7396f5;\n",
       "            color:  #000000;\n",
       "        }    #T_2bcb32dc_357d_11eb_a136_8c859016bec2row10_col1 {\n",
       "            background-color:  #9fbfff;\n",
       "            color:  #000000;\n",
       "        }    #T_2bcb32dc_357d_11eb_a136_8c859016bec2row10_col2 {\n",
       "            background-color:  #a7c5fe;\n",
       "            color:  #000000;\n",
       "        }    #T_2bcb32dc_357d_11eb_a136_8c859016bec2row10_col3 {\n",
       "            background-color:  #5e7de7;\n",
       "            color:  #000000;\n",
       "        }    #T_2bcb32dc_357d_11eb_a136_8c859016bec2row10_col4 {\n",
       "            background-color:  #e0dbd8;\n",
       "            color:  #000000;\n",
       "        }    #T_2bcb32dc_357d_11eb_a136_8c859016bec2row10_col5 {\n",
       "            background-color:  #3b4cc0;\n",
       "            color:  #f1f1f1;\n",
       "        }    #T_2bcb32dc_357d_11eb_a136_8c859016bec2row10_col6 {\n",
       "            background-color:  #3b4cc0;\n",
       "            color:  #f1f1f1;\n",
       "        }    #T_2bcb32dc_357d_11eb_a136_8c859016bec2row10_col7 {\n",
       "            background-color:  #f7b194;\n",
       "            color:  #000000;\n",
       "        }    #T_2bcb32dc_357d_11eb_a136_8c859016bec2row10_col8 {\n",
       "            background-color:  #a2c1ff;\n",
       "            color:  #000000;\n",
       "        }    #T_2bcb32dc_357d_11eb_a136_8c859016bec2row10_col9 {\n",
       "            background-color:  #ccd9ed;\n",
       "            color:  #000000;\n",
       "        }    #T_2bcb32dc_357d_11eb_a136_8c859016bec2row10_col10 {\n",
       "            background-color:  #b40426;\n",
       "            color:  #f1f1f1;\n",
       "        }    #T_2bcb32dc_357d_11eb_a136_8c859016bec2row10_col11 {\n",
       "            background-color:  #d8dce2;\n",
       "            color:  #000000;\n",
       "        }    #T_2bcb32dc_357d_11eb_a136_8c859016bec2row10_col12 {\n",
       "            background-color:  #f5c2aa;\n",
       "            color:  #000000;\n",
       "        }    #T_2bcb32dc_357d_11eb_a136_8c859016bec2row10_col13 {\n",
       "            background-color:  #e0dbd8;\n",
       "            color:  #000000;\n",
       "        }    #T_2bcb32dc_357d_11eb_a136_8c859016bec2row10_col14 {\n",
       "            background-color:  #94b6ff;\n",
       "            color:  #000000;\n",
       "        }    #T_2bcb32dc_357d_11eb_a136_8c859016bec2row10_col15 {\n",
       "            background-color:  #81a4fb;\n",
       "            color:  #000000;\n",
       "        }    #T_2bcb32dc_357d_11eb_a136_8c859016bec2row11_col0 {\n",
       "            background-color:  #4c66d6;\n",
       "            color:  #000000;\n",
       "        }    #T_2bcb32dc_357d_11eb_a136_8c859016bec2row11_col1 {\n",
       "            background-color:  #6e90f2;\n",
       "            color:  #000000;\n",
       "        }    #T_2bcb32dc_357d_11eb_a136_8c859016bec2row11_col2 {\n",
       "            background-color:  #8db0fe;\n",
       "            color:  #000000;\n",
       "        }    #T_2bcb32dc_357d_11eb_a136_8c859016bec2row11_col3 {\n",
       "            background-color:  #3b4cc0;\n",
       "            color:  #f1f1f1;\n",
       "        }    #T_2bcb32dc_357d_11eb_a136_8c859016bec2row11_col4 {\n",
       "            background-color:  #7a9df8;\n",
       "            color:  #000000;\n",
       "        }    #T_2bcb32dc_357d_11eb_a136_8c859016bec2row11_col5 {\n",
       "            background-color:  #7a9df8;\n",
       "            color:  #000000;\n",
       "        }    #T_2bcb32dc_357d_11eb_a136_8c859016bec2row11_col6 {\n",
       "            background-color:  #4e68d8;\n",
       "            color:  #000000;\n",
       "        }    #T_2bcb32dc_357d_11eb_a136_8c859016bec2row11_col7 {\n",
       "            background-color:  #ef886b;\n",
       "            color:  #000000;\n",
       "        }    #T_2bcb32dc_357d_11eb_a136_8c859016bec2row11_col8 {\n",
       "            background-color:  #3f53c6;\n",
       "            color:  #f1f1f1;\n",
       "        }    #T_2bcb32dc_357d_11eb_a136_8c859016bec2row11_col9 {\n",
       "            background-color:  #3b4cc0;\n",
       "            color:  #f1f1f1;\n",
       "        }    #T_2bcb32dc_357d_11eb_a136_8c859016bec2row11_col10 {\n",
       "            background-color:  #d7dce3;\n",
       "            color:  #000000;\n",
       "        }    #T_2bcb32dc_357d_11eb_a136_8c859016bec2row11_col11 {\n",
       "            background-color:  #b40426;\n",
       "            color:  #f1f1f1;\n",
       "        }    #T_2bcb32dc_357d_11eb_a136_8c859016bec2row11_col12 {\n",
       "            background-color:  #3b4cc0;\n",
       "            color:  #f1f1f1;\n",
       "        }    #T_2bcb32dc_357d_11eb_a136_8c859016bec2row11_col13 {\n",
       "            background-color:  #7a9df8;\n",
       "            color:  #000000;\n",
       "        }    #T_2bcb32dc_357d_11eb_a136_8c859016bec2row11_col14 {\n",
       "            background-color:  #e8d6cc;\n",
       "            color:  #000000;\n",
       "        }    #T_2bcb32dc_357d_11eb_a136_8c859016bec2row11_col15 {\n",
       "            background-color:  #3b4cc0;\n",
       "            color:  #f1f1f1;\n",
       "        }    #T_2bcb32dc_357d_11eb_a136_8c859016bec2row12_col0 {\n",
       "            background-color:  #96b7ff;\n",
       "            color:  #000000;\n",
       "        }    #T_2bcb32dc_357d_11eb_a136_8c859016bec2row12_col1 {\n",
       "            background-color:  #9abbff;\n",
       "            color:  #000000;\n",
       "        }    #T_2bcb32dc_357d_11eb_a136_8c859016bec2row12_col2 {\n",
       "            background-color:  #93b5fe;\n",
       "            color:  #000000;\n",
       "        }    #T_2bcb32dc_357d_11eb_a136_8c859016bec2row12_col3 {\n",
       "            background-color:  #e5d8d1;\n",
       "            color:  #000000;\n",
       "        }    #T_2bcb32dc_357d_11eb_a136_8c859016bec2row12_col4 {\n",
       "            background-color:  #e2dad5;\n",
       "            color:  #000000;\n",
       "        }    #T_2bcb32dc_357d_11eb_a136_8c859016bec2row12_col5 {\n",
       "            background-color:  #9ebeff;\n",
       "            color:  #000000;\n",
       "        }    #T_2bcb32dc_357d_11eb_a136_8c859016bec2row12_col6 {\n",
       "            background-color:  #799cf8;\n",
       "            color:  #000000;\n",
       "        }    #T_2bcb32dc_357d_11eb_a136_8c859016bec2row12_col7 {\n",
       "            background-color:  #d2dbe8;\n",
       "            color:  #000000;\n",
       "        }    #T_2bcb32dc_357d_11eb_a136_8c859016bec2row12_col8 {\n",
       "            background-color:  #f4c6af;\n",
       "            color:  #000000;\n",
       "        }    #T_2bcb32dc_357d_11eb_a136_8c859016bec2row12_col9 {\n",
       "            background-color:  #e7d7ce;\n",
       "            color:  #000000;\n",
       "        }    #T_2bcb32dc_357d_11eb_a136_8c859016bec2row12_col10 {\n",
       "            background-color:  #f6bea4;\n",
       "            color:  #000000;\n",
       "        }    #T_2bcb32dc_357d_11eb_a136_8c859016bec2row12_col11 {\n",
       "            background-color:  #4b64d5;\n",
       "            color:  #f1f1f1;\n",
       "        }    #T_2bcb32dc_357d_11eb_a136_8c859016bec2row12_col12 {\n",
       "            background-color:  #b40426;\n",
       "            color:  #f1f1f1;\n",
       "        }    #T_2bcb32dc_357d_11eb_a136_8c859016bec2row12_col13 {\n",
       "            background-color:  #e2dad5;\n",
       "            color:  #000000;\n",
       "        }    #T_2bcb32dc_357d_11eb_a136_8c859016bec2row12_col14 {\n",
       "            background-color:  #85a8fc;\n",
       "            color:  #000000;\n",
       "        }    #T_2bcb32dc_357d_11eb_a136_8c859016bec2row12_col15 {\n",
       "            background-color:  #b2ccfb;\n",
       "            color:  #000000;\n",
       "        }    #T_2bcb32dc_357d_11eb_a136_8c859016bec2row13_col0 {\n",
       "            background-color:  #8caffe;\n",
       "            color:  #000000;\n",
       "        }    #T_2bcb32dc_357d_11eb_a136_8c859016bec2row13_col1 {\n",
       "            background-color:  #9ebeff;\n",
       "            color:  #000000;\n",
       "        }    #T_2bcb32dc_357d_11eb_a136_8c859016bec2row13_col2 {\n",
       "            background-color:  #88abfd;\n",
       "            color:  #000000;\n",
       "        }    #T_2bcb32dc_357d_11eb_a136_8c859016bec2row13_col3 {\n",
       "            background-color:  #f3c7b1;\n",
       "            color:  #000000;\n",
       "        }    #T_2bcb32dc_357d_11eb_a136_8c859016bec2row13_col4 {\n",
       "            background-color:  #b40426;\n",
       "            color:  #f1f1f1;\n",
       "        }    #T_2bcb32dc_357d_11eb_a136_8c859016bec2row13_col5 {\n",
       "            background-color:  #c9d7f0;\n",
       "            color:  #000000;\n",
       "        }    #T_2bcb32dc_357d_11eb_a136_8c859016bec2row13_col6 {\n",
       "            background-color:  #d5dbe5;\n",
       "            color:  #000000;\n",
       "        }    #T_2bcb32dc_357d_11eb_a136_8c859016bec2row13_col7 {\n",
       "            background-color:  #f7a688;\n",
       "            color:  #000000;\n",
       "        }    #T_2bcb32dc_357d_11eb_a136_8c859016bec2row13_col8 {\n",
       "            background-color:  #f1cdba;\n",
       "            color:  #000000;\n",
       "        }    #T_2bcb32dc_357d_11eb_a136_8c859016bec2row13_col9 {\n",
       "            background-color:  #efcebd;\n",
       "            color:  #000000;\n",
       "        }    #T_2bcb32dc_357d_11eb_a136_8c859016bec2row13_col10 {\n",
       "            background-color:  #f7ba9f;\n",
       "            color:  #000000;\n",
       "        }    #T_2bcb32dc_357d_11eb_a136_8c859016bec2row13_col11 {\n",
       "            background-color:  #cbd8ee;\n",
       "            color:  #000000;\n",
       "        }    #T_2bcb32dc_357d_11eb_a136_8c859016bec2row13_col12 {\n",
       "            background-color:  #f6bea4;\n",
       "            color:  #000000;\n",
       "        }    #T_2bcb32dc_357d_11eb_a136_8c859016bec2row13_col13 {\n",
       "            background-color:  #b40426;\n",
       "            color:  #f1f1f1;\n",
       "        }    #T_2bcb32dc_357d_11eb_a136_8c859016bec2row13_col14 {\n",
       "            background-color:  #92b4fe;\n",
       "            color:  #000000;\n",
       "        }    #T_2bcb32dc_357d_11eb_a136_8c859016bec2row13_col15 {\n",
       "            background-color:  #5977e3;\n",
       "            color:  #000000;\n",
       "        }    #T_2bcb32dc_357d_11eb_a136_8c859016bec2row14_col0 {\n",
       "            background-color:  #6384eb;\n",
       "            color:  #000000;\n",
       "        }    #T_2bcb32dc_357d_11eb_a136_8c859016bec2row14_col1 {\n",
       "            background-color:  #7b9ff9;\n",
       "            color:  #000000;\n",
       "        }    #T_2bcb32dc_357d_11eb_a136_8c859016bec2row14_col2 {\n",
       "            background-color:  #9dbdff;\n",
       "            color:  #000000;\n",
       "        }    #T_2bcb32dc_357d_11eb_a136_8c859016bec2row14_col3 {\n",
       "            background-color:  #5f7fe8;\n",
       "            color:  #000000;\n",
       "        }    #T_2bcb32dc_357d_11eb_a136_8c859016bec2row14_col4 {\n",
       "            background-color:  #5d7ce6;\n",
       "            color:  #000000;\n",
       "        }    #T_2bcb32dc_357d_11eb_a136_8c859016bec2row14_col5 {\n",
       "            background-color:  #688aef;\n",
       "            color:  #000000;\n",
       "        }    #T_2bcb32dc_357d_11eb_a136_8c859016bec2row14_col6 {\n",
       "            background-color:  #5875e1;\n",
       "            color:  #000000;\n",
       "        }    #T_2bcb32dc_357d_11eb_a136_8c859016bec2row14_col7 {\n",
       "            background-color:  #ead5c9;\n",
       "            color:  #000000;\n",
       "        }    #T_2bcb32dc_357d_11eb_a136_8c859016bec2row14_col8 {\n",
       "            background-color:  #7093f3;\n",
       "            color:  #000000;\n",
       "        }    #T_2bcb32dc_357d_11eb_a136_8c859016bec2row14_col9 {\n",
       "            background-color:  #88abfd;\n",
       "            color:  #000000;\n",
       "        }    #T_2bcb32dc_357d_11eb_a136_8c859016bec2row14_col10 {\n",
       "            background-color:  #bad0f8;\n",
       "            color:  #000000;\n",
       "        }    #T_2bcb32dc_357d_11eb_a136_8c859016bec2row14_col11 {\n",
       "            background-color:  #f3c7b1;\n",
       "            color:  #000000;\n",
       "        }    #T_2bcb32dc_357d_11eb_a136_8c859016bec2row14_col12 {\n",
       "            background-color:  #a2c1ff;\n",
       "            color:  #000000;\n",
       "        }    #T_2bcb32dc_357d_11eb_a136_8c859016bec2row14_col13 {\n",
       "            background-color:  #5d7ce6;\n",
       "            color:  #000000;\n",
       "        }    #T_2bcb32dc_357d_11eb_a136_8c859016bec2row14_col14 {\n",
       "            background-color:  #b40426;\n",
       "            color:  #f1f1f1;\n",
       "        }    #T_2bcb32dc_357d_11eb_a136_8c859016bec2row14_col15 {\n",
       "            background-color:  #6384eb;\n",
       "            color:  #000000;\n",
       "        }    #T_2bcb32dc_357d_11eb_a136_8c859016bec2row15_col0 {\n",
       "            background-color:  #3b4cc0;\n",
       "            color:  #f1f1f1;\n",
       "        }    #T_2bcb32dc_357d_11eb_a136_8c859016bec2row15_col1 {\n",
       "            background-color:  #4e68d8;\n",
       "            color:  #000000;\n",
       "        }    #T_2bcb32dc_357d_11eb_a136_8c859016bec2row15_col2 {\n",
       "            background-color:  #6282ea;\n",
       "            color:  #000000;\n",
       "        }    #T_2bcb32dc_357d_11eb_a136_8c859016bec2row15_col3 {\n",
       "            background-color:  #a3c2fe;\n",
       "            color:  #000000;\n",
       "        }    #T_2bcb32dc_357d_11eb_a136_8c859016bec2row15_col4 {\n",
       "            background-color:  #3b4cc0;\n",
       "            color:  #f1f1f1;\n",
       "        }    #T_2bcb32dc_357d_11eb_a136_8c859016bec2row15_col5 {\n",
       "            background-color:  #a5c3fe;\n",
       "            color:  #000000;\n",
       "        }    #T_2bcb32dc_357d_11eb_a136_8c859016bec2row15_col6 {\n",
       "            background-color:  #84a7fc;\n",
       "            color:  #000000;\n",
       "        }    #T_2bcb32dc_357d_11eb_a136_8c859016bec2row15_col7 {\n",
       "            background-color:  #97b8ff;\n",
       "            color:  #000000;\n",
       "        }    #T_2bcb32dc_357d_11eb_a136_8c859016bec2row15_col8 {\n",
       "            background-color:  #dcdddd;\n",
       "            color:  #000000;\n",
       "        }    #T_2bcb32dc_357d_11eb_a136_8c859016bec2row15_col9 {\n",
       "            background-color:  #4961d2;\n",
       "            color:  #f1f1f1;\n",
       "        }    #T_2bcb32dc_357d_11eb_a136_8c859016bec2row15_col10 {\n",
       "            background-color:  #bbd1f8;\n",
       "            color:  #000000;\n",
       "        }    #T_2bcb32dc_357d_11eb_a136_8c859016bec2row15_col11 {\n",
       "            background-color:  #84a7fc;\n",
       "            color:  #000000;\n",
       "        }    #T_2bcb32dc_357d_11eb_a136_8c859016bec2row15_col12 {\n",
       "            background-color:  #d5dbe5;\n",
       "            color:  #000000;\n",
       "        }    #T_2bcb32dc_357d_11eb_a136_8c859016bec2row15_col13 {\n",
       "            background-color:  #3b4cc0;\n",
       "            color:  #f1f1f1;\n",
       "        }    #T_2bcb32dc_357d_11eb_a136_8c859016bec2row15_col14 {\n",
       "            background-color:  #7b9ff9;\n",
       "            color:  #000000;\n",
       "        }    #T_2bcb32dc_357d_11eb_a136_8c859016bec2row15_col15 {\n",
       "            background-color:  #b40426;\n",
       "            color:  #f1f1f1;\n",
       "        }</style><table id=\"T_2bcb32dc_357d_11eb_a136_8c859016bec2\" ><thead>    <tr>        <th class=\"blank level0\" ></th>        <th class=\"col_heading level0 col0\" >Total  shooting</th>        <th class=\"col_heading level0 col1\" >Violent crime</th>        <th class=\"col_heading level0 col2\" >Population</th>        <th class=\"col_heading level0 col3\" >Average shooting per 1,000,000</th>        <th class=\"col_heading level0 col4\" >Violent rate per 1,000</th>        <th class=\"col_heading level0 col5\" >State year</th>        <th class=\"col_heading level0 col6\" >Land area(sqmi)</th>        <th class=\"col_heading level0 col7\" >Populatiion per sqmi</th>        <th class=\"col_heading level0 col8\" >Gun Ownership rate</th>        <th class=\"col_heading level0 col9\" >Unemployment rate</th>        <th class=\"col_heading level0 col10\" >Percent black</th>        <th class=\"col_heading level0 col11\" >Bachelor's degree or higher</th>        <th class=\"col_heading level0 col12\" >Poverty Rate</th>        <th class=\"col_heading level0 col13\" >Violent rate</th>        <th class=\"col_heading level0 col14\" >Police Basic Training hours</th>        <th class=\"col_heading level0 col15\" >Month before work</th>    </tr></thead><tbody>\n",
       "                <tr>\n",
       "                        <th id=\"T_2bcb32dc_357d_11eb_a136_8c859016bec2level0_row0\" class=\"row_heading level0 row0\" >Total  shooting</th>\n",
       "                        <td id=\"T_2bcb32dc_357d_11eb_a136_8c859016bec2row0_col0\" class=\"data row0 col0\" >1</td>\n",
       "                        <td id=\"T_2bcb32dc_357d_11eb_a136_8c859016bec2row0_col1\" class=\"data row0 col1\" >0.92</td>\n",
       "                        <td id=\"T_2bcb32dc_357d_11eb_a136_8c859016bec2row0_col2\" class=\"data row0 col2\" >0.89</td>\n",
       "                        <td id=\"T_2bcb32dc_357d_11eb_a136_8c859016bec2row0_col3\" class=\"data row0 col3\" >0.13</td>\n",
       "                        <td id=\"T_2bcb32dc_357d_11eb_a136_8c859016bec2row0_col4\" class=\"data row0 col4\" >0.13</td>\n",
       "                        <td id=\"T_2bcb32dc_357d_11eb_a136_8c859016bec2row0_col5\" class=\"data row0 col5\" >0.046</td>\n",
       "                        <td id=\"T_2bcb32dc_357d_11eb_a136_8c859016bec2row0_col6\" class=\"data row0 col6\" >0.26</td>\n",
       "                        <td id=\"T_2bcb32dc_357d_11eb_a136_8c859016bec2row0_col7\" class=\"data row0 col7\" >-0.11</td>\n",
       "                        <td id=\"T_2bcb32dc_357d_11eb_a136_8c859016bec2row0_col8\" class=\"data row0 col8\" >-0.093</td>\n",
       "                        <td id=\"T_2bcb32dc_357d_11eb_a136_8c859016bec2row0_col9\" class=\"data row0 col9\" >0.22</td>\n",
       "                        <td id=\"T_2bcb32dc_357d_11eb_a136_8c859016bec2row0_col10\" class=\"data row0 col10\" >0.05</td>\n",
       "                        <td id=\"T_2bcb32dc_357d_11eb_a136_8c859016bec2row0_col11\" class=\"data row0 col11\" >-0.088</td>\n",
       "                        <td id=\"T_2bcb32dc_357d_11eb_a136_8c859016bec2row0_col12\" class=\"data row0 col12\" >0.16</td>\n",
       "                        <td id=\"T_2bcb32dc_357d_11eb_a136_8c859016bec2row0_col13\" class=\"data row0 col13\" >0.13</td>\n",
       "                        <td id=\"T_2bcb32dc_357d_11eb_a136_8c859016bec2row0_col14\" class=\"data row0 col14\" >-0.008</td>\n",
       "                        <td id=\"T_2bcb32dc_357d_11eb_a136_8c859016bec2row0_col15\" class=\"data row0 col15\" >-0.16</td>\n",
       "            </tr>\n",
       "            <tr>\n",
       "                        <th id=\"T_2bcb32dc_357d_11eb_a136_8c859016bec2level0_row1\" class=\"row_heading level0 row1\" >Violent crime</th>\n",
       "                        <td id=\"T_2bcb32dc_357d_11eb_a136_8c859016bec2row1_col0\" class=\"data row1 col0\" >0.92</td>\n",
       "                        <td id=\"T_2bcb32dc_357d_11eb_a136_8c859016bec2row1_col1\" class=\"data row1 col1\" >1</td>\n",
       "                        <td id=\"T_2bcb32dc_357d_11eb_a136_8c859016bec2row1_col2\" class=\"data row1 col2\" >0.98</td>\n",
       "                        <td id=\"T_2bcb32dc_357d_11eb_a136_8c859016bec2row1_col3\" class=\"data row1 col3\" >-0.11</td>\n",
       "                        <td id=\"T_2bcb32dc_357d_11eb_a136_8c859016bec2row1_col4\" class=\"data row1 col4\" >0.15</td>\n",
       "                        <td id=\"T_2bcb32dc_357d_11eb_a136_8c859016bec2row1_col5\" class=\"data row1 col5\" >-0.14</td>\n",
       "                        <td id=\"T_2bcb32dc_357d_11eb_a136_8c859016bec2row1_col6\" class=\"data row1 col6\" >0.19</td>\n",
       "                        <td id=\"T_2bcb32dc_357d_11eb_a136_8c859016bec2row1_col7\" class=\"data row1 col7\" >-0.061</td>\n",
       "                        <td id=\"T_2bcb32dc_357d_11eb_a136_8c859016bec2row1_col8\" class=\"data row1 col8\" >-0.21</td>\n",
       "                        <td id=\"T_2bcb32dc_357d_11eb_a136_8c859016bec2row1_col9\" class=\"data row1 col9\" >0.27</td>\n",
       "                        <td id=\"T_2bcb32dc_357d_11eb_a136_8c859016bec2row1_col10\" class=\"data row1 col10\" >0.16</td>\n",
       "                        <td id=\"T_2bcb32dc_357d_11eb_a136_8c859016bec2row1_col11\" class=\"data row1 col11\" >-0.01</td>\n",
       "                        <td id=\"T_2bcb32dc_357d_11eb_a136_8c859016bec2row1_col12\" class=\"data row1 col12\" >0.14</td>\n",
       "                        <td id=\"T_2bcb32dc_357d_11eb_a136_8c859016bec2row1_col13\" class=\"data row1 col13\" >0.15</td>\n",
       "                        <td id=\"T_2bcb32dc_357d_11eb_a136_8c859016bec2row1_col14\" class=\"data row1 col14\" >0.036</td>\n",
       "                        <td id=\"T_2bcb32dc_357d_11eb_a136_8c859016bec2row1_col15\" class=\"data row1 col15\" >-0.13</td>\n",
       "            </tr>\n",
       "            <tr>\n",
       "                        <th id=\"T_2bcb32dc_357d_11eb_a136_8c859016bec2level0_row2\" class=\"row_heading level0 row2\" >Population</th>\n",
       "                        <td id=\"T_2bcb32dc_357d_11eb_a136_8c859016bec2row2_col0\" class=\"data row2 col0\" >0.89</td>\n",
       "                        <td id=\"T_2bcb32dc_357d_11eb_a136_8c859016bec2row2_col1\" class=\"data row2 col1\" >0.98</td>\n",
       "                        <td id=\"T_2bcb32dc_357d_11eb_a136_8c859016bec2row2_col2\" class=\"data row2 col2\" >1</td>\n",
       "                        <td id=\"T_2bcb32dc_357d_11eb_a136_8c859016bec2row2_col3\" class=\"data row2 col3\" >-0.2</td>\n",
       "                        <td id=\"T_2bcb32dc_357d_11eb_a136_8c859016bec2row2_col4\" class=\"data row2 col4\" >0.02</td>\n",
       "                        <td id=\"T_2bcb32dc_357d_11eb_a136_8c859016bec2row2_col5\" class=\"data row2 col5\" >-0.19</td>\n",
       "                        <td id=\"T_2bcb32dc_357d_11eb_a136_8c859016bec2row2_col6\" class=\"data row2 col6\" >0.15</td>\n",
       "                        <td id=\"T_2bcb32dc_357d_11eb_a136_8c859016bec2row2_col7\" class=\"data row2 col7\" >-0.081</td>\n",
       "                        <td id=\"T_2bcb32dc_357d_11eb_a136_8c859016bec2row2_col8\" class=\"data row2 col8\" >-0.28</td>\n",
       "                        <td id=\"T_2bcb32dc_357d_11eb_a136_8c859016bec2row2_col9\" class=\"data row2 col9\" >0.23</td>\n",
       "                        <td id=\"T_2bcb32dc_357d_11eb_a136_8c859016bec2row2_col10\" class=\"data row2 col10\" >0.14</td>\n",
       "                        <td id=\"T_2bcb32dc_357d_11eb_a136_8c859016bec2row2_col11\" class=\"data row2 col11\" >0.038</td>\n",
       "                        <td id=\"T_2bcb32dc_357d_11eb_a136_8c859016bec2row2_col12\" class=\"data row2 col12\" >0.061</td>\n",
       "                        <td id=\"T_2bcb32dc_357d_11eb_a136_8c859016bec2row2_col13\" class=\"data row2 col13\" >0.02</td>\n",
       "                        <td id=\"T_2bcb32dc_357d_11eb_a136_8c859016bec2row2_col14\" class=\"data row2 col14\" >0.094</td>\n",
       "                        <td id=\"T_2bcb32dc_357d_11eb_a136_8c859016bec2row2_col15\" class=\"data row2 col15\" >-0.12</td>\n",
       "            </tr>\n",
       "            <tr>\n",
       "                        <th id=\"T_2bcb32dc_357d_11eb_a136_8c859016bec2level0_row3\" class=\"row_heading level0 row3\" >Average shooting per 1,000,000</th>\n",
       "                        <td id=\"T_2bcb32dc_357d_11eb_a136_8c859016bec2row3_col0\" class=\"data row3 col0\" >0.13</td>\n",
       "                        <td id=\"T_2bcb32dc_357d_11eb_a136_8c859016bec2row3_col1\" class=\"data row3 col1\" >-0.11</td>\n",
       "                        <td id=\"T_2bcb32dc_357d_11eb_a136_8c859016bec2row3_col2\" class=\"data row3 col2\" >-0.2</td>\n",
       "                        <td id=\"T_2bcb32dc_357d_11eb_a136_8c859016bec2row3_col3\" class=\"data row3 col3\" >1</td>\n",
       "                        <td id=\"T_2bcb32dc_357d_11eb_a136_8c859016bec2row3_col4\" class=\"data row3 col4\" >0.48</td>\n",
       "                        <td id=\"T_2bcb32dc_357d_11eb_a136_8c859016bec2row3_col5\" class=\"data row3 col5\" >0.68</td>\n",
       "                        <td id=\"T_2bcb32dc_357d_11eb_a136_8c859016bec2row3_col6\" class=\"data row3 col6\" >0.59</td>\n",
       "                        <td id=\"T_2bcb32dc_357d_11eb_a136_8c859016bec2row3_col7\" class=\"data row3 col7\" >-0.093</td>\n",
       "                        <td id=\"T_2bcb32dc_357d_11eb_a136_8c859016bec2row3_col8\" class=\"data row3 col8\" >0.64</td>\n",
       "                        <td id=\"T_2bcb32dc_357d_11eb_a136_8c859016bec2row3_col9\" class=\"data row3 col9\" >0.29</td>\n",
       "                        <td id=\"T_2bcb32dc_357d_11eb_a136_8c859016bec2row3_col10\" class=\"data row3 col10\" >-0.2</td>\n",
       "                        <td id=\"T_2bcb32dc_357d_11eb_a136_8c859016bec2row3_col11\" class=\"data row3 col11\" >-0.36</td>\n",
       "                        <td id=\"T_2bcb32dc_357d_11eb_a136_8c859016bec2row3_col12\" class=\"data row3 col12\" >0.37</td>\n",
       "                        <td id=\"T_2bcb32dc_357d_11eb_a136_8c859016bec2row3_col13\" class=\"data row3 col13\" >0.48</td>\n",
       "                        <td id=\"T_2bcb32dc_357d_11eb_a136_8c859016bec2row3_col14\" class=\"data row3 col14\" >-0.2</td>\n",
       "                        <td id=\"T_2bcb32dc_357d_11eb_a136_8c859016bec2row3_col15\" class=\"data row3 col15\" >0.069</td>\n",
       "            </tr>\n",
       "            <tr>\n",
       "                        <th id=\"T_2bcb32dc_357d_11eb_a136_8c859016bec2level0_row4\" class=\"row_heading level0 row4\" >Violent rate per 1,000</th>\n",
       "                        <td id=\"T_2bcb32dc_357d_11eb_a136_8c859016bec2row4_col0\" class=\"data row4 col0\" >0.13</td>\n",
       "                        <td id=\"T_2bcb32dc_357d_11eb_a136_8c859016bec2row4_col1\" class=\"data row4 col1\" >0.15</td>\n",
       "                        <td id=\"T_2bcb32dc_357d_11eb_a136_8c859016bec2row4_col2\" class=\"data row4 col2\" >0.02</td>\n",
       "                        <td id=\"T_2bcb32dc_357d_11eb_a136_8c859016bec2row4_col3\" class=\"data row4 col3\" >0.48</td>\n",
       "                        <td id=\"T_2bcb32dc_357d_11eb_a136_8c859016bec2row4_col4\" class=\"data row4 col4\" >1</td>\n",
       "                        <td id=\"T_2bcb32dc_357d_11eb_a136_8c859016bec2row4_col5\" class=\"data row4 col5\" >0.095</td>\n",
       "                        <td id=\"T_2bcb32dc_357d_11eb_a136_8c859016bec2row4_col6\" class=\"data row4 col6\" >0.34</td>\n",
       "                        <td id=\"T_2bcb32dc_357d_11eb_a136_8c859016bec2row4_col7\" class=\"data row4 col7\" >0.54</td>\n",
       "                        <td id=\"T_2bcb32dc_357d_11eb_a136_8c859016bec2row4_col8\" class=\"data row4 col8\" >0.34</td>\n",
       "                        <td id=\"T_2bcb32dc_357d_11eb_a136_8c859016bec2row4_col9\" class=\"data row4 col9\" >0.55</td>\n",
       "                        <td id=\"T_2bcb32dc_357d_11eb_a136_8c859016bec2row4_col10\" class=\"data row4 col10\" >0.46</td>\n",
       "                        <td id=\"T_2bcb32dc_357d_11eb_a136_8c859016bec2row4_col11\" class=\"data row4 col11\" >0.1</td>\n",
       "                        <td id=\"T_2bcb32dc_357d_11eb_a136_8c859016bec2row4_col12\" class=\"data row4 col12\" >0.47</td>\n",
       "                        <td id=\"T_2bcb32dc_357d_11eb_a136_8c859016bec2row4_col13\" class=\"data row4 col13\" >1</td>\n",
       "                        <td id=\"T_2bcb32dc_357d_11eb_a136_8c859016bec2row4_col14\" class=\"data row4 col14\" >0.0093</td>\n",
       "                        <td id=\"T_2bcb32dc_357d_11eb_a136_8c859016bec2row4_col15\" class=\"data row4 col15\" >-0.12</td>\n",
       "            </tr>\n",
       "            <tr>\n",
       "                        <th id=\"T_2bcb32dc_357d_11eb_a136_8c859016bec2level0_row5\" class=\"row_heading level0 row5\" >State year</th>\n",
       "                        <td id=\"T_2bcb32dc_357d_11eb_a136_8c859016bec2row5_col0\" class=\"data row5 col0\" >0.046</td>\n",
       "                        <td id=\"T_2bcb32dc_357d_11eb_a136_8c859016bec2row5_col1\" class=\"data row5 col1\" >-0.14</td>\n",
       "                        <td id=\"T_2bcb32dc_357d_11eb_a136_8c859016bec2row5_col2\" class=\"data row5 col2\" >-0.19</td>\n",
       "                        <td id=\"T_2bcb32dc_357d_11eb_a136_8c859016bec2row5_col3\" class=\"data row5 col3\" >0.68</td>\n",
       "                        <td id=\"T_2bcb32dc_357d_11eb_a136_8c859016bec2row5_col4\" class=\"data row5 col4\" >0.095</td>\n",
       "                        <td id=\"T_2bcb32dc_357d_11eb_a136_8c859016bec2row5_col5\" class=\"data row5 col5\" >1</td>\n",
       "                        <td id=\"T_2bcb32dc_357d_11eb_a136_8c859016bec2row5_col6\" class=\"data row5 col6\" >0.56</td>\n",
       "                        <td id=\"T_2bcb32dc_357d_11eb_a136_8c859016bec2row5_col7\" class=\"data row5 col7\" >-0.23</td>\n",
       "                        <td id=\"T_2bcb32dc_357d_11eb_a136_8c859016bec2row5_col8\" class=\"data row5 col8\" >0.55</td>\n",
       "                        <td id=\"T_2bcb32dc_357d_11eb_a136_8c859016bec2row5_col9\" class=\"data row5 col9\" >-0.071</td>\n",
       "                        <td id=\"T_2bcb32dc_357d_11eb_a136_8c859016bec2row5_col10\" class=\"data row5 col10\" >-0.58</td>\n",
       "                        <td id=\"T_2bcb32dc_357d_11eb_a136_8c859016bec2row5_col11\" class=\"data row5 col11\" >-0.26</td>\n",
       "                        <td id=\"T_2bcb32dc_357d_11eb_a136_8c859016bec2row5_col12\" class=\"data row5 col12\" >-0.1</td>\n",
       "                        <td id=\"T_2bcb32dc_357d_11eb_a136_8c859016bec2row5_col13\" class=\"data row5 col13\" >0.095</td>\n",
       "                        <td id=\"T_2bcb32dc_357d_11eb_a136_8c859016bec2row5_col14\" class=\"data row5 col14\" >-0.35</td>\n",
       "                        <td id=\"T_2bcb32dc_357d_11eb_a136_8c859016bec2row5_col15\" class=\"data row5 col15\" >-0.072</td>\n",
       "            </tr>\n",
       "            <tr>\n",
       "                        <th id=\"T_2bcb32dc_357d_11eb_a136_8c859016bec2level0_row6\" class=\"row_heading level0 row6\" >Land area(sqmi)</th>\n",
       "                        <td id=\"T_2bcb32dc_357d_11eb_a136_8c859016bec2row6_col0\" class=\"data row6 col0\" >0.26</td>\n",
       "                        <td id=\"T_2bcb32dc_357d_11eb_a136_8c859016bec2row6_col1\" class=\"data row6 col1\" >0.19</td>\n",
       "                        <td id=\"T_2bcb32dc_357d_11eb_a136_8c859016bec2row6_col2\" class=\"data row6 col2\" >0.15</td>\n",
       "                        <td id=\"T_2bcb32dc_357d_11eb_a136_8c859016bec2row6_col3\" class=\"data row6 col3\" >0.59</td>\n",
       "                        <td id=\"T_2bcb32dc_357d_11eb_a136_8c859016bec2row6_col4\" class=\"data row6 col4\" >0.34</td>\n",
       "                        <td id=\"T_2bcb32dc_357d_11eb_a136_8c859016bec2row6_col5\" class=\"data row6 col5\" >0.56</td>\n",
       "                        <td id=\"T_2bcb32dc_357d_11eb_a136_8c859016bec2row6_col6\" class=\"data row6 col6\" >1</td>\n",
       "                        <td id=\"T_2bcb32dc_357d_11eb_a136_8c859016bec2row6_col7\" class=\"data row6 col7\" >-0.17</td>\n",
       "                        <td id=\"T_2bcb32dc_357d_11eb_a136_8c859016bec2row6_col8\" class=\"data row6 col8\" >0.42</td>\n",
       "                        <td id=\"T_2bcb32dc_357d_11eb_a136_8c859016bec2row6_col9\" class=\"data row6 col9\" >0.27</td>\n",
       "                        <td id=\"T_2bcb32dc_357d_11eb_a136_8c859016bec2row6_col10\" class=\"data row6 col10\" >-0.25</td>\n",
       "                        <td id=\"T_2bcb32dc_357d_11eb_a136_8c859016bec2row6_col11\" class=\"data row6 col11\" >-0.17</td>\n",
       "                        <td id=\"T_2bcb32dc_357d_11eb_a136_8c859016bec2row6_col12\" class=\"data row6 col12\" >-0.0091</td>\n",
       "                        <td id=\"T_2bcb32dc_357d_11eb_a136_8c859016bec2row6_col13\" class=\"data row6 col13\" >0.34</td>\n",
       "                        <td id=\"T_2bcb32dc_357d_11eb_a136_8c859016bec2row6_col14\" class=\"data row6 col14\" >-0.13</td>\n",
       "                        <td id=\"T_2bcb32dc_357d_11eb_a136_8c859016bec2row6_col15\" class=\"data row6 col15\" >0.027</td>\n",
       "            </tr>\n",
       "            <tr>\n",
       "                        <th id=\"T_2bcb32dc_357d_11eb_a136_8c859016bec2level0_row7\" class=\"row_heading level0 row7\" >Populatiion per sqmi</th>\n",
       "                        <td id=\"T_2bcb32dc_357d_11eb_a136_8c859016bec2row7_col0\" class=\"data row7 col0\" >-0.11</td>\n",
       "                        <td id=\"T_2bcb32dc_357d_11eb_a136_8c859016bec2row7_col1\" class=\"data row7 col1\" >-0.061</td>\n",
       "                        <td id=\"T_2bcb32dc_357d_11eb_a136_8c859016bec2row7_col2\" class=\"data row7 col2\" >-0.081</td>\n",
       "                        <td id=\"T_2bcb32dc_357d_11eb_a136_8c859016bec2row7_col3\" class=\"data row7 col3\" >-0.093</td>\n",
       "                        <td id=\"T_2bcb32dc_357d_11eb_a136_8c859016bec2row7_col4\" class=\"data row7 col4\" >0.54</td>\n",
       "                        <td id=\"T_2bcb32dc_357d_11eb_a136_8c859016bec2row7_col5\" class=\"data row7 col5\" >-0.23</td>\n",
       "                        <td id=\"T_2bcb32dc_357d_11eb_a136_8c859016bec2row7_col6\" class=\"data row7 col6\" >-0.17</td>\n",
       "                        <td id=\"T_2bcb32dc_357d_11eb_a136_8c859016bec2row7_col7\" class=\"data row7 col7\" >1</td>\n",
       "                        <td id=\"T_2bcb32dc_357d_11eb_a136_8c859016bec2row7_col8\" class=\"data row7 col8\" >-0.62</td>\n",
       "                        <td id=\"T_2bcb32dc_357d_11eb_a136_8c859016bec2row7_col9\" class=\"data row7 col9\" >0.27</td>\n",
       "                        <td id=\"T_2bcb32dc_357d_11eb_a136_8c859016bec2row7_col10\" class=\"data row7 col10\" >0.49</td>\n",
       "                        <td id=\"T_2bcb32dc_357d_11eb_a136_8c859016bec2row7_col11\" class=\"data row7 col11\" >0.66</td>\n",
       "                        <td id=\"T_2bcb32dc_357d_11eb_a136_8c859016bec2row7_col12\" class=\"data row7 col12\" >0.12</td>\n",
       "                        <td id=\"T_2bcb32dc_357d_11eb_a136_8c859016bec2row7_col13\" class=\"data row7 col13\" >0.54</td>\n",
       "                        <td id=\"T_2bcb32dc_357d_11eb_a136_8c859016bec2row7_col14\" class=\"data row7 col14\" >0.28</td>\n",
       "                        <td id=\"T_2bcb32dc_357d_11eb_a136_8c859016bec2row7_col15\" class=\"data row7 col15\" >-0.17</td>\n",
       "            </tr>\n",
       "            <tr>\n",
       "                        <th id=\"T_2bcb32dc_357d_11eb_a136_8c859016bec2level0_row8\" class=\"row_heading level0 row8\" >Gun Ownership rate</th>\n",
       "                        <td id=\"T_2bcb32dc_357d_11eb_a136_8c859016bec2row8_col0\" class=\"data row8 col0\" >-0.093</td>\n",
       "                        <td id=\"T_2bcb32dc_357d_11eb_a136_8c859016bec2row8_col1\" class=\"data row8 col1\" >-0.21</td>\n",
       "                        <td id=\"T_2bcb32dc_357d_11eb_a136_8c859016bec2row8_col2\" class=\"data row8 col2\" >-0.28</td>\n",
       "                        <td id=\"T_2bcb32dc_357d_11eb_a136_8c859016bec2row8_col3\" class=\"data row8 col3\" >0.64</td>\n",
       "                        <td id=\"T_2bcb32dc_357d_11eb_a136_8c859016bec2row8_col4\" class=\"data row8 col4\" >0.34</td>\n",
       "                        <td id=\"T_2bcb32dc_357d_11eb_a136_8c859016bec2row8_col5\" class=\"data row8 col5\" >0.55</td>\n",
       "                        <td id=\"T_2bcb32dc_357d_11eb_a136_8c859016bec2row8_col6\" class=\"data row8 col6\" >0.42</td>\n",
       "                        <td id=\"T_2bcb32dc_357d_11eb_a136_8c859016bec2row8_col7\" class=\"data row8 col7\" >-0.62</td>\n",
       "                        <td id=\"T_2bcb32dc_357d_11eb_a136_8c859016bec2row8_col8\" class=\"data row8 col8\" >1</td>\n",
       "                        <td id=\"T_2bcb32dc_357d_11eb_a136_8c859016bec2row8_col9\" class=\"data row8 col9\" >0.055</td>\n",
       "                        <td id=\"T_2bcb32dc_357d_11eb_a136_8c859016bec2row8_col10\" class=\"data row8 col10\" >-0.12</td>\n",
       "                        <td id=\"T_2bcb32dc_357d_11eb_a136_8c859016bec2row8_col11\" class=\"data row8 col11\" >-0.6</td>\n",
       "                        <td id=\"T_2bcb32dc_357d_11eb_a136_8c859016bec2row8_col12\" class=\"data row8 col12\" >0.38</td>\n",
       "                        <td id=\"T_2bcb32dc_357d_11eb_a136_8c859016bec2row8_col13\" class=\"data row8 col13\" >0.34</td>\n",
       "                        <td id=\"T_2bcb32dc_357d_11eb_a136_8c859016bec2row8_col14\" class=\"data row8 col14\" >-0.35</td>\n",
       "                        <td id=\"T_2bcb32dc_357d_11eb_a136_8c859016bec2row8_col15\" class=\"data row8 col15\" >0.19</td>\n",
       "            </tr>\n",
       "            <tr>\n",
       "                        <th id=\"T_2bcb32dc_357d_11eb_a136_8c859016bec2level0_row9\" class=\"row_heading level0 row9\" >Unemployment rate</th>\n",
       "                        <td id=\"T_2bcb32dc_357d_11eb_a136_8c859016bec2row9_col0\" class=\"data row9 col0\" >0.22</td>\n",
       "                        <td id=\"T_2bcb32dc_357d_11eb_a136_8c859016bec2row9_col1\" class=\"data row9 col1\" >0.27</td>\n",
       "                        <td id=\"T_2bcb32dc_357d_11eb_a136_8c859016bec2row9_col2\" class=\"data row9 col2\" >0.23</td>\n",
       "                        <td id=\"T_2bcb32dc_357d_11eb_a136_8c859016bec2row9_col3\" class=\"data row9 col3\" >0.29</td>\n",
       "                        <td id=\"T_2bcb32dc_357d_11eb_a136_8c859016bec2row9_col4\" class=\"data row9 col4\" >0.55</td>\n",
       "                        <td id=\"T_2bcb32dc_357d_11eb_a136_8c859016bec2row9_col5\" class=\"data row9 col5\" >-0.071</td>\n",
       "                        <td id=\"T_2bcb32dc_357d_11eb_a136_8c859016bec2row9_col6\" class=\"data row9 col6\" >0.27</td>\n",
       "                        <td id=\"T_2bcb32dc_357d_11eb_a136_8c859016bec2row9_col7\" class=\"data row9 col7\" >0.27</td>\n",
       "                        <td id=\"T_2bcb32dc_357d_11eb_a136_8c859016bec2row9_col8\" class=\"data row9 col8\" >0.055</td>\n",
       "                        <td id=\"T_2bcb32dc_357d_11eb_a136_8c859016bec2row9_col9\" class=\"data row9 col9\" >1</td>\n",
       "                        <td id=\"T_2bcb32dc_357d_11eb_a136_8c859016bec2row9_col10\" class=\"data row9 col10\" >0.4</td>\n",
       "                        <td id=\"T_2bcb32dc_357d_11eb_a136_8c859016bec2row9_col11\" class=\"data row9 col11\" >-0.068</td>\n",
       "                        <td id=\"T_2bcb32dc_357d_11eb_a136_8c859016bec2row9_col12\" class=\"data row9 col12\" >0.51</td>\n",
       "                        <td id=\"T_2bcb32dc_357d_11eb_a136_8c859016bec2row9_col13\" class=\"data row9 col13\" >0.55</td>\n",
       "                        <td id=\"T_2bcb32dc_357d_11eb_a136_8c859016bec2row9_col14\" class=\"data row9 col14\" >0.18</td>\n",
       "                        <td id=\"T_2bcb32dc_357d_11eb_a136_8c859016bec2row9_col15\" class=\"data row9 col15\" >-0.02</td>\n",
       "            </tr>\n",
       "            <tr>\n",
       "                        <th id=\"T_2bcb32dc_357d_11eb_a136_8c859016bec2level0_row10\" class=\"row_heading level0 row10\" >Percent black</th>\n",
       "                        <td id=\"T_2bcb32dc_357d_11eb_a136_8c859016bec2row10_col0\" class=\"data row10 col0\" >0.05</td>\n",
       "                        <td id=\"T_2bcb32dc_357d_11eb_a136_8c859016bec2row10_col1\" class=\"data row10 col1\" >0.16</td>\n",
       "                        <td id=\"T_2bcb32dc_357d_11eb_a136_8c859016bec2row10_col2\" class=\"data row10 col2\" >0.14</td>\n",
       "                        <td id=\"T_2bcb32dc_357d_11eb_a136_8c859016bec2row10_col3\" class=\"data row10 col3\" >-0.2</td>\n",
       "                        <td id=\"T_2bcb32dc_357d_11eb_a136_8c859016bec2row10_col4\" class=\"data row10 col4\" >0.46</td>\n",
       "                        <td id=\"T_2bcb32dc_357d_11eb_a136_8c859016bec2row10_col5\" class=\"data row10 col5\" >-0.58</td>\n",
       "                        <td id=\"T_2bcb32dc_357d_11eb_a136_8c859016bec2row10_col6\" class=\"data row10 col6\" >-0.25</td>\n",
       "                        <td id=\"T_2bcb32dc_357d_11eb_a136_8c859016bec2row10_col7\" class=\"data row10 col7\" >0.49</td>\n",
       "                        <td id=\"T_2bcb32dc_357d_11eb_a136_8c859016bec2row10_col8\" class=\"data row10 col8\" >-0.12</td>\n",
       "                        <td id=\"T_2bcb32dc_357d_11eb_a136_8c859016bec2row10_col9\" class=\"data row10 col9\" >0.4</td>\n",
       "                        <td id=\"T_2bcb32dc_357d_11eb_a136_8c859016bec2row10_col10\" class=\"data row10 col10\" >1</td>\n",
       "                        <td id=\"T_2bcb32dc_357d_11eb_a136_8c859016bec2row10_col11\" class=\"data row10 col11\" >0.18</td>\n",
       "                        <td id=\"T_2bcb32dc_357d_11eb_a136_8c859016bec2row10_col12\" class=\"data row10 col12\" >0.44</td>\n",
       "                        <td id=\"T_2bcb32dc_357d_11eb_a136_8c859016bec2row10_col13\" class=\"data row10 col13\" >0.46</td>\n",
       "                        <td id=\"T_2bcb32dc_357d_11eb_a136_8c859016bec2row10_col14\" class=\"data row10 col14\" >0.021</td>\n",
       "                        <td id=\"T_2bcb32dc_357d_11eb_a136_8c859016bec2row10_col15\" class=\"data row10 col15\" >0.029</td>\n",
       "            </tr>\n",
       "            <tr>\n",
       "                        <th id=\"T_2bcb32dc_357d_11eb_a136_8c859016bec2level0_row11\" class=\"row_heading level0 row11\" >Bachelor's degree or higher</th>\n",
       "                        <td id=\"T_2bcb32dc_357d_11eb_a136_8c859016bec2row11_col0\" class=\"data row11 col0\" >-0.088</td>\n",
       "                        <td id=\"T_2bcb32dc_357d_11eb_a136_8c859016bec2row11_col1\" class=\"data row11 col1\" >-0.01</td>\n",
       "                        <td id=\"T_2bcb32dc_357d_11eb_a136_8c859016bec2row11_col2\" class=\"data row11 col2\" >0.038</td>\n",
       "                        <td id=\"T_2bcb32dc_357d_11eb_a136_8c859016bec2row11_col3\" class=\"data row11 col3\" >-0.36</td>\n",
       "                        <td id=\"T_2bcb32dc_357d_11eb_a136_8c859016bec2row11_col4\" class=\"data row11 col4\" >0.1</td>\n",
       "                        <td id=\"T_2bcb32dc_357d_11eb_a136_8c859016bec2row11_col5\" class=\"data row11 col5\" >-0.26</td>\n",
       "                        <td id=\"T_2bcb32dc_357d_11eb_a136_8c859016bec2row11_col6\" class=\"data row11 col6\" >-0.17</td>\n",
       "                        <td id=\"T_2bcb32dc_357d_11eb_a136_8c859016bec2row11_col7\" class=\"data row11 col7\" >0.66</td>\n",
       "                        <td id=\"T_2bcb32dc_357d_11eb_a136_8c859016bec2row11_col8\" class=\"data row11 col8\" >-0.6</td>\n",
       "                        <td id=\"T_2bcb32dc_357d_11eb_a136_8c859016bec2row11_col9\" class=\"data row11 col9\" >-0.068</td>\n",
       "                        <td id=\"T_2bcb32dc_357d_11eb_a136_8c859016bec2row11_col10\" class=\"data row11 col10\" >0.18</td>\n",
       "                        <td id=\"T_2bcb32dc_357d_11eb_a136_8c859016bec2row11_col11\" class=\"data row11 col11\" >1</td>\n",
       "                        <td id=\"T_2bcb32dc_357d_11eb_a136_8c859016bec2row11_col12\" class=\"data row11 col12\" >-0.5</td>\n",
       "                        <td id=\"T_2bcb32dc_357d_11eb_a136_8c859016bec2row11_col13\" class=\"data row11 col13\" >0.1</td>\n",
       "                        <td id=\"T_2bcb32dc_357d_11eb_a136_8c859016bec2row11_col14\" class=\"data row11 col14\" >0.38</td>\n",
       "                        <td id=\"T_2bcb32dc_357d_11eb_a136_8c859016bec2row11_col15\" class=\"data row11 col15\" >-0.24</td>\n",
       "            </tr>\n",
       "            <tr>\n",
       "                        <th id=\"T_2bcb32dc_357d_11eb_a136_8c859016bec2level0_row12\" class=\"row_heading level0 row12\" >Poverty Rate</th>\n",
       "                        <td id=\"T_2bcb32dc_357d_11eb_a136_8c859016bec2row12_col0\" class=\"data row12 col0\" >0.16</td>\n",
       "                        <td id=\"T_2bcb32dc_357d_11eb_a136_8c859016bec2row12_col1\" class=\"data row12 col1\" >0.14</td>\n",
       "                        <td id=\"T_2bcb32dc_357d_11eb_a136_8c859016bec2row12_col2\" class=\"data row12 col2\" >0.061</td>\n",
       "                        <td id=\"T_2bcb32dc_357d_11eb_a136_8c859016bec2row12_col3\" class=\"data row12 col3\" >0.37</td>\n",
       "                        <td id=\"T_2bcb32dc_357d_11eb_a136_8c859016bec2row12_col4\" class=\"data row12 col4\" >0.47</td>\n",
       "                        <td id=\"T_2bcb32dc_357d_11eb_a136_8c859016bec2row12_col5\" class=\"data row12 col5\" >-0.1</td>\n",
       "                        <td id=\"T_2bcb32dc_357d_11eb_a136_8c859016bec2row12_col6\" class=\"data row12 col6\" >-0.0091</td>\n",
       "                        <td id=\"T_2bcb32dc_357d_11eb_a136_8c859016bec2row12_col7\" class=\"data row12 col7\" >0.12</td>\n",
       "                        <td id=\"T_2bcb32dc_357d_11eb_a136_8c859016bec2row12_col8\" class=\"data row12 col8\" >0.38</td>\n",
       "                        <td id=\"T_2bcb32dc_357d_11eb_a136_8c859016bec2row12_col9\" class=\"data row12 col9\" >0.51</td>\n",
       "                        <td id=\"T_2bcb32dc_357d_11eb_a136_8c859016bec2row12_col10\" class=\"data row12 col10\" >0.44</td>\n",
       "                        <td id=\"T_2bcb32dc_357d_11eb_a136_8c859016bec2row12_col11\" class=\"data row12 col11\" >-0.5</td>\n",
       "                        <td id=\"T_2bcb32dc_357d_11eb_a136_8c859016bec2row12_col12\" class=\"data row12 col12\" >1</td>\n",
       "                        <td id=\"T_2bcb32dc_357d_11eb_a136_8c859016bec2row12_col13\" class=\"data row12 col13\" >0.47</td>\n",
       "                        <td id=\"T_2bcb32dc_357d_11eb_a136_8c859016bec2row12_col14\" class=\"data row12 col14\" >-0.037</td>\n",
       "                        <td id=\"T_2bcb32dc_357d_11eb_a136_8c859016bec2row12_col15\" class=\"data row12 col15\" >0.2</td>\n",
       "            </tr>\n",
       "            <tr>\n",
       "                        <th id=\"T_2bcb32dc_357d_11eb_a136_8c859016bec2level0_row13\" class=\"row_heading level0 row13\" >Violent rate</th>\n",
       "                        <td id=\"T_2bcb32dc_357d_11eb_a136_8c859016bec2row13_col0\" class=\"data row13 col0\" >0.13</td>\n",
       "                        <td id=\"T_2bcb32dc_357d_11eb_a136_8c859016bec2row13_col1\" class=\"data row13 col1\" >0.15</td>\n",
       "                        <td id=\"T_2bcb32dc_357d_11eb_a136_8c859016bec2row13_col2\" class=\"data row13 col2\" >0.02</td>\n",
       "                        <td id=\"T_2bcb32dc_357d_11eb_a136_8c859016bec2row13_col3\" class=\"data row13 col3\" >0.48</td>\n",
       "                        <td id=\"T_2bcb32dc_357d_11eb_a136_8c859016bec2row13_col4\" class=\"data row13 col4\" >1</td>\n",
       "                        <td id=\"T_2bcb32dc_357d_11eb_a136_8c859016bec2row13_col5\" class=\"data row13 col5\" >0.095</td>\n",
       "                        <td id=\"T_2bcb32dc_357d_11eb_a136_8c859016bec2row13_col6\" class=\"data row13 col6\" >0.34</td>\n",
       "                        <td id=\"T_2bcb32dc_357d_11eb_a136_8c859016bec2row13_col7\" class=\"data row13 col7\" >0.54</td>\n",
       "                        <td id=\"T_2bcb32dc_357d_11eb_a136_8c859016bec2row13_col8\" class=\"data row13 col8\" >0.34</td>\n",
       "                        <td id=\"T_2bcb32dc_357d_11eb_a136_8c859016bec2row13_col9\" class=\"data row13 col9\" >0.55</td>\n",
       "                        <td id=\"T_2bcb32dc_357d_11eb_a136_8c859016bec2row13_col10\" class=\"data row13 col10\" >0.46</td>\n",
       "                        <td id=\"T_2bcb32dc_357d_11eb_a136_8c859016bec2row13_col11\" class=\"data row13 col11\" >0.1</td>\n",
       "                        <td id=\"T_2bcb32dc_357d_11eb_a136_8c859016bec2row13_col12\" class=\"data row13 col12\" >0.47</td>\n",
       "                        <td id=\"T_2bcb32dc_357d_11eb_a136_8c859016bec2row13_col13\" class=\"data row13 col13\" >1</td>\n",
       "                        <td id=\"T_2bcb32dc_357d_11eb_a136_8c859016bec2row13_col14\" class=\"data row13 col14\" >0.0093</td>\n",
       "                        <td id=\"T_2bcb32dc_357d_11eb_a136_8c859016bec2row13_col15\" class=\"data row13 col15\" >-0.12</td>\n",
       "            </tr>\n",
       "            <tr>\n",
       "                        <th id=\"T_2bcb32dc_357d_11eb_a136_8c859016bec2level0_row14\" class=\"row_heading level0 row14\" >Police Basic Training hours</th>\n",
       "                        <td id=\"T_2bcb32dc_357d_11eb_a136_8c859016bec2row14_col0\" class=\"data row14 col0\" >-0.008</td>\n",
       "                        <td id=\"T_2bcb32dc_357d_11eb_a136_8c859016bec2row14_col1\" class=\"data row14 col1\" >0.036</td>\n",
       "                        <td id=\"T_2bcb32dc_357d_11eb_a136_8c859016bec2row14_col2\" class=\"data row14 col2\" >0.094</td>\n",
       "                        <td id=\"T_2bcb32dc_357d_11eb_a136_8c859016bec2row14_col3\" class=\"data row14 col3\" >-0.2</td>\n",
       "                        <td id=\"T_2bcb32dc_357d_11eb_a136_8c859016bec2row14_col4\" class=\"data row14 col4\" >0.0093</td>\n",
       "                        <td id=\"T_2bcb32dc_357d_11eb_a136_8c859016bec2row14_col5\" class=\"data row14 col5\" >-0.35</td>\n",
       "                        <td id=\"T_2bcb32dc_357d_11eb_a136_8c859016bec2row14_col6\" class=\"data row14 col6\" >-0.13</td>\n",
       "                        <td id=\"T_2bcb32dc_357d_11eb_a136_8c859016bec2row14_col7\" class=\"data row14 col7\" >0.28</td>\n",
       "                        <td id=\"T_2bcb32dc_357d_11eb_a136_8c859016bec2row14_col8\" class=\"data row14 col8\" >-0.35</td>\n",
       "                        <td id=\"T_2bcb32dc_357d_11eb_a136_8c859016bec2row14_col9\" class=\"data row14 col9\" >0.18</td>\n",
       "                        <td id=\"T_2bcb32dc_357d_11eb_a136_8c859016bec2row14_col10\" class=\"data row14 col10\" >0.021</td>\n",
       "                        <td id=\"T_2bcb32dc_357d_11eb_a136_8c859016bec2row14_col11\" class=\"data row14 col11\" >0.38</td>\n",
       "                        <td id=\"T_2bcb32dc_357d_11eb_a136_8c859016bec2row14_col12\" class=\"data row14 col12\" >-0.037</td>\n",
       "                        <td id=\"T_2bcb32dc_357d_11eb_a136_8c859016bec2row14_col13\" class=\"data row14 col13\" >0.0093</td>\n",
       "                        <td id=\"T_2bcb32dc_357d_11eb_a136_8c859016bec2row14_col14\" class=\"data row14 col14\" >1</td>\n",
       "                        <td id=\"T_2bcb32dc_357d_11eb_a136_8c859016bec2row14_col15\" class=\"data row14 col15\" >-0.076</td>\n",
       "            </tr>\n",
       "            <tr>\n",
       "                        <th id=\"T_2bcb32dc_357d_11eb_a136_8c859016bec2level0_row15\" class=\"row_heading level0 row15\" >Month before work</th>\n",
       "                        <td id=\"T_2bcb32dc_357d_11eb_a136_8c859016bec2row15_col0\" class=\"data row15 col0\" >-0.16</td>\n",
       "                        <td id=\"T_2bcb32dc_357d_11eb_a136_8c859016bec2row15_col1\" class=\"data row15 col1\" >-0.13</td>\n",
       "                        <td id=\"T_2bcb32dc_357d_11eb_a136_8c859016bec2row15_col2\" class=\"data row15 col2\" >-0.12</td>\n",
       "                        <td id=\"T_2bcb32dc_357d_11eb_a136_8c859016bec2row15_col3\" class=\"data row15 col3\" >0.069</td>\n",
       "                        <td id=\"T_2bcb32dc_357d_11eb_a136_8c859016bec2row15_col4\" class=\"data row15 col4\" >-0.12</td>\n",
       "                        <td id=\"T_2bcb32dc_357d_11eb_a136_8c859016bec2row15_col5\" class=\"data row15 col5\" >-0.072</td>\n",
       "                        <td id=\"T_2bcb32dc_357d_11eb_a136_8c859016bec2row15_col6\" class=\"data row15 col6\" >0.027</td>\n",
       "                        <td id=\"T_2bcb32dc_357d_11eb_a136_8c859016bec2row15_col7\" class=\"data row15 col7\" >-0.17</td>\n",
       "                        <td id=\"T_2bcb32dc_357d_11eb_a136_8c859016bec2row15_col8\" class=\"data row15 col8\" >0.19</td>\n",
       "                        <td id=\"T_2bcb32dc_357d_11eb_a136_8c859016bec2row15_col9\" class=\"data row15 col9\" >-0.02</td>\n",
       "                        <td id=\"T_2bcb32dc_357d_11eb_a136_8c859016bec2row15_col10\" class=\"data row15 col10\" >0.029</td>\n",
       "                        <td id=\"T_2bcb32dc_357d_11eb_a136_8c859016bec2row15_col11\" class=\"data row15 col11\" >-0.24</td>\n",
       "                        <td id=\"T_2bcb32dc_357d_11eb_a136_8c859016bec2row15_col12\" class=\"data row15 col12\" >0.2</td>\n",
       "                        <td id=\"T_2bcb32dc_357d_11eb_a136_8c859016bec2row15_col13\" class=\"data row15 col13\" >-0.12</td>\n",
       "                        <td id=\"T_2bcb32dc_357d_11eb_a136_8c859016bec2row15_col14\" class=\"data row15 col14\" >-0.076</td>\n",
       "                        <td id=\"T_2bcb32dc_357d_11eb_a136_8c859016bec2row15_col15\" class=\"data row15 col15\" >1</td>\n",
       "            </tr>\n",
       "    </tbody></table>"
      ],
      "text/plain": [
       "<pandas.io.formats.style.Styler at 0x7fb30cef2ed0>"
      ]
     },
     "execution_count": 40,
     "metadata": {},
     "output_type": "execute_result"
    }
   ],
   "source": [
    "#Analyze correlation between polices shooting and other variables\n",
    "state_all = pd.read_excel('state_all.xlsx')\n",
    "corr = state_all.corr()\n",
    "corr.style.background_gradient(cmap='coolwarm').set_precision(2)\n"
   ]
  },
  {
   "cell_type": "code",
   "execution_count": 33,
   "metadata": {},
   "outputs": [
    {
     "data": {
      "text/html": [
       "<style  type=\"text/css\" >\n",
       "    #T_24657eb8_382e_11eb_8e12_8c859016bec2row0_col0 {\n",
       "            background-color:  #b40426;\n",
       "            color:  #f1f1f1;\n",
       "        }    #T_24657eb8_382e_11eb_8e12_8c859016bec2row0_col1 {\n",
       "            background-color:  #e4d9d2;\n",
       "            color:  #000000;\n",
       "        }    #T_24657eb8_382e_11eb_8e12_8c859016bec2row0_col2 {\n",
       "            background-color:  #ee8468;\n",
       "            color:  #000000;\n",
       "        }    #T_24657eb8_382e_11eb_8e12_8c859016bec2row0_col3 {\n",
       "            background-color:  #f7b599;\n",
       "            color:  #000000;\n",
       "        }    #T_24657eb8_382e_11eb_8e12_8c859016bec2row0_col4 {\n",
       "            background-color:  #a7c5fe;\n",
       "            color:  #000000;\n",
       "        }    #T_24657eb8_382e_11eb_8e12_8c859016bec2row0_col5 {\n",
       "            background-color:  #f18d6f;\n",
       "            color:  #000000;\n",
       "        }    #T_24657eb8_382e_11eb_8e12_8c859016bec2row0_col6 {\n",
       "            background-color:  #aac7fd;\n",
       "            color:  #000000;\n",
       "        }    #T_24657eb8_382e_11eb_8e12_8c859016bec2row0_col7 {\n",
       "            background-color:  #89acfd;\n",
       "            color:  #000000;\n",
       "        }    #T_24657eb8_382e_11eb_8e12_8c859016bec2row0_col8 {\n",
       "            background-color:  #6a8bef;\n",
       "            color:  #000000;\n",
       "        }    #T_24657eb8_382e_11eb_8e12_8c859016bec2row0_col9 {\n",
       "            background-color:  #efcfbf;\n",
       "            color:  #000000;\n",
       "        }    #T_24657eb8_382e_11eb_8e12_8c859016bec2row0_col10 {\n",
       "            background-color:  #e4d9d2;\n",
       "            color:  #000000;\n",
       "        }    #T_24657eb8_382e_11eb_8e12_8c859016bec2row0_col11 {\n",
       "            background-color:  #5d7ce6;\n",
       "            color:  #000000;\n",
       "        }    #T_24657eb8_382e_11eb_8e12_8c859016bec2row0_col12 {\n",
       "            background-color:  #8caffe;\n",
       "            color:  #000000;\n",
       "        }    #T_24657eb8_382e_11eb_8e12_8c859016bec2row1_col0 {\n",
       "            background-color:  #f3c7b1;\n",
       "            color:  #000000;\n",
       "        }    #T_24657eb8_382e_11eb_8e12_8c859016bec2row1_col1 {\n",
       "            background-color:  #b40426;\n",
       "            color:  #f1f1f1;\n",
       "        }    #T_24657eb8_382e_11eb_8e12_8c859016bec2row1_col2 {\n",
       "            background-color:  #c9d7f0;\n",
       "            color:  #000000;\n",
       "        }    #T_24657eb8_382e_11eb_8e12_8c859016bec2row1_col3 {\n",
       "            background-color:  #d5dbe5;\n",
       "            color:  #000000;\n",
       "        }    #T_24657eb8_382e_11eb_8e12_8c859016bec2row1_col4 {\n",
       "            background-color:  #f7a688;\n",
       "            color:  #000000;\n",
       "        }    #T_24657eb8_382e_11eb_8e12_8c859016bec2row1_col5 {\n",
       "            background-color:  #f1cdba;\n",
       "            color:  #000000;\n",
       "        }    #T_24657eb8_382e_11eb_8e12_8c859016bec2row1_col6 {\n",
       "            background-color:  #efcebd;\n",
       "            color:  #000000;\n",
       "        }    #T_24657eb8_382e_11eb_8e12_8c859016bec2row1_col7 {\n",
       "            background-color:  #f7ba9f;\n",
       "            color:  #000000;\n",
       "        }    #T_24657eb8_382e_11eb_8e12_8c859016bec2row1_col8 {\n",
       "            background-color:  #cbd8ee;\n",
       "            color:  #000000;\n",
       "        }    #T_24657eb8_382e_11eb_8e12_8c859016bec2row1_col9 {\n",
       "            background-color:  #f6bea4;\n",
       "            color:  #000000;\n",
       "        }    #T_24657eb8_382e_11eb_8e12_8c859016bec2row1_col10 {\n",
       "            background-color:  #b40426;\n",
       "            color:  #f1f1f1;\n",
       "        }    #T_24657eb8_382e_11eb_8e12_8c859016bec2row1_col11 {\n",
       "            background-color:  #92b4fe;\n",
       "            color:  #000000;\n",
       "        }    #T_24657eb8_382e_11eb_8e12_8c859016bec2row1_col12 {\n",
       "            background-color:  #5977e3;\n",
       "            color:  #000000;\n",
       "        }    #T_24657eb8_382e_11eb_8e12_8c859016bec2row2_col0 {\n",
       "            background-color:  #f39475;\n",
       "            color:  #000000;\n",
       "        }    #T_24657eb8_382e_11eb_8e12_8c859016bec2row2_col1 {\n",
       "            background-color:  #779af7;\n",
       "            color:  #000000;\n",
       "        }    #T_24657eb8_382e_11eb_8e12_8c859016bec2row2_col2 {\n",
       "            background-color:  #b40426;\n",
       "            color:  #f1f1f1;\n",
       "        }    #T_24657eb8_382e_11eb_8e12_8c859016bec2row2_col3 {\n",
       "            background-color:  #f6bea4;\n",
       "            color:  #000000;\n",
       "        }    #T_24657eb8_382e_11eb_8e12_8c859016bec2row2_col4 {\n",
       "            background-color:  #8badfd;\n",
       "            color:  #000000;\n",
       "        }    #T_24657eb8_382e_11eb_8e12_8c859016bec2row2_col5 {\n",
       "            background-color:  #f6a385;\n",
       "            color:  #000000;\n",
       "        }    #T_24657eb8_382e_11eb_8e12_8c859016bec2row2_col6 {\n",
       "            background-color:  #3b4cc0;\n",
       "            color:  #f1f1f1;\n",
       "        }    #T_24657eb8_382e_11eb_8e12_8c859016bec2row2_col7 {\n",
       "            background-color:  #3b4cc0;\n",
       "            color:  #f1f1f1;\n",
       "        }    #T_24657eb8_382e_11eb_8e12_8c859016bec2row2_col8 {\n",
       "            background-color:  #7ea1fa;\n",
       "            color:  #000000;\n",
       "        }    #T_24657eb8_382e_11eb_8e12_8c859016bec2row2_col9 {\n",
       "            background-color:  #93b5fe;\n",
       "            color:  #000000;\n",
       "        }    #T_24657eb8_382e_11eb_8e12_8c859016bec2row2_col10 {\n",
       "            background-color:  #779af7;\n",
       "            color:  #000000;\n",
       "        }    #T_24657eb8_382e_11eb_8e12_8c859016bec2row2_col11 {\n",
       "            background-color:  #3b4cc0;\n",
       "            color:  #f1f1f1;\n",
       "        }    #T_24657eb8_382e_11eb_8e12_8c859016bec2row2_col12 {\n",
       "            background-color:  #6485ec;\n",
       "            color:  #000000;\n",
       "        }    #T_24657eb8_382e_11eb_8e12_8c859016bec2row3_col0 {\n",
       "            background-color:  #f7ad90;\n",
       "            color:  #000000;\n",
       "        }    #T_24657eb8_382e_11eb_8e12_8c859016bec2row3_col1 {\n",
       "            background-color:  #c3d5f4;\n",
       "            color:  #000000;\n",
       "        }    #T_24657eb8_382e_11eb_8e12_8c859016bec2row3_col2 {\n",
       "            background-color:  #f6a586;\n",
       "            color:  #000000;\n",
       "        }    #T_24657eb8_382e_11eb_8e12_8c859016bec2row3_col3 {\n",
       "            background-color:  #b40426;\n",
       "            color:  #f1f1f1;\n",
       "        }    #T_24657eb8_382e_11eb_8e12_8c859016bec2row3_col4 {\n",
       "            background-color:  #97b8ff;\n",
       "            color:  #000000;\n",
       "        }    #T_24657eb8_382e_11eb_8e12_8c859016bec2row3_col5 {\n",
       "            background-color:  #f6bfa6;\n",
       "            color:  #000000;\n",
       "        }    #T_24657eb8_382e_11eb_8e12_8c859016bec2row3_col6 {\n",
       "            background-color:  #a5c3fe;\n",
       "            color:  #000000;\n",
       "        }    #T_24657eb8_382e_11eb_8e12_8c859016bec2row3_col7 {\n",
       "            background-color:  #7da0f9;\n",
       "            color:  #000000;\n",
       "        }    #T_24657eb8_382e_11eb_8e12_8c859016bec2row3_col8 {\n",
       "            background-color:  #93b5fe;\n",
       "            color:  #000000;\n",
       "        }    #T_24657eb8_382e_11eb_8e12_8c859016bec2row3_col9 {\n",
       "            background-color:  #a9c6fd;\n",
       "            color:  #000000;\n",
       "        }    #T_24657eb8_382e_11eb_8e12_8c859016bec2row3_col10 {\n",
       "            background-color:  #c3d5f4;\n",
       "            color:  #000000;\n",
       "        }    #T_24657eb8_382e_11eb_8e12_8c859016bec2row3_col11 {\n",
       "            background-color:  #6c8ff1;\n",
       "            color:  #000000;\n",
       "        }    #T_24657eb8_382e_11eb_8e12_8c859016bec2row3_col12 {\n",
       "            background-color:  #80a3fa;\n",
       "            color:  #000000;\n",
       "        }    #T_24657eb8_382e_11eb_8e12_8c859016bec2row4_col0 {\n",
       "            background-color:  #799cf8;\n",
       "            color:  #000000;\n",
       "        }    #T_24657eb8_382e_11eb_8e12_8c859016bec2row4_col1 {\n",
       "            background-color:  #f0cdbb;\n",
       "            color:  #000000;\n",
       "        }    #T_24657eb8_382e_11eb_8e12_8c859016bec2row4_col2 {\n",
       "            background-color:  #82a6fb;\n",
       "            color:  #000000;\n",
       "        }    #T_24657eb8_382e_11eb_8e12_8c859016bec2row4_col3 {\n",
       "            background-color:  #4e68d8;\n",
       "            color:  #000000;\n",
       "        }    #T_24657eb8_382e_11eb_8e12_8c859016bec2row4_col4 {\n",
       "            background-color:  #b40426;\n",
       "            color:  #f1f1f1;\n",
       "        }    #T_24657eb8_382e_11eb_8e12_8c859016bec2row4_col5 {\n",
       "            background-color:  #3b4cc0;\n",
       "            color:  #f1f1f1;\n",
       "        }    #T_24657eb8_382e_11eb_8e12_8c859016bec2row4_col6 {\n",
       "            background-color:  #a5c3fe;\n",
       "            color:  #000000;\n",
       "        }    #T_24657eb8_382e_11eb_8e12_8c859016bec2row4_col7 {\n",
       "            background-color:  #f7b497;\n",
       "            color:  #000000;\n",
       "        }    #T_24657eb8_382e_11eb_8e12_8c859016bec2row4_col8 {\n",
       "            background-color:  #f08a6c;\n",
       "            color:  #000000;\n",
       "        }    #T_24657eb8_382e_11eb_8e12_8c859016bec2row4_col9 {\n",
       "            background-color:  #c5d6f2;\n",
       "            color:  #000000;\n",
       "        }    #T_24657eb8_382e_11eb_8e12_8c859016bec2row4_col10 {\n",
       "            background-color:  #f0cdbb;\n",
       "            color:  #000000;\n",
       "        }    #T_24657eb8_382e_11eb_8e12_8c859016bec2row4_col11 {\n",
       "            background-color:  #d3dbe7;\n",
       "            color:  #000000;\n",
       "        }    #T_24657eb8_382e_11eb_8e12_8c859016bec2row4_col12 {\n",
       "            background-color:  #4a63d3;\n",
       "            color:  #f1f1f1;\n",
       "        }    #T_24657eb8_382e_11eb_8e12_8c859016bec2row5_col0 {\n",
       "            background-color:  #f59f80;\n",
       "            color:  #000000;\n",
       "        }    #T_24657eb8_382e_11eb_8e12_8c859016bec2row5_col1 {\n",
       "            background-color:  #c1d4f4;\n",
       "            color:  #000000;\n",
       "        }    #T_24657eb8_382e_11eb_8e12_8c859016bec2row5_col2 {\n",
       "            background-color:  #f7a688;\n",
       "            color:  #000000;\n",
       "        }    #T_24657eb8_382e_11eb_8e12_8c859016bec2row5_col3 {\n",
       "            background-color:  #e5d8d1;\n",
       "            color:  #000000;\n",
       "        }    #T_24657eb8_382e_11eb_8e12_8c859016bec2row5_col4 {\n",
       "            background-color:  #3b4cc0;\n",
       "            color:  #f1f1f1;\n",
       "        }    #T_24657eb8_382e_11eb_8e12_8c859016bec2row5_col5 {\n",
       "            background-color:  #b40426;\n",
       "            color:  #f1f1f1;\n",
       "        }    #T_24657eb8_382e_11eb_8e12_8c859016bec2row5_col6 {\n",
       "            background-color:  #5f7fe8;\n",
       "            color:  #000000;\n",
       "        }    #T_24657eb8_382e_11eb_8e12_8c859016bec2row5_col7 {\n",
       "            background-color:  #9abbff;\n",
       "            color:  #000000;\n",
       "        }    #T_24657eb8_382e_11eb_8e12_8c859016bec2row5_col8 {\n",
       "            background-color:  #3b4cc0;\n",
       "            color:  #f1f1f1;\n",
       "        }    #T_24657eb8_382e_11eb_8e12_8c859016bec2row5_col9 {\n",
       "            background-color:  #f1cdba;\n",
       "            color:  #000000;\n",
       "        }    #T_24657eb8_382e_11eb_8e12_8c859016bec2row5_col10 {\n",
       "            background-color:  #c1d4f4;\n",
       "            color:  #000000;\n",
       "        }    #T_24657eb8_382e_11eb_8e12_8c859016bec2row5_col11 {\n",
       "            background-color:  #3b4cc0;\n",
       "            color:  #f1f1f1;\n",
       "        }    #T_24657eb8_382e_11eb_8e12_8c859016bec2row5_col12 {\n",
       "            background-color:  #adc9fd;\n",
       "            color:  #000000;\n",
       "        }    #T_24657eb8_382e_11eb_8e12_8c859016bec2row6_col0 {\n",
       "            background-color:  #d6dce4;\n",
       "            color:  #000000;\n",
       "        }    #T_24657eb8_382e_11eb_8e12_8c859016bec2row6_col1 {\n",
       "            background-color:  #f2cbb7;\n",
       "            color:  #000000;\n",
       "        }    #T_24657eb8_382e_11eb_8e12_8c859016bec2row6_col2 {\n",
       "            background-color:  #a6c4fe;\n",
       "            color:  #000000;\n",
       "        }    #T_24657eb8_382e_11eb_8e12_8c859016bec2row6_col3 {\n",
       "            background-color:  #c5d6f2;\n",
       "            color:  #000000;\n",
       "        }    #T_24657eb8_382e_11eb_8e12_8c859016bec2row6_col4 {\n",
       "            background-color:  #e9d5cb;\n",
       "            color:  #000000;\n",
       "        }    #T_24657eb8_382e_11eb_8e12_8c859016bec2row6_col5 {\n",
       "            background-color:  #c6d6f1;\n",
       "            color:  #000000;\n",
       "        }    #T_24657eb8_382e_11eb_8e12_8c859016bec2row6_col6 {\n",
       "            background-color:  #b40426;\n",
       "            color:  #f1f1f1;\n",
       "        }    #T_24657eb8_382e_11eb_8e12_8c859016bec2row6_col7 {\n",
       "            background-color:  #f4c6af;\n",
       "            color:  #000000;\n",
       "        }    #T_24657eb8_382e_11eb_8e12_8c859016bec2row6_col8 {\n",
       "            background-color:  #a9c6fd;\n",
       "            color:  #000000;\n",
       "        }    #T_24657eb8_382e_11eb_8e12_8c859016bec2row6_col9 {\n",
       "            background-color:  #f7b599;\n",
       "            color:  #000000;\n",
       "        }    #T_24657eb8_382e_11eb_8e12_8c859016bec2row6_col10 {\n",
       "            background-color:  #f2cbb7;\n",
       "            color:  #000000;\n",
       "        }    #T_24657eb8_382e_11eb_8e12_8c859016bec2row6_col11 {\n",
       "            background-color:  #bed2f6;\n",
       "            color:  #000000;\n",
       "        }    #T_24657eb8_382e_11eb_8e12_8c859016bec2row6_col12 {\n",
       "            background-color:  #7396f5;\n",
       "            color:  #000000;\n",
       "        }    #T_24657eb8_382e_11eb_8e12_8c859016bec2row7_col0 {\n",
       "            background-color:  #5e7de7;\n",
       "            color:  #000000;\n",
       "        }    #T_24657eb8_382e_11eb_8e12_8c859016bec2row7_col1 {\n",
       "            background-color:  #e0dbd8;\n",
       "            color:  #000000;\n",
       "        }    #T_24657eb8_382e_11eb_8e12_8c859016bec2row7_col2 {\n",
       "            background-color:  #3b4cc0;\n",
       "            color:  #f1f1f1;\n",
       "        }    #T_24657eb8_382e_11eb_8e12_8c859016bec2row7_col3 {\n",
       "            background-color:  #3b4cc0;\n",
       "            color:  #f1f1f1;\n",
       "        }    #T_24657eb8_382e_11eb_8e12_8c859016bec2row7_col4 {\n",
       "            background-color:  #f7b194;\n",
       "            color:  #000000;\n",
       "        }    #T_24657eb8_382e_11eb_8e12_8c859016bec2row7_col5 {\n",
       "            background-color:  #a2c1ff;\n",
       "            color:  #000000;\n",
       "        }    #T_24657eb8_382e_11eb_8e12_8c859016bec2row7_col6 {\n",
       "            background-color:  #ccd9ed;\n",
       "            color:  #000000;\n",
       "        }    #T_24657eb8_382e_11eb_8e12_8c859016bec2row7_col7 {\n",
       "            background-color:  #b40426;\n",
       "            color:  #f1f1f1;\n",
       "        }    #T_24657eb8_382e_11eb_8e12_8c859016bec2row7_col8 {\n",
       "            background-color:  #d8dce2;\n",
       "            color:  #000000;\n",
       "        }    #T_24657eb8_382e_11eb_8e12_8c859016bec2row7_col9 {\n",
       "            background-color:  #f5c2aa;\n",
       "            color:  #000000;\n",
       "        }    #T_24657eb8_382e_11eb_8e12_8c859016bec2row7_col10 {\n",
       "            background-color:  #e0dbd8;\n",
       "            color:  #000000;\n",
       "        }    #T_24657eb8_382e_11eb_8e12_8c859016bec2row7_col11 {\n",
       "            background-color:  #94b6ff;\n",
       "            color:  #000000;\n",
       "        }    #T_24657eb8_382e_11eb_8e12_8c859016bec2row7_col12 {\n",
       "            background-color:  #81a4fb;\n",
       "            color:  #000000;\n",
       "        }    #T_24657eb8_382e_11eb_8e12_8c859016bec2row8_col0 {\n",
       "            background-color:  #3b4cc0;\n",
       "            color:  #f1f1f1;\n",
       "        }    #T_24657eb8_382e_11eb_8e12_8c859016bec2row8_col1 {\n",
       "            background-color:  #7a9df8;\n",
       "            color:  #000000;\n",
       "        }    #T_24657eb8_382e_11eb_8e12_8c859016bec2row8_col2 {\n",
       "            background-color:  #7a9df8;\n",
       "            color:  #000000;\n",
       "        }    #T_24657eb8_382e_11eb_8e12_8c859016bec2row8_col3 {\n",
       "            background-color:  #4e68d8;\n",
       "            color:  #000000;\n",
       "        }    #T_24657eb8_382e_11eb_8e12_8c859016bec2row8_col4 {\n",
       "            background-color:  #ef886b;\n",
       "            color:  #000000;\n",
       "        }    #T_24657eb8_382e_11eb_8e12_8c859016bec2row8_col5 {\n",
       "            background-color:  #3f53c6;\n",
       "            color:  #f1f1f1;\n",
       "        }    #T_24657eb8_382e_11eb_8e12_8c859016bec2row8_col6 {\n",
       "            background-color:  #3b4cc0;\n",
       "            color:  #f1f1f1;\n",
       "        }    #T_24657eb8_382e_11eb_8e12_8c859016bec2row8_col7 {\n",
       "            background-color:  #d7dce3;\n",
       "            color:  #000000;\n",
       "        }    #T_24657eb8_382e_11eb_8e12_8c859016bec2row8_col8 {\n",
       "            background-color:  #b40426;\n",
       "            color:  #f1f1f1;\n",
       "        }    #T_24657eb8_382e_11eb_8e12_8c859016bec2row8_col9 {\n",
       "            background-color:  #3b4cc0;\n",
       "            color:  #f1f1f1;\n",
       "        }    #T_24657eb8_382e_11eb_8e12_8c859016bec2row8_col10 {\n",
       "            background-color:  #7a9df8;\n",
       "            color:  #000000;\n",
       "        }    #T_24657eb8_382e_11eb_8e12_8c859016bec2row8_col11 {\n",
       "            background-color:  #e8d6cc;\n",
       "            color:  #000000;\n",
       "        }    #T_24657eb8_382e_11eb_8e12_8c859016bec2row8_col12 {\n",
       "            background-color:  #3b4cc0;\n",
       "            color:  #f1f1f1;\n",
       "        }    #T_24657eb8_382e_11eb_8e12_8c859016bec2row9_col0 {\n",
       "            background-color:  #e5d8d1;\n",
       "            color:  #000000;\n",
       "        }    #T_24657eb8_382e_11eb_8e12_8c859016bec2row9_col1 {\n",
       "            background-color:  #e2dad5;\n",
       "            color:  #000000;\n",
       "        }    #T_24657eb8_382e_11eb_8e12_8c859016bec2row9_col2 {\n",
       "            background-color:  #9ebeff;\n",
       "            color:  #000000;\n",
       "        }    #T_24657eb8_382e_11eb_8e12_8c859016bec2row9_col3 {\n",
       "            background-color:  #799cf8;\n",
       "            color:  #000000;\n",
       "        }    #T_24657eb8_382e_11eb_8e12_8c859016bec2row9_col4 {\n",
       "            background-color:  #d2dbe8;\n",
       "            color:  #000000;\n",
       "        }    #T_24657eb8_382e_11eb_8e12_8c859016bec2row9_col5 {\n",
       "            background-color:  #f4c6af;\n",
       "            color:  #000000;\n",
       "        }    #T_24657eb8_382e_11eb_8e12_8c859016bec2row9_col6 {\n",
       "            background-color:  #e7d7ce;\n",
       "            color:  #000000;\n",
       "        }    #T_24657eb8_382e_11eb_8e12_8c859016bec2row9_col7 {\n",
       "            background-color:  #f6bea4;\n",
       "            color:  #000000;\n",
       "        }    #T_24657eb8_382e_11eb_8e12_8c859016bec2row9_col8 {\n",
       "            background-color:  #4b64d5;\n",
       "            color:  #f1f1f1;\n",
       "        }    #T_24657eb8_382e_11eb_8e12_8c859016bec2row9_col9 {\n",
       "            background-color:  #b40426;\n",
       "            color:  #f1f1f1;\n",
       "        }    #T_24657eb8_382e_11eb_8e12_8c859016bec2row9_col10 {\n",
       "            background-color:  #e2dad5;\n",
       "            color:  #000000;\n",
       "        }    #T_24657eb8_382e_11eb_8e12_8c859016bec2row9_col11 {\n",
       "            background-color:  #85a8fc;\n",
       "            color:  #000000;\n",
       "        }    #T_24657eb8_382e_11eb_8e12_8c859016bec2row9_col12 {\n",
       "            background-color:  #b2ccfb;\n",
       "            color:  #000000;\n",
       "        }    #T_24657eb8_382e_11eb_8e12_8c859016bec2row10_col0 {\n",
       "            background-color:  #f3c7b1;\n",
       "            color:  #000000;\n",
       "        }    #T_24657eb8_382e_11eb_8e12_8c859016bec2row10_col1 {\n",
       "            background-color:  #b40426;\n",
       "            color:  #f1f1f1;\n",
       "        }    #T_24657eb8_382e_11eb_8e12_8c859016bec2row10_col2 {\n",
       "            background-color:  #c9d7f0;\n",
       "            color:  #000000;\n",
       "        }    #T_24657eb8_382e_11eb_8e12_8c859016bec2row10_col3 {\n",
       "            background-color:  #d5dbe5;\n",
       "            color:  #000000;\n",
       "        }    #T_24657eb8_382e_11eb_8e12_8c859016bec2row10_col4 {\n",
       "            background-color:  #f7a688;\n",
       "            color:  #000000;\n",
       "        }    #T_24657eb8_382e_11eb_8e12_8c859016bec2row10_col5 {\n",
       "            background-color:  #f1cdba;\n",
       "            color:  #000000;\n",
       "        }    #T_24657eb8_382e_11eb_8e12_8c859016bec2row10_col6 {\n",
       "            background-color:  #efcebd;\n",
       "            color:  #000000;\n",
       "        }    #T_24657eb8_382e_11eb_8e12_8c859016bec2row10_col7 {\n",
       "            background-color:  #f7ba9f;\n",
       "            color:  #000000;\n",
       "        }    #T_24657eb8_382e_11eb_8e12_8c859016bec2row10_col8 {\n",
       "            background-color:  #cbd8ee;\n",
       "            color:  #000000;\n",
       "        }    #T_24657eb8_382e_11eb_8e12_8c859016bec2row10_col9 {\n",
       "            background-color:  #f6bea4;\n",
       "            color:  #000000;\n",
       "        }    #T_24657eb8_382e_11eb_8e12_8c859016bec2row10_col10 {\n",
       "            background-color:  #b40426;\n",
       "            color:  #f1f1f1;\n",
       "        }    #T_24657eb8_382e_11eb_8e12_8c859016bec2row10_col11 {\n",
       "            background-color:  #92b4fe;\n",
       "            color:  #000000;\n",
       "        }    #T_24657eb8_382e_11eb_8e12_8c859016bec2row10_col12 {\n",
       "            background-color:  #5977e3;\n",
       "            color:  #000000;\n",
       "        }    #T_24657eb8_382e_11eb_8e12_8c859016bec2row11_col0 {\n",
       "            background-color:  #5f7fe8;\n",
       "            color:  #000000;\n",
       "        }    #T_24657eb8_382e_11eb_8e12_8c859016bec2row11_col1 {\n",
       "            background-color:  #5d7ce6;\n",
       "            color:  #000000;\n",
       "        }    #T_24657eb8_382e_11eb_8e12_8c859016bec2row11_col2 {\n",
       "            background-color:  #688aef;\n",
       "            color:  #000000;\n",
       "        }    #T_24657eb8_382e_11eb_8e12_8c859016bec2row11_col3 {\n",
       "            background-color:  #5875e1;\n",
       "            color:  #000000;\n",
       "        }    #T_24657eb8_382e_11eb_8e12_8c859016bec2row11_col4 {\n",
       "            background-color:  #ead5c9;\n",
       "            color:  #000000;\n",
       "        }    #T_24657eb8_382e_11eb_8e12_8c859016bec2row11_col5 {\n",
       "            background-color:  #7093f3;\n",
       "            color:  #000000;\n",
       "        }    #T_24657eb8_382e_11eb_8e12_8c859016bec2row11_col6 {\n",
       "            background-color:  #88abfd;\n",
       "            color:  #000000;\n",
       "        }    #T_24657eb8_382e_11eb_8e12_8c859016bec2row11_col7 {\n",
       "            background-color:  #bad0f8;\n",
       "            color:  #000000;\n",
       "        }    #T_24657eb8_382e_11eb_8e12_8c859016bec2row11_col8 {\n",
       "            background-color:  #f3c7b1;\n",
       "            color:  #000000;\n",
       "        }    #T_24657eb8_382e_11eb_8e12_8c859016bec2row11_col9 {\n",
       "            background-color:  #a2c1ff;\n",
       "            color:  #000000;\n",
       "        }    #T_24657eb8_382e_11eb_8e12_8c859016bec2row11_col10 {\n",
       "            background-color:  #5d7ce6;\n",
       "            color:  #000000;\n",
       "        }    #T_24657eb8_382e_11eb_8e12_8c859016bec2row11_col11 {\n",
       "            background-color:  #b40426;\n",
       "            color:  #f1f1f1;\n",
       "        }    #T_24657eb8_382e_11eb_8e12_8c859016bec2row11_col12 {\n",
       "            background-color:  #6384eb;\n",
       "            color:  #000000;\n",
       "        }    #T_24657eb8_382e_11eb_8e12_8c859016bec2row12_col0 {\n",
       "            background-color:  #a3c2fe;\n",
       "            color:  #000000;\n",
       "        }    #T_24657eb8_382e_11eb_8e12_8c859016bec2row12_col1 {\n",
       "            background-color:  #3b4cc0;\n",
       "            color:  #f1f1f1;\n",
       "        }    #T_24657eb8_382e_11eb_8e12_8c859016bec2row12_col2 {\n",
       "            background-color:  #a5c3fe;\n",
       "            color:  #000000;\n",
       "        }    #T_24657eb8_382e_11eb_8e12_8c859016bec2row12_col3 {\n",
       "            background-color:  #84a7fc;\n",
       "            color:  #000000;\n",
       "        }    #T_24657eb8_382e_11eb_8e12_8c859016bec2row12_col4 {\n",
       "            background-color:  #97b8ff;\n",
       "            color:  #000000;\n",
       "        }    #T_24657eb8_382e_11eb_8e12_8c859016bec2row12_col5 {\n",
       "            background-color:  #dcdddd;\n",
       "            color:  #000000;\n",
       "        }    #T_24657eb8_382e_11eb_8e12_8c859016bec2row12_col6 {\n",
       "            background-color:  #4961d2;\n",
       "            color:  #f1f1f1;\n",
       "        }    #T_24657eb8_382e_11eb_8e12_8c859016bec2row12_col7 {\n",
       "            background-color:  #bbd1f8;\n",
       "            color:  #000000;\n",
       "        }    #T_24657eb8_382e_11eb_8e12_8c859016bec2row12_col8 {\n",
       "            background-color:  #84a7fc;\n",
       "            color:  #000000;\n",
       "        }    #T_24657eb8_382e_11eb_8e12_8c859016bec2row12_col9 {\n",
       "            background-color:  #d5dbe5;\n",
       "            color:  #000000;\n",
       "        }    #T_24657eb8_382e_11eb_8e12_8c859016bec2row12_col10 {\n",
       "            background-color:  #3b4cc0;\n",
       "            color:  #f1f1f1;\n",
       "        }    #T_24657eb8_382e_11eb_8e12_8c859016bec2row12_col11 {\n",
       "            background-color:  #7b9ff9;\n",
       "            color:  #000000;\n",
       "        }    #T_24657eb8_382e_11eb_8e12_8c859016bec2row12_col12 {\n",
       "            background-color:  #b40426;\n",
       "            color:  #f1f1f1;\n",
       "        }</style><table id=\"T_24657eb8_382e_11eb_8e12_8c859016bec2\" ><thead>    <tr>        <th class=\"blank level0\" ></th>        <th class=\"col_heading level0 col0\" >Average shooting per 1,000,000</th>        <th class=\"col_heading level0 col1\" >Violent rate per 1,000</th>        <th class=\"col_heading level0 col2\" >State year</th>        <th class=\"col_heading level0 col3\" >Land area(sqmi)</th>        <th class=\"col_heading level0 col4\" >Populatiion per sqmi</th>        <th class=\"col_heading level0 col5\" >Gun Ownership rate</th>        <th class=\"col_heading level0 col6\" >Unemployment rate</th>        <th class=\"col_heading level0 col7\" >Percent black</th>        <th class=\"col_heading level0 col8\" >Bachelor's degree or higher</th>        <th class=\"col_heading level0 col9\" >Poverty Rate</th>        <th class=\"col_heading level0 col10\" >Violent rate</th>        <th class=\"col_heading level0 col11\" >Police Basic Training hours</th>        <th class=\"col_heading level0 col12\" >Month before work</th>    </tr></thead><tbody>\n",
       "                <tr>\n",
       "                        <th id=\"T_24657eb8_382e_11eb_8e12_8c859016bec2level0_row0\" class=\"row_heading level0 row0\" >Average shooting per 1,000,000</th>\n",
       "                        <td id=\"T_24657eb8_382e_11eb_8e12_8c859016bec2row0_col0\" class=\"data row0 col0\" >1</td>\n",
       "                        <td id=\"T_24657eb8_382e_11eb_8e12_8c859016bec2row0_col1\" class=\"data row0 col1\" >0.48</td>\n",
       "                        <td id=\"T_24657eb8_382e_11eb_8e12_8c859016bec2row0_col2\" class=\"data row0 col2\" >0.68</td>\n",
       "                        <td id=\"T_24657eb8_382e_11eb_8e12_8c859016bec2row0_col3\" class=\"data row0 col3\" >0.59</td>\n",
       "                        <td id=\"T_24657eb8_382e_11eb_8e12_8c859016bec2row0_col4\" class=\"data row0 col4\" >-0.093</td>\n",
       "                        <td id=\"T_24657eb8_382e_11eb_8e12_8c859016bec2row0_col5\" class=\"data row0 col5\" >0.64</td>\n",
       "                        <td id=\"T_24657eb8_382e_11eb_8e12_8c859016bec2row0_col6\" class=\"data row0 col6\" >0.29</td>\n",
       "                        <td id=\"T_24657eb8_382e_11eb_8e12_8c859016bec2row0_col7\" class=\"data row0 col7\" >-0.2</td>\n",
       "                        <td id=\"T_24657eb8_382e_11eb_8e12_8c859016bec2row0_col8\" class=\"data row0 col8\" >-0.36</td>\n",
       "                        <td id=\"T_24657eb8_382e_11eb_8e12_8c859016bec2row0_col9\" class=\"data row0 col9\" >0.37</td>\n",
       "                        <td id=\"T_24657eb8_382e_11eb_8e12_8c859016bec2row0_col10\" class=\"data row0 col10\" >0.48</td>\n",
       "                        <td id=\"T_24657eb8_382e_11eb_8e12_8c859016bec2row0_col11\" class=\"data row0 col11\" >-0.2</td>\n",
       "                        <td id=\"T_24657eb8_382e_11eb_8e12_8c859016bec2row0_col12\" class=\"data row0 col12\" >0.069</td>\n",
       "            </tr>\n",
       "            <tr>\n",
       "                        <th id=\"T_24657eb8_382e_11eb_8e12_8c859016bec2level0_row1\" class=\"row_heading level0 row1\" >Violent rate per 1,000</th>\n",
       "                        <td id=\"T_24657eb8_382e_11eb_8e12_8c859016bec2row1_col0\" class=\"data row1 col0\" >0.48</td>\n",
       "                        <td id=\"T_24657eb8_382e_11eb_8e12_8c859016bec2row1_col1\" class=\"data row1 col1\" >1</td>\n",
       "                        <td id=\"T_24657eb8_382e_11eb_8e12_8c859016bec2row1_col2\" class=\"data row1 col2\" >0.095</td>\n",
       "                        <td id=\"T_24657eb8_382e_11eb_8e12_8c859016bec2row1_col3\" class=\"data row1 col3\" >0.34</td>\n",
       "                        <td id=\"T_24657eb8_382e_11eb_8e12_8c859016bec2row1_col4\" class=\"data row1 col4\" >0.54</td>\n",
       "                        <td id=\"T_24657eb8_382e_11eb_8e12_8c859016bec2row1_col5\" class=\"data row1 col5\" >0.34</td>\n",
       "                        <td id=\"T_24657eb8_382e_11eb_8e12_8c859016bec2row1_col6\" class=\"data row1 col6\" >0.55</td>\n",
       "                        <td id=\"T_24657eb8_382e_11eb_8e12_8c859016bec2row1_col7\" class=\"data row1 col7\" >0.46</td>\n",
       "                        <td id=\"T_24657eb8_382e_11eb_8e12_8c859016bec2row1_col8\" class=\"data row1 col8\" >0.1</td>\n",
       "                        <td id=\"T_24657eb8_382e_11eb_8e12_8c859016bec2row1_col9\" class=\"data row1 col9\" >0.47</td>\n",
       "                        <td id=\"T_24657eb8_382e_11eb_8e12_8c859016bec2row1_col10\" class=\"data row1 col10\" >1</td>\n",
       "                        <td id=\"T_24657eb8_382e_11eb_8e12_8c859016bec2row1_col11\" class=\"data row1 col11\" >0.0093</td>\n",
       "                        <td id=\"T_24657eb8_382e_11eb_8e12_8c859016bec2row1_col12\" class=\"data row1 col12\" >-0.12</td>\n",
       "            </tr>\n",
       "            <tr>\n",
       "                        <th id=\"T_24657eb8_382e_11eb_8e12_8c859016bec2level0_row2\" class=\"row_heading level0 row2\" >State year</th>\n",
       "                        <td id=\"T_24657eb8_382e_11eb_8e12_8c859016bec2row2_col0\" class=\"data row2 col0\" >0.68</td>\n",
       "                        <td id=\"T_24657eb8_382e_11eb_8e12_8c859016bec2row2_col1\" class=\"data row2 col1\" >0.095</td>\n",
       "                        <td id=\"T_24657eb8_382e_11eb_8e12_8c859016bec2row2_col2\" class=\"data row2 col2\" >1</td>\n",
       "                        <td id=\"T_24657eb8_382e_11eb_8e12_8c859016bec2row2_col3\" class=\"data row2 col3\" >0.56</td>\n",
       "                        <td id=\"T_24657eb8_382e_11eb_8e12_8c859016bec2row2_col4\" class=\"data row2 col4\" >-0.23</td>\n",
       "                        <td id=\"T_24657eb8_382e_11eb_8e12_8c859016bec2row2_col5\" class=\"data row2 col5\" >0.55</td>\n",
       "                        <td id=\"T_24657eb8_382e_11eb_8e12_8c859016bec2row2_col6\" class=\"data row2 col6\" >-0.071</td>\n",
       "                        <td id=\"T_24657eb8_382e_11eb_8e12_8c859016bec2row2_col7\" class=\"data row2 col7\" >-0.58</td>\n",
       "                        <td id=\"T_24657eb8_382e_11eb_8e12_8c859016bec2row2_col8\" class=\"data row2 col8\" >-0.26</td>\n",
       "                        <td id=\"T_24657eb8_382e_11eb_8e12_8c859016bec2row2_col9\" class=\"data row2 col9\" >-0.1</td>\n",
       "                        <td id=\"T_24657eb8_382e_11eb_8e12_8c859016bec2row2_col10\" class=\"data row2 col10\" >0.095</td>\n",
       "                        <td id=\"T_24657eb8_382e_11eb_8e12_8c859016bec2row2_col11\" class=\"data row2 col11\" >-0.35</td>\n",
       "                        <td id=\"T_24657eb8_382e_11eb_8e12_8c859016bec2row2_col12\" class=\"data row2 col12\" >-0.072</td>\n",
       "            </tr>\n",
       "            <tr>\n",
       "                        <th id=\"T_24657eb8_382e_11eb_8e12_8c859016bec2level0_row3\" class=\"row_heading level0 row3\" >Land area(sqmi)</th>\n",
       "                        <td id=\"T_24657eb8_382e_11eb_8e12_8c859016bec2row3_col0\" class=\"data row3 col0\" >0.59</td>\n",
       "                        <td id=\"T_24657eb8_382e_11eb_8e12_8c859016bec2row3_col1\" class=\"data row3 col1\" >0.34</td>\n",
       "                        <td id=\"T_24657eb8_382e_11eb_8e12_8c859016bec2row3_col2\" class=\"data row3 col2\" >0.56</td>\n",
       "                        <td id=\"T_24657eb8_382e_11eb_8e12_8c859016bec2row3_col3\" class=\"data row3 col3\" >1</td>\n",
       "                        <td id=\"T_24657eb8_382e_11eb_8e12_8c859016bec2row3_col4\" class=\"data row3 col4\" >-0.17</td>\n",
       "                        <td id=\"T_24657eb8_382e_11eb_8e12_8c859016bec2row3_col5\" class=\"data row3 col5\" >0.42</td>\n",
       "                        <td id=\"T_24657eb8_382e_11eb_8e12_8c859016bec2row3_col6\" class=\"data row3 col6\" >0.27</td>\n",
       "                        <td id=\"T_24657eb8_382e_11eb_8e12_8c859016bec2row3_col7\" class=\"data row3 col7\" >-0.25</td>\n",
       "                        <td id=\"T_24657eb8_382e_11eb_8e12_8c859016bec2row3_col8\" class=\"data row3 col8\" >-0.17</td>\n",
       "                        <td id=\"T_24657eb8_382e_11eb_8e12_8c859016bec2row3_col9\" class=\"data row3 col9\" >-0.0091</td>\n",
       "                        <td id=\"T_24657eb8_382e_11eb_8e12_8c859016bec2row3_col10\" class=\"data row3 col10\" >0.34</td>\n",
       "                        <td id=\"T_24657eb8_382e_11eb_8e12_8c859016bec2row3_col11\" class=\"data row3 col11\" >-0.13</td>\n",
       "                        <td id=\"T_24657eb8_382e_11eb_8e12_8c859016bec2row3_col12\" class=\"data row3 col12\" >0.027</td>\n",
       "            </tr>\n",
       "            <tr>\n",
       "                        <th id=\"T_24657eb8_382e_11eb_8e12_8c859016bec2level0_row4\" class=\"row_heading level0 row4\" >Populatiion per sqmi</th>\n",
       "                        <td id=\"T_24657eb8_382e_11eb_8e12_8c859016bec2row4_col0\" class=\"data row4 col0\" >-0.093</td>\n",
       "                        <td id=\"T_24657eb8_382e_11eb_8e12_8c859016bec2row4_col1\" class=\"data row4 col1\" >0.54</td>\n",
       "                        <td id=\"T_24657eb8_382e_11eb_8e12_8c859016bec2row4_col2\" class=\"data row4 col2\" >-0.23</td>\n",
       "                        <td id=\"T_24657eb8_382e_11eb_8e12_8c859016bec2row4_col3\" class=\"data row4 col3\" >-0.17</td>\n",
       "                        <td id=\"T_24657eb8_382e_11eb_8e12_8c859016bec2row4_col4\" class=\"data row4 col4\" >1</td>\n",
       "                        <td id=\"T_24657eb8_382e_11eb_8e12_8c859016bec2row4_col5\" class=\"data row4 col5\" >-0.62</td>\n",
       "                        <td id=\"T_24657eb8_382e_11eb_8e12_8c859016bec2row4_col6\" class=\"data row4 col6\" >0.27</td>\n",
       "                        <td id=\"T_24657eb8_382e_11eb_8e12_8c859016bec2row4_col7\" class=\"data row4 col7\" >0.49</td>\n",
       "                        <td id=\"T_24657eb8_382e_11eb_8e12_8c859016bec2row4_col8\" class=\"data row4 col8\" >0.66</td>\n",
       "                        <td id=\"T_24657eb8_382e_11eb_8e12_8c859016bec2row4_col9\" class=\"data row4 col9\" >0.12</td>\n",
       "                        <td id=\"T_24657eb8_382e_11eb_8e12_8c859016bec2row4_col10\" class=\"data row4 col10\" >0.54</td>\n",
       "                        <td id=\"T_24657eb8_382e_11eb_8e12_8c859016bec2row4_col11\" class=\"data row4 col11\" >0.28</td>\n",
       "                        <td id=\"T_24657eb8_382e_11eb_8e12_8c859016bec2row4_col12\" class=\"data row4 col12\" >-0.17</td>\n",
       "            </tr>\n",
       "            <tr>\n",
       "                        <th id=\"T_24657eb8_382e_11eb_8e12_8c859016bec2level0_row5\" class=\"row_heading level0 row5\" >Gun Ownership rate</th>\n",
       "                        <td id=\"T_24657eb8_382e_11eb_8e12_8c859016bec2row5_col0\" class=\"data row5 col0\" >0.64</td>\n",
       "                        <td id=\"T_24657eb8_382e_11eb_8e12_8c859016bec2row5_col1\" class=\"data row5 col1\" >0.34</td>\n",
       "                        <td id=\"T_24657eb8_382e_11eb_8e12_8c859016bec2row5_col2\" class=\"data row5 col2\" >0.55</td>\n",
       "                        <td id=\"T_24657eb8_382e_11eb_8e12_8c859016bec2row5_col3\" class=\"data row5 col3\" >0.42</td>\n",
       "                        <td id=\"T_24657eb8_382e_11eb_8e12_8c859016bec2row5_col4\" class=\"data row5 col4\" >-0.62</td>\n",
       "                        <td id=\"T_24657eb8_382e_11eb_8e12_8c859016bec2row5_col5\" class=\"data row5 col5\" >1</td>\n",
       "                        <td id=\"T_24657eb8_382e_11eb_8e12_8c859016bec2row5_col6\" class=\"data row5 col6\" >0.055</td>\n",
       "                        <td id=\"T_24657eb8_382e_11eb_8e12_8c859016bec2row5_col7\" class=\"data row5 col7\" >-0.12</td>\n",
       "                        <td id=\"T_24657eb8_382e_11eb_8e12_8c859016bec2row5_col8\" class=\"data row5 col8\" >-0.6</td>\n",
       "                        <td id=\"T_24657eb8_382e_11eb_8e12_8c859016bec2row5_col9\" class=\"data row5 col9\" >0.38</td>\n",
       "                        <td id=\"T_24657eb8_382e_11eb_8e12_8c859016bec2row5_col10\" class=\"data row5 col10\" >0.34</td>\n",
       "                        <td id=\"T_24657eb8_382e_11eb_8e12_8c859016bec2row5_col11\" class=\"data row5 col11\" >-0.35</td>\n",
       "                        <td id=\"T_24657eb8_382e_11eb_8e12_8c859016bec2row5_col12\" class=\"data row5 col12\" >0.19</td>\n",
       "            </tr>\n",
       "            <tr>\n",
       "                        <th id=\"T_24657eb8_382e_11eb_8e12_8c859016bec2level0_row6\" class=\"row_heading level0 row6\" >Unemployment rate</th>\n",
       "                        <td id=\"T_24657eb8_382e_11eb_8e12_8c859016bec2row6_col0\" class=\"data row6 col0\" >0.29</td>\n",
       "                        <td id=\"T_24657eb8_382e_11eb_8e12_8c859016bec2row6_col1\" class=\"data row6 col1\" >0.55</td>\n",
       "                        <td id=\"T_24657eb8_382e_11eb_8e12_8c859016bec2row6_col2\" class=\"data row6 col2\" >-0.071</td>\n",
       "                        <td id=\"T_24657eb8_382e_11eb_8e12_8c859016bec2row6_col3\" class=\"data row6 col3\" >0.27</td>\n",
       "                        <td id=\"T_24657eb8_382e_11eb_8e12_8c859016bec2row6_col4\" class=\"data row6 col4\" >0.27</td>\n",
       "                        <td id=\"T_24657eb8_382e_11eb_8e12_8c859016bec2row6_col5\" class=\"data row6 col5\" >0.055</td>\n",
       "                        <td id=\"T_24657eb8_382e_11eb_8e12_8c859016bec2row6_col6\" class=\"data row6 col6\" >1</td>\n",
       "                        <td id=\"T_24657eb8_382e_11eb_8e12_8c859016bec2row6_col7\" class=\"data row6 col7\" >0.4</td>\n",
       "                        <td id=\"T_24657eb8_382e_11eb_8e12_8c859016bec2row6_col8\" class=\"data row6 col8\" >-0.068</td>\n",
       "                        <td id=\"T_24657eb8_382e_11eb_8e12_8c859016bec2row6_col9\" class=\"data row6 col9\" >0.51</td>\n",
       "                        <td id=\"T_24657eb8_382e_11eb_8e12_8c859016bec2row6_col10\" class=\"data row6 col10\" >0.55</td>\n",
       "                        <td id=\"T_24657eb8_382e_11eb_8e12_8c859016bec2row6_col11\" class=\"data row6 col11\" >0.18</td>\n",
       "                        <td id=\"T_24657eb8_382e_11eb_8e12_8c859016bec2row6_col12\" class=\"data row6 col12\" >-0.02</td>\n",
       "            </tr>\n",
       "            <tr>\n",
       "                        <th id=\"T_24657eb8_382e_11eb_8e12_8c859016bec2level0_row7\" class=\"row_heading level0 row7\" >Percent black</th>\n",
       "                        <td id=\"T_24657eb8_382e_11eb_8e12_8c859016bec2row7_col0\" class=\"data row7 col0\" >-0.2</td>\n",
       "                        <td id=\"T_24657eb8_382e_11eb_8e12_8c859016bec2row7_col1\" class=\"data row7 col1\" >0.46</td>\n",
       "                        <td id=\"T_24657eb8_382e_11eb_8e12_8c859016bec2row7_col2\" class=\"data row7 col2\" >-0.58</td>\n",
       "                        <td id=\"T_24657eb8_382e_11eb_8e12_8c859016bec2row7_col3\" class=\"data row7 col3\" >-0.25</td>\n",
       "                        <td id=\"T_24657eb8_382e_11eb_8e12_8c859016bec2row7_col4\" class=\"data row7 col4\" >0.49</td>\n",
       "                        <td id=\"T_24657eb8_382e_11eb_8e12_8c859016bec2row7_col5\" class=\"data row7 col5\" >-0.12</td>\n",
       "                        <td id=\"T_24657eb8_382e_11eb_8e12_8c859016bec2row7_col6\" class=\"data row7 col6\" >0.4</td>\n",
       "                        <td id=\"T_24657eb8_382e_11eb_8e12_8c859016bec2row7_col7\" class=\"data row7 col7\" >1</td>\n",
       "                        <td id=\"T_24657eb8_382e_11eb_8e12_8c859016bec2row7_col8\" class=\"data row7 col8\" >0.18</td>\n",
       "                        <td id=\"T_24657eb8_382e_11eb_8e12_8c859016bec2row7_col9\" class=\"data row7 col9\" >0.44</td>\n",
       "                        <td id=\"T_24657eb8_382e_11eb_8e12_8c859016bec2row7_col10\" class=\"data row7 col10\" >0.46</td>\n",
       "                        <td id=\"T_24657eb8_382e_11eb_8e12_8c859016bec2row7_col11\" class=\"data row7 col11\" >0.021</td>\n",
       "                        <td id=\"T_24657eb8_382e_11eb_8e12_8c859016bec2row7_col12\" class=\"data row7 col12\" >0.029</td>\n",
       "            </tr>\n",
       "            <tr>\n",
       "                        <th id=\"T_24657eb8_382e_11eb_8e12_8c859016bec2level0_row8\" class=\"row_heading level0 row8\" >Bachelor's degree or higher</th>\n",
       "                        <td id=\"T_24657eb8_382e_11eb_8e12_8c859016bec2row8_col0\" class=\"data row8 col0\" >-0.36</td>\n",
       "                        <td id=\"T_24657eb8_382e_11eb_8e12_8c859016bec2row8_col1\" class=\"data row8 col1\" >0.1</td>\n",
       "                        <td id=\"T_24657eb8_382e_11eb_8e12_8c859016bec2row8_col2\" class=\"data row8 col2\" >-0.26</td>\n",
       "                        <td id=\"T_24657eb8_382e_11eb_8e12_8c859016bec2row8_col3\" class=\"data row8 col3\" >-0.17</td>\n",
       "                        <td id=\"T_24657eb8_382e_11eb_8e12_8c859016bec2row8_col4\" class=\"data row8 col4\" >0.66</td>\n",
       "                        <td id=\"T_24657eb8_382e_11eb_8e12_8c859016bec2row8_col5\" class=\"data row8 col5\" >-0.6</td>\n",
       "                        <td id=\"T_24657eb8_382e_11eb_8e12_8c859016bec2row8_col6\" class=\"data row8 col6\" >-0.068</td>\n",
       "                        <td id=\"T_24657eb8_382e_11eb_8e12_8c859016bec2row8_col7\" class=\"data row8 col7\" >0.18</td>\n",
       "                        <td id=\"T_24657eb8_382e_11eb_8e12_8c859016bec2row8_col8\" class=\"data row8 col8\" >1</td>\n",
       "                        <td id=\"T_24657eb8_382e_11eb_8e12_8c859016bec2row8_col9\" class=\"data row8 col9\" >-0.5</td>\n",
       "                        <td id=\"T_24657eb8_382e_11eb_8e12_8c859016bec2row8_col10\" class=\"data row8 col10\" >0.1</td>\n",
       "                        <td id=\"T_24657eb8_382e_11eb_8e12_8c859016bec2row8_col11\" class=\"data row8 col11\" >0.38</td>\n",
       "                        <td id=\"T_24657eb8_382e_11eb_8e12_8c859016bec2row8_col12\" class=\"data row8 col12\" >-0.24</td>\n",
       "            </tr>\n",
       "            <tr>\n",
       "                        <th id=\"T_24657eb8_382e_11eb_8e12_8c859016bec2level0_row9\" class=\"row_heading level0 row9\" >Poverty Rate</th>\n",
       "                        <td id=\"T_24657eb8_382e_11eb_8e12_8c859016bec2row9_col0\" class=\"data row9 col0\" >0.37</td>\n",
       "                        <td id=\"T_24657eb8_382e_11eb_8e12_8c859016bec2row9_col1\" class=\"data row9 col1\" >0.47</td>\n",
       "                        <td id=\"T_24657eb8_382e_11eb_8e12_8c859016bec2row9_col2\" class=\"data row9 col2\" >-0.1</td>\n",
       "                        <td id=\"T_24657eb8_382e_11eb_8e12_8c859016bec2row9_col3\" class=\"data row9 col3\" >-0.0091</td>\n",
       "                        <td id=\"T_24657eb8_382e_11eb_8e12_8c859016bec2row9_col4\" class=\"data row9 col4\" >0.12</td>\n",
       "                        <td id=\"T_24657eb8_382e_11eb_8e12_8c859016bec2row9_col5\" class=\"data row9 col5\" >0.38</td>\n",
       "                        <td id=\"T_24657eb8_382e_11eb_8e12_8c859016bec2row9_col6\" class=\"data row9 col6\" >0.51</td>\n",
       "                        <td id=\"T_24657eb8_382e_11eb_8e12_8c859016bec2row9_col7\" class=\"data row9 col7\" >0.44</td>\n",
       "                        <td id=\"T_24657eb8_382e_11eb_8e12_8c859016bec2row9_col8\" class=\"data row9 col8\" >-0.5</td>\n",
       "                        <td id=\"T_24657eb8_382e_11eb_8e12_8c859016bec2row9_col9\" class=\"data row9 col9\" >1</td>\n",
       "                        <td id=\"T_24657eb8_382e_11eb_8e12_8c859016bec2row9_col10\" class=\"data row9 col10\" >0.47</td>\n",
       "                        <td id=\"T_24657eb8_382e_11eb_8e12_8c859016bec2row9_col11\" class=\"data row9 col11\" >-0.037</td>\n",
       "                        <td id=\"T_24657eb8_382e_11eb_8e12_8c859016bec2row9_col12\" class=\"data row9 col12\" >0.2</td>\n",
       "            </tr>\n",
       "            <tr>\n",
       "                        <th id=\"T_24657eb8_382e_11eb_8e12_8c859016bec2level0_row10\" class=\"row_heading level0 row10\" >Violent rate</th>\n",
       "                        <td id=\"T_24657eb8_382e_11eb_8e12_8c859016bec2row10_col0\" class=\"data row10 col0\" >0.48</td>\n",
       "                        <td id=\"T_24657eb8_382e_11eb_8e12_8c859016bec2row10_col1\" class=\"data row10 col1\" >1</td>\n",
       "                        <td id=\"T_24657eb8_382e_11eb_8e12_8c859016bec2row10_col2\" class=\"data row10 col2\" >0.095</td>\n",
       "                        <td id=\"T_24657eb8_382e_11eb_8e12_8c859016bec2row10_col3\" class=\"data row10 col3\" >0.34</td>\n",
       "                        <td id=\"T_24657eb8_382e_11eb_8e12_8c859016bec2row10_col4\" class=\"data row10 col4\" >0.54</td>\n",
       "                        <td id=\"T_24657eb8_382e_11eb_8e12_8c859016bec2row10_col5\" class=\"data row10 col5\" >0.34</td>\n",
       "                        <td id=\"T_24657eb8_382e_11eb_8e12_8c859016bec2row10_col6\" class=\"data row10 col6\" >0.55</td>\n",
       "                        <td id=\"T_24657eb8_382e_11eb_8e12_8c859016bec2row10_col7\" class=\"data row10 col7\" >0.46</td>\n",
       "                        <td id=\"T_24657eb8_382e_11eb_8e12_8c859016bec2row10_col8\" class=\"data row10 col8\" >0.1</td>\n",
       "                        <td id=\"T_24657eb8_382e_11eb_8e12_8c859016bec2row10_col9\" class=\"data row10 col9\" >0.47</td>\n",
       "                        <td id=\"T_24657eb8_382e_11eb_8e12_8c859016bec2row10_col10\" class=\"data row10 col10\" >1</td>\n",
       "                        <td id=\"T_24657eb8_382e_11eb_8e12_8c859016bec2row10_col11\" class=\"data row10 col11\" >0.0093</td>\n",
       "                        <td id=\"T_24657eb8_382e_11eb_8e12_8c859016bec2row10_col12\" class=\"data row10 col12\" >-0.12</td>\n",
       "            </tr>\n",
       "            <tr>\n",
       "                        <th id=\"T_24657eb8_382e_11eb_8e12_8c859016bec2level0_row11\" class=\"row_heading level0 row11\" >Police Basic Training hours</th>\n",
       "                        <td id=\"T_24657eb8_382e_11eb_8e12_8c859016bec2row11_col0\" class=\"data row11 col0\" >-0.2</td>\n",
       "                        <td id=\"T_24657eb8_382e_11eb_8e12_8c859016bec2row11_col1\" class=\"data row11 col1\" >0.0093</td>\n",
       "                        <td id=\"T_24657eb8_382e_11eb_8e12_8c859016bec2row11_col2\" class=\"data row11 col2\" >-0.35</td>\n",
       "                        <td id=\"T_24657eb8_382e_11eb_8e12_8c859016bec2row11_col3\" class=\"data row11 col3\" >-0.13</td>\n",
       "                        <td id=\"T_24657eb8_382e_11eb_8e12_8c859016bec2row11_col4\" class=\"data row11 col4\" >0.28</td>\n",
       "                        <td id=\"T_24657eb8_382e_11eb_8e12_8c859016bec2row11_col5\" class=\"data row11 col5\" >-0.35</td>\n",
       "                        <td id=\"T_24657eb8_382e_11eb_8e12_8c859016bec2row11_col6\" class=\"data row11 col6\" >0.18</td>\n",
       "                        <td id=\"T_24657eb8_382e_11eb_8e12_8c859016bec2row11_col7\" class=\"data row11 col7\" >0.021</td>\n",
       "                        <td id=\"T_24657eb8_382e_11eb_8e12_8c859016bec2row11_col8\" class=\"data row11 col8\" >0.38</td>\n",
       "                        <td id=\"T_24657eb8_382e_11eb_8e12_8c859016bec2row11_col9\" class=\"data row11 col9\" >-0.037</td>\n",
       "                        <td id=\"T_24657eb8_382e_11eb_8e12_8c859016bec2row11_col10\" class=\"data row11 col10\" >0.0093</td>\n",
       "                        <td id=\"T_24657eb8_382e_11eb_8e12_8c859016bec2row11_col11\" class=\"data row11 col11\" >1</td>\n",
       "                        <td id=\"T_24657eb8_382e_11eb_8e12_8c859016bec2row11_col12\" class=\"data row11 col12\" >-0.076</td>\n",
       "            </tr>\n",
       "            <tr>\n",
       "                        <th id=\"T_24657eb8_382e_11eb_8e12_8c859016bec2level0_row12\" class=\"row_heading level0 row12\" >Month before work</th>\n",
       "                        <td id=\"T_24657eb8_382e_11eb_8e12_8c859016bec2row12_col0\" class=\"data row12 col0\" >0.069</td>\n",
       "                        <td id=\"T_24657eb8_382e_11eb_8e12_8c859016bec2row12_col1\" class=\"data row12 col1\" >-0.12</td>\n",
       "                        <td id=\"T_24657eb8_382e_11eb_8e12_8c859016bec2row12_col2\" class=\"data row12 col2\" >-0.072</td>\n",
       "                        <td id=\"T_24657eb8_382e_11eb_8e12_8c859016bec2row12_col3\" class=\"data row12 col3\" >0.027</td>\n",
       "                        <td id=\"T_24657eb8_382e_11eb_8e12_8c859016bec2row12_col4\" class=\"data row12 col4\" >-0.17</td>\n",
       "                        <td id=\"T_24657eb8_382e_11eb_8e12_8c859016bec2row12_col5\" class=\"data row12 col5\" >0.19</td>\n",
       "                        <td id=\"T_24657eb8_382e_11eb_8e12_8c859016bec2row12_col6\" class=\"data row12 col6\" >-0.02</td>\n",
       "                        <td id=\"T_24657eb8_382e_11eb_8e12_8c859016bec2row12_col7\" class=\"data row12 col7\" >0.029</td>\n",
       "                        <td id=\"T_24657eb8_382e_11eb_8e12_8c859016bec2row12_col8\" class=\"data row12 col8\" >-0.24</td>\n",
       "                        <td id=\"T_24657eb8_382e_11eb_8e12_8c859016bec2row12_col9\" class=\"data row12 col9\" >0.2</td>\n",
       "                        <td id=\"T_24657eb8_382e_11eb_8e12_8c859016bec2row12_col10\" class=\"data row12 col10\" >-0.12</td>\n",
       "                        <td id=\"T_24657eb8_382e_11eb_8e12_8c859016bec2row12_col11\" class=\"data row12 col11\" >-0.076</td>\n",
       "                        <td id=\"T_24657eb8_382e_11eb_8e12_8c859016bec2row12_col12\" class=\"data row12 col12\" >1</td>\n",
       "            </tr>\n",
       "    </tbody></table>"
      ],
      "text/plain": [
       "<pandas.io.formats.style.Styler at 0x7fa752e10190>"
      ]
     },
     "execution_count": 33,
     "metadata": {},
     "output_type": "execute_result"
    }
   ],
   "source": [
    "#Analyze correlation between polices shooting and other variables\n",
    "state_all = pd.read_excel('state_all1.xlsx')\n",
    "corr = state_all.corr()\n",
    "corr.style.background_gradient(cmap='coolwarm').set_precision(2)\n"
   ]
  },
  {
   "cell_type": "code",
   "execution_count": 66,
   "metadata": {},
   "outputs": [
    {
     "data": {
      "text/plain": [
       "6.425396041156865"
      ]
     },
     "execution_count": 66,
     "metadata": {},
     "output_type": "execute_result"
    }
   ],
   "source": [
    "import math\n",
    "0.68*math.sqrt(48/(1-0.68*0.68))"
   ]
  },
  {
   "cell_type": "code",
   "execution_count": 4,
   "metadata": {},
   "outputs": [
    {
     "data": {
      "image/png": "[encoded data removed]",
      "text/plain": [
       "<Figure size 432x288 with 1 Axes>"
      ]
     },
     "metadata": {
      "needs_background": "light"
     },
     "output_type": "display_data"
    }
   ],
   "source": [
    "import pandas as pd\n",
    "import seaborn as sns\n",
    "state_all = pd.read_excel(\"state_all.xlsx\")\n",
    "ax = sns.boxplot(x='Marijuana Legality', y='Average shooting per 1,000,000', data=state_all)\n",
    "ax = sns.swarmplot(x='Marijuana Legality', y='Average shooting per 1,000,000', data=state_all, color='0.25')\n",
    "# Select which box to change color    \n",
    "fl = ax.artists[0]\n",
    "ml = ax.artists[1]\n",
    "fi = ax.artists[2]\n",
    "\n",
    "# Change the appearance of that box\n",
    "fl.set_facecolor('tab:blue')\n",
    "ml.set_facecolor('tab:gray')\n",
    "fi.set_facecolor('tab:red')"
   ]
  },
  {
   "cell_type": "code",
   "execution_count": null,
   "metadata": {},
   "outputs": [],
   "source": [
    "#ANOVA test is done by R"
   ]
  },
  {
   "cell_type": "code",
   "execution_count": 42,
   "metadata": {},
   "outputs": [
    {
     "data": {
      "image/png": "[encoded data removed]",
      "text/plain": [
       "<Figure size 432x288 with 1 Axes>"
      ]
     },
     "metadata": {
      "needs_background": "light"
     },
     "output_type": "display_data"
    }
   ],
   "source": [
    "ax = sns.boxplot(x='Governor Party', y='Average shooting per 1,000,000', data=state_all)\n",
    "ax = sns.swarmplot(x='Governor Party', y='Average shooting per 1,000,000', data=state_all, color='0.25')\n",
    "\n",
    "# Select which box to change color    \n",
    "Republican = ax.artists[0]\n",
    "Democrat = ax.artists[1]\n",
    "\n",
    "# Change the appearance of that box\n",
    "Republican.set_facecolor('tab:red')\n",
    "Democrat.set_facecolor('tab:blue')\n"
   ]
  },
  {
   "cell_type": "code",
   "execution_count": 10,
   "metadata": {},
   "outputs": [
    {
     "data": {
      "text/plain": [
       "Ttest_indResult(statistic=-0.9935600797734223, pvalue=0.32539634692674047)"
      ]
     },
     "execution_count": 10,
     "metadata": {},
     "output_type": "execute_result"
    }
   ],
   "source": [
    "# t test \n",
    "from scipy import stats\n",
    "\n",
    "de = state_all.loc[state_all['Governor Party'] == 'Democrat', 'Average shooting per 1,000,000']\n",
    "re = state_all.loc[state_all['Governor Party'] == 'Republican', 'Average shooting per 1,000,000']\n",
    "\n",
    "stats.ttest_ind(de,re, equal_var = False)"
   ]
  },
  {
   "cell_type": "code",
   "execution_count": 38,
   "metadata": {},
   "outputs": [
    {
     "data": {
      "text/plain": [
       "Ttest_indResult(statistic=0.9256428704805298, pvalue=0.36215753167284326)"
      ]
     },
     "execution_count": 38,
     "metadata": {},
     "output_type": "execute_result"
    }
   ],
   "source": [
    "# t test \n",
    "import pandas as pd\n",
    "from scipy import stats\n",
    "state1 = pd.read_excel('state1.xlsx')\n",
    "\n",
    "de = state1.loc[state_all['Governor Party'] == 'Democrat', 'Total shooting']\n",
    "re = state1.loc[state_all['Governor Party'] == 'Republican', 'Total shooting']\n",
    "\n",
    "stats.ttest_ind(de,re, equal_var = False)"
   ]
  },
  {
   "cell_type": "code",
   "execution_count": null,
   "metadata": {},
   "outputs": [],
   "source": []
  }
 ],
 "metadata": {
  "kernelspec": {
   "display_name": "Python 3",
   "language": "python",
   "name": "python3"
  },
  "language_info": {
   "codemirror_mode": {
    "name": "ipython",
    "version": 3
   },
   "file_extension": ".py",
   "mimetype": "text/x-python",
   "name": "python",
   "nbconvert_exporter": "python",
   "pygments_lexer": "ipython3",
   "version": "3.7.4"
  }
 },
 "nbformat": 4,
 "nbformat_minor": 2
}
